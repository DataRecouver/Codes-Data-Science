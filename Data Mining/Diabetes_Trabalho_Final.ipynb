{
  "nbformat": 4,
  "nbformat_minor": 0,
  "metadata": {
    "colab": {
      "provenance": [],
      "toc_visible": true,
      "include_colab_link": true
    },
    "kernelspec": {
      "name": "python3",
      "display_name": "Python 3"
    },
    "language_info": {
      "name": "python"
    }
  },
  "cells": [
    {
      "cell_type": "markdown",
      "metadata": {
        "id": "view-in-github",
        "colab_type": "text"
      },
      "source": [
        "<a href=\"https://colab.research.google.com/github/DataRecouver/Codes-DataScience-Python/blob/main/Data%20Mining/Diabetes_Trabalho_Final.ipynb\" target=\"_parent\"><img src=\"https://colab.research.google.com/assets/colab-badge.svg\" alt=\"Open In Colab\"/></a>"
      ]
    },
    {
      "cell_type": "markdown",
      "source": [
        "# Introdução\n",
        "### **Desafio Final**\n",
        "\n",
        "\n",
        "---\n",
        "## Grupo\n",
        "Ane Caroline <br/>\n",
        "Carlos Alício <br/>\n",
        "Felipe Coelho <br/>\n",
        "Guilherme Cruz <br/>\n",
        "\n",
        "---\n",
        "\n",
        "***Prazo para entrega: 12/03/2023 ***"
      ],
      "metadata": {
        "id": "WM6VwbDYYSsF"
      }
    },
    {
      "cell_type": "markdown",
      "source": [
        "Dataset: https://www.kaggle.com/datasets/akshaydattatraykhare/diabetes-dataset"
      ],
      "metadata": {
        "id": "rf66E0MNR4rt"
      }
    },
    {
      "cell_type": "markdown",
      "source": [
        "## Descrição do trabalho"
      ],
      "metadata": {
        "id": "p7IH8Xt80MhQ"
      }
    },
    {
      "cell_type": "markdown",
      "source": [
        "As equipes devem selecionar uma base de dados real estruturada e aplicar o processo do KDD.\n",
        "\n",
        "A primeira coisa que vocês precisam definir é o objetivo da análise. Esse objetivo pode consistir no desenvolvimento de um classificador para um determinado fim ou uma análise que use utilize utilize um classificador como ferramenta de extração de padrões.\n",
        "\n",
        "Os critérios de avaliação serão: \n",
        "\n",
        "Estrutura e organização do relatório: o relatório pode estar no notebook, mas lembrem que é um relatório. É esperado que estejam textualmente descritos o objetivo do trabalho, as fontes de dados utilizadas, o dicionário de dados, o que foi realizado para alcançar objetivo, o que foi testado, o que foi observado em cada análise, as decisões tomadas e suas justificativas, análise final do que foi alcançado e suas limitações.\n",
        "\n",
        "Análise exploratória: análise univariada e multivariada.\n",
        "\n",
        "Pré-processamento: aplicação correta das técnicas de pré-processamento ensinadas em sala que fizerem sentido para a base analisada.\n",
        "\n",
        "Mineração: aplicação dos algoritmos de classificação apresentados até o momento no curso e tunning de parâmetros.\n",
        "\n",
        "Avaliação: aplicação e análise correta dos processos de avaliação que mais fazem sentido para o projeto em questão a fim de verificar a utilidade e confiabilidade dos padrões observados. Aqui eu espero não só análise estatística da performance dos classificadores, mas uma discussão sobre os padrões encontrados e as deficiências (quando ele erra mais?)\n",
        "Anexem aqui o relatório final, os notebooks e as fontes de dados utilizadas. Basta uma postagem por equipe."
      ],
      "metadata": {
        "id": "fHsgN3_f0VMe"
      }
    },
    {
      "cell_type": "markdown",
      "source": [
        "#Importação de bibliotecas\n"
      ],
      "metadata": {
        "id": "Mlo4ihbZrgvV"
      }
    },
    {
      "cell_type": "code",
      "execution_count": 1,
      "metadata": {
        "id": "MjEZiojA6GzJ"
      },
      "outputs": [],
      "source": [
        "import matplotlib as mpl\n",
        "import matplotlib.pyplot as plt\n",
        "import plotly.express as px;\n",
        "import numpy as np\n",
        "import pandas as pd\n",
        "import seaborn as sns\n",
        "from sklearn.preprocessing import StandardScaler\n",
        "from sklearn import datasets, svm\n",
        "from sklearn.neighbors import KNeighborsClassifier\n",
        "from sklearn.metrics import accuracy_score, classification_report, precision_score, recall_score\n",
        "from sklearn.model_selection import train_test_split, StratifiedKFold, cross_val_score, GridSearchCV\n",
        "\n",
        "from sklearn.ensemble import RandomForestClassifier\n",
        "from sklearn.tree import DecisionTreeClassifier\n",
        "\n",
        "\n",
        "pd.set_option(\"display.precision\", 2)\n",
        "pd.set_option('mode.chained_assignment', None)"
      ]
    },
    {
      "cell_type": "markdown",
      "source": [
        "#Carregamento do dataset"
      ],
      "metadata": {
        "id": "SHxVRrXDr2NH"
      }
    },
    {
      "cell_type": "code",
      "source": [
        "df = pd.read_csv('https://raw.githubusercontent.com/felipepcoelho/Diabetes/main/diabetes.csv')"
      ],
      "metadata": {
        "id": "8vrbQgcwaCmS"
      },
      "execution_count": 2,
      "outputs": []
    },
    {
      "cell_type": "markdown",
      "source": [
        "**Nota:** De modo a facilitar o carregamento do dataset, em virtude do Google Colab reiniciar o ambiente, realizamos a inclusão do dataset em um servidor github e deste modo podendo ser carregado a qualquer momento durante a execução do projeto. "
      ],
      "metadata": {
        "id": "UaznZuFXyqNt"
      }
    },
    {
      "cell_type": "markdown",
      "source": [
        "# Objetivo da Análise"
      ],
      "metadata": {
        "id": "rZNW8atwcC9k"
      }
    },
    {
      "cell_type": "markdown",
      "source": [
        "O objetivo é prever, utilizando o conjunto de dados, com o auxílio de um algoritmo de machine learning, se um paciente tem diabetes ou não com base em certas medições de diagnóstico apresentadas no conjunto de dados.  \n",
        "<br/>\n",
        "\n",
        "Este conjunto de dados é originalmente do National Institute of Diabetes and Digestive and Kidney Doenças. Em particular, todos os pacientes aqui são mulheres pelo menos 21 anos de herança indígena \n",
        "<br/>\n",
        "\n",
        "Os conjuntos de dados consistem em várias variáveis ​​preditivas médicas e uma variável de *target*, **Outcome**.  \n",
        "<br/>\n",
        "Do conjunto de dados no arquivo (.csv) podemos encontrar diversas variáveis, algumas delas são independentes (várias variáveis ​​preditoras médicas) e apenas uma variável alvo dependente.\n",
        "\n"
      ],
      "metadata": {
        "id": "ZCzNpA0difAg"
      }
    },
    {
      "cell_type": "markdown",
      "source": [
        "## Dicionário de dados"
      ],
      "metadata": {
        "id": "h3majjyHRk4I"
      }
    },
    {
      "cell_type": "markdown",
      "source": [
        "**Atributos (preditores)** \n",
        "\n",
        "*   Pregnancies:  Número de vezes que engravidou\n",
        "*   Glucose: concentração plasmática de glicose após 2 horas em um teste oral de tolerância à glicose\n",
        "*   BloodPressure: pressão arterial diastólica (mm Hg)\n",
        "*   SkinThickness: Espessura da pele do tríceps (mm)\n",
        "*   Insulin: insulina sérica de 2 horas (mu U/ml)\n",
        "*   BMI: Índice de massa corporal (peso em kg/(altura em m)^2)\n",
        "*   DiabetesPedigreeFunction: indica a função que classifica a probabilidade de diabetes com base no histórico familiar\n",
        "*   Age: Idade (anos)"
      ],
      "metadata": {
        "id": "Z6cBaVhy4jSc"
      }
    },
    {
      "cell_type": "markdown",
      "source": [
        "**Atributos (alvo)** \n",
        "\n",
        "*   Outcome: Possui ou não diabetes (0 ou 1) \n",
        "\n"
      ],
      "metadata": {
        "id": "3OPht5NM6LSM"
      }
    },
    {
      "cell_type": "markdown",
      "source": [
        "# Análise Exploratória "
      ],
      "metadata": {
        "id": "WmM9HFmZce_C"
      }
    },
    {
      "cell_type": "code",
      "source": [
        "df.shape"
      ],
      "metadata": {
        "id": "nKI2cTar9Au6",
        "colab": {
          "base_uri": "https://localhost:8080/"
        },
        "outputId": "e1573789-b3d0-44a5-f674-ab706ea9e6fd"
      },
      "execution_count": 3,
      "outputs": [
        {
          "output_type": "execute_result",
          "data": {
            "text/plain": [
              "(768, 9)"
            ]
          },
          "metadata": {},
          "execution_count": 3
        }
      ]
    },
    {
      "cell_type": "markdown",
      "source": [
        "Utilizamos a função \"shape\" para verificar o número de registros e de atributos do dataset. Constatamos o total de 768 registros e 9 atributos  "
      ],
      "metadata": {
        "id": "G3APb5ScSIVL"
      }
    },
    {
      "cell_type": "code",
      "source": [
        "df.head()"
      ],
      "metadata": {
        "id": "3LlEVG3gegei",
        "colab": {
          "base_uri": "https://localhost:8080/",
          "height": 206
        },
        "outputId": "3bcc6cf8-db54-440b-ce7d-abd05307f1c3"
      },
      "execution_count": 4,
      "outputs": [
        {
          "output_type": "execute_result",
          "data": {
            "text/plain": [
              "   Pregnancies  Glucose  BloodPressure  SkinThickness  Insulin   BMI  \\\n",
              "0            6      148             72             35        0  33.6   \n",
              "1            1       85             66             29        0  26.6   \n",
              "2            8      183             64              0        0  23.3   \n",
              "3            1       89             66             23       94  28.1   \n",
              "4            0      137             40             35      168  43.1   \n",
              "\n",
              "   DiabetesPedigreeFunction  Age  Outcome  \n",
              "0                      0.63   50        1  \n",
              "1                      0.35   31        0  \n",
              "2                      0.67   32        1  \n",
              "3                      0.17   21        0  \n",
              "4                      2.29   33        1  "
            ],
            "text/html": [
              "\n",
              "  <div id=\"df-a419b2c6-7888-4bae-8ea2-8172936386bc\">\n",
              "    <div class=\"colab-df-container\">\n",
              "      <div>\n",
              "<style scoped>\n",
              "    .dataframe tbody tr th:only-of-type {\n",
              "        vertical-align: middle;\n",
              "    }\n",
              "\n",
              "    .dataframe tbody tr th {\n",
              "        vertical-align: top;\n",
              "    }\n",
              "\n",
              "    .dataframe thead th {\n",
              "        text-align: right;\n",
              "    }\n",
              "</style>\n",
              "<table border=\"1\" class=\"dataframe\">\n",
              "  <thead>\n",
              "    <tr style=\"text-align: right;\">\n",
              "      <th></th>\n",
              "      <th>Pregnancies</th>\n",
              "      <th>Glucose</th>\n",
              "      <th>BloodPressure</th>\n",
              "      <th>SkinThickness</th>\n",
              "      <th>Insulin</th>\n",
              "      <th>BMI</th>\n",
              "      <th>DiabetesPedigreeFunction</th>\n",
              "      <th>Age</th>\n",
              "      <th>Outcome</th>\n",
              "    </tr>\n",
              "  </thead>\n",
              "  <tbody>\n",
              "    <tr>\n",
              "      <th>0</th>\n",
              "      <td>6</td>\n",
              "      <td>148</td>\n",
              "      <td>72</td>\n",
              "      <td>35</td>\n",
              "      <td>0</td>\n",
              "      <td>33.6</td>\n",
              "      <td>0.63</td>\n",
              "      <td>50</td>\n",
              "      <td>1</td>\n",
              "    </tr>\n",
              "    <tr>\n",
              "      <th>1</th>\n",
              "      <td>1</td>\n",
              "      <td>85</td>\n",
              "      <td>66</td>\n",
              "      <td>29</td>\n",
              "      <td>0</td>\n",
              "      <td>26.6</td>\n",
              "      <td>0.35</td>\n",
              "      <td>31</td>\n",
              "      <td>0</td>\n",
              "    </tr>\n",
              "    <tr>\n",
              "      <th>2</th>\n",
              "      <td>8</td>\n",
              "      <td>183</td>\n",
              "      <td>64</td>\n",
              "      <td>0</td>\n",
              "      <td>0</td>\n",
              "      <td>23.3</td>\n",
              "      <td>0.67</td>\n",
              "      <td>32</td>\n",
              "      <td>1</td>\n",
              "    </tr>\n",
              "    <tr>\n",
              "      <th>3</th>\n",
              "      <td>1</td>\n",
              "      <td>89</td>\n",
              "      <td>66</td>\n",
              "      <td>23</td>\n",
              "      <td>94</td>\n",
              "      <td>28.1</td>\n",
              "      <td>0.17</td>\n",
              "      <td>21</td>\n",
              "      <td>0</td>\n",
              "    </tr>\n",
              "    <tr>\n",
              "      <th>4</th>\n",
              "      <td>0</td>\n",
              "      <td>137</td>\n",
              "      <td>40</td>\n",
              "      <td>35</td>\n",
              "      <td>168</td>\n",
              "      <td>43.1</td>\n",
              "      <td>2.29</td>\n",
              "      <td>33</td>\n",
              "      <td>1</td>\n",
              "    </tr>\n",
              "  </tbody>\n",
              "</table>\n",
              "</div>\n",
              "      <button class=\"colab-df-convert\" onclick=\"convertToInteractive('df-a419b2c6-7888-4bae-8ea2-8172936386bc')\"\n",
              "              title=\"Convert this dataframe to an interactive table.\"\n",
              "              style=\"display:none;\">\n",
              "        \n",
              "  <svg xmlns=\"http://www.w3.org/2000/svg\" height=\"24px\"viewBox=\"0 0 24 24\"\n",
              "       width=\"24px\">\n",
              "    <path d=\"M0 0h24v24H0V0z\" fill=\"none\"/>\n",
              "    <path d=\"M18.56 5.44l.94 2.06.94-2.06 2.06-.94-2.06-.94-.94-2.06-.94 2.06-2.06.94zm-11 1L8.5 8.5l.94-2.06 2.06-.94-2.06-.94L8.5 2.5l-.94 2.06-2.06.94zm10 10l.94 2.06.94-2.06 2.06-.94-2.06-.94-.94-2.06-.94 2.06-2.06.94z\"/><path d=\"M17.41 7.96l-1.37-1.37c-.4-.4-.92-.59-1.43-.59-.52 0-1.04.2-1.43.59L10.3 9.45l-7.72 7.72c-.78.78-.78 2.05 0 2.83L4 21.41c.39.39.9.59 1.41.59.51 0 1.02-.2 1.41-.59l7.78-7.78 2.81-2.81c.8-.78.8-2.07 0-2.86zM5.41 20L4 18.59l7.72-7.72 1.47 1.35L5.41 20z\"/>\n",
              "  </svg>\n",
              "      </button>\n",
              "      \n",
              "  <style>\n",
              "    .colab-df-container {\n",
              "      display:flex;\n",
              "      flex-wrap:wrap;\n",
              "      gap: 12px;\n",
              "    }\n",
              "\n",
              "    .colab-df-convert {\n",
              "      background-color: #E8F0FE;\n",
              "      border: none;\n",
              "      border-radius: 50%;\n",
              "      cursor: pointer;\n",
              "      display: none;\n",
              "      fill: #1967D2;\n",
              "      height: 32px;\n",
              "      padding: 0 0 0 0;\n",
              "      width: 32px;\n",
              "    }\n",
              "\n",
              "    .colab-df-convert:hover {\n",
              "      background-color: #E2EBFA;\n",
              "      box-shadow: 0px 1px 2px rgba(60, 64, 67, 0.3), 0px 1px 3px 1px rgba(60, 64, 67, 0.15);\n",
              "      fill: #174EA6;\n",
              "    }\n",
              "\n",
              "    [theme=dark] .colab-df-convert {\n",
              "      background-color: #3B4455;\n",
              "      fill: #D2E3FC;\n",
              "    }\n",
              "\n",
              "    [theme=dark] .colab-df-convert:hover {\n",
              "      background-color: #434B5C;\n",
              "      box-shadow: 0px 1px 3px 1px rgba(0, 0, 0, 0.15);\n",
              "      filter: drop-shadow(0px 1px 2px rgba(0, 0, 0, 0.3));\n",
              "      fill: #FFFFFF;\n",
              "    }\n",
              "  </style>\n",
              "\n",
              "      <script>\n",
              "        const buttonEl =\n",
              "          document.querySelector('#df-a419b2c6-7888-4bae-8ea2-8172936386bc button.colab-df-convert');\n",
              "        buttonEl.style.display =\n",
              "          google.colab.kernel.accessAllowed ? 'block' : 'none';\n",
              "\n",
              "        async function convertToInteractive(key) {\n",
              "          const element = document.querySelector('#df-a419b2c6-7888-4bae-8ea2-8172936386bc');\n",
              "          const dataTable =\n",
              "            await google.colab.kernel.invokeFunction('convertToInteractive',\n",
              "                                                     [key], {});\n",
              "          if (!dataTable) return;\n",
              "\n",
              "          const docLinkHtml = 'Like what you see? Visit the ' +\n",
              "            '<a target=\"_blank\" href=https://colab.research.google.com/notebooks/data_table.ipynb>data table notebook</a>'\n",
              "            + ' to learn more about interactive tables.';\n",
              "          element.innerHTML = '';\n",
              "          dataTable['output_type'] = 'display_data';\n",
              "          await google.colab.output.renderOutput(dataTable, element);\n",
              "          const docLink = document.createElement('div');\n",
              "          docLink.innerHTML = docLinkHtml;\n",
              "          element.appendChild(docLink);\n",
              "        }\n",
              "      </script>\n",
              "    </div>\n",
              "  </div>\n",
              "  "
            ]
          },
          "metadata": {},
          "execution_count": 4
        }
      ]
    },
    {
      "cell_type": "markdown",
      "source": [
        "Através do comando \"Head\" é possível observar distribuição dos dados, das primeiras linhas, tipos de variáveis e como estão o preenchimento dos registros apresentados no dataset. Além disso, utilizamos o comando *head* sobre o dataset criado para visualizar se ocorreu o correto carregamento dos registros e como estão sendo apresentados os seus atributos   "
      ],
      "metadata": {
        "id": "BcO86v56STPY"
      }
    },
    {
      "cell_type": "code",
      "source": [
        "df.tail()"
      ],
      "metadata": {
        "id": "GU2IDpz48x0W",
        "colab": {
          "base_uri": "https://localhost:8080/",
          "height": 206
        },
        "outputId": "9cd79d7a-4220-40d0-bc17-56b2562e56c6"
      },
      "execution_count": 5,
      "outputs": [
        {
          "output_type": "execute_result",
          "data": {
            "text/plain": [
              "     Pregnancies  Glucose  BloodPressure  SkinThickness  Insulin   BMI  \\\n",
              "763           10      101             76             48      180  32.9   \n",
              "764            2      122             70             27        0  36.8   \n",
              "765            5      121             72             23      112  26.2   \n",
              "766            1      126             60              0        0  30.1   \n",
              "767            1       93             70             31        0  30.4   \n",
              "\n",
              "     DiabetesPedigreeFunction  Age  Outcome  \n",
              "763                      0.17   63        0  \n",
              "764                      0.34   27        0  \n",
              "765                      0.24   30        0  \n",
              "766                      0.35   47        1  \n",
              "767                      0.32   23        0  "
            ],
            "text/html": [
              "\n",
              "  <div id=\"df-85d3f9cf-f176-4fc6-ae76-658665a2e617\">\n",
              "    <div class=\"colab-df-container\">\n",
              "      <div>\n",
              "<style scoped>\n",
              "    .dataframe tbody tr th:only-of-type {\n",
              "        vertical-align: middle;\n",
              "    }\n",
              "\n",
              "    .dataframe tbody tr th {\n",
              "        vertical-align: top;\n",
              "    }\n",
              "\n",
              "    .dataframe thead th {\n",
              "        text-align: right;\n",
              "    }\n",
              "</style>\n",
              "<table border=\"1\" class=\"dataframe\">\n",
              "  <thead>\n",
              "    <tr style=\"text-align: right;\">\n",
              "      <th></th>\n",
              "      <th>Pregnancies</th>\n",
              "      <th>Glucose</th>\n",
              "      <th>BloodPressure</th>\n",
              "      <th>SkinThickness</th>\n",
              "      <th>Insulin</th>\n",
              "      <th>BMI</th>\n",
              "      <th>DiabetesPedigreeFunction</th>\n",
              "      <th>Age</th>\n",
              "      <th>Outcome</th>\n",
              "    </tr>\n",
              "  </thead>\n",
              "  <tbody>\n",
              "    <tr>\n",
              "      <th>763</th>\n",
              "      <td>10</td>\n",
              "      <td>101</td>\n",
              "      <td>76</td>\n",
              "      <td>48</td>\n",
              "      <td>180</td>\n",
              "      <td>32.9</td>\n",
              "      <td>0.17</td>\n",
              "      <td>63</td>\n",
              "      <td>0</td>\n",
              "    </tr>\n",
              "    <tr>\n",
              "      <th>764</th>\n",
              "      <td>2</td>\n",
              "      <td>122</td>\n",
              "      <td>70</td>\n",
              "      <td>27</td>\n",
              "      <td>0</td>\n",
              "      <td>36.8</td>\n",
              "      <td>0.34</td>\n",
              "      <td>27</td>\n",
              "      <td>0</td>\n",
              "    </tr>\n",
              "    <tr>\n",
              "      <th>765</th>\n",
              "      <td>5</td>\n",
              "      <td>121</td>\n",
              "      <td>72</td>\n",
              "      <td>23</td>\n",
              "      <td>112</td>\n",
              "      <td>26.2</td>\n",
              "      <td>0.24</td>\n",
              "      <td>30</td>\n",
              "      <td>0</td>\n",
              "    </tr>\n",
              "    <tr>\n",
              "      <th>766</th>\n",
              "      <td>1</td>\n",
              "      <td>126</td>\n",
              "      <td>60</td>\n",
              "      <td>0</td>\n",
              "      <td>0</td>\n",
              "      <td>30.1</td>\n",
              "      <td>0.35</td>\n",
              "      <td>47</td>\n",
              "      <td>1</td>\n",
              "    </tr>\n",
              "    <tr>\n",
              "      <th>767</th>\n",
              "      <td>1</td>\n",
              "      <td>93</td>\n",
              "      <td>70</td>\n",
              "      <td>31</td>\n",
              "      <td>0</td>\n",
              "      <td>30.4</td>\n",
              "      <td>0.32</td>\n",
              "      <td>23</td>\n",
              "      <td>0</td>\n",
              "    </tr>\n",
              "  </tbody>\n",
              "</table>\n",
              "</div>\n",
              "      <button class=\"colab-df-convert\" onclick=\"convertToInteractive('df-85d3f9cf-f176-4fc6-ae76-658665a2e617')\"\n",
              "              title=\"Convert this dataframe to an interactive table.\"\n",
              "              style=\"display:none;\">\n",
              "        \n",
              "  <svg xmlns=\"http://www.w3.org/2000/svg\" height=\"24px\"viewBox=\"0 0 24 24\"\n",
              "       width=\"24px\">\n",
              "    <path d=\"M0 0h24v24H0V0z\" fill=\"none\"/>\n",
              "    <path d=\"M18.56 5.44l.94 2.06.94-2.06 2.06-.94-2.06-.94-.94-2.06-.94 2.06-2.06.94zm-11 1L8.5 8.5l.94-2.06 2.06-.94-2.06-.94L8.5 2.5l-.94 2.06-2.06.94zm10 10l.94 2.06.94-2.06 2.06-.94-2.06-.94-.94-2.06-.94 2.06-2.06.94z\"/><path d=\"M17.41 7.96l-1.37-1.37c-.4-.4-.92-.59-1.43-.59-.52 0-1.04.2-1.43.59L10.3 9.45l-7.72 7.72c-.78.78-.78 2.05 0 2.83L4 21.41c.39.39.9.59 1.41.59.51 0 1.02-.2 1.41-.59l7.78-7.78 2.81-2.81c.8-.78.8-2.07 0-2.86zM5.41 20L4 18.59l7.72-7.72 1.47 1.35L5.41 20z\"/>\n",
              "  </svg>\n",
              "      </button>\n",
              "      \n",
              "  <style>\n",
              "    .colab-df-container {\n",
              "      display:flex;\n",
              "      flex-wrap:wrap;\n",
              "      gap: 12px;\n",
              "    }\n",
              "\n",
              "    .colab-df-convert {\n",
              "      background-color: #E8F0FE;\n",
              "      border: none;\n",
              "      border-radius: 50%;\n",
              "      cursor: pointer;\n",
              "      display: none;\n",
              "      fill: #1967D2;\n",
              "      height: 32px;\n",
              "      padding: 0 0 0 0;\n",
              "      width: 32px;\n",
              "    }\n",
              "\n",
              "    .colab-df-convert:hover {\n",
              "      background-color: #E2EBFA;\n",
              "      box-shadow: 0px 1px 2px rgba(60, 64, 67, 0.3), 0px 1px 3px 1px rgba(60, 64, 67, 0.15);\n",
              "      fill: #174EA6;\n",
              "    }\n",
              "\n",
              "    [theme=dark] .colab-df-convert {\n",
              "      background-color: #3B4455;\n",
              "      fill: #D2E3FC;\n",
              "    }\n",
              "\n",
              "    [theme=dark] .colab-df-convert:hover {\n",
              "      background-color: #434B5C;\n",
              "      box-shadow: 0px 1px 3px 1px rgba(0, 0, 0, 0.15);\n",
              "      filter: drop-shadow(0px 1px 2px rgba(0, 0, 0, 0.3));\n",
              "      fill: #FFFFFF;\n",
              "    }\n",
              "  </style>\n",
              "\n",
              "      <script>\n",
              "        const buttonEl =\n",
              "          document.querySelector('#df-85d3f9cf-f176-4fc6-ae76-658665a2e617 button.colab-df-convert');\n",
              "        buttonEl.style.display =\n",
              "          google.colab.kernel.accessAllowed ? 'block' : 'none';\n",
              "\n",
              "        async function convertToInteractive(key) {\n",
              "          const element = document.querySelector('#df-85d3f9cf-f176-4fc6-ae76-658665a2e617');\n",
              "          const dataTable =\n",
              "            await google.colab.kernel.invokeFunction('convertToInteractive',\n",
              "                                                     [key], {});\n",
              "          if (!dataTable) return;\n",
              "\n",
              "          const docLinkHtml = 'Like what you see? Visit the ' +\n",
              "            '<a target=\"_blank\" href=https://colab.research.google.com/notebooks/data_table.ipynb>data table notebook</a>'\n",
              "            + ' to learn more about interactive tables.';\n",
              "          element.innerHTML = '';\n",
              "          dataTable['output_type'] = 'display_data';\n",
              "          await google.colab.output.renderOutput(dataTable, element);\n",
              "          const docLink = document.createElement('div');\n",
              "          docLink.innerHTML = docLinkHtml;\n",
              "          element.appendChild(docLink);\n",
              "        }\n",
              "      </script>\n",
              "    </div>\n",
              "  </div>\n",
              "  "
            ]
          },
          "metadata": {},
          "execution_count": 5
        }
      ]
    },
    {
      "cell_type": "markdown",
      "source": [
        "O comando \"Tail\", diferentemente do \"Head\", nos permite visualizar os dados preenchidos nas últimas linhas do dataset. Desta forma é possível observar elementos da amostra do início e do fim do dataset   "
      ],
      "metadata": {
        "id": "0Z17xwbBznAU"
      }
    },
    {
      "cell_type": "code",
      "source": [
        "df.info()"
      ],
      "metadata": {
        "id": "qHJtaliITorR",
        "colab": {
          "base_uri": "https://localhost:8080/"
        },
        "outputId": "f00017e0-e099-4525-9047-9db1e7ac586d"
      },
      "execution_count": 6,
      "outputs": [
        {
          "output_type": "stream",
          "name": "stdout",
          "text": [
            "<class 'pandas.core.frame.DataFrame'>\n",
            "RangeIndex: 768 entries, 0 to 767\n",
            "Data columns (total 9 columns):\n",
            " #   Column                    Non-Null Count  Dtype  \n",
            "---  ------                    --------------  -----  \n",
            " 0   Pregnancies               768 non-null    int64  \n",
            " 1   Glucose                   768 non-null    int64  \n",
            " 2   BloodPressure             768 non-null    int64  \n",
            " 3   SkinThickness             768 non-null    int64  \n",
            " 4   Insulin                   768 non-null    int64  \n",
            " 5   BMI                       768 non-null    float64\n",
            " 6   DiabetesPedigreeFunction  768 non-null    float64\n",
            " 7   Age                       768 non-null    int64  \n",
            " 8   Outcome                   768 non-null    int64  \n",
            "dtypes: float64(2), int64(7)\n",
            "memory usage: 54.1 KB\n"
          ]
        }
      ]
    },
    {
      "cell_type": "markdown",
      "source": [
        "Utilizamos o comando info para verificar ocorrência de registros \"NaN\", nulos, apresentação dos atributos do dataset e tipo dados a qual os atributos estão aplicados. A partir do comando não identificamos valores \"NaN\", mas não descarta a possibilidade de registros não preenchidos, valores zerados e ou que possuam dados truncados. "
      ],
      "metadata": {
        "id": "c42DFliJTaHv"
      }
    },
    {
      "cell_type": "code",
      "source": [
        "df.describe().T"
      ],
      "metadata": {
        "id": "9wyBG0tS89DD",
        "colab": {
          "base_uri": "https://localhost:8080/",
          "height": 331
        },
        "outputId": "597df48e-7ad7-402b-d497-5f6424f75bd7"
      },
      "execution_count": 7,
      "outputs": [
        {
          "output_type": "execute_result",
          "data": {
            "text/plain": [
              "                          count    mean     std    min    25%     50%     75%  \\\n",
              "Pregnancies               768.0    3.85    3.37   0.00   1.00    3.00    6.00   \n",
              "Glucose                   768.0  120.89   31.97   0.00  99.00  117.00  140.25   \n",
              "BloodPressure             768.0   69.11   19.36   0.00  62.00   72.00   80.00   \n",
              "SkinThickness             768.0   20.54   15.95   0.00   0.00   23.00   32.00   \n",
              "Insulin                   768.0   79.80  115.24   0.00   0.00   30.50  127.25   \n",
              "BMI                       768.0   31.99    7.88   0.00  27.30   32.00   36.60   \n",
              "DiabetesPedigreeFunction  768.0    0.47    0.33   0.08   0.24    0.37    0.63   \n",
              "Age                       768.0   33.24   11.76  21.00  24.00   29.00   41.00   \n",
              "Outcome                   768.0    0.35    0.48   0.00   0.00    0.00    1.00   \n",
              "\n",
              "                             max  \n",
              "Pregnancies                17.00  \n",
              "Glucose                   199.00  \n",
              "BloodPressure             122.00  \n",
              "SkinThickness              99.00  \n",
              "Insulin                   846.00  \n",
              "BMI                        67.10  \n",
              "DiabetesPedigreeFunction    2.42  \n",
              "Age                        81.00  \n",
              "Outcome                     1.00  "
            ],
            "text/html": [
              "\n",
              "  <div id=\"df-75219550-2d57-4d9d-aa0b-1f2788e6b677\">\n",
              "    <div class=\"colab-df-container\">\n",
              "      <div>\n",
              "<style scoped>\n",
              "    .dataframe tbody tr th:only-of-type {\n",
              "        vertical-align: middle;\n",
              "    }\n",
              "\n",
              "    .dataframe tbody tr th {\n",
              "        vertical-align: top;\n",
              "    }\n",
              "\n",
              "    .dataframe thead th {\n",
              "        text-align: right;\n",
              "    }\n",
              "</style>\n",
              "<table border=\"1\" class=\"dataframe\">\n",
              "  <thead>\n",
              "    <tr style=\"text-align: right;\">\n",
              "      <th></th>\n",
              "      <th>count</th>\n",
              "      <th>mean</th>\n",
              "      <th>std</th>\n",
              "      <th>min</th>\n",
              "      <th>25%</th>\n",
              "      <th>50%</th>\n",
              "      <th>75%</th>\n",
              "      <th>max</th>\n",
              "    </tr>\n",
              "  </thead>\n",
              "  <tbody>\n",
              "    <tr>\n",
              "      <th>Pregnancies</th>\n",
              "      <td>768.0</td>\n",
              "      <td>3.85</td>\n",
              "      <td>3.37</td>\n",
              "      <td>0.00</td>\n",
              "      <td>1.00</td>\n",
              "      <td>3.00</td>\n",
              "      <td>6.00</td>\n",
              "      <td>17.00</td>\n",
              "    </tr>\n",
              "    <tr>\n",
              "      <th>Glucose</th>\n",
              "      <td>768.0</td>\n",
              "      <td>120.89</td>\n",
              "      <td>31.97</td>\n",
              "      <td>0.00</td>\n",
              "      <td>99.00</td>\n",
              "      <td>117.00</td>\n",
              "      <td>140.25</td>\n",
              "      <td>199.00</td>\n",
              "    </tr>\n",
              "    <tr>\n",
              "      <th>BloodPressure</th>\n",
              "      <td>768.0</td>\n",
              "      <td>69.11</td>\n",
              "      <td>19.36</td>\n",
              "      <td>0.00</td>\n",
              "      <td>62.00</td>\n",
              "      <td>72.00</td>\n",
              "      <td>80.00</td>\n",
              "      <td>122.00</td>\n",
              "    </tr>\n",
              "    <tr>\n",
              "      <th>SkinThickness</th>\n",
              "      <td>768.0</td>\n",
              "      <td>20.54</td>\n",
              "      <td>15.95</td>\n",
              "      <td>0.00</td>\n",
              "      <td>0.00</td>\n",
              "      <td>23.00</td>\n",
              "      <td>32.00</td>\n",
              "      <td>99.00</td>\n",
              "    </tr>\n",
              "    <tr>\n",
              "      <th>Insulin</th>\n",
              "      <td>768.0</td>\n",
              "      <td>79.80</td>\n",
              "      <td>115.24</td>\n",
              "      <td>0.00</td>\n",
              "      <td>0.00</td>\n",
              "      <td>30.50</td>\n",
              "      <td>127.25</td>\n",
              "      <td>846.00</td>\n",
              "    </tr>\n",
              "    <tr>\n",
              "      <th>BMI</th>\n",
              "      <td>768.0</td>\n",
              "      <td>31.99</td>\n",
              "      <td>7.88</td>\n",
              "      <td>0.00</td>\n",
              "      <td>27.30</td>\n",
              "      <td>32.00</td>\n",
              "      <td>36.60</td>\n",
              "      <td>67.10</td>\n",
              "    </tr>\n",
              "    <tr>\n",
              "      <th>DiabetesPedigreeFunction</th>\n",
              "      <td>768.0</td>\n",
              "      <td>0.47</td>\n",
              "      <td>0.33</td>\n",
              "      <td>0.08</td>\n",
              "      <td>0.24</td>\n",
              "      <td>0.37</td>\n",
              "      <td>0.63</td>\n",
              "      <td>2.42</td>\n",
              "    </tr>\n",
              "    <tr>\n",
              "      <th>Age</th>\n",
              "      <td>768.0</td>\n",
              "      <td>33.24</td>\n",
              "      <td>11.76</td>\n",
              "      <td>21.00</td>\n",
              "      <td>24.00</td>\n",
              "      <td>29.00</td>\n",
              "      <td>41.00</td>\n",
              "      <td>81.00</td>\n",
              "    </tr>\n",
              "    <tr>\n",
              "      <th>Outcome</th>\n",
              "      <td>768.0</td>\n",
              "      <td>0.35</td>\n",
              "      <td>0.48</td>\n",
              "      <td>0.00</td>\n",
              "      <td>0.00</td>\n",
              "      <td>0.00</td>\n",
              "      <td>1.00</td>\n",
              "      <td>1.00</td>\n",
              "    </tr>\n",
              "  </tbody>\n",
              "</table>\n",
              "</div>\n",
              "      <button class=\"colab-df-convert\" onclick=\"convertToInteractive('df-75219550-2d57-4d9d-aa0b-1f2788e6b677')\"\n",
              "              title=\"Convert this dataframe to an interactive table.\"\n",
              "              style=\"display:none;\">\n",
              "        \n",
              "  <svg xmlns=\"http://www.w3.org/2000/svg\" height=\"24px\"viewBox=\"0 0 24 24\"\n",
              "       width=\"24px\">\n",
              "    <path d=\"M0 0h24v24H0V0z\" fill=\"none\"/>\n",
              "    <path d=\"M18.56 5.44l.94 2.06.94-2.06 2.06-.94-2.06-.94-.94-2.06-.94 2.06-2.06.94zm-11 1L8.5 8.5l.94-2.06 2.06-.94-2.06-.94L8.5 2.5l-.94 2.06-2.06.94zm10 10l.94 2.06.94-2.06 2.06-.94-2.06-.94-.94-2.06-.94 2.06-2.06.94z\"/><path d=\"M17.41 7.96l-1.37-1.37c-.4-.4-.92-.59-1.43-.59-.52 0-1.04.2-1.43.59L10.3 9.45l-7.72 7.72c-.78.78-.78 2.05 0 2.83L4 21.41c.39.39.9.59 1.41.59.51 0 1.02-.2 1.41-.59l7.78-7.78 2.81-2.81c.8-.78.8-2.07 0-2.86zM5.41 20L4 18.59l7.72-7.72 1.47 1.35L5.41 20z\"/>\n",
              "  </svg>\n",
              "      </button>\n",
              "      \n",
              "  <style>\n",
              "    .colab-df-container {\n",
              "      display:flex;\n",
              "      flex-wrap:wrap;\n",
              "      gap: 12px;\n",
              "    }\n",
              "\n",
              "    .colab-df-convert {\n",
              "      background-color: #E8F0FE;\n",
              "      border: none;\n",
              "      border-radius: 50%;\n",
              "      cursor: pointer;\n",
              "      display: none;\n",
              "      fill: #1967D2;\n",
              "      height: 32px;\n",
              "      padding: 0 0 0 0;\n",
              "      width: 32px;\n",
              "    }\n",
              "\n",
              "    .colab-df-convert:hover {\n",
              "      background-color: #E2EBFA;\n",
              "      box-shadow: 0px 1px 2px rgba(60, 64, 67, 0.3), 0px 1px 3px 1px rgba(60, 64, 67, 0.15);\n",
              "      fill: #174EA6;\n",
              "    }\n",
              "\n",
              "    [theme=dark] .colab-df-convert {\n",
              "      background-color: #3B4455;\n",
              "      fill: #D2E3FC;\n",
              "    }\n",
              "\n",
              "    [theme=dark] .colab-df-convert:hover {\n",
              "      background-color: #434B5C;\n",
              "      box-shadow: 0px 1px 3px 1px rgba(0, 0, 0, 0.15);\n",
              "      filter: drop-shadow(0px 1px 2px rgba(0, 0, 0, 0.3));\n",
              "      fill: #FFFFFF;\n",
              "    }\n",
              "  </style>\n",
              "\n",
              "      <script>\n",
              "        const buttonEl =\n",
              "          document.querySelector('#df-75219550-2d57-4d9d-aa0b-1f2788e6b677 button.colab-df-convert');\n",
              "        buttonEl.style.display =\n",
              "          google.colab.kernel.accessAllowed ? 'block' : 'none';\n",
              "\n",
              "        async function convertToInteractive(key) {\n",
              "          const element = document.querySelector('#df-75219550-2d57-4d9d-aa0b-1f2788e6b677');\n",
              "          const dataTable =\n",
              "            await google.colab.kernel.invokeFunction('convertToInteractive',\n",
              "                                                     [key], {});\n",
              "          if (!dataTable) return;\n",
              "\n",
              "          const docLinkHtml = 'Like what you see? Visit the ' +\n",
              "            '<a target=\"_blank\" href=https://colab.research.google.com/notebooks/data_table.ipynb>data table notebook</a>'\n",
              "            + ' to learn more about interactive tables.';\n",
              "          element.innerHTML = '';\n",
              "          dataTable['output_type'] = 'display_data';\n",
              "          await google.colab.output.renderOutput(dataTable, element);\n",
              "          const docLink = document.createElement('div');\n",
              "          docLink.innerHTML = docLinkHtml;\n",
              "          element.appendChild(docLink);\n",
              "        }\n",
              "      </script>\n",
              "    </div>\n",
              "  </div>\n",
              "  "
            ]
          },
          "metadata": {},
          "execution_count": 7
        }
      ]
    },
    {
      "cell_type": "markdown",
      "source": [
        "O comando describe nos permite observar o comportamento, a distribuição dos dados, de acordo com a média, quantidade de registros, percentuais máximos e mínimos. \n",
        "\n",
        "Podemos observar que a atributo \"Age\" (Idade), apresenta valores de 21 a 81 anos e que os valores de idade de 21 à 41 anos ocupam 75% do valor da amostra e desta forma é possível inferir que somente 25% da amostra apresenta idade superior a 41 anos.\n",
        "\n",
        "Considerando que basicamente, a pré-diabetes acontece quando a glicose não é metabolizada, nem aproveitada o suficiente, de modo a acumular no sangue. O estado de normalidade da glicemia em jejum é de 70 mg/dl a 100 mg/ld.\n",
        "\n",
        "Uma pessoa é classificada como pré-diabética ao medir a sua glicemia em jejum e atingir entre 100 e 125 mg/dl. Já aqueles que atingem a partir de 126 mg/dl são considerados diabéticos. Com base nesta informação já é possível observar registros que se encontram nesta faixa \n",
        "\n",
        "O atributo Glucose e BloodPressure apresentaram valores 0 como mínimos da amostra, consideramos como uma provável ausência de dados  \n",
        "\n",
        "Em um organismo saudável, os níveis de açúcar no sangue e os valores de insulina encontram-se equilibrados. No entanto, em condições de resistência à insulina, o corpo passa a produzir uma quantidade de insulina muito superior à normal.\n",
        "\n",
        "indivíduo saudável: inferior a 140 mg/dl;\n",
        "indivíduo com resistência à insulina: entre 140 e 199 mg/dl;\n",
        "indivíduo com diabetes: igual ou superior a 200 mg/dl. Observa-se na amostra valores \n",
        "0, provavel situação de registro não preenchido ou truncado, como também, valores extremamente elevados como ex: 846 mg/dl e que sugere um possível valor de outlier.\n",
        "\n",
        "Fonte: https://www.tjdft.jus.br/informacoes/programas-projetos-e-acoes/pro-vida/dicas-de-saude/pilulas-de-saude/voce-sabe-o-que-e-a-pre-diabetes-entenda-tudo-sobre-o-assunto#:~:text=O%20estado%20de%20normalidade%20da,mg%2Fdl%20s%C3%A3o%20considerados%20diab%C3%A9ticos.\n",
        "\n",
        "Fonte: https://labvw.com.br/blog/o-que-fazer-em-relacao-a-insulina-alta/#:~:text=indiv%C3%ADduo%20saud%C3%A1vel%3A%20inferior%20a%20140,superior%20a%20200%20mg%2Fdl."
      ],
      "metadata": {
        "id": "u9PgWuJaUFJd"
      }
    },
    {
      "cell_type": "markdown",
      "source": [
        "###Verificação de elementos nulos e valores faltantes."
      ],
      "metadata": {
        "id": "X52uoXuxjY7R"
      }
    },
    {
      "cell_type": "code",
      "source": [
        "#Verificar ocorrências de dados com valor atribuído igual a zero \n",
        "def verificar_qt_zeros(df_veri):\n",
        "  cols = df_veri.columns\n",
        "  print('Quantidade de valores zerados:')\n",
        "  for cl in cols:\n",
        "    if(cl != 'Outcome' and cl != 'Pregnancies'):\n",
        "      print(cl,'-', df_veri[cl][df_veri[cl]==0].count())"
      ],
      "metadata": {
        "id": "0RUyzsaF67bS"
      },
      "execution_count": 8,
      "outputs": []
    },
    {
      "cell_type": "code",
      "source": [
        "#Função para gerar os barplots para análises \n",
        "def gerar_barplot(values_N, values_I, labels, title, legend_N, Legend_Y, label_x, label_Y):\n",
        "          x = np.arange(len(labels))\n",
        "          width = 0.35\n",
        "\n",
        "          fig, ax = plt.subplots(figsize = (14,6))\n",
        "          barra_nac = ax.bar(x - width/2, values_N, width, label=legend_N)\n",
        "          barra_inter= ax.bar(x + width/2, values_I, width, label=Legend_Y)\n",
        "\n",
        "          ax.set_title(title)\n",
        "          ax.set_xlabel(label_x)\n",
        "          ax.set_ylabel(label_Y)\n",
        "          ax.set_xticks(x)\n",
        "          ax.set_xticklabels(labels)\n",
        "          ax.legend()\n",
        "\n",
        "          def autolabel(rects):\n",
        "              for rect in rects:\n",
        "                  height = rect.get_height()\n",
        "                  ax.annotate('{}'.format(height),\n",
        "                              xy=(rect.get_x() + rect.get_width() / 2, height),\n",
        "                              xytext=(0, 3),  # 3 points vertical offset\n",
        "                              textcoords=\"offset points\",\n",
        "                              ha='center', va='bottom')\n",
        "\n",
        "\n",
        "          autolabel(barra_nac)\n",
        "          autolabel(barra_inter)\n",
        "\n",
        "          fig.tight_layout()\n",
        "          plt.show()  "
      ],
      "metadata": {
        "id": "qadsu6MFDt-6"
      },
      "execution_count": 9,
      "outputs": []
    },
    {
      "cell_type": "code",
      "source": [
        "df.isnull().sum()"
      ],
      "metadata": {
        "id": "9xSvXnNY-BAY",
        "colab": {
          "base_uri": "https://localhost:8080/"
        },
        "outputId": "bfdaaa04-e170-4646-ba2f-cd262ad8ebdf"
      },
      "execution_count": 10,
      "outputs": [
        {
          "output_type": "execute_result",
          "data": {
            "text/plain": [
              "Pregnancies                 0\n",
              "Glucose                     0\n",
              "BloodPressure               0\n",
              "SkinThickness               0\n",
              "Insulin                     0\n",
              "BMI                         0\n",
              "DiabetesPedigreeFunction    0\n",
              "Age                         0\n",
              "Outcome                     0\n",
              "dtype: int64"
            ]
          },
          "metadata": {},
          "execution_count": 10
        }
      ]
    },
    {
      "cell_type": "markdown",
      "source": [
        "Utilizamos a função \"isnull\" para verificar ocorrências de dados NaN, nulos,  dentro da amostra. Através da função, não identificamos ocorrências nos registros. "
      ],
      "metadata": {
        "id": "8GGWQ4Uz1tJi"
      }
    },
    {
      "cell_type": "code",
      "source": [
        "verificar_qt_zeros(df)"
      ],
      "metadata": {
        "colab": {
          "base_uri": "https://localhost:8080/"
        },
        "id": "-Az0uDyb0wlx",
        "outputId": "b513a98c-a117-494b-8b2d-775376008e7e"
      },
      "execution_count": 11,
      "outputs": [
        {
          "output_type": "stream",
          "name": "stdout",
          "text": [
            "Quantidade de valores zerados:\n",
            "Glucose - 5\n",
            "BloodPressure - 35\n",
            "SkinThickness - 227\n",
            "Insulin - 374\n",
            "BMI - 11\n",
            "DiabetesPedigreeFunction - 0\n",
            "Age - 0\n"
          ]
        }
      ]
    },
    {
      "cell_type": "markdown",
      "source": [
        "Através da função verificar_qt_zeros, aplicada sobre o Dataset, identificamos a ocorrência de 5 atributos que apresentam valores dos registros igual a zero. Dentre os atributos, identificamos 3 deles apresentam baixa ocorrência e 2 deles uma quantidade elevada de registros com valores zerados.\n",
        "\n",
        "Vale destacar, que para análise não foram considerados atributos do tipo Booleanos"
      ],
      "metadata": {
        "id": "hpM_-oFE2BtA"
      }
    },
    {
      "cell_type": "markdown",
      "source": [
        "## Análise univariada"
      ],
      "metadata": {
        "id": "paTLUEmfd85A"
      }
    },
    {
      "cell_type": "markdown",
      "source": [
        "### Tratando atributo **\"Glucose\"**"
      ],
      "metadata": {
        "id": "a2mAhP8U6Mhp"
      }
    },
    {
      "cell_type": "markdown",
      "source": [
        "Verificando a ocorrência de valores de Glucose diferente de zero"
      ],
      "metadata": {
        "id": "Tc8SlSTJ3ASf"
      }
    },
    {
      "cell_type": "code",
      "source": [
        "df['Glucose'][(df['Glucose']!=0)].hist()"
      ],
      "metadata": {
        "colab": {
          "base_uri": "https://localhost:8080/",
          "height": 282
        },
        "id": "L2fgOyDz5KZj",
        "outputId": "dd984c7c-c20b-4929-e0a2-e036dbd6daf4"
      },
      "execution_count": 12,
      "outputs": [
        {
          "output_type": "execute_result",
          "data": {
            "text/plain": [
              "<AxesSubplot:>"
            ]
          },
          "metadata": {},
          "execution_count": 12
        },
        {
          "output_type": "display_data",
          "data": {
            "text/plain": [
              "<Figure size 432x288 with 1 Axes>"
            ],
            "image/png": "[encoded data removed]"
          },
          "metadata": {
            "needs_background": "light"
          }
        }
      ]
    },
    {
      "cell_type": "markdown",
      "source": [
        "Através do gráfico, identificamos que a amostra de valores de Glucose, diferente de zero, assemelha a uma distribuição próxima da normal. Desta forma, permitindo que seja utilizada a mediana como valor substituto as ocorrência de registro igual a zero. Essa estratégia só será possível mediante a baixa ocorrência de valores igual a zero neste atributo e que não irá impactar em uma alteração na distribuição dos dados. "
      ],
      "metadata": {
        "id": "zN5N3LU-3M7S"
      }
    },
    {
      "cell_type": "code",
      "source": [
        "df['Glucose'][(df['Glucose']!=0)].median()"
      ],
      "metadata": {
        "colab": {
          "base_uri": "https://localhost:8080/"
        },
        "id": "HX9w5VV74ejd",
        "outputId": "ac6ed80c-4fb5-4f58-a986-cb6bda2bd1a0"
      },
      "execution_count": 13,
      "outputs": [
        {
          "output_type": "execute_result",
          "data": {
            "text/plain": [
              "117.0"
            ]
          },
          "metadata": {},
          "execution_count": 13
        }
      ]
    },
    {
      "cell_type": "markdown",
      "source": [
        "O valor encontrado para mediana foi de 117 e será utilizado para substituição em situação em que seja identificado o valor zero ao registro, neste atributo."
      ],
      "metadata": {
        "id": "1cq87TTy4tuh"
      }
    },
    {
      "cell_type": "markdown",
      "source": [
        "### Tratando atributo **\"BloodPressure\"**"
      ],
      "metadata": {
        "id": "XoFIz7zS6bCT"
      }
    },
    {
      "cell_type": "code",
      "source": [
        "df['BloodPressure'][(df['BloodPressure']!=0)].hist()"
      ],
      "metadata": {
        "colab": {
          "base_uri": "https://localhost:8080/",
          "height": 282
        },
        "id": "_2Q4ifbC8sJt",
        "outputId": "eec538e6-6a50-4042-9032-7c1b945c7197"
      },
      "execution_count": 14,
      "outputs": [
        {
          "output_type": "execute_result",
          "data": {
            "text/plain": [
              "<AxesSubplot:>"
            ]
          },
          "metadata": {},
          "execution_count": 14
        },
        {
          "output_type": "display_data",
          "data": {
            "text/plain": [
              "<Figure size 432x288 with 1 Axes>"
            ],
            "image/png": "[encoded data removed]"
          },
          "metadata": {
            "needs_background": "light"
          }
        }
      ]
    },
    {
      "cell_type": "markdown",
      "source": [
        "É observado o prolongamento da distribuição dos dados no Histograma, para a esquerda e para a direita, sinalizando a presença de valores extremos. A fim de uma melhor visualização, iremos realizar a projeção dos dados através do gráfico boxplot.  "
      ],
      "metadata": {
        "id": "LLa8gJ_h5d-_"
      }
    },
    {
      "cell_type": "code",
      "source": [
        "df.boxplot(['BloodPressure'])"
      ],
      "metadata": {
        "colab": {
          "base_uri": "https://localhost:8080/",
          "height": 282
        },
        "id": "K3DjOTzB8zMv",
        "outputId": "8b9c11fa-1812-410d-d912-48b1f9a47c80"
      },
      "execution_count": 15,
      "outputs": [
        {
          "output_type": "execute_result",
          "data": {
            "text/plain": [
              "<AxesSubplot:>"
            ]
          },
          "metadata": {},
          "execution_count": 15
        },
        {
          "output_type": "display_data",
          "data": {
            "text/plain": [
              "<Figure size 432x288 with 1 Axes>"
            ],
            "image/png": "[encoded data removed]"
          },
          "metadata": {
            "needs_background": "light"
          }
        }
      ]
    },
    {
      "cell_type": "markdown",
      "source": [
        "Utilizando o gráfico de boxplot é observada situações de outliers tanto para base do gráfico e ao topo. Porem, a maioria dos registros seguem uma distribuição entre 0 e 75%. Esse recorte será utilizado para atribuir o valor da mediana em substituição das ocorrências de valores zerados."
      ],
      "metadata": {
        "id": "_ve6eOT45vU7"
      }
    },
    {
      "cell_type": "code",
      "source": [
        "df['BloodPressure'][(df['BloodPressure']!=0) & (df['BloodPressure']>40) & (df['BloodPressure']<110)].hist()"
      ],
      "metadata": {
        "colab": {
          "base_uri": "https://localhost:8080/",
          "height": 282
        },
        "id": "kxotA2Xi87pg",
        "outputId": "70edff92-77d9-49e1-d868-a0218af88331"
      },
      "execution_count": 16,
      "outputs": [
        {
          "output_type": "execute_result",
          "data": {
            "text/plain": [
              "<AxesSubplot:>"
            ]
          },
          "metadata": {},
          "execution_count": 16
        },
        {
          "output_type": "display_data",
          "data": {
            "text/plain": [
              "<Figure size 432x288 with 1 Axes>"
            ],
            "image/png": "[encoded data removed]"
          },
          "metadata": {
            "needs_background": "light"
          }
        }
      ]
    },
    {
      "cell_type": "markdown",
      "source": [
        "Realizamos a projeção dos registros, através do gráfico histograma, desta vez, não considerando os valores em outlier. O coportamento da amostra demostrou possivel semelhança com uma distribuição normal e desta forma permitindo a suposição anterior. Assim valores de ocorrência igual a zero, dentro de registros, neste atributo, será imputado a mediana dos registros que seguem uma distribuição normal.  "
      ],
      "metadata": {
        "id": "_HRVh_vA6Tod"
      }
    },
    {
      "cell_type": "code",
      "source": [
        "df['BloodPressure'][(df['BloodPressure']!=0) & (df['BloodPressure']>= 40) & (df['BloodPressure']<= 110)].median()"
      ],
      "metadata": {
        "id": "I5zjdckI9qpD",
        "colab": {
          "base_uri": "https://localhost:8080/"
        },
        "outputId": "613cd6b6-f197-4b8f-b023-da9d278b28b0"
      },
      "execution_count": 17,
      "outputs": [
        {
          "output_type": "execute_result",
          "data": {
            "text/plain": [
              "72.0"
            ]
          },
          "metadata": {},
          "execution_count": 17
        }
      ]
    },
    {
      "cell_type": "markdown",
      "source": [
        "Utilizando a consulta a cima, identificamos que o valor da mediana para registros onde a BloodPressure seja diferente de zero e com ocorrência entre 40 e 110 reflete um valor de mediana igual a 72."
      ],
      "metadata": {
        "id": "d4Hc-oU864eb"
      }
    },
    {
      "cell_type": "markdown",
      "source": [
        "### Tratando atributo **\"SkinThickness\"**"
      ],
      "metadata": {
        "id": "lTl4RWCN6cAe"
      }
    },
    {
      "cell_type": "code",
      "source": [
        "df['SkinThickness'].hist()"
      ],
      "metadata": {
        "colab": {
          "base_uri": "https://localhost:8080/",
          "height": 282
        },
        "id": "TAtkdxyk_iHp",
        "outputId": "2af6cc87-d40c-4b61-ed96-7c81823fda5f"
      },
      "execution_count": 18,
      "outputs": [
        {
          "output_type": "execute_result",
          "data": {
            "text/plain": [
              "<AxesSubplot:>"
            ]
          },
          "metadata": {},
          "execution_count": 18
        },
        {
          "output_type": "display_data",
          "data": {
            "text/plain": [
              "<Figure size 432x288 with 1 Axes>"
            ],
            "image/png": "[encoded data removed]"
          },
          "metadata": {
            "needs_background": "light"
          }
        }
      ]
    },
    {
      "cell_type": "markdown",
      "source": [
        "Analisando o histograma, com ocorrência de valores igual a zero, observamos um pico de registro que apresentam este valor. "
      ],
      "metadata": {
        "id": "qBXoW1a_9hIc"
      }
    },
    {
      "cell_type": "code",
      "source": [
        "(len(df[df['SkinThickness'] ==0]) * 100) / len(df) "
      ],
      "metadata": {
        "colab": {
          "base_uri": "https://localhost:8080/"
        },
        "id": "t2heV5_o8NM1",
        "outputId": "dd756cb8-da51-4887-c82d-ca9c8f2f4ec3"
      },
      "execution_count": 19,
      "outputs": [
        {
          "output_type": "execute_result",
          "data": {
            "text/plain": [
              "29.557291666666668"
            ]
          },
          "metadata": {},
          "execution_count": 19
        }
      ]
    },
    {
      "cell_type": "markdown",
      "source": [
        "Verificando o percentual de registro com valores igual a zero, sobre a amostra, identificamos que estes percentuais chegam 29% dos registros o que impede a aplicação de valores como média ou mediana em uma possível situação de normalização dos registros, isso porque, mudaria a distribuição dos dados "
      ],
      "metadata": {
        "id": "Bn-mWm5N-Dse"
      }
    },
    {
      "cell_type": "code",
      "source": [
        "df['SkinThickness'][df['SkinThickness'] != 0].hist()"
      ],
      "metadata": {
        "colab": {
          "base_uri": "https://localhost:8080/",
          "height": 282
        },
        "id": "JRUoTUUVP6p1",
        "outputId": "c99fd1f2-11b2-4ef6-9fa6-c41958a29a7e"
      },
      "execution_count": 20,
      "outputs": [
        {
          "output_type": "execute_result",
          "data": {
            "text/plain": [
              "<AxesSubplot:>"
            ]
          },
          "metadata": {},
          "execution_count": 20
        },
        {
          "output_type": "display_data",
          "data": {
            "text/plain": [
              "<Figure size 432x288 with 1 Axes>"
            ],
            "image/png": "[encoded data removed]"
          },
          "metadata": {
            "needs_background": "light"
          }
        }
      ]
    },
    {
      "cell_type": "markdown",
      "source": [
        "Observando os valores diferentes de zero, ainda são apresentandos registros extermos, neste caso, a direita do gráfico. Iremos verificar a proporção que nos valores preenchidos é observado que valores inferiores a 55 permintem uma tendência da normalização da amostra.  "
      ],
      "metadata": {
        "id": "kIzbOgZ6-uhf"
      }
    },
    {
      "cell_type": "code",
      "source": [
        "gerar_barplot(df['SkinThickness'][(df['SkinThickness']!=0) & (df['SkinThickness']<55)].count(),\n",
        "              df['SkinThickness'][(df['SkinThickness']!=0) & (df['SkinThickness']>55)].count(),\n",
        "              ['SkinThickness'], 'Valor de Espessura da pele do tríceps (mm) maior e menor que 55', 'Maior que 55', 'Menor que 55', '-', 'Quantidade')"
      ],
      "metadata": {
        "colab": {
          "base_uri": "https://localhost:8080/",
          "height": 441
        },
        "id": "wGhWu5axQbiL",
        "outputId": "9ad2b10d-36aa-49db-e6dd-5faec58f5133"
      },
      "execution_count": 21,
      "outputs": [
        {
          "output_type": "display_data",
          "data": {
            "text/plain": [
              "<Figure size 1008x432 with 1 Axes>"
            ],
            "image/png": "[encoded data removed]"
          },
          "metadata": {
            "needs_background": "light"
          }
        }
      ]
    },
    {
      "cell_type": "code",
      "source": [
        "df['SkinThickness'][(df['SkinThickness']!=0) & (df['SkinThickness']<55)].hist()"
      ],
      "metadata": {
        "colab": {
          "base_uri": "https://localhost:8080/",
          "height": 282
        },
        "id": "A3mK9KN0RF4E",
        "outputId": "b3006059-1c48-4b40-9242-a274e6af0597"
      },
      "execution_count": 22,
      "outputs": [
        {
          "output_type": "execute_result",
          "data": {
            "text/plain": [
              "<AxesSubplot:>"
            ]
          },
          "metadata": {},
          "execution_count": 22
        },
        {
          "output_type": "display_data",
          "data": {
            "text/plain": [
              "<Figure size 432x288 with 1 Axes>"
            ],
            "image/png": "[encoded data removed]"
          },
          "metadata": {
            "needs_background": "light"
          }
        }
      ]
    },
    {
      "cell_type": "markdown",
      "source": [
        "Deste modo, se constata uma tendência de distribuição normal para valores maiores que 0 e menores que 55, que representam em torno de 95% da amostra. "
      ],
      "metadata": {
        "id": "3uPF_oEY_ZYg"
      }
    },
    {
      "cell_type": "code",
      "source": [
        "df['SkinThickness'][(df['SkinThickness']!=0) & (df['SkinThickness']<55)].hist()"
      ],
      "metadata": {
        "colab": {
          "base_uri": "https://localhost:8080/",
          "height": 282
        },
        "id": "Br3PAhBoTFlz",
        "outputId": "d429ccaf-085a-4cc5-a876-9d93ea5deb21"
      },
      "execution_count": 23,
      "outputs": [
        {
          "output_type": "execute_result",
          "data": {
            "text/plain": [
              "<AxesSubplot:>"
            ]
          },
          "metadata": {},
          "execution_count": 23
        },
        {
          "output_type": "display_data",
          "data": {
            "text/plain": [
              "<Figure size 432x288 with 1 Axes>"
            ],
            "image/png": "[encoded data removed]"
          },
          "metadata": {
            "needs_background": "light"
          }
        }
      ]
    },
    {
      "cell_type": "markdown",
      "source": [
        "Vamos considerar uma possível estratégia para preenchimento de dados ausentes a utilização do reange maior que 0 e menor que 55 onde será realizada uma seleção aleatória da valores da amostra para substituição de ocorrências de regsitro igual zero."
      ],
      "metadata": {
        "id": "qKEQWeOnAGFJ"
      }
    },
    {
      "cell_type": "markdown",
      "source": [
        "### Tratando atributo **\"Insulin\"**"
      ],
      "metadata": {
        "id": "CjlJYOZu6dDc"
      }
    },
    {
      "cell_type": "code",
      "source": [
        "df.boxplot(['Insulin'])"
      ],
      "metadata": {
        "colab": {
          "base_uri": "https://localhost:8080/",
          "height": 282
        },
        "id": "WLparUyABAdP",
        "outputId": "1a96c57d-a0e1-4ed9-dcab-80868519ee8b"
      },
      "execution_count": 24,
      "outputs": [
        {
          "output_type": "execute_result",
          "data": {
            "text/plain": [
              "<AxesSubplot:>"
            ]
          },
          "metadata": {},
          "execution_count": 24
        },
        {
          "output_type": "display_data",
          "data": {
            "text/plain": [
              "<Figure size 432x288 with 1 Axes>"
            ],
            "image/png": "[encoded data removed]"
          },
          "metadata": {
            "needs_background": "light"
          }
        }
      ]
    },
    {
      "cell_type": "markdown",
      "source": [
        "Ao analisar o gráfico de boxplot, identificamos diversos registros, extremos, localizados na seção superior do gráfico. Estes registros são possíveis ocorrências de outliers. Além disso, é observado que o gráfico apresenta um grande percentual de registros com valores igual a zero.  "
      ],
      "metadata": {
        "id": "rIJHCQbUBXlm"
      }
    },
    {
      "cell_type": "code",
      "source": [
        "(len(df[df['Insulin'] == 0]) * 100) / len(df) "
      ],
      "metadata": {
        "colab": {
          "base_uri": "https://localhost:8080/"
        },
        "id": "6d1m0haRAwVT",
        "outputId": "b9a8f7be-eeae-4357-ddd8-baff6e7dcc6c"
      },
      "execution_count": 25,
      "outputs": [
        {
          "output_type": "execute_result",
          "data": {
            "text/plain": [
              "48.697916666666664"
            ]
          },
          "metadata": {},
          "execution_count": 25
        }
      ]
    },
    {
      "cell_type": "markdown",
      "source": [
        "Conforme gráfico anteriormente analisado, observamos que o percentual dos registros com valores igual a zero representam um percentual de 48% dos registros presente na amostra."
      ],
      "metadata": {
        "id": "QW75IfsIBsd0"
      }
    },
    {
      "cell_type": "code",
      "source": [
        "gerar_barplot(df['Insulin'][(df['Insulin']!=0) & (df['Insulin']<280)].count(),\n",
        "              df['Insulin'][(df['Insulin']!=0) & (df['Insulin']>280)].count(),\n",
        "              ['Insulin'], 'Valor de insulina maior e menor que 280', 'Maior que 280', 'Menor que 280', '-', 'Quantidade')"
      ],
      "metadata": {
        "colab": {
          "base_uri": "https://localhost:8080/",
          "height": 441
        },
        "id": "41EquA7JEGHW",
        "outputId": "f435c1b4-5d1e-4010-c68f-6412024cac82"
      },
      "execution_count": 26,
      "outputs": [
        {
          "output_type": "display_data",
          "data": {
            "text/plain": [
              "<Figure size 1008x432 with 1 Axes>"
            ],
            "image/png": "[encoded data removed]"
          },
          "metadata": {
            "needs_background": "light"
          }
        }
      ]
    },
    {
      "cell_type": "markdown",
      "source": [
        "Dos valores preenchidos observa-se que existe uma faixa entre, de corte, que são maiores que 280 e menores que 280. Esta situação demonstra que 393 registros estão preenchidos e correspondem a 88% da amostra."
      ],
      "metadata": {
        "id": "8_s8ecAhCCk0"
      }
    },
    {
      "cell_type": "code",
      "source": [
        "df['Insulin'][(df['Insulin']!=0) & (df['Insulin']<280)].hist()"
      ],
      "metadata": {
        "colab": {
          "base_uri": "https://localhost:8080/",
          "height": 282
        },
        "id": "-GxnWs5bBYBJ",
        "outputId": "4dce4c97-4dbc-48f9-8039-ea75c9996b67"
      },
      "execution_count": 27,
      "outputs": [
        {
          "output_type": "execute_result",
          "data": {
            "text/plain": [
              "<AxesSubplot:>"
            ]
          },
          "metadata": {},
          "execution_count": 27
        },
        {
          "output_type": "display_data",
          "data": {
            "text/plain": [
              "<Figure size 432x288 with 1 Axes>"
            ],
            "image/png": "[encoded data removed]"
          },
          "metadata": {
            "needs_background": "light"
          }
        }
      ]
    },
    {
      "cell_type": "markdown",
      "source": [
        "Vamos considerar uma possível estratégia para preenchimento de dados ausentes a utilização de registros o valor seja menor que 280. Onde será realizada uma seleção aleatória da valores da amostra para substituição de ocorrências de regsitro igual zero."
      ],
      "metadata": {
        "id": "Guns3Ll_CdWo"
      }
    },
    {
      "cell_type": "markdown",
      "source": [
        "### Tratando atributo **\"BMI\"**"
      ],
      "metadata": {
        "id": "kJrJwVhg6eE7"
      }
    },
    {
      "cell_type": "code",
      "source": [
        "df['BMI'][(df['BMI']!=0)].hist()"
      ],
      "metadata": {
        "colab": {
          "base_uri": "https://localhost:8080/",
          "height": 282
        },
        "id": "KjwCdUwr7VsC",
        "outputId": "f9f58725-82af-4616-e154-7b871d49d5e8"
      },
      "execution_count": 28,
      "outputs": [
        {
          "output_type": "execute_result",
          "data": {
            "text/plain": [
              "<AxesSubplot:>"
            ]
          },
          "metadata": {},
          "execution_count": 28
        },
        {
          "output_type": "display_data",
          "data": {
            "text/plain": [
              "<Figure size 432x288 with 1 Axes>"
            ],
            "image/png": "[encoded data removed]"
          },
          "metadata": {
            "needs_background": "light"
          }
        }
      ]
    },
    {
      "cell_type": "markdown",
      "source": [
        "O objetivo será tratar situações ocorrência de valores igual a zero. Neste caso, utilizamos um gráfico do tipo histograma para visualizar a distribuição dos registros com valores diferentes de zero."
      ],
      "metadata": {
        "id": "FTBDajJ7Decd"
      }
    },
    {
      "cell_type": "code",
      "source": [
        "df.boxplot(['BMI'])"
      ],
      "metadata": {
        "colab": {
          "base_uri": "https://localhost:8080/",
          "height": 285
        },
        "id": "XNm0TPQi8Nqi",
        "outputId": "bcda7b3c-9473-45e2-ad48-5d85afac1c81"
      },
      "execution_count": 29,
      "outputs": [
        {
          "output_type": "execute_result",
          "data": {
            "text/plain": [
              "<AxesSubplot:>"
            ]
          },
          "metadata": {},
          "execution_count": 29
        },
        {
          "output_type": "display_data",
          "data": {
            "text/plain": [
              "<Figure size 432x288 with 1 Axes>"
            ],
            "image/png": "[encoded data removed]"
          },
          "metadata": {
            "needs_background": "light"
          }
        }
      ]
    },
    {
      "cell_type": "markdown",
      "source": [
        "Ao analisar, por meio de um gráfico boxplot, observamos que existe uma quantidade de registros na base e no topo do gráfico representando situações de outlier."
      ],
      "metadata": {
        "id": "SbUBQT0gDznX"
      }
    },
    {
      "cell_type": "code",
      "source": [
        "df['BMI'][(df['BMI']!=0) & (df['BMI']<50)].hist()"
      ],
      "metadata": {
        "colab": {
          "base_uri": "https://localhost:8080/",
          "height": 282
        },
        "id": "n12dlwS18QI7",
        "outputId": "88d7aeb0-e6a4-45f1-8282-ad8bb82a91df"
      },
      "execution_count": 30,
      "outputs": [
        {
          "output_type": "execute_result",
          "data": {
            "text/plain": [
              "<AxesSubplot:>"
            ]
          },
          "metadata": {},
          "execution_count": 30
        },
        {
          "output_type": "display_data",
          "data": {
            "text/plain": [
              "<Figure size 432x288 with 1 Axes>"
            ],
            "image/png": "[encoded data removed]"
          },
          "metadata": {
            "needs_background": "light"
          }
        }
      ]
    },
    {
      "cell_type": "markdown",
      "source": [
        "Vamos considerar uma possível estratégia para preenchimento de dados ausentes a utilização do reange maior que 0 e menor que 50 onde será realizada uma seleção aleatória da valores da amostra para substituição de ocorrências de regsitro igual zero."
      ],
      "metadata": {
        "id": "BPjFotY9EnJM"
      }
    },
    {
      "cell_type": "markdown",
      "source": [
        "## Engenharia de atributos"
      ],
      "metadata": {
        "id": "aZUHFdR-kxXp"
      }
    },
    {
      "cell_type": "markdown",
      "source": [
        "### Novos atributos"
      ],
      "metadata": {
        "id": "4I8Kn0YFk1Zl"
      }
    },
    {
      "cell_type": "markdown",
      "source": [
        "**Teste de glicose (Glucose)**\n",
        "\n",
        "Normal: Nível de glicose em duas horas inferior a 140 mg/dL\n",
        "\n",
        "Elevado: Nível de glicose em duas horas 140 a 200 mg/dL\n",
        "\n",
        "Diagnostico provável para Diabetes: Nível de glicose em duas horas superior a 200 mg/dL"
      ],
      "metadata": {
        "id": "rEAzcNkIlNwE"
      }
    },
    {
      "cell_type": "markdown",
      "source": [
        "**Teste de Pressão Arterial (BloodPressure)**\n",
        "\n",
        "Normal: Sistólica abaixo de 120 e diastólica abaixo de 80  \n",
        "\n",
        "Elevada: sistólica 120–129 e diastólica abaixo de 80  \n",
        "\n",
        "Hipertensão estágio 1: sistólica 130-139 e diastólica 80-89  \n",
        "\n",
        "Hipertensão estágio 2: sistólica 140 ou mais e diastólica 90 ou mais  \n",
        "\n",
        "Crise hipertensiva: Sistólica acima de 180 e diastólica acima de 120\n"
      ],
      "metadata": {
        "id": "wJhPMA4qmL_R"
      }
    },
    {
      "cell_type": "markdown",
      "source": [
        "**Teste de IMC (BMI)**\n",
        "\n",
        "Baixo peso: Abaixo de 18.5  \n",
        "\n",
        "Peso Normal ou Saudável: 18.5 – 24.9  \n",
        "\n",
        "Excesso de peso: 25.0 – 29.9\n",
        "\n",
        "Obeso: 30.0 e Acima  "
      ],
      "metadata": {
        "id": "-ZpbADQ3mMHV"
      }
    },
    {
      "cell_type": "markdown",
      "source": [
        "**Teste de Insulina (Insulin)**\n",
        "\n",
        "Normal: inferior a 140 mg/dl\n",
        "\n",
        "Resistência a Insulina: entre 140 e 199 mg/dl\n",
        "\n",
        "Com Diabetes: igual ou superior a 200 mg/dl\n"
      ],
      "metadata": {
        "id": "a1eLNB7NmMPZ"
      }
    },
    {
      "cell_type": "code",
      "source": [
        "#Gerando a categoria Glucose de acordo aos valores de referência a cima\n",
        "df[\"categoria_Glucose\"] = df['Glucose'].map(lambda x: 'normal' if x<140 else ('elevado' if x>140 and x<200 else 'com_diabetes'))\n"
      ],
      "metadata": {
        "id": "YHO5bEIerJEw"
      },
      "execution_count": 31,
      "outputs": []
    },
    {
      "cell_type": "code",
      "source": [
        "#Gerando a categoria BloodPressure de acordo aos valores de referência a cima\n",
        "df[\"categoria_BloodPressure\"] = df['BloodPressure'].map(lambda x: 'normal' if x<80 else ('elevado_hiper_nivel1' if x>80and x<90 else ('hiper_nivel_2' if x>90and x<120 else 'crise')))"
      ],
      "metadata": {
        "id": "6o2BE_DZrW74"
      },
      "execution_count": 32,
      "outputs": []
    },
    {
      "cell_type": "code",
      "source": [
        "#Gerando a categoria BMI de acordo aos valores de referência a cima\n",
        "df[\"categoria_BMI\"] = df['BMI'].map(lambda x: 'baixo' if x<18.5 else ('normal' if x>18.5 and x<24.9 else ('sobrepeso' if x>25.0 and x<29.9 else 'obesidade')))"
      ],
      "metadata": {
        "id": "6bOg1fjxuJBA"
      },
      "execution_count": 33,
      "outputs": []
    },
    {
      "cell_type": "code",
      "source": [
        "#Gerando a categoria Insulin de acordo aos valores de referência a cima\n",
        "df[\"categoria_insulin\"] = df['Insulin'].map(lambda x: 'normal' if x<140 else ('resistencia_insulina' if x>140 and x<200 else 'com_diabetes'))"
      ],
      "metadata": {
        "id": "cne0h1nouyE1"
      },
      "execution_count": 34,
      "outputs": []
    },
    {
      "cell_type": "code",
      "source": [
        "df.head()"
      ],
      "metadata": {
        "colab": {
          "base_uri": "https://localhost:8080/",
          "height": 270
        },
        "id": "QWVEkXSzuBqs",
        "outputId": "7826559a-fd65-4be2-d9cd-a5012575f2fd"
      },
      "execution_count": 35,
      "outputs": [
        {
          "output_type": "execute_result",
          "data": {
            "text/plain": [
              "   Pregnancies  Glucose  BloodPressure  SkinThickness  Insulin   BMI  \\\n",
              "0            6      148             72             35        0  33.6   \n",
              "1            1       85             66             29        0  26.6   \n",
              "2            8      183             64              0        0  23.3   \n",
              "3            1       89             66             23       94  28.1   \n",
              "4            0      137             40             35      168  43.1   \n",
              "\n",
              "   DiabetesPedigreeFunction  Age  Outcome categoria_Glucose  \\\n",
              "0                      0.63   50        1           elevado   \n",
              "1                      0.35   31        0            normal   \n",
              "2                      0.67   32        1           elevado   \n",
              "3                      0.17   21        0            normal   \n",
              "4                      2.29   33        1            normal   \n",
              "\n",
              "  categoria_BloodPressure categoria_BMI     categoria_insulin  \n",
              "0                  normal     obesidade                normal  \n",
              "1                  normal     sobrepeso                normal  \n",
              "2                  normal        normal                normal  \n",
              "3                  normal     sobrepeso                normal  \n",
              "4                  normal     obesidade  resistencia_insulina  "
            ],
            "text/html": [
              "\n",
              "  <div id=\"df-4d9b8585-5708-4c80-a6e3-98065c857c7d\">\n",
              "    <div class=\"colab-df-container\">\n",
              "      <div>\n",
              "<style scoped>\n",
              "    .dataframe tbody tr th:only-of-type {\n",
              "        vertical-align: middle;\n",
              "    }\n",
              "\n",
              "    .dataframe tbody tr th {\n",
              "        vertical-align: top;\n",
              "    }\n",
              "\n",
              "    .dataframe thead th {\n",
              "        text-align: right;\n",
              "    }\n",
              "</style>\n",
              "<table border=\"1\" class=\"dataframe\">\n",
              "  <thead>\n",
              "    <tr style=\"text-align: right;\">\n",
              "      <th></th>\n",
              "      <th>Pregnancies</th>\n",
              "      <th>Glucose</th>\n",
              "      <th>BloodPressure</th>\n",
              "      <th>SkinThickness</th>\n",
              "      <th>Insulin</th>\n",
              "      <th>BMI</th>\n",
              "      <th>DiabetesPedigreeFunction</th>\n",
              "      <th>Age</th>\n",
              "      <th>Outcome</th>\n",
              "      <th>categoria_Glucose</th>\n",
              "      <th>categoria_BloodPressure</th>\n",
              "      <th>categoria_BMI</th>\n",
              "      <th>categoria_insulin</th>\n",
              "    </tr>\n",
              "  </thead>\n",
              "  <tbody>\n",
              "    <tr>\n",
              "      <th>0</th>\n",
              "      <td>6</td>\n",
              "      <td>148</td>\n",
              "      <td>72</td>\n",
              "      <td>35</td>\n",
              "      <td>0</td>\n",
              "      <td>33.6</td>\n",
              "      <td>0.63</td>\n",
              "      <td>50</td>\n",
              "      <td>1</td>\n",
              "      <td>elevado</td>\n",
              "      <td>normal</td>\n",
              "      <td>obesidade</td>\n",
              "      <td>normal</td>\n",
              "    </tr>\n",
              "    <tr>\n",
              "      <th>1</th>\n",
              "      <td>1</td>\n",
              "      <td>85</td>\n",
              "      <td>66</td>\n",
              "      <td>29</td>\n",
              "      <td>0</td>\n",
              "      <td>26.6</td>\n",
              "      <td>0.35</td>\n",
              "      <td>31</td>\n",
              "      <td>0</td>\n",
              "      <td>normal</td>\n",
              "      <td>normal</td>\n",
              "      <td>sobrepeso</td>\n",
              "      <td>normal</td>\n",
              "    </tr>\n",
              "    <tr>\n",
              "      <th>2</th>\n",
              "      <td>8</td>\n",
              "      <td>183</td>\n",
              "      <td>64</td>\n",
              "      <td>0</td>\n",
              "      <td>0</td>\n",
              "      <td>23.3</td>\n",
              "      <td>0.67</td>\n",
              "      <td>32</td>\n",
              "      <td>1</td>\n",
              "      <td>elevado</td>\n",
              "      <td>normal</td>\n",
              "      <td>normal</td>\n",
              "      <td>normal</td>\n",
              "    </tr>\n",
              "    <tr>\n",
              "      <th>3</th>\n",
              "      <td>1</td>\n",
              "      <td>89</td>\n",
              "      <td>66</td>\n",
              "      <td>23</td>\n",
              "      <td>94</td>\n",
              "      <td>28.1</td>\n",
              "      <td>0.17</td>\n",
              "      <td>21</td>\n",
              "      <td>0</td>\n",
              "      <td>normal</td>\n",
              "      <td>normal</td>\n",
              "      <td>sobrepeso</td>\n",
              "      <td>normal</td>\n",
              "    </tr>\n",
              "    <tr>\n",
              "      <th>4</th>\n",
              "      <td>0</td>\n",
              "      <td>137</td>\n",
              "      <td>40</td>\n",
              "      <td>35</td>\n",
              "      <td>168</td>\n",
              "      <td>43.1</td>\n",
              "      <td>2.29</td>\n",
              "      <td>33</td>\n",
              "      <td>1</td>\n",
              "      <td>normal</td>\n",
              "      <td>normal</td>\n",
              "      <td>obesidade</td>\n",
              "      <td>resistencia_insulina</td>\n",
              "    </tr>\n",
              "  </tbody>\n",
              "</table>\n",
              "</div>\n",
              "      <button class=\"colab-df-convert\" onclick=\"convertToInteractive('df-4d9b8585-5708-4c80-a6e3-98065c857c7d')\"\n",
              "              title=\"Convert this dataframe to an interactive table.\"\n",
              "              style=\"display:none;\">\n",
              "        \n",
              "  <svg xmlns=\"http://www.w3.org/2000/svg\" height=\"24px\"viewBox=\"0 0 24 24\"\n",
              "       width=\"24px\">\n",
              "    <path d=\"M0 0h24v24H0V0z\" fill=\"none\"/>\n",
              "    <path d=\"M18.56 5.44l.94 2.06.94-2.06 2.06-.94-2.06-.94-.94-2.06-.94 2.06-2.06.94zm-11 1L8.5 8.5l.94-2.06 2.06-.94-2.06-.94L8.5 2.5l-.94 2.06-2.06.94zm10 10l.94 2.06.94-2.06 2.06-.94-2.06-.94-.94-2.06-.94 2.06-2.06.94z\"/><path d=\"M17.41 7.96l-1.37-1.37c-.4-.4-.92-.59-1.43-.59-.52 0-1.04.2-1.43.59L10.3 9.45l-7.72 7.72c-.78.78-.78 2.05 0 2.83L4 21.41c.39.39.9.59 1.41.59.51 0 1.02-.2 1.41-.59l7.78-7.78 2.81-2.81c.8-.78.8-2.07 0-2.86zM5.41 20L4 18.59l7.72-7.72 1.47 1.35L5.41 20z\"/>\n",
              "  </svg>\n",
              "      </button>\n",
              "      \n",
              "  <style>\n",
              "    .colab-df-container {\n",
              "      display:flex;\n",
              "      flex-wrap:wrap;\n",
              "      gap: 12px;\n",
              "    }\n",
              "\n",
              "    .colab-df-convert {\n",
              "      background-color: #E8F0FE;\n",
              "      border: none;\n",
              "      border-radius: 50%;\n",
              "      cursor: pointer;\n",
              "      display: none;\n",
              "      fill: #1967D2;\n",
              "      height: 32px;\n",
              "      padding: 0 0 0 0;\n",
              "      width: 32px;\n",
              "    }\n",
              "\n",
              "    .colab-df-convert:hover {\n",
              "      background-color: #E2EBFA;\n",
              "      box-shadow: 0px 1px 2px rgba(60, 64, 67, 0.3), 0px 1px 3px 1px rgba(60, 64, 67, 0.15);\n",
              "      fill: #174EA6;\n",
              "    }\n",
              "\n",
              "    [theme=dark] .colab-df-convert {\n",
              "      background-color: #3B4455;\n",
              "      fill: #D2E3FC;\n",
              "    }\n",
              "\n",
              "    [theme=dark] .colab-df-convert:hover {\n",
              "      background-color: #434B5C;\n",
              "      box-shadow: 0px 1px 3px 1px rgba(0, 0, 0, 0.15);\n",
              "      filter: drop-shadow(0px 1px 2px rgba(0, 0, 0, 0.3));\n",
              "      fill: #FFFFFF;\n",
              "    }\n",
              "  </style>\n",
              "\n",
              "      <script>\n",
              "        const buttonEl =\n",
              "          document.querySelector('#df-4d9b8585-5708-4c80-a6e3-98065c857c7d button.colab-df-convert');\n",
              "        buttonEl.style.display =\n",
              "          google.colab.kernel.accessAllowed ? 'block' : 'none';\n",
              "\n",
              "        async function convertToInteractive(key) {\n",
              "          const element = document.querySelector('#df-4d9b8585-5708-4c80-a6e3-98065c857c7d');\n",
              "          const dataTable =\n",
              "            await google.colab.kernel.invokeFunction('convertToInteractive',\n",
              "                                                     [key], {});\n",
              "          if (!dataTable) return;\n",
              "\n",
              "          const docLinkHtml = 'Like what you see? Visit the ' +\n",
              "            '<a target=\"_blank\" href=https://colab.research.google.com/notebooks/data_table.ipynb>data table notebook</a>'\n",
              "            + ' to learn more about interactive tables.';\n",
              "          element.innerHTML = '';\n",
              "          dataTable['output_type'] = 'display_data';\n",
              "          await google.colab.output.renderOutput(dataTable, element);\n",
              "          const docLink = document.createElement('div');\n",
              "          docLink.innerHTML = docLinkHtml;\n",
              "          element.appendChild(docLink);\n",
              "        }\n",
              "      </script>\n",
              "    </div>\n",
              "  </div>\n",
              "  "
            ]
          },
          "metadata": {},
          "execution_count": 35
        }
      ]
    },
    {
      "cell_type": "markdown",
      "source": [
        "Utilizamos o comando Head para visualizar o dataset após a criação dos novos atributos, conforme metricas de controle e definições na seção engenharia de atributos.  "
      ],
      "metadata": {
        "id": "rYboX1OVP9Yq"
      }
    },
    {
      "cell_type": "markdown",
      "source": [
        "## Análise multivariada."
      ],
      "metadata": {
        "id": "pws1kDZKeBU6"
      }
    },
    {
      "cell_type": "code",
      "source": [
        "fig = plt.figure()\n",
        "fig.set_size_inches(12, 10)\n",
        "sns.heatmap(round(df.corr(),2), annot = True, vmin=-1, vmax=1, center= 0, cmap= 'coolwarm')"
      ],
      "metadata": {
        "id": "meIm2wi291F6",
        "colab": {
          "base_uri": "https://localhost:8080/",
          "height": 733
        },
        "outputId": "367e3c91-a1d7-4900-92de-2691e08b43bd"
      },
      "execution_count": 36,
      "outputs": [
        {
          "output_type": "execute_result",
          "data": {
            "text/plain": [
              "<AxesSubplot:>"
            ]
          },
          "metadata": {},
          "execution_count": 36
        },
        {
          "output_type": "display_data",
          "data": {
            "text/plain": [
              "<Figure size 864x720 with 2 Axes>"
            ],
            "image/png": "[encoded data removed]"
          },
          "metadata": {
            "needs_background": "light"
          }
        }
      ]
    },
    {
      "cell_type": "markdown",
      "source": [
        "Usamos o gráfico a cima para visualizar a correlação, buscando demostrar o indice de correlação em função dos atributos. Demostrando quais atributos seriam mais indicados e menos indicados na construção do modelo."
      ],
      "metadata": {
        "id": "HMg6xG8jQd1V"
      }
    },
    {
      "cell_type": "code",
      "source": [
        "#Função para gerar um gráfico de pontos em uma análise multivariada\n",
        "def analise_multivariada_point(x_var, y_var, x_label, y_label, title, color_list=[]):\n",
        "  fig=px.scatter(df, x = x_var, opacity=0.5, y = y_var,  width = 800)\n",
        "  if(len(color_list) >0):\n",
        "    fig=px.scatter(df, x = x_var, opacity=0.5, y = y_var,  width = 800, color=color_list)\n",
        "  fig.update_layout(title = title)\n",
        "  fig.update_xaxes(title = x_label)\n",
        "  fig.update_yaxes(title = y_label)\n",
        "  fig.show()\n"
      ],
      "metadata": {
        "id": "L0k7XyCIZWXT"
      },
      "execution_count": 37,
      "outputs": []
    },
    {
      "cell_type": "code",
      "source": [
        "analise_multivariada_point('Glucose', 'Insulin', 'Glucose', 'Insulin', 'Glucose X Insulin')"
      ],
      "metadata": {
        "colab": {
          "base_uri": "https://localhost:8080/",
          "height": 542
        },
        "id": "o3gkKAJIWxaW",
        "outputId": "946b797d-ebc1-46e5-f7f2-cc2b707e9596"
      },
      "execution_count": 38,
      "outputs": [
        {
          "output_type": "display_data",
          "data": {
            "text/html": [
              "<html>\n",
              "<head><meta charset=\"utf-8\" /></head>\n",
              "<body>\n",
              "    <div>            <script src=\"https://cdnjs.cloudflare.com/ajax/libs/mathjax/2.7.5/MathJax.js?config=TeX-AMS-MML_SVG\"></script><script type=\"text/javascript\">if (window.MathJax) {MathJax.Hub.Config({SVG: {font: \"STIX-Web\"}});}</script>                <script type=\"text/javascript\">window.PlotlyConfig = {MathJaxConfig: 'local'};</script>\n",
              "        <script src=\"https://cdn.plot.ly/plotly-2.8.3.min.js\"></script>                <div id=\"3f67c356-530e-4154-a203-005892a0f95b\" class=\"plotly-graph-div\" style=\"height:525px; width:800px;\"></div>            <script type=\"text/javascript\">                                    window.PLOTLYENV=window.PLOTLYENV || {};                                    if (document.getElementById(\"3f67c356-530e-4154-a203-005892a0f95b\")) {                    Plotly.newPlot(                        \"3f67c356-530e-4154-a203-005892a0f95b\",                        [{\"hovertemplate\":\"Glucose=%{x}<br>Insulin=%{y}<extra></extra>\",\"legendgroup\":\"\",\"marker\":{\"color\":\"#636efa\",\"opacity\":0.5,\"symbol\":\"circle\"},\"mode\":\"markers\",\"name\":\"\",\"orientation\":\"v\",\"showlegend\":false,\"x\":[148,85,183,89,137,116,78,115,197,125,110,168,139,189,166,100,118,107,103,115,126,99,196,119,143,125,147,97,145,117,109,158,88,92,122,103,138,102,90,111,180,133,106,171,159,180,146,71,103,105,103,101,88,176,150,73,187,100,146,105,84,133,44,141,114,99,109,109,95,146,100,139,126,129,79,0,62,95,131,112,113,74,83,101,137,110,106,100,136,107,80,123,81,134,142,144,92,71,93,122,163,151,125,81,85,126,96,144,83,95,171,155,89,76,160,146,124,78,97,99,162,111,107,132,113,88,120,118,117,105,173,122,170,84,96,125,100,93,129,105,128,106,108,108,154,102,57,106,147,90,136,114,156,153,188,152,99,109,88,163,151,102,114,100,131,104,148,120,110,111,102,134,87,79,75,179,85,129,143,130,87,119,0,73,141,194,181,128,109,139,111,123,159,135,85,158,105,107,109,148,113,138,108,99,103,111,196,162,96,184,81,147,179,140,112,151,109,125,85,112,177,158,119,142,100,87,101,162,197,117,142,134,79,122,74,171,181,179,164,104,91,91,139,119,146,184,122,165,124,111,106,129,90,86,92,113,111,114,193,155,191,141,95,142,123,96,138,128,102,146,101,108,122,71,106,100,106,104,114,108,146,129,133,161,108,136,155,119,96,108,78,107,128,128,161,151,146,126,100,112,167,144,77,115,150,120,161,137,128,124,80,106,155,113,109,112,99,182,115,194,129,112,124,152,112,157,122,179,102,105,118,87,180,106,95,165,117,115,152,178,130,95,0,122,95,126,139,116,99,0,92,137,61,90,90,165,125,129,88,196,189,158,103,146,147,99,124,101,81,133,173,118,84,105,122,140,98,87,156,93,107,105,109,90,125,119,116,105,144,100,100,166,131,116,158,127,96,131,82,193,95,137,136,72,168,123,115,101,197,172,102,112,143,143,138,173,97,144,83,129,119,94,102,115,151,184,94,181,135,95,99,89,80,139,90,141,140,147,97,107,189,83,117,108,117,180,100,95,104,120,82,134,91,119,100,175,135,86,148,134,120,71,74,88,115,124,74,97,120,154,144,137,119,136,114,137,105,114,126,132,158,123,85,84,145,135,139,173,99,194,83,89,99,125,80,166,110,81,195,154,117,84,0,94,96,75,180,130,84,120,84,139,91,91,99,163,145,125,76,129,68,124,114,130,125,87,97,116,117,111,122,107,86,91,77,132,105,57,127,129,100,128,90,84,88,186,187,131,164,189,116,84,114,88,84,124,97,110,103,85,125,198,87,99,91,95,99,92,154,121,78,130,111,98,143,119,108,118,133,197,151,109,121,100,124,93,143,103,176,73,111,112,132,82,123,188,67,89,173,109,108,96,124,150,183,124,181,92,152,111,106,174,168,105,138,106,117,68,112,119,112,92,183,94,108,90,125,132,128,94,114,102,111,128,92,104,104,94,97,100,102,128,147,90,103,157,167,179,136,107,91,117,123,120,106,155,101,120,127,80,162,199,167,145,115,112,145,111,98,154,165,99,68,123,91,195,156,93,121,101,56,162,95,125,136,129,130,107,140,144,107,158,121,129,90,142,169,99,127,118,122,125,168,129,110,80,115,127,164,93,158,126,129,134,102,187,173,94,108,97,83,114,149,117,111,112,116,141,175,92,130,120,174,106,105,95,126,65,99,102,120,102,109,140,153,100,147,81,187,162,136,121,108,181,154,128,137,123,106,190,88,170,89,101,122,121,126,93],\"xaxis\":\"x\",\"y\":[0,0,0,94,168,0,88,0,543,0,0,0,0,846,175,0,230,0,83,96,235,0,0,0,146,115,0,140,110,0,0,245,54,0,0,192,0,0,0,207,70,0,0,240,0,0,0,0,0,0,82,36,23,300,342,0,304,110,0,142,0,0,0,128,0,0,0,0,38,100,90,140,0,270,0,0,0,0,0,0,0,0,71,0,0,125,0,71,110,0,0,176,48,0,64,228,0,76,64,220,0,0,0,40,0,152,0,140,18,36,135,495,37,0,175,0,0,0,0,51,100,0,100,0,0,99,135,94,145,0,168,0,225,0,49,140,50,92,0,325,0,0,63,0,284,0,0,119,0,0,204,0,155,485,0,0,94,135,53,114,0,105,285,0,0,156,0,0,0,78,0,130,0,48,55,130,0,130,0,0,0,92,23,0,0,0,495,58,114,160,0,94,0,0,0,210,0,48,99,318,0,0,0,44,190,0,280,0,87,0,0,0,0,130,175,271,129,120,0,0,478,0,0,190,56,32,0,0,744,53,0,370,37,0,45,0,192,0,0,0,0,88,0,176,194,0,0,680,402,0,0,0,55,0,258,0,0,0,375,150,130,0,0,0,0,67,0,0,0,0,0,56,0,45,0,57,0,116,0,278,0,122,155,0,0,135,545,220,49,75,40,74,182,194,0,120,360,215,184,0,0,135,42,0,0,105,132,148,180,205,0,148,96,85,0,94,64,0,140,0,231,0,0,29,0,168,156,0,120,68,0,52,0,0,58,255,0,0,171,0,105,73,0,0,0,108,83,0,74,0,0,0,0,43,0,0,167,0,54,249,325,0,0,0,293,83,0,0,66,140,465,89,66,94,158,325,84,75,0,72,82,0,182,59,110,50,0,0,285,81,196,0,415,87,0,275,115,0,0,0,0,0,88,0,0,165,0,0,0,579,0,176,310,61,167,474,0,0,0,115,170,76,78,0,210,277,0,180,145,180,0,85,60,0,0,0,0,0,0,0,0,50,120,0,0,14,70,92,64,63,95,0,210,0,105,0,0,71,237,60,56,0,49,0,0,105,36,100,0,140,0,0,0,0,0,0,191,110,75,0,328,0,49,125,0,250,480,265,0,0,66,0,0,122,0,0,0,76,145,193,71,0,0,79,0,0,90,170,76,0,0,210,0,0,86,105,165,0,0,326,66,130,0,0,0,0,82,105,188,0,106,0,65,0,56,0,0,0,210,155,215,190,0,56,76,225,207,166,67,0,0,106,0,44,115,215,0,0,0,0,0,274,77,54,0,88,18,126,126,165,0,0,44,120,330,63,130,0,0,0,0,0,0,0,600,0,0,0,156,0,0,140,0,115,230,185,0,25,0,120,0,0,0,126,0,0,293,41,272,182,158,194,321,0,144,0,0,15,0,0,160,0,0,115,0,54,0,0,0,0,0,90,0,183,0,0,0,66,91,46,105,0,0,0,152,440,144,159,130,0,100,106,77,0,135,540,90,200,0,70,0,0,231,130,0,132,0,0,190,100,168,0,49,240,0,0,0,0,0,265,45,0,105,0,0,205,0,0,180,180,0,0,95,125,0,480,125,0,155,0,200,0,0,0,100,0,0,335,0,160,387,22,0,291,0,392,185,0,178,0,0,200,127,105,0,0,180,0,0,0,79,0,120,165,0,0,120,0,160,0,150,94,116,0,140,105,0,57,200,0,0,74,0,510,0,110,0,0,0,0,16,0,0,180,0,112,0,0],\"yaxis\":\"y\",\"type\":\"scatter\"}],                        {\"template\":{\"data\":{\"bar\":[{\"error_x\":{\"color\":\"#2a3f5f\"},\"error_y\":{\"color\":\"#2a3f5f\"},\"marker\":{\"line\":{\"color\":\"#E5ECF6\",\"width\":0.5},\"pattern\":{\"fillmode\":\"overlay\",\"size\":10,\"solidity\":0.2}},\"type\":\"bar\"}],\"barpolar\":[{\"marker\":{\"line\":{\"color\":\"#E5ECF6\",\"width\":0.5},\"pattern\":{\"fillmode\":\"overlay\",\"size\":10,\"solidity\":0.2}},\"type\":\"barpolar\"}],\"carpet\":[{\"aaxis\":{\"endlinecolor\":\"#2a3f5f\",\"gridcolor\":\"white\",\"linecolor\":\"white\",\"minorgridcolor\":\"white\",\"startlinecolor\":\"#2a3f5f\"},\"baxis\":{\"endlinecolor\":\"#2a3f5f\",\"gridcolor\":\"white\",\"linecolor\":\"white\",\"minorgridcolor\":\"white\",\"startlinecolor\":\"#2a3f5f\"},\"type\":\"carpet\"}],\"choropleth\":[{\"colorbar\":{\"outlinewidth\":0,\"ticks\":\"\"},\"type\":\"choropleth\"}],\"contour\":[{\"colorbar\":{\"outlinewidth\":0,\"ticks\":\"\"},\"colorscale\":[[0.0,\"#0d0887\"],[0.1111111111111111,\"#46039f\"],[0.2222222222222222,\"#7201a8\"],[0.3333333333333333,\"#9c179e\"],[0.4444444444444444,\"#bd3786\"],[0.5555555555555556,\"#d8576b\"],[0.6666666666666666,\"#ed7953\"],[0.7777777777777778,\"#fb9f3a\"],[0.8888888888888888,\"#fdca26\"],[1.0,\"#f0f921\"]],\"type\":\"contour\"}],\"contourcarpet\":[{\"colorbar\":{\"outlinewidth\":0,\"ticks\":\"\"},\"type\":\"contourcarpet\"}],\"heatmap\":[{\"colorbar\":{\"outlinewidth\":0,\"ticks\":\"\"},\"colorscale\":[[0.0,\"#0d0887\"],[0.1111111111111111,\"#46039f\"],[0.2222222222222222,\"#7201a8\"],[0.3333333333333333,\"#9c179e\"],[0.4444444444444444,\"#bd3786\"],[0.5555555555555556,\"#d8576b\"],[0.6666666666666666,\"#ed7953\"],[0.7777777777777778,\"#fb9f3a\"],[0.8888888888888888,\"#fdca26\"],[1.0,\"#f0f921\"]],\"type\":\"heatmap\"}],\"heatmapgl\":[{\"colorbar\":{\"outlinewidth\":0,\"ticks\":\"\"},\"colorscale\":[[0.0,\"#0d0887\"],[0.1111111111111111,\"#46039f\"],[0.2222222222222222,\"#7201a8\"],[0.3333333333333333,\"#9c179e\"],[0.4444444444444444,\"#bd3786\"],[0.5555555555555556,\"#d8576b\"],[0.6666666666666666,\"#ed7953\"],[0.7777777777777778,\"#fb9f3a\"],[0.8888888888888888,\"#fdca26\"],[1.0,\"#f0f921\"]],\"type\":\"heatmapgl\"}],\"histogram\":[{\"marker\":{\"pattern\":{\"fillmode\":\"overlay\",\"size\":10,\"solidity\":0.2}},\"type\":\"histogram\"}],\"histogram2d\":[{\"colorbar\":{\"outlinewidth\":0,\"ticks\":\"\"},\"colorscale\":[[0.0,\"#0d0887\"],[0.1111111111111111,\"#46039f\"],[0.2222222222222222,\"#7201a8\"],[0.3333333333333333,\"#9c179e\"],[0.4444444444444444,\"#bd3786\"],[0.5555555555555556,\"#d8576b\"],[0.6666666666666666,\"#ed7953\"],[0.7777777777777778,\"#fb9f3a\"],[0.8888888888888888,\"#fdca26\"],[1.0,\"#f0f921\"]],\"type\":\"histogram2d\"}],\"histogram2dcontour\":[{\"colorbar\":{\"outlinewidth\":0,\"ticks\":\"\"},\"colorscale\":[[0.0,\"#0d0887\"],[0.1111111111111111,\"#46039f\"],[0.2222222222222222,\"#7201a8\"],[0.3333333333333333,\"#9c179e\"],[0.4444444444444444,\"#bd3786\"],[0.5555555555555556,\"#d8576b\"],[0.6666666666666666,\"#ed7953\"],[0.7777777777777778,\"#fb9f3a\"],[0.8888888888888888,\"#fdca26\"],[1.0,\"#f0f921\"]],\"type\":\"histogram2dcontour\"}],\"mesh3d\":[{\"colorbar\":{\"outlinewidth\":0,\"ticks\":\"\"},\"type\":\"mesh3d\"}],\"parcoords\":[{\"line\":{\"colorbar\":{\"outlinewidth\":0,\"ticks\":\"\"}},\"type\":\"parcoords\"}],\"pie\":[{\"automargin\":true,\"type\":\"pie\"}],\"scatter\":[{\"marker\":{\"colorbar\":{\"outlinewidth\":0,\"ticks\":\"\"}},\"type\":\"scatter\"}],\"scatter3d\":[{\"line\":{\"colorbar\":{\"outlinewidth\":0,\"ticks\":\"\"}},\"marker\":{\"colorbar\":{\"outlinewidth\":0,\"ticks\":\"\"}},\"type\":\"scatter3d\"}],\"scattercarpet\":[{\"marker\":{\"colorbar\":{\"outlinewidth\":0,\"ticks\":\"\"}},\"type\":\"scattercarpet\"}],\"scattergeo\":[{\"marker\":{\"colorbar\":{\"outlinewidth\":0,\"ticks\":\"\"}},\"type\":\"scattergeo\"}],\"scattergl\":[{\"marker\":{\"colorbar\":{\"outlinewidth\":0,\"ticks\":\"\"}},\"type\":\"scattergl\"}],\"scattermapbox\":[{\"marker\":{\"colorbar\":{\"outlinewidth\":0,\"ticks\":\"\"}},\"type\":\"scattermapbox\"}],\"scatterpolar\":[{\"marker\":{\"colorbar\":{\"outlinewidth\":0,\"ticks\":\"\"}},\"type\":\"scatterpolar\"}],\"scatterpolargl\":[{\"marker\":{\"colorbar\":{\"outlinewidth\":0,\"ticks\":\"\"}},\"type\":\"scatterpolargl\"}],\"scatterternary\":[{\"marker\":{\"colorbar\":{\"outlinewidth\":0,\"ticks\":\"\"}},\"type\":\"scatterternary\"}],\"surface\":[{\"colorbar\":{\"outlinewidth\":0,\"ticks\":\"\"},\"colorscale\":[[0.0,\"#0d0887\"],[0.1111111111111111,\"#46039f\"],[0.2222222222222222,\"#7201a8\"],[0.3333333333333333,\"#9c179e\"],[0.4444444444444444,\"#bd3786\"],[0.5555555555555556,\"#d8576b\"],[0.6666666666666666,\"#ed7953\"],[0.7777777777777778,\"#fb9f3a\"],[0.8888888888888888,\"#fdca26\"],[1.0,\"#f0f921\"]],\"type\":\"surface\"}],\"table\":[{\"cells\":{\"fill\":{\"color\":\"#EBF0F8\"},\"line\":{\"color\":\"white\"}},\"header\":{\"fill\":{\"color\":\"#C8D4E3\"},\"line\":{\"color\":\"white\"}},\"type\":\"table\"}]},\"layout\":{\"annotationdefaults\":{\"arrowcolor\":\"#2a3f5f\",\"arrowhead\":0,\"arrowwidth\":1},\"autotypenumbers\":\"strict\",\"coloraxis\":{\"colorbar\":{\"outlinewidth\":0,\"ticks\":\"\"}},\"colorscale\":{\"diverging\":[[0,\"#8e0152\"],[0.1,\"#c51b7d\"],[0.2,\"#de77ae\"],[0.3,\"#f1b6da\"],[0.4,\"#fde0ef\"],[0.5,\"#f7f7f7\"],[0.6,\"#e6f5d0\"],[0.7,\"#b8e186\"],[0.8,\"#7fbc41\"],[0.9,\"#4d9221\"],[1,\"#276419\"]],\"sequential\":[[0.0,\"#0d0887\"],[0.1111111111111111,\"#46039f\"],[0.2222222222222222,\"#7201a8\"],[0.3333333333333333,\"#9c179e\"],[0.4444444444444444,\"#bd3786\"],[0.5555555555555556,\"#d8576b\"],[0.6666666666666666,\"#ed7953\"],[0.7777777777777778,\"#fb9f3a\"],[0.8888888888888888,\"#fdca26\"],[1.0,\"#f0f921\"]],\"sequentialminus\":[[0.0,\"#0d0887\"],[0.1111111111111111,\"#46039f\"],[0.2222222222222222,\"#7201a8\"],[0.3333333333333333,\"#9c179e\"],[0.4444444444444444,\"#bd3786\"],[0.5555555555555556,\"#d8576b\"],[0.6666666666666666,\"#ed7953\"],[0.7777777777777778,\"#fb9f3a\"],[0.8888888888888888,\"#fdca26\"],[1.0,\"#f0f921\"]]},\"colorway\":[\"#636efa\",\"#EF553B\",\"#00cc96\",\"#ab63fa\",\"#FFA15A\",\"#19d3f3\",\"#FF6692\",\"#B6E880\",\"#FF97FF\",\"#FECB52\"],\"font\":{\"color\":\"#2a3f5f\"},\"geo\":{\"bgcolor\":\"white\",\"lakecolor\":\"white\",\"landcolor\":\"#E5ECF6\",\"showlakes\":true,\"showland\":true,\"subunitcolor\":\"white\"},\"hoverlabel\":{\"align\":\"left\"},\"hovermode\":\"closest\",\"mapbox\":{\"style\":\"light\"},\"paper_bgcolor\":\"white\",\"plot_bgcolor\":\"#E5ECF6\",\"polar\":{\"angularaxis\":{\"gridcolor\":\"white\",\"linecolor\":\"white\",\"ticks\":\"\"},\"bgcolor\":\"#E5ECF6\",\"radialaxis\":{\"gridcolor\":\"white\",\"linecolor\":\"white\",\"ticks\":\"\"}},\"scene\":{\"xaxis\":{\"backgroundcolor\":\"#E5ECF6\",\"gridcolor\":\"white\",\"gridwidth\":2,\"linecolor\":\"white\",\"showbackground\":true,\"ticks\":\"\",\"zerolinecolor\":\"white\"},\"yaxis\":{\"backgroundcolor\":\"#E5ECF6\",\"gridcolor\":\"white\",\"gridwidth\":2,\"linecolor\":\"white\",\"showbackground\":true,\"ticks\":\"\",\"zerolinecolor\":\"white\"},\"zaxis\":{\"backgroundcolor\":\"#E5ECF6\",\"gridcolor\":\"white\",\"gridwidth\":2,\"linecolor\":\"white\",\"showbackground\":true,\"ticks\":\"\",\"zerolinecolor\":\"white\"}},\"shapedefaults\":{\"line\":{\"color\":\"#2a3f5f\"}},\"ternary\":{\"aaxis\":{\"gridcolor\":\"white\",\"linecolor\":\"white\",\"ticks\":\"\"},\"baxis\":{\"gridcolor\":\"white\",\"linecolor\":\"white\",\"ticks\":\"\"},\"bgcolor\":\"#E5ECF6\",\"caxis\":{\"gridcolor\":\"white\",\"linecolor\":\"white\",\"ticks\":\"\"}},\"title\":{\"x\":0.05},\"xaxis\":{\"automargin\":true,\"gridcolor\":\"white\",\"linecolor\":\"white\",\"ticks\":\"\",\"title\":{\"standoff\":15},\"zerolinecolor\":\"white\",\"zerolinewidth\":2},\"yaxis\":{\"automargin\":true,\"gridcolor\":\"white\",\"linecolor\":\"white\",\"ticks\":\"\",\"title\":{\"standoff\":15},\"zerolinecolor\":\"white\",\"zerolinewidth\":2}}},\"xaxis\":{\"anchor\":\"y\",\"domain\":[0.0,1.0],\"title\":{\"text\":\"Glucose\"}},\"yaxis\":{\"anchor\":\"x\",\"domain\":[0.0,1.0],\"title\":{\"text\":\"Insulin\"}},\"legend\":{\"tracegroupgap\":0},\"margin\":{\"t\":60},\"width\":800,\"title\":{\"text\":\"Glucose X Insulin\"}},                        {\"responsive\": true}                    ).then(function(){\n",
              "                            \n",
              "var gd = document.getElementById('3f67c356-530e-4154-a203-005892a0f95b');\n",
              "var x = new MutationObserver(function (mutations, observer) {{\n",
              "        var display = window.getComputedStyle(gd).display;\n",
              "        if (!display || display === 'none') {{\n",
              "            console.log([gd, 'removed!']);\n",
              "            Plotly.purge(gd);\n",
              "            observer.disconnect();\n",
              "        }}\n",
              "}});\n",
              "\n",
              "// Listen for the removal of the full notebook cells\n",
              "var notebookContainer = gd.closest('#notebook-container');\n",
              "if (notebookContainer) {{\n",
              "    x.observe(notebookContainer, {childList: true});\n",
              "}}\n",
              "\n",
              "// Listen for the clearing of the current output cell\n",
              "var outputEl = gd.closest('.output');\n",
              "if (outputEl) {{\n",
              "    x.observe(outputEl, {childList: true});\n",
              "}}\n",
              "\n",
              "                        })                };                            </script>        </div>\n",
              "</body>\n",
              "</html>"
            ]
          },
          "metadata": {}
        }
      ]
    },
    {
      "cell_type": "markdown",
      "source": [
        "Através do gráico, interativo, é possível visualizar a distribuição de atributos em função de outros atributos presentes no dataset. Observa-se que na relação dos atributos Glicose x Insulina o atributo glicose apresenta valores entre 100 e 200 apresentando uma leve tendência no aumento da insulina em função da glicose."
      ],
      "metadata": {
        "id": "xpYeM8K7RRKP"
      }
    },
    {
      "cell_type": "code",
      "source": [
        "\n",
        "analise_multivariada_point('Glucose', 'Insulin', 'Glucose', 'Insulin', 'Glucose X Insulin', 'categoria_BMI')"
      ],
      "metadata": {
        "colab": {
          "base_uri": "https://localhost:8080/",
          "height": 542
        },
        "outputId": "32d1e312-8c13-43e8-dcf2-1e708fe8d0fb",
        "id": "GRlxPo05z0-g"
      },
      "execution_count": 39,
      "outputs": [
        {
          "output_type": "display_data",
          "data": {
            "text/html": [
              "<html>\n",
              "<head><meta charset=\"utf-8\" /></head>\n",
              "<body>\n",
              "    <div>            <script src=\"https://cdnjs.cloudflare.com/ajax/libs/mathjax/2.7.5/MathJax.js?config=TeX-AMS-MML_SVG\"></script><script type=\"text/javascript\">if (window.MathJax) {MathJax.Hub.Config({SVG: {font: \"STIX-Web\"}});}</script>                <script type=\"text/javascript\">window.PlotlyConfig = {MathJaxConfig: 'local'};</script>\n",
              "        <script src=\"https://cdn.plot.ly/plotly-2.8.3.min.js\"></script>                <div id=\"85b0e514-1ad2-42cf-844d-2a08d5e24dff\" class=\"plotly-graph-div\" style=\"height:525px; width:800px;\"></div>            <script type=\"text/javascript\">                                    window.PLOTLYENV=window.PLOTLYENV || {};                                    if (document.getElementById(\"85b0e514-1ad2-42cf-844d-2a08d5e24dff\")) {                    Plotly.newPlot(                        \"85b0e514-1ad2-42cf-844d-2a08d5e24dff\",                        [{\"hovertemplate\":\"categoria_BMI=obesidade<br>Glucose=%{x}<br>Insulin=%{y}<extra></extra>\",\"legendgroup\":\"obesidade\",\"marker\":{\"color\":\"#636efa\",\"opacity\":0.5,\"symbol\":\"circle\"},\"mode\":\"markers\",\"name\":\"obesidade\",\"orientation\":\"v\",\"showlegend\":true,\"x\":[148,137,78,115,197,110,168,189,100,118,103,115,126,99,196,143,125,147,117,109,158,138,102,90,111,180,133,171,180,103,176,150,187,100,146,105,133,44,114,109,109,100,126,129,79,62,95,131,112,137,110,106,100,136,123,81,144,92,122,163,85,83,95,171,155,89,76,160,146,124,78,162,111,107,113,88,120,118,117,122,170,84,125,100,129,105,106,108,108,154,57,106,147,136,156,153,188,152,163,102,114,131,104,148,110,102,134,79,179,85,129,143,130,119,194,181,128,139,123,159,135,158,109,148,113,138,103,196,162,96,184,147,179,140,112,151,109,125,112,177,158,87,101,162,197,117,142,134,122,171,181,179,164,91,146,184,122,165,124,111,106,86,113,111,155,191,141,95,142,123,96,138,128,101,71,106,100,114,146,129,133,161,155,119,108,78,107,128,128,151,126,100,167,144,77,115,120,128,124,106,109,112,182,115,112,112,122,179,102,105,87,180,165,117,115,152,178,0,122,95,126,0,92,137,61,90,165,125,129,88,196,189,103,146,147,99,133,173,84,105,122,140,87,156,93,107,116,105,144,100,100,166,158,131,193,95,136,72,168,123,172,102,112,143,138,173,144,119,102,115,151,184,181,135,95,89,80,141,140,147,107,189,83,117,108,180,95,104,120,91,100,175,86,148,74,97,120,154,144,137,119,136,105,158,123,84,145,135,139,173,83,89,99,81,84,0,94,96,75,180,84,120,163,145,125,76,68,124,130,125,117,107,86,77,132,127,129,100,128,90,84,88,186,187,131,164,84,88,84,97,103,85,125,198,87,91,99,92,154,121,78,98,143,119,118,197,151,109,100,143,176,111,112,132,123,188,67,173,150,124,181,152,106,174,168,105,138,119,112,183,94,108,90,132,128,102,104,94,97,128,157,179,117,123,106,155,120,127,80,199,167,145,115,112,145,98,154,165,68,123,91,195,93,121,162,95,125,129,144,158,121,129,142,169,99,127,118,122,168,129,80,127,164,93,158,129,187,173,108,97,114,117,111,112,116,141,92,174,95,65,99,102,120,102,140,153,100,147,81,187,136,121,181,154,128,137,123,106,190,170,101,122,126,93],\"xaxis\":\"x\",\"y\":[0,168,88,0,543,0,0,846,0,230,83,96,235,0,0,146,115,0,0,0,245,0,0,0,207,70,0,240,0,0,300,342,304,110,0,142,0,0,0,0,0,90,0,270,0,0,0,0,0,0,125,0,71,110,176,48,228,0,220,0,0,18,36,135,495,37,0,175,0,0,0,100,0,100,0,99,135,94,145,0,225,0,140,50,0,325,0,63,0,284,0,119,0,204,155,485,0,0,114,105,285,0,156,0,0,0,130,48,130,0,130,0,0,92,0,495,58,160,94,0,0,210,99,318,0,0,190,280,0,87,0,0,0,130,175,271,129,120,0,478,0,32,0,0,744,53,0,370,0,0,192,0,0,88,194,0,0,680,402,0,0,0,0,0,150,130,0,0,0,0,67,0,0,0,45,0,57,0,0,122,155,0,545,220,75,40,74,182,194,120,215,184,0,135,42,0,105,180,205,148,0,94,0,140,0,0,156,0,120,68,52,0,255,0,0,171,0,0,0,0,108,0,0,0,0,0,0,167,0,54,249,325,0,0,293,83,140,465,66,94,158,325,75,0,72,82,0,0,285,81,196,0,0,0,0,0,88,0,0,165,579,0,176,310,167,474,0,170,78,0,210,277,180,145,180,85,60,0,0,0,0,0,50,120,0,14,92,64,63,210,105,0,71,237,49,100,0,140,0,0,0,0,191,328,0,125,0,250,480,265,66,0,0,76,0,0,79,0,0,90,76,0,105,165,0,0,66,130,0,0,188,0,65,56,0,210,155,215,190,0,56,76,225,207,166,67,106,44,115,0,0,0,0,274,77,0,18,126,126,165,0,120,330,63,0,0,0,0,0,0,156,0,140,0,230,185,0,0,126,0,293,272,158,194,321,0,144,0,160,0,115,0,54,0,0,90,0,66,91,0,440,159,106,77,135,540,200,0,70,0,231,130,0,132,0,190,100,168,49,240,0,0,0,0,0,105,0,205,180,0,95,125,480,125,0,155,0,200,0,0,0,335,0,160,387,0,392,185,178,0,200,105,0,0,180,0,0,120,0,0,160,0,150,94,0,140,105,0,57,200,0,74,510,0,110,0,0,0,0,0,180,0,0,0],\"yaxis\":\"y\",\"type\":\"scatter\"},{\"hovertemplate\":\"categoria_BMI=sobrepeso<br>Glucose=%{x}<br>Insulin=%{y}<extra></extra>\",\"legendgroup\":\"sobrepeso\",\"marker\":{\"color\":\"#EF553B\",\"opacity\":0.5,\"symbol\":\"circle\"},\"mode\":\"markers\",\"name\":\"sobrepeso\",\"orientation\":\"v\",\"showlegend\":true,\"x\":[85,89,116,139,166,107,119,122,159,146,71,141,99,146,139,83,107,93,151,81,126,144,97,132,105,173,93,90,109,88,151,100,120,111,87,75,0,73,141,109,108,81,85,119,142,79,74,91,139,119,129,92,114,193,102,146,108,106,104,108,108,136,146,161,80,155,113,129,124,152,157,130,95,139,90,158,124,81,98,109,90,127,115,197,143,97,129,94,139,117,100,134,135,134,88,74,114,137,126,132,85,99,194,125,166,110,195,154,117,130,84,91,99,116,122,91,105,189,116,114,124,110,99,95,111,133,121,124,82,89,108,124,183,106,117,112,114,111,128,92,104,102,147,90,103,136,107,91,120,162,111,99,107,125,110,126,134,102,83,149,130,120,106,126,109,108,88,121],\"xaxis\":\"x\",\"y\":[0,94,0,0,175,0,0,0,0,0,0,128,0,100,140,71,0,64,0,40,152,140,0,0,0,168,92,0,135,53,0,0,0,78,0,55,23,0,0,114,0,0,0,0,190,37,45,0,0,176,0,258,0,375,0,0,56,0,116,278,0,135,360,132,0,96,85,231,0,29,168,105,73,83,43,0,0,66,84,182,59,275,0,0,61,0,115,76,0,0,70,0,0,60,0,36,0,0,75,0,49,0,0,122,0,0,145,193,71,170,0,0,86,105,106,0,0,0,0,0,215,0,54,88,44,0,0,600,115,25,0,0,0,0,0,0,0,0,183,0,0,105,0,0,152,130,0,100,0,0,0,0,0,0,100,22,291,0,0,127,79,0,165,120,116,0,16,112],\"yaxis\":\"y\",\"type\":\"scatter\"},{\"hovertemplate\":\"categoria_BMI=normal<br>Glucose=%{x}<br>Insulin=%{y}<extra></extra>\",\"legendgroup\":\"normal\",\"marker\":{\"color\":\"#00cc96\",\"opacity\":0.5,\"symbol\":\"circle\"},\"mode\":\"markers\",\"name\":\"normal\",\"orientation\":\"v\",\"showlegend\":true,\"x\":[183,97,145,88,92,103,106,103,101,88,73,95,0,113,101,80,134,142,71,125,96,99,96,128,114,99,87,111,85,105,107,99,111,100,90,122,96,161,112,150,137,99,194,118,106,95,116,99,101,105,125,119,131,116,96,82,137,101,99,90,82,119,120,71,115,124,114,139,91,129,87,111,57,130,108,93,103,73,109,96,92,111,68,92,125,94,100,167,101,156,101,56,130,140,107,90,94,175,105,162,89],\"xaxis\":\"x\",\"y\":[0,140,110,54,0,192,0,82,36,23,0,38,0,0,0,0,0,64,76,0,0,51,49,0,0,94,0,0,0,0,48,44,0,56,55,0,49,0,0,0,148,64,0,0,0,58,0,74,0,0,110,50,415,87,115,0,0,0,0,0,95,0,56,0,0,105,110,210,0,326,0,0,0,0,130,0,0,0,120,0,41,182,15,0,0,0,46,144,90,0,265,45,0,180,0,0,0,0,0,0,0],\"yaxis\":\"y\",\"type\":\"scatter\"},{\"hovertemplate\":\"categoria_BMI=baixo<br>Glucose=%{x}<br>Insulin=%{y}<extra></extra>\",\"legendgroup\":\"baixo\",\"marker\":{\"color\":\"#ab63fa\",\"opacity\":0.5,\"symbol\":\"circle\"},\"mode\":\"markers\",\"name\":\"baixo\",\"orientation\":\"v\",\"showlegend\":true,\"x\":[125,105,84,74,102,104,118,83,94,97,80,114,97,136,115],\"xaxis\":\"x\",\"y\":[0,0,0,0,0,0,89,0,0,0,0,0,82,0,0],\"yaxis\":\"y\",\"type\":\"scatter\"}],                        {\"template\":{\"data\":{\"bar\":[{\"error_x\":{\"color\":\"#2a3f5f\"},\"error_y\":{\"color\":\"#2a3f5f\"},\"marker\":{\"line\":{\"color\":\"#E5ECF6\",\"width\":0.5},\"pattern\":{\"fillmode\":\"overlay\",\"size\":10,\"solidity\":0.2}},\"type\":\"bar\"}],\"barpolar\":[{\"marker\":{\"line\":{\"color\":\"#E5ECF6\",\"width\":0.5},\"pattern\":{\"fillmode\":\"overlay\",\"size\":10,\"solidity\":0.2}},\"type\":\"barpolar\"}],\"carpet\":[{\"aaxis\":{\"endlinecolor\":\"#2a3f5f\",\"gridcolor\":\"white\",\"linecolor\":\"white\",\"minorgridcolor\":\"white\",\"startlinecolor\":\"#2a3f5f\"},\"baxis\":{\"endlinecolor\":\"#2a3f5f\",\"gridcolor\":\"white\",\"linecolor\":\"white\",\"minorgridcolor\":\"white\",\"startlinecolor\":\"#2a3f5f\"},\"type\":\"carpet\"}],\"choropleth\":[{\"colorbar\":{\"outlinewidth\":0,\"ticks\":\"\"},\"type\":\"choropleth\"}],\"contour\":[{\"colorbar\":{\"outlinewidth\":0,\"ticks\":\"\"},\"colorscale\":[[0.0,\"#0d0887\"],[0.1111111111111111,\"#46039f\"],[0.2222222222222222,\"#7201a8\"],[0.3333333333333333,\"#9c179e\"],[0.4444444444444444,\"#bd3786\"],[0.5555555555555556,\"#d8576b\"],[0.6666666666666666,\"#ed7953\"],[0.7777777777777778,\"#fb9f3a\"],[0.8888888888888888,\"#fdca26\"],[1.0,\"#f0f921\"]],\"type\":\"contour\"}],\"contourcarpet\":[{\"colorbar\":{\"outlinewidth\":0,\"ticks\":\"\"},\"type\":\"contourcarpet\"}],\"heatmap\":[{\"colorbar\":{\"outlinewidth\":0,\"ticks\":\"\"},\"colorscale\":[[0.0,\"#0d0887\"],[0.1111111111111111,\"#46039f\"],[0.2222222222222222,\"#7201a8\"],[0.3333333333333333,\"#9c179e\"],[0.4444444444444444,\"#bd3786\"],[0.5555555555555556,\"#d8576b\"],[0.6666666666666666,\"#ed7953\"],[0.7777777777777778,\"#fb9f3a\"],[0.8888888888888888,\"#fdca26\"],[1.0,\"#f0f921\"]],\"type\":\"heatmap\"}],\"heatmapgl\":[{\"colorbar\":{\"outlinewidth\":0,\"ticks\":\"\"},\"colorscale\":[[0.0,\"#0d0887\"],[0.1111111111111111,\"#46039f\"],[0.2222222222222222,\"#7201a8\"],[0.3333333333333333,\"#9c179e\"],[0.4444444444444444,\"#bd3786\"],[0.5555555555555556,\"#d8576b\"],[0.6666666666666666,\"#ed7953\"],[0.7777777777777778,\"#fb9f3a\"],[0.8888888888888888,\"#fdca26\"],[1.0,\"#f0f921\"]],\"type\":\"heatmapgl\"}],\"histogram\":[{\"marker\":{\"pattern\":{\"fillmode\":\"overlay\",\"size\":10,\"solidity\":0.2}},\"type\":\"histogram\"}],\"histogram2d\":[{\"colorbar\":{\"outlinewidth\":0,\"ticks\":\"\"},\"colorscale\":[[0.0,\"#0d0887\"],[0.1111111111111111,\"#46039f\"],[0.2222222222222222,\"#7201a8\"],[0.3333333333333333,\"#9c179e\"],[0.4444444444444444,\"#bd3786\"],[0.5555555555555556,\"#d8576b\"],[0.6666666666666666,\"#ed7953\"],[0.7777777777777778,\"#fb9f3a\"],[0.8888888888888888,\"#fdca26\"],[1.0,\"#f0f921\"]],\"type\":\"histogram2d\"}],\"histogram2dcontour\":[{\"colorbar\":{\"outlinewidth\":0,\"ticks\":\"\"},\"colorscale\":[[0.0,\"#0d0887\"],[0.1111111111111111,\"#46039f\"],[0.2222222222222222,\"#7201a8\"],[0.3333333333333333,\"#9c179e\"],[0.4444444444444444,\"#bd3786\"],[0.5555555555555556,\"#d8576b\"],[0.6666666666666666,\"#ed7953\"],[0.7777777777777778,\"#fb9f3a\"],[0.8888888888888888,\"#fdca26\"],[1.0,\"#f0f921\"]],\"type\":\"histogram2dcontour\"}],\"mesh3d\":[{\"colorbar\":{\"outlinewidth\":0,\"ticks\":\"\"},\"type\":\"mesh3d\"}],\"parcoords\":[{\"line\":{\"colorbar\":{\"outlinewidth\":0,\"ticks\":\"\"}},\"type\":\"parcoords\"}],\"pie\":[{\"automargin\":true,\"type\":\"pie\"}],\"scatter\":[{\"marker\":{\"colorbar\":{\"outlinewidth\":0,\"ticks\":\"\"}},\"type\":\"scatter\"}],\"scatter3d\":[{\"line\":{\"colorbar\":{\"outlinewidth\":0,\"ticks\":\"\"}},\"marker\":{\"colorbar\":{\"outlinewidth\":0,\"ticks\":\"\"}},\"type\":\"scatter3d\"}],\"scattercarpet\":[{\"marker\":{\"colorbar\":{\"outlinewidth\":0,\"ticks\":\"\"}},\"type\":\"scattercarpet\"}],\"scattergeo\":[{\"marker\":{\"colorbar\":{\"outlinewidth\":0,\"ticks\":\"\"}},\"type\":\"scattergeo\"}],\"scattergl\":[{\"marker\":{\"colorbar\":{\"outlinewidth\":0,\"ticks\":\"\"}},\"type\":\"scattergl\"}],\"scattermapbox\":[{\"marker\":{\"colorbar\":{\"outlinewidth\":0,\"ticks\":\"\"}},\"type\":\"scattermapbox\"}],\"scatterpolar\":[{\"marker\":{\"colorbar\":{\"outlinewidth\":0,\"ticks\":\"\"}},\"type\":\"scatterpolar\"}],\"scatterpolargl\":[{\"marker\":{\"colorbar\":{\"outlinewidth\":0,\"ticks\":\"\"}},\"type\":\"scatterpolargl\"}],\"scatterternary\":[{\"marker\":{\"colorbar\":{\"outlinewidth\":0,\"ticks\":\"\"}},\"type\":\"scatterternary\"}],\"surface\":[{\"colorbar\":{\"outlinewidth\":0,\"ticks\":\"\"},\"colorscale\":[[0.0,\"#0d0887\"],[0.1111111111111111,\"#46039f\"],[0.2222222222222222,\"#7201a8\"],[0.3333333333333333,\"#9c179e\"],[0.4444444444444444,\"#bd3786\"],[0.5555555555555556,\"#d8576b\"],[0.6666666666666666,\"#ed7953\"],[0.7777777777777778,\"#fb9f3a\"],[0.8888888888888888,\"#fdca26\"],[1.0,\"#f0f921\"]],\"type\":\"surface\"}],\"table\":[{\"cells\":{\"fill\":{\"color\":\"#EBF0F8\"},\"line\":{\"color\":\"white\"}},\"header\":{\"fill\":{\"color\":\"#C8D4E3\"},\"line\":{\"color\":\"white\"}},\"type\":\"table\"}]},\"layout\":{\"annotationdefaults\":{\"arrowcolor\":\"#2a3f5f\",\"arrowhead\":0,\"arrowwidth\":1},\"autotypenumbers\":\"strict\",\"coloraxis\":{\"colorbar\":{\"outlinewidth\":0,\"ticks\":\"\"}},\"colorscale\":{\"diverging\":[[0,\"#8e0152\"],[0.1,\"#c51b7d\"],[0.2,\"#de77ae\"],[0.3,\"#f1b6da\"],[0.4,\"#fde0ef\"],[0.5,\"#f7f7f7\"],[0.6,\"#e6f5d0\"],[0.7,\"#b8e186\"],[0.8,\"#7fbc41\"],[0.9,\"#4d9221\"],[1,\"#276419\"]],\"sequential\":[[0.0,\"#0d0887\"],[0.1111111111111111,\"#46039f\"],[0.2222222222222222,\"#7201a8\"],[0.3333333333333333,\"#9c179e\"],[0.4444444444444444,\"#bd3786\"],[0.5555555555555556,\"#d8576b\"],[0.6666666666666666,\"#ed7953\"],[0.7777777777777778,\"#fb9f3a\"],[0.8888888888888888,\"#fdca26\"],[1.0,\"#f0f921\"]],\"sequentialminus\":[[0.0,\"#0d0887\"],[0.1111111111111111,\"#46039f\"],[0.2222222222222222,\"#7201a8\"],[0.3333333333333333,\"#9c179e\"],[0.4444444444444444,\"#bd3786\"],[0.5555555555555556,\"#d8576b\"],[0.6666666666666666,\"#ed7953\"],[0.7777777777777778,\"#fb9f3a\"],[0.8888888888888888,\"#fdca26\"],[1.0,\"#f0f921\"]]},\"colorway\":[\"#636efa\",\"#EF553B\",\"#00cc96\",\"#ab63fa\",\"#FFA15A\",\"#19d3f3\",\"#FF6692\",\"#B6E880\",\"#FF97FF\",\"#FECB52\"],\"font\":{\"color\":\"#2a3f5f\"},\"geo\":{\"bgcolor\":\"white\",\"lakecolor\":\"white\",\"landcolor\":\"#E5ECF6\",\"showlakes\":true,\"showland\":true,\"subunitcolor\":\"white\"},\"hoverlabel\":{\"align\":\"left\"},\"hovermode\":\"closest\",\"mapbox\":{\"style\":\"light\"},\"paper_bgcolor\":\"white\",\"plot_bgcolor\":\"#E5ECF6\",\"polar\":{\"angularaxis\":{\"gridcolor\":\"white\",\"linecolor\":\"white\",\"ticks\":\"\"},\"bgcolor\":\"#E5ECF6\",\"radialaxis\":{\"gridcolor\":\"white\",\"linecolor\":\"white\",\"ticks\":\"\"}},\"scene\":{\"xaxis\":{\"backgroundcolor\":\"#E5ECF6\",\"gridcolor\":\"white\",\"gridwidth\":2,\"linecolor\":\"white\",\"showbackground\":true,\"ticks\":\"\",\"zerolinecolor\":\"white\"},\"yaxis\":{\"backgroundcolor\":\"#E5ECF6\",\"gridcolor\":\"white\",\"gridwidth\":2,\"linecolor\":\"white\",\"showbackground\":true,\"ticks\":\"\",\"zerolinecolor\":\"white\"},\"zaxis\":{\"backgroundcolor\":\"#E5ECF6\",\"gridcolor\":\"white\",\"gridwidth\":2,\"linecolor\":\"white\",\"showbackground\":true,\"ticks\":\"\",\"zerolinecolor\":\"white\"}},\"shapedefaults\":{\"line\":{\"color\":\"#2a3f5f\"}},\"ternary\":{\"aaxis\":{\"gridcolor\":\"white\",\"linecolor\":\"white\",\"ticks\":\"\"},\"baxis\":{\"gridcolor\":\"white\",\"linecolor\":\"white\",\"ticks\":\"\"},\"bgcolor\":\"#E5ECF6\",\"caxis\":{\"gridcolor\":\"white\",\"linecolor\":\"white\",\"ticks\":\"\"}},\"title\":{\"x\":0.05},\"xaxis\":{\"automargin\":true,\"gridcolor\":\"white\",\"linecolor\":\"white\",\"ticks\":\"\",\"title\":{\"standoff\":15},\"zerolinecolor\":\"white\",\"zerolinewidth\":2},\"yaxis\":{\"automargin\":true,\"gridcolor\":\"white\",\"linecolor\":\"white\",\"ticks\":\"\",\"title\":{\"standoff\":15},\"zerolinecolor\":\"white\",\"zerolinewidth\":2}}},\"xaxis\":{\"anchor\":\"y\",\"domain\":[0.0,1.0],\"title\":{\"text\":\"Glucose\"}},\"yaxis\":{\"anchor\":\"x\",\"domain\":[0.0,1.0],\"title\":{\"text\":\"Insulin\"}},\"legend\":{\"title\":{\"text\":\"categoria_BMI\"},\"tracegroupgap\":0},\"margin\":{\"t\":60},\"width\":800,\"title\":{\"text\":\"Glucose X Insulin\"}},                        {\"responsive\": true}                    ).then(function(){\n",
              "                            \n",
              "var gd = document.getElementById('85b0e514-1ad2-42cf-844d-2a08d5e24dff');\n",
              "var x = new MutationObserver(function (mutations, observer) {{\n",
              "        var display = window.getComputedStyle(gd).display;\n",
              "        if (!display || display === 'none') {{\n",
              "            console.log([gd, 'removed!']);\n",
              "            Plotly.purge(gd);\n",
              "            observer.disconnect();\n",
              "        }}\n",
              "}});\n",
              "\n",
              "// Listen for the removal of the full notebook cells\n",
              "var notebookContainer = gd.closest('#notebook-container');\n",
              "if (notebookContainer) {{\n",
              "    x.observe(notebookContainer, {childList: true});\n",
              "}}\n",
              "\n",
              "// Listen for the clearing of the current output cell\n",
              "var outputEl = gd.closest('.output');\n",
              "if (outputEl) {{\n",
              "    x.observe(outputEl, {childList: true});\n",
              "}}\n",
              "\n",
              "                        })                };                            </script>        </div>\n",
              "</body>\n",
              "</html>"
            ]
          },
          "metadata": {}
        }
      ]
    },
    {
      "cell_type": "markdown",
      "source": [
        "Observa-se que no gráfico, interativo, foi apresentado ao mesmo um categorizador do BMI, este categorizador permite visualizar o registros em função das categorias existentes que são (Obesidade, sobrepeso, normal, baixo) que reflete o  Índice de massa corporal - IMC. Pessoas com um IMC baixo ou normal apresentam índice de Glicose e Insulina entre 50 e 150. Valores que compreende a obesidade ultrapassam o 150 permitindo inferir que possa ser um possível caminho para a idetificação das ocorrências de diabetes. "
      ],
      "metadata": {
        "id": "bNWKJ_oXSFPe"
      }
    },
    {
      "cell_type": "markdown",
      "source": [
        "# Pré-processamento"
      ],
      "metadata": {
        "id": "ACFmFcDWdVba"
      }
    },
    {
      "cell_type": "code",
      "source": [
        "def pre_processar_get_data(df:pd.core.frame.DataFrame):\n",
        "  #remoção de atributos do dataset\n",
        "  _df = df.copy()\n",
        "  _df.drop(columns=['Outcome'], inplace = True)\n",
        "  return _df.to_numpy()"
      ],
      "metadata": {
        "id": "mgR8E_YFY0Yh"
      },
      "execution_count": 40,
      "outputs": []
    },
    {
      "cell_type": "code",
      "source": [
        "def pre_processar_get_target(df:pd.core.frame.DataFrame):\n",
        "  #remoção de atributos do dataset\n",
        "  _df = df.copy()\n",
        "  _df = df['Outcome']\n",
        "  return _df.to_numpy()"
      ],
      "metadata": {
        "id": "ogbAinlPY2UQ"
      },
      "execution_count": 41,
      "outputs": []
    },
    {
      "cell_type": "code",
      "source": [
        "def tratamentoValoresBloodPressure(df:pd.core.frame.DataFrame):\n",
        "  #declaração de variaveis\n",
        "  _mediana = 72.0 #valor da média calculado sobre o conjunto de dados de teste\n",
        "  _df = df.copy()\n",
        "  _df['BloodPressure'][df['BloodPressure']== 0] = _mediana\n",
        "  return _df"
      ],
      "metadata": {
        "id": "MNjvk91ZFG-I"
      },
      "execution_count": 42,
      "outputs": []
    },
    {
      "cell_type": "code",
      "source": [
        "def tratamentoValoresGlucose(df:pd.core.frame.DataFrame):\n",
        "  #declaração de variaveis\n",
        "  _mediana = 117.0 #valor da média calculado sobre o conjunto de dados de teste\n",
        "  _df = df.copy()\n",
        "  _df['Glucose'][df['Glucose']==0] = _mediana\n",
        "  return _df"
      ],
      "metadata": {
        "id": "bdnZkCYV4C7Y"
      },
      "execution_count": 43,
      "outputs": []
    },
    {
      "cell_type": "code",
      "source": [
        "def tratamentoValoresBMI(df:pd.core.frame.DataFrame):\n",
        "  #declaração de variaveis\n",
        "  _mediana = 32.0 #valor da média calculado sobre o conjunto de dados de teste\n",
        "  _df = df.copy()\n",
        "  _df['BMI'][df['BMI'] == 0] = _mediana\n",
        "  return _df"
      ],
      "metadata": {
        "id": "K-TW_t1XC9FL"
      },
      "execution_count": 44,
      "outputs": []
    },
    {
      "cell_type": "code",
      "source": [
        "def pre_processar(df:pd.core.frame.DataFrame):\n",
        "  #declaração de variaveis\n",
        "  _df = df.copy()\n",
        "  _df = tratamentoValoresGlucose(_df)\n",
        "  _df = tratamentoValoresBloodPressure(_df)\n",
        "  _df = tratamentoValoresBMI(_df)\n",
        "  _df = pd.get_dummies(_df,['categoria_Glucose','categoria_BloodPressure','categoria_BMI','categoria_insulin'], drop_first = True)\n",
        "\n",
        "  return _df"
      ],
      "metadata": {
        "id": "CKGZjTilYDKN"
      },
      "execution_count": 45,
      "outputs": []
    },
    {
      "cell_type": "markdown",
      "source": [
        "# Mineração \n",
        "Aplicação dos algoritmos de classificação "
      ],
      "metadata": {
        "id": "sImt9YOzeN3Y"
      }
    },
    {
      "cell_type": "code",
      "source": [
        "df_treino_preocessado = pre_processar(df)"
      ],
      "metadata": {
        "id": "XrFM_pIPp_BE"
      },
      "execution_count": 46,
      "outputs": []
    },
    {
      "cell_type": "code",
      "source": [
        "fig = plt.figure()\n",
        "fig.set_size_inches(12, 10)\n",
        "sns.heatmap(round(df_treino_preocessado.corr(),2), annot = True, vmin=-1, vmax=1, center= 0, cmap= 'coolwarm')"
      ],
      "metadata": {
        "colab": {
          "base_uri": "https://localhost:8080/",
          "height": 836
        },
        "id": "jSBlKk6lp50-",
        "outputId": "5408b338-b648-40f3-be6b-39b8dad3491f"
      },
      "execution_count": 47,
      "outputs": [
        {
          "output_type": "execute_result",
          "data": {
            "text/plain": [
              "<AxesSubplot:>"
            ]
          },
          "metadata": {},
          "execution_count": 47
        },
        {
          "output_type": "display_data",
          "data": {
            "text/plain": [
              "<Figure size 864x720 with 2 Axes>"
            ],
            "image/png": "[encoded data removed]"
          },
          "metadata": {
            "needs_background": "light"
          }
        }
      ]
    },
    {
      "cell_type": "markdown",
      "source": [
        "Através do gráfico a cima é possível observar a criação dos novos atributos, do tipo númerico, sobre os categorizadores criados na seção engenharia de dados. Observa-se uma correlação natural destes atributos com os seus predecessores. Este gráfico é plotado a partir da função \"corr\" que é usada para encontrar a correlação de pares de todas as colunas no dataframe  "
      ],
      "metadata": {
        "id": "a0m4E-HTTXJD"
      }
    },
    {
      "cell_type": "markdown",
      "source": [
        "## Preparação dos dados"
      ],
      "metadata": {
        "id": "YCdJdMN2ZWVD"
      }
    },
    {
      "cell_type": "code",
      "source": [
        "#dados de teste \n",
        "\n",
        "\n",
        "x_treino, x_teste, y_treino, y_teste = train_test_split(pre_processar_get_data(df_treino_preocessado), \n",
        "                                                             pre_processar_get_target(df_treino_preocessado),test_size = 0.30, random_state = 101)"
      ],
      "metadata": {
        "id": "GtZ5lII7YUhg"
      },
      "execution_count": 48,
      "outputs": []
    },
    {
      "cell_type": "markdown",
      "source": [
        "Neste momento, realizamos a preparação dos dados em treino e teste. Optamos pela seguinte divisão 30% em treino e 70% para teste."
      ],
      "metadata": {
        "id": "V2vXsq9dFLdR"
      }
    },
    {
      "cell_type": "markdown",
      "source": [
        "## KNN"
      ],
      "metadata": {
        "id": "e2C8oQ8seUb-"
      }
    },
    {
      "cell_type": "code",
      "source": [
        "neigh = KNeighborsClassifier(n_neighbors=10)\n",
        "neigh.fit(x_treino, y_treino)\n",
        "predictions = neigh.predict(x_teste)\n",
        "\n",
        "\n",
        "accuracy = accuracy_score(y_teste, predictions)\n",
        "print(\"Acurácia:\", accuracy)\n",
        "precision = precision_score(y_teste, predictions)\n",
        "print(\"Precisão:\", precision)\n",
        "recall = recall_score(y_teste, predictions)\n",
        "print(\"Recall:\", recall)\n",
        "\n",
        "print(classification_report(y_teste, predictions))"
      ],
      "metadata": {
        "id": "vsJZt7r7ekVW",
        "colab": {
          "base_uri": "https://localhost:8080/"
        },
        "outputId": "36a4bd51-3cd8-4d91-d726-62809a49689a"
      },
      "execution_count": 49,
      "outputs": [
        {
          "output_type": "stream",
          "name": "stdout",
          "text": [
            "Acurácia: 0.7272727272727273\n",
            "Precisão: 0.6451612903225806\n",
            "Recall: 0.49382716049382713\n",
            "              precision    recall  f1-score   support\n",
            "\n",
            "           0       0.76      0.85      0.80       150\n",
            "           1       0.65      0.49      0.56        81\n",
            "\n",
            "    accuracy                           0.73       231\n",
            "   macro avg       0.70      0.67      0.68       231\n",
            "weighted avg       0.72      0.73      0.72       231\n",
            "\n"
          ]
        }
      ]
    },
    {
      "cell_type": "markdown",
      "source": [
        "Observa-se uma precisão de 76% no modelo, vale destacar que a precisão trata-se de identificar um determinado resultado de maneira precisa. Mas vale destacar que buscamos para esse modelo o melhor resultado em recall, devido a sua natureza, já que a recall é utilizada para indicar a relação entre as previsões positivas realizadas corretamente e todas as previsões que realmente são positivas "
      ],
      "metadata": {
        "id": "E9gZ_9YBE4Bx"
      }
    },
    {
      "cell_type": "markdown",
      "source": [
        "Aplicação do GridSearch para tuning de parâmetros do modelo - KNN"
      ],
      "metadata": {
        "id": "sFa_SGtsLycG"
      }
    },
    {
      "cell_type": "code",
      "source": [
        "#Os parâmetros numéricos foram escolhidos e variados de acordo com o resultado de acurácia. Por sua vez, para os não numéricos\n",
        "#foram utilizadas as opções possíveis para obter-se a melhor combinação.\n",
        "parameters_KNN = {'n_neighbors': range(1,30,1),\n",
        "              'weights':['uniform','distance'],\n",
        "              'metric':['euclidean','manhattan','minkowski'],\n",
        "              'leaf_size': range(1,20,1)\n",
        "              }"
      ],
      "metadata": {
        "id": "nnezrwNqLzAe"
      },
      "execution_count": 50,
      "outputs": []
    },
    {
      "cell_type": "code",
      "source": [
        "grid_search=GridSearchCV(estimator=KNeighborsClassifier(),param_grid=parameters_KNN)\n",
        "grid_search.fit(x_treino, y_treino)\n",
        "parameters_improved=grid_search.best_params_\n",
        "best_result= grid_search.best_score_\n",
        "print(parameters_improved)\n",
        "print(best_result)"
      ],
      "metadata": {
        "id": "iREy455mL4s0"
      },
      "execution_count": null,
      "outputs": []
    },
    {
      "cell_type": "code",
      "source": [
        "neigh = KNeighborsClassifier(metric = 'euclidean',\n",
        "                             leaf_size = 1,\n",
        "                             weights = 'distance',\n",
        "                             n_neighbors=10)\n",
        "neigh.fit(x_treino, y_treino)\n",
        "predictions = neigh.predict(x_teste)\n",
        "\n",
        "\n",
        "accuracy = accuracy_score(y_teste, predictions)\n",
        "print(\"Acurácia:\", accuracy)\n",
        "precision = precision_score(y_teste, predictions)\n",
        "print(\"Precisão:\", precision)\n",
        "recall = recall_score(y_teste, predictions)\n",
        "print(\"Recall:\", recall)\n",
        "\n",
        "print(classification_report(y_teste, predictions))"
      ],
      "metadata": {
        "id": "Duw0VShWFWua"
      },
      "execution_count": null,
      "outputs": []
    },
    {
      "cell_type": "markdown",
      "source": [
        "Embora o GridSearchCV tenha nos indicado a melhor parametrização ao algorimto identificamos que não houve uma efetiva melhora a partir desta parametrização nas métricas de Precisão, Recall e f1-score"
      ],
      "metadata": {
        "id": "3rnZtrcoFu85"
      }
    },
    {
      "cell_type": "markdown",
      "source": [
        "##SVM"
      ],
      "metadata": {
        "id": "z1KpWNXHeWbp"
      }
    },
    {
      "cell_type": "code",
      "source": [
        "# Create SVM classification object \n",
        "model = svm.SVC(kernel='linear', gamma=1)\n",
        "model.fit(x_treino, y_treino)\n",
        "model.score(x_treino, y_treino)\n",
        "#Predict Output\n",
        "predicted= model.predict(x_teste)\n",
        "\n",
        "accuracy = accuracy_score(y_teste, predicted)\n",
        "print(\"Acurácia:\", accuracy)\n",
        "precision = precision_score(y_teste, predicted)\n",
        "print(\"Precisão:\", precision)\n",
        "recall = recall_score(y_teste, predicted)\n",
        "print(\"Recall:\", recall)\n",
        "\n",
        "print(classification_report(y_teste, predicted))"
      ],
      "metadata": {
        "id": "h_UgdyR-ekvw"
      },
      "execution_count": null,
      "outputs": []
    },
    {
      "cell_type": "markdown",
      "source": [
        "Aplicação do GridSearch para tuning de parâmetros do modelo - SVM"
      ],
      "metadata": {
        "id": "EmqDfHcKMeK0"
      }
    },
    {
      "cell_type": "code",
      "source": [
        "#Criando dois laços for para cobrir ranges de parâmetros para tuning do modelo.\n",
        "#gamma_SVM=[int (x) for x in np.linspace(start=0.001, stop=1)]\n",
        "#C_SVM=[int (x) for x in np.linspace(start=1, stop=2)]\n",
        "gamma_SVM = [1, 0.1, 0.01, 0.001, 0.0001]\n",
        "C_SVM = [0.1, 1, 10, 100]\n",
        "parameters_SVM = {'gamma': gamma_SVM,\n",
        "              'C': C_SVM,\n",
        "              'gamma':['scale', 'auto'],\n",
        "              'kernel':['linear']}"
      ],
      "metadata": {
        "id": "YCSiW7N1MfiZ"
      },
      "execution_count": null,
      "outputs": []
    },
    {
      "cell_type": "code",
      "source": [
        "#grid_search=GridSearchCV(estimator=svm.SVC(),param_grid=parameters_SVM)\n",
        "#grid_search = GridSearchCV(estimator=svm.SVC(), param_grid=parameters_SVM, refit = True, verbose = 3,n_jobs=-1)\n",
        "#grid_search.fit(x_treino, y_treino)\n",
        "#parameters_improved=grid_search.best_params_\n",
        "#best_result= grid_search.best_score_\n",
        "#print(parameters_improved)\n",
        "#print(best_result)"
      ],
      "metadata": {
        "id": "OawFs5DOMjz3"
      },
      "execution_count": null,
      "outputs": []
    },
    {
      "cell_type": "markdown",
      "source": [
        "* Não conseguimos realizar o GridSearch para o algoritmo SVM. A operação durou mais de 29min situação em que foi interrompida"
      ],
      "metadata": {
        "id": "MaPWHbeMOrJD"
      }
    },
    {
      "cell_type": "markdown",
      "source": [
        "## RandomForest"
      ],
      "metadata": {
        "id": "o7iRnGoveZxS"
      }
    },
    {
      "cell_type": "code",
      "source": [
        "model = RandomForestClassifier(n_estimators = 9)\n",
        "model_fit = model.fit(x_treino, y_treino)\n",
        "predicted = model_fit.predict(x_teste)\n",
        "\n",
        "print(classification_report(y_teste, predicted))"
      ],
      "metadata": {
        "id": "3hV4utpEelR4"
      },
      "execution_count": null,
      "outputs": []
    },
    {
      "cell_type": "markdown",
      "source": [
        "Aplicação do GridSearch para tuning de parâmetros do modelo - RandomForest"
      ],
      "metadata": {
        "id": "zvSIalopTLUP"
      }
    },
    {
      "cell_type": "code",
      "source": [
        "#Criando um for para cobrir um range de estimadores para parâmetro do tuning. Foi possível observar que a medida em que o parâmetro 'start'\n",
        "#aumenta, obtem-se também um melhor resultado de acurácia. Os valores foram escolhidos e variados com o objetivo de\n",
        "#obtenção do melhor resultado de acurácia.\n",
        "n_estimators_GS=[int (x) for x in np.linspace(start=13, stop=25,num=1)]\n",
        "parameters_RF = {'n_estimators': n_estimators_GS}"
      ],
      "metadata": {
        "id": "GTfOyWEZPAod"
      },
      "execution_count": null,
      "outputs": []
    },
    {
      "cell_type": "code",
      "source": [
        "grid_search=GridSearchCV(estimator=RandomForestClassifier(),param_grid=parameters_RF)\n",
        "grid_search.fit(x_treino, y_treino)\n",
        "parameters_improved=grid_search.best_params_\n",
        "best_result= grid_search.best_score_\n",
        "print(parameters_improved)\n",
        "print(best_result)"
      ],
      "metadata": {
        "id": "Q0PS1mECPCBd"
      },
      "execution_count": null,
      "outputs": []
    },
    {
      "cell_type": "markdown",
      "source": [
        "## Decision Tree"
      ],
      "metadata": {
        "id": "Z2g-u1cVegoq"
      }
    },
    {
      "cell_type": "code",
      "source": [
        "tree = DecisionTreeClassifier(criterion='gini',\n",
        "min_samples_leaf=5,\n",
        "min_samples_split=5,\n",
        "max_depth=None,\n",
        "random_state=10)\n",
        "tree.fit(x_treino, y_treino)\n",
        "predicted = tree.predict(x_teste)\n",
        "accuracy = accuracy_score(y_teste, predicted)\n",
        "print('DecisionTreeClassifier accuracy score: {}'.format(accuracy))\n",
        "print(classification_report(y_teste, predicted))"
      ],
      "metadata": {
        "id": "cayfGfSHeltw"
      },
      "execution_count": null,
      "outputs": []
    },
    {
      "cell_type": "markdown",
      "source": [
        "Aplicação do GridSearch para tuning de parâmetros do modelo - Decision Tree"
      ],
      "metadata": {
        "id": "UcuM_MlgTOW3"
      }
    },
    {
      "cell_type": "code",
      "source": [
        "#Os parâmetros numéricos foram escolhidos e variados de acordo com o resultado de acurácia. Por sua vez, para os não numéricos\n",
        "#foram utilizadas as opções possíveis para obter-se a melhor combinação.\n",
        "parameters_DT = {'criterion': ['gini','entropy'],\n",
        "              'splitter':['best','random'],\n",
        "              'min_samples_split':[2,5,10],\n",
        "              'min_samples_leaf':[5,10]}"
      ],
      "metadata": {
        "id": "dVU_CX5NPG-2"
      },
      "execution_count": null,
      "outputs": []
    },
    {
      "cell_type": "code",
      "source": [
        "grid_search=GridSearchCV(estimator=DecisionTreeClassifier(),param_grid=parameters_DT)\n",
        "grid_search.fit(x_treino, y_treino)\n",
        "parameters_improved=grid_search.best_params_\n",
        "best_result= grid_search.best_score_\n",
        "print(parameters_improved)\n",
        "print(best_result)"
      ],
      "metadata": {
        "id": "5-QG6btBPK7H"
      },
      "execution_count": null,
      "outputs": []
    },
    {
      "cell_type": "markdown",
      "source": [
        "Utilizamos o GridSearchCV para identificar a melhor parametrização possível, aplicável, ao algoritmo árvore de decisão e sendo indicado a seguinte configuração 'criterion': 'entropy', 'min_samples_leaf': 10, 'min_samples_split': 2, 'splitter': 'random'  "
      ],
      "metadata": {
        "id": "syb5X2CdDeIi"
      }
    },
    {
      "cell_type": "code",
      "source": [
        "tree = DecisionTreeClassifier(criterion='entropy',\n",
        "min_samples_leaf=10,\n",
        "min_samples_split=2,\n",
        "max_depth=None,\n",
        "splitter = 'random')\n",
        "tree.fit(x_treino, y_treino)\n",
        "predicted = tree.predict(x_teste)\n",
        "accuracy = accuracy_score(y_teste, predicted)\n",
        "print('DecisionTreeClassifier accuracy score: {}'.format(accuracy))\n",
        "print(classification_report(y_teste, predicted))"
      ],
      "metadata": {
        "id": "RMUyItYHC0Op"
      },
      "execution_count": null,
      "outputs": []
    },
    {
      "cell_type": "markdown",
      "source": [
        "Observamos que após a parametrização, conforme indicação do GridSearchCV, cheagamos a um patamar de 93% em Recall e 78% de precisão o indicador f1-score chegou a 84%.  "
      ],
      "metadata": {
        "id": "UG7_BN8VDu0b"
      }
    },
    {
      "cell_type": "markdown",
      "source": [
        "# Avaliação"
      ],
      "metadata": {
        "id": "7LKTU54dgMR0"
      }
    },
    {
      "cell_type": "markdown",
      "source": [
        "Com se trata de um algoritmo para predição de resultados positivos ou negativos na indicação de diabetes consideramos a métrica de avaliação mais indicada a Recall já que o erro possui peso diferente ao acerto e nas situações de falso negativo, ou seja, quando a pessoa possuir a doença e o algoritmo indicar a inexistência da mesma irá acarretar no não tratamento ou na demora da iniciação do mesmo e podendo causar prejuízos irreversíveis ao portador. Consideramos que o modelo deve utilizar o algoritmo **Árvore de Decisão** devido o mesmo apresentar ótimos resultados de precision, recall  e f1-score dentre os algoritmos. Vale destacar que este modelo foi construindo a partir de um conjunto de dados  originalmente do National Institute of Diabetes and Digestive and Kidney Doenças. Em particular, todos os pacientes aqui são mulheres pelo menos 21 \n",
        "\n",
        "O escolha pela métrica Recall como a mais indicada ao nosso modelo é pelo fato de nos dá informações sobre falsos negativos. Essa métrica por si só não é diretamente vinculada a classificar todos os casos corretamente. Ela indica o quanto nosso modelo está identificando os casos positivos corretamente."
      ],
      "metadata": {
        "id": "oSe4bWkIJwAR"
      }
    }
  ]
}