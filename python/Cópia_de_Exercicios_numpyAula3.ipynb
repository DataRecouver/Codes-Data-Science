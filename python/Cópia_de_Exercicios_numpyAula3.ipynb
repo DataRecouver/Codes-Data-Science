{
  "nbformat": 4,
  "nbformat_minor": 0,
  "metadata": {
    "colab": {
      "name": "Cópia de Exercicios_numpyAula3.ipynb",
      "provenance": [],
      "collapsed_sections": [],
      "include_colab_link": true
    },
    "kernelspec": {
      "name": "python3",
      "display_name": "Python 3"
    }
  },
  "cells": [
    {
      "cell_type": "markdown",
      "metadata": {
        "id": "view-in-github",
        "colab_type": "text"
      },
      "source": [
        "<a href=\"https://colab.research.google.com/github/DataRecouver/Codes-Data-Science/blob/main/C%C3%B3pia_de_Exercicios_numpyAula3.ipynb\" target=\"_parent\"><img src=\"https://colab.research.google.com/assets/colab-badge.svg\" alt=\"Open In Colab\"/></a>"
      ]
    },
    {
      "cell_type": "markdown",
      "metadata": {
        "id": "iywq-R4pxEnp"
      },
      "source": [
        "#Exercícios Numpy\n"
      ]
    },
    {
      "cell_type": "markdown",
      "metadata": {
        "id": "aErQL-LLxuEl"
      },
      "source": [
        "1 - Importe a biblioteca numpy com o alias \"np\""
      ]
    },
    {
      "cell_type": "code",
      "metadata": {
        "id": "BMYOQDFi1XgR"
      },
      "source": [
        "import numpy as np\n"
      ],
      "execution_count": null,
      "outputs": []
    },
    {
      "cell_type": "markdown",
      "metadata": {
        "id": "BgXpGrIfxIrd"
      },
      "source": [
        "2 - Crie um array qualquer e informe o tamanho deste vetor em memória."
      ]
    },
    {
      "cell_type": "code",
      "source": [
        "vetor=np.arange(28)\n",
        "vetor\n",
        "print(vetor.dtype)"
      ],
      "metadata": {
        "colab": {
          "base_uri": "https://localhost:8080/"
        },
        "id": "i5PewFUcCXZS",
        "outputId": "bcc5b58e-71d3-407d-82e8-23a908115099"
      },
      "execution_count": null,
      "outputs": [
        {
          "output_type": "stream",
          "name": "stdout",
          "text": [
            "int64\n"
          ]
        }
      ]
    },
    {
      "cell_type": "markdown",
      "metadata": {
        "id": "6EqpIbdXx7t4"
      },
      "source": [
        "3 - Reduza o tamanho do array anterior em memória sem alterar ou excluir nenhum dado e exiba o novo tamanho do array."
      ]
    },
    {
      "cell_type": "code",
      "source": [
        "vetor = np.array([28], dtype= np.int16)\n",
        "print(vetor.dtype)"
      ],
      "metadata": {
        "colab": {
          "base_uri": "https://localhost:8080/"
        },
        "id": "rIvSAtVBDEgK",
        "outputId": "934ba244-2f69-4d18-8d89-2b8285e2d59c"
      },
      "execution_count": null,
      "outputs": [
        {
          "output_type": "stream",
          "name": "stdout",
          "text": [
            "int16\n"
          ]
        }
      ]
    },
    {
      "cell_type": "markdown",
      "metadata": {
        "id": "oDUkaPs5xT32"
      },
      "source": [
        "4 - Crie um vetor com valores de 10 a 49"
      ]
    },
    {
      "cell_type": "code",
      "source": [
        "vetor =np.arange(10,50)\n",
        "print(vetor)"
      ],
      "metadata": {
        "colab": {
          "base_uri": "https://localhost:8080/"
        },
        "id": "jouyW7yCE14a",
        "outputId": "026107d9-eae1-4de8-d6bb-8b19c4b479f7"
      },
      "execution_count": null,
      "outputs": [
        {
          "output_type": "stream",
          "name": "stdout",
          "text": [
            "[10 11 12 13 14 15 16 17 18 19 20 21 22 23 24 25 26 27 28 29 30 31 32 33\n",
            " 34 35 36 37 38 39 40 41 42 43 44 45 46 47 48 49]\n"
          ]
        }
      ]
    },
    {
      "cell_type": "markdown",
      "metadata": {
        "id": "Tg6QYeiVyhIx"
      },
      "source": [
        "5 - Inverta o vetor anterior"
      ]
    },
    {
      "cell_type": "code",
      "source": [
        "\n",
        "vetor=vetor[::-1]\n",
        "print(vetor)\n"
      ],
      "metadata": {
        "colab": {
          "base_uri": "https://localhost:8080/"
        },
        "id": "XX-4DhbMFOtx",
        "outputId": "93ce840c-c646-4be2-d035-8b8052c03c67"
      },
      "execution_count": null,
      "outputs": [
        {
          "output_type": "stream",
          "name": "stdout",
          "text": [
            "[49 48 47 46 45 44 43 42 41 40 39 38 37 36 35 34 33 32 31 30 29 28 27 26\n",
            " 25 24 23 22 21 20 19 18 17 16 15 14 13 12 11 10]\n"
          ]
        }
      ]
    },
    {
      "cell_type": "markdown",
      "metadata": {
        "id": "4tUyjQmey6OY"
      },
      "source": [
        "6- Crie uma matriz 3x3 com valores que variam de 0 a 8"
      ]
    },
    {
      "cell_type": "code",
      "source": [
        "vetor =np.arange(0,9).reshape(3,3)\n",
        "vetor"
      ],
      "metadata": {
        "colab": {
          "base_uri": "https://localhost:8080/"
        },
        "id": "ZrDIFzazF6r6",
        "outputId": "b8efd96c-1515-42a7-f1a7-a26516e594ee"
      },
      "execution_count": null,
      "outputs": [
        {
          "output_type": "execute_result",
          "data": {
            "text/plain": [
              "array([[0, 1, 2],\n",
              "       [3, 4, 5],\n",
              "       [6, 7, 8]])"
            ]
          },
          "metadata": {},
          "execution_count": 33
        }
      ]
    },
    {
      "cell_type": "markdown",
      "metadata": {
        "id": "M4TmxfoKzJ5D"
      },
      "source": [
        "7- Encontre índices de elementos diferentes de zero de [1,2,0,0,4,0] (dica: tem função pronta para isso)"
      ]
    },
    {
      "cell_type": "code",
      "source": [
        "\n",
        "indice=[1,2,0,0,4,0]\n",
        "indice = np.array(indice)\n",
        "print(np.where(indice!=0)[0])\n"
      ],
      "metadata": {
        "colab": {
          "base_uri": "https://localhost:8080/"
        },
        "id": "8U4gyKgFHYDQ",
        "outputId": "50a07096-a1ad-4081-f469-61d8c60625f7"
      },
      "execution_count": null,
      "outputs": [
        {
          "output_type": "stream",
          "name": "stdout",
          "text": [
            "[0 1 4]\n"
          ]
        }
      ]
    },
    {
      "cell_type": "code",
      "source": [
        ""
      ],
      "metadata": {
        "id": "HVAzI5gUw_Ia"
      },
      "execution_count": null,
      "outputs": []
    },
    {
      "cell_type": "code",
      "source": [
        ""
      ],
      "metadata": {
        "id": "k3FpQtA1w_Fo"
      },
      "execution_count": null,
      "outputs": []
    },
    {
      "cell_type": "markdown",
      "metadata": {
        "id": "UlaIfAnl1MCt"
      },
      "source": [
        "8 - Crie uma matriz 10x10 com valores aleatórios e encontre os valores mínimo, máximo, média, moda e desvio padrão."
      ]
    },
    {
      "cell_type": "code",
      "source": [
        "from scipy import stats\n",
        "\n",
        "a = np.random.rand(10,10)\n",
        "print(\"MÁXIMO = \"+str(np.max(a)))\n",
        "print(\"MÍNIMO = \"+str(np.min(a)))\n",
        "print(\"MÉDIA = \"+str(np.mean(a)))\n",
        "print(\"MEDIANA = \"+str(np.median(a)))\n",
        "vals,counts = np.unique(a, return_counts=True)\n",
        "index = np.argmax(counts)\n",
        "print(\"MODA = \"+str(vals[index]))\n",
        "print(\"DESVIO PADRÃO = \"+str(np.std(a)))"
      ],
      "metadata": {
        "colab": {
          "base_uri": "https://localhost:8080/"
        },
        "id": "jEkBd6Srvfa3",
        "outputId": "afd13b65-972c-4391-d656-e8f7ae958230"
      },
      "execution_count": null,
      "outputs": [
        {
          "output_type": "stream",
          "name": "stdout",
          "text": [
            "MAXIMO = 0.9952297701840759\n",
            "MINIMO = 8.566303852175494e-05\n",
            "MEDIA = 0.4724516516249811\n",
            "MEDIANA = 0.4945585133278978\n",
            "MODA = 8.566303852175494e-05\n",
            "DESVIO PADRÃO = 0.29641394128569226\n"
          ]
        }
      ]
    },
    {
      "cell_type": "code",
      "source": [
        "##TEST\n",
        "\n",
        "import pandas as pd\n",
        "import numpy as np\n",
        "\n",
        "matriz = np.random.random(100).reshape(10,10)\n",
        "print('Mínimo: {}'.format(matriz.min()))\n",
        "print('Máximo: {}'.format(matriz.max()))\n",
        "print('Média: {}'.format(matriz.mean()))\n",
        "print('Moda:{}'.\n",
        "print(matriz)\n"
      ],
      "metadata": {
        "id": "e1KVGgpOPfz2"
      },
      "execution_count": null,
      "outputs": []
    },
    {
      "cell_type": "markdown",
      "metadata": {
        "id": "X8AHaSC53LJa"
      },
      "source": [
        "9 - Dada uma matriz 1D, multiplique por 10 todos os elementos que estão entre 3 e 8."
      ]
    },
    {
      "cell_type": "code",
      "source": [
        "matriz = np.arange(10)\n",
        "matriz[(2 < matriz) & (matriz < 9)] *= 10\n",
        "print('Editando elementos que atendem a uma condição lógica (matriz[(2 < matriz) & (matriz < 9)] *= 10):', matriz, end=\"\\n\\n\")\n",
        "matriz"
      ],
      "metadata": {
        "colab": {
          "base_uri": "https://localhost:8080/"
        },
        "id": "HHOPOOhx0OyH",
        "outputId": "6af7de3e-ba6b-4ee6-8306-015cd4bfc794"
      },
      "execution_count": null,
      "outputs": [
        {
          "output_type": "stream",
          "name": "stdout",
          "text": [
            "Editando elementos que atendem a uma condição lógica (matriz[(2 < matriz) & (matriz < 9)] *= 10): [ 0  1  2 30 40 50 60 70 80  9]\n",
            "\n"
          ]
        },
        {
          "output_type": "execute_result",
          "data": {
            "text/plain": [
              "array([ 0,  1,  2, 30, 40, 50, 60, 70, 80,  9])"
            ]
          },
          "metadata": {},
          "execution_count": 15
        }
      ]
    },
    {
      "cell_type": "code",
      "source": [
        "a = np.arange(10)\n",
        "a[(a>3) & (a<8)] *= 10\n",
        "a"
      ],
      "metadata": {
        "id": "CDhYi0MT0Okf",
        "colab": {
          "base_uri": "https://localhost:8080/"
        },
        "outputId": "9326afea-64c5-48ae-f28b-e09e42f70fae"
      },
      "execution_count": null,
      "outputs": [
        {
          "output_type": "execute_result",
          "data": {
            "text/plain": [
              "array([ 0,  1,  2,  3, 40, 50, 60, 70,  8,  9])"
            ]
          },
          "metadata": {},
          "execution_count": 10
        }
      ]
    },
    {
      "cell_type": "markdown",
      "metadata": {
        "id": "9bhK8QwQ9GhN"
      },
      "source": [
        "10 - Crie uma matriz 5x5 com valores de linha variando de 0 a 4"
      ]
    },
    {
      "cell_type": "code",
      "source": [
        "matriz = np.random.randint(5, size =(5,5))\n",
        "matriz"
      ],
      "metadata": {
        "colab": {
          "base_uri": "https://localhost:8080/"
        },
        "id": "x1x4utSHDTET",
        "outputId": "468c5d2e-1d92-40cf-8ceb-b9f10edac0d6"
      },
      "execution_count": null,
      "outputs": [
        {
          "output_type": "execute_result",
          "data": {
            "text/plain": [
              "array([[3, 4, 3, 4, 2],\n",
              "       [2, 0, 0, 1, 4],\n",
              "       [4, 4, 1, 2, 2],\n",
              "       [4, 4, 3, 4, 0],\n",
              "       [1, 3, 1, 0, 0]])"
            ]
          },
          "metadata": {},
          "execution_count": 8
        }
      ]
    },
    {
      "cell_type": "code",
      "source": [
        "np.random.rand(5,5)*4"
      ],
      "metadata": {
        "colab": {
          "base_uri": "https://localhost:8080/"
        },
        "id": "BjH5stld5Fhu",
        "outputId": "80e848c9-93da-40fe-cf3d-a00648042504"
      },
      "execution_count": null,
      "outputs": [
        {
          "output_type": "execute_result",
          "data": {
            "text/plain": [
              "array([[0.74363842, 0.72937178, 1.91068066, 0.35377243, 3.81113037],\n",
              "       [2.03522294, 0.73162746, 1.26700256, 1.72385382, 0.39420314],\n",
              "       [0.39211234, 1.36971672, 2.58115043, 2.07724641, 3.34940904],\n",
              "       [0.0873528 , 1.52717742, 0.42730095, 3.49522352, 3.92446754],\n",
              "       [1.36240122, 0.55868326, 2.17412315, 0.00445646, 2.0975944 ]])"
            ]
          },
          "metadata": {},
          "execution_count": 14
        }
      ]
    },
    {
      "cell_type": "markdown",
      "metadata": {
        "id": "D56KlRkr9N3h"
      },
      "source": [
        "11 - Crie um vetor de inteiros aleatório de tamanho 10 e ordene-o"
      ]
    },
    {
      "cell_type": "code",
      "source": [
        "np.random.seed(1)\n",
        "a = np.random.random(10)\n",
        "np.sort(a)"
      ],
      "metadata": {
        "colab": {
          "base_uri": "https://localhost:8080/"
        },
        "id": "7ut9nVSaw7Sr",
        "outputId": "2a4ca160-51c9-454d-c61a-b448811331ce"
      },
      "execution_count": null,
      "outputs": [
        {
          "output_type": "execute_result",
          "data": {
            "text/plain": [
              "array([1.14374817e-04, 9.23385948e-02, 1.46755891e-01, 1.86260211e-01,\n",
              "       3.02332573e-01, 3.45560727e-01, 3.96767474e-01, 4.17022005e-01,\n",
              "       5.38816734e-01, 7.20324493e-01])"
            ]
          },
          "metadata": {},
          "execution_count": 16
        }
      ]
    },
    {
      "cell_type": "markdown",
      "metadata": {
        "id": "3eNkXerL9eA4"
      },
      "source": [
        "12 - Crie o mesmo vetor da questão anterior (com o mesmo seed) e exiba a ordem de seus índices (função argsort)"
      ]
    },
    {
      "cell_type": "code",
      "source": [
        "np.random.seed(1)\n",
        "a = np.random.random(10)\n",
        "a.argsort()"
      ],
      "metadata": {
        "colab": {
          "base_uri": "https://localhost:8080/"
        },
        "id": "vsdnXnQ3xA71",
        "outputId": "0abee0b4-f545-49bd-bf53-3d4a55440ae4"
      },
      "execution_count": null,
      "outputs": [
        {
          "output_type": "execute_result",
          "data": {
            "text/plain": [
              "array([2, 5, 4, 6, 3, 7, 8, 0, 9, 1])"
            ]
          },
          "metadata": {},
          "execution_count": 17
        }
      ]
    },
    {
      "cell_type": "markdown",
      "metadata": {
        "id": "JYEzKYQa--M_"
      },
      "source": [
        "13 - Crie um vetor aleatório de tamanho 10 e substitua o valor máximo por 0"
      ]
    },
    {
      "cell_type": "code",
      "source": [
        "a[np.argmax(a)] = 0\n",
        "a"
      ],
      "metadata": {
        "colab": {
          "base_uri": "https://localhost:8080/"
        },
        "id": "WXXZdZrGxEnl",
        "outputId": "81cd08f8-e59c-482d-9636-3ef7d05215df"
      },
      "execution_count": null,
      "outputs": [
        {
          "output_type": "execute_result",
          "data": {
            "text/plain": [
              "array([4.17022005e-01, 0.00000000e+00, 1.14374817e-04, 3.02332573e-01,\n",
              "       1.46755891e-01, 9.23385948e-02, 1.86260211e-01, 3.45560727e-01,\n",
              "       3.96767474e-01, 5.38816734e-01])"
            ]
          },
          "metadata": {},
          "execution_count": 18
        }
      ]
    },
    {
      "cell_type": "markdown",
      "metadata": {
        "id": "1iDJBx-o_ger"
      },
      "source": [
        "14 - Crie uma matriz 3x3 e exiba o índice e o valor de cada posição. (dica: consulte as funções np.ndenumerate e np.ndindex)"
      ]
    },
    {
      "cell_type": "code",
      "source": [
        "a = np.random.rand(3,3)\n",
        "for index, x in np.ndenumerate(a):\n",
        "    print(index, x)\n",
        "print(\"\")\n",
        "for index, x in np.ndindex(3,3):\n",
        "    print(index, x)"
      ],
      "metadata": {
        "colab": {
          "base_uri": "https://localhost:8080/"
        },
        "id": "tD3htRW0xIWV",
        "outputId": "e38b49a7-f0bc-4956-e98a-58189a0c0fdb"
      },
      "execution_count": null,
      "outputs": [
        {
          "output_type": "stream",
          "name": "stdout",
          "text": [
            "(0, 0) 0.1981014890848788\n",
            "(0, 1) 0.8007445686755367\n",
            "(0, 2) 0.9682615757193975\n",
            "(1, 0) 0.31342417815924284\n",
            "(1, 1) 0.6923226156693141\n",
            "(1, 2) 0.8763891522960383\n",
            "(2, 0) 0.8946066635038473\n",
            "(2, 1) 0.08504421136977791\n",
            "(2, 2) 0.03905478323288236\n",
            "\n",
            "0 0\n",
            "0 1\n",
            "0 2\n",
            "1 0\n",
            "1 1\n",
            "1 2\n",
            "2 0\n",
            "2 1\n",
            "2 2\n"
          ]
        }
      ]
    },
    {
      "cell_type": "markdown",
      "metadata": {
        "id": "28Ntqd9xBG3N"
      },
      "source": [
        "15- Como ordenar uma matriz pela enésima coluna?"
      ]
    },
    {
      "cell_type": "code",
      "source": [
        "coluna = 1\n",
        "\n",
        "\n",
        "\n",
        "coluna += -1\n",
        "a = np.random.rand(3,3)\n",
        "print(a)\n",
        "print(\"\\n\")\n",
        "np.sort(a[:,coluna])[::-1]"
      ],
      "metadata": {
        "colab": {
          "base_uri": "https://localhost:8080/"
        },
        "id": "ZCyrjQNTxNdE",
        "outputId": "4b0afe9f-e6c8-4bda-af47-2405bb0e1378"
      },
      "execution_count": null,
      "outputs": [
        {
          "output_type": "stream",
          "name": "stdout",
          "text": [
            "[[0.9085955  0.29361415 0.28777534]\n",
            " [0.13002857 0.01936696 0.67883553]\n",
            " [0.21162812 0.26554666 0.49157316]]\n",
            "\n",
            "\n"
          ]
        },
        {
          "output_type": "execute_result",
          "data": {
            "text/plain": [
              "array([0.9085955 , 0.21162812, 0.13002857])"
            ]
          },
          "metadata": {},
          "execution_count": 28
        }
      ]
    }
  ]
}
