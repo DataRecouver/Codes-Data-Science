{
  "nbformat": 4,
  "nbformat_minor": 0,
  "metadata": {
    "colab": {
      "name": "Desafio 2 - IMDb.ipynb",
      "provenance": [],
      "collapsed_sections": [],
      "include_colab_link": true
    },
    "kernelspec": {
      "name": "python3",
      "display_name": "Python 3"
    },
    "language_info": {
      "name": "python"
    }
  },
  "cells": [
    {
      "cell_type": "markdown",
      "metadata": {
        "id": "view-in-github",
        "colab_type": "text"
      },
      "source": [
        "<a href=\"https://colab.research.google.com/github/DataRecouver/Codes-DataScience-Python/blob/main/Desafio_2_IMDb.ipynb\" target=\"_parent\"><img src=\"https://colab.research.google.com/assets/colab-badge.svg\" alt=\"Open In Colab\"/></a>"
      ]
    },
    {
      "cell_type": "markdown",
      "source": [
        "# Criação do dataset IMDb\n",
        "\n",
        "Utilizando as técnicas de raspagem de dados apresentadas na aula, crie um dataset com as informações dos filmes de longa metragem lançados no primeiro semestre de 2021. Os dados estão disponíveis no site do IMDb e podem ser obtidos a partir da busca avançada do site.\n",
        "\n",
        "Lembrem-se de marcar \"Feature film\" no campo \"Title Type\" da página de configuração da busca.\n",
        "\n",
        "Os dados requeridos são: \n",
        "- Título\n",
        "- Ano de lançamento\n",
        "- Censura\n",
        "- Duração\n",
        "- Categorias\n",
        "- Avaliação\n",
        "- Metascore\n",
        "- Resumo\n",
        "- Número de votos\n",
        "- Arrecadação\n",
        "\n",
        "Vocês devem entregar o código da raspagem e o dataset construído em csv. \n",
        "\n",
        "**A atividade deve ser feita em equipes. Basta um membro da equipe postar e informar os demais membros no notebook.**"
      ],
      "metadata": {
        "id": "Bu8j0x_g7qAt"
      }
    },
    {
      "cell_type": "markdown",
      "source": [
        "Grupo 4\n",
        "\n",
        "**....:::: Membros ::::....**\n",
        "- Ane Caroline Teixeira\n",
        "- Danilo Lima Souza\n",
        "- Gabriel Borges Calheiros\n",
        "- Izadora de Oliveira Machado Paim\n",
        "- Laianne Protasio\n",
        "- Guilherme Cruz"
      ],
      "metadata": {
        "id": "LdnEI-p_8BH6"
      }
    },
    {
      "cell_type": "code",
      "source": [
        "import numpy as np\n",
        "import pandas as pd\n",
        "import requests\n",
        "import time\n",
        "from bs4 import BeautifulSoup\n",
        "from google.colab import files"
      ],
      "metadata": {
        "id": "fyuZ-E5k8Ag4"
      },
      "execution_count": null,
      "outputs": []
    },
    {
      "cell_type": "code",
      "execution_count": null,
      "metadata": {
        "id": "2NdnVbXj7ab2",
        "colab": {
          "base_uri": "https://localhost:8080/"
        },
        "outputId": "d3492832-0cf8-4093-c01f-25885ae9bbcf"
      },
      "outputs": [
        {
          "output_type": "execute_result",
          "data": {
            "text/plain": [
              "200"
            ]
          },
          "metadata": {},
          "execution_count": 2
        }
      ],
      "source": [
        "imdb_page = requests.get(\"https://www.imdb.com/search/title/?title_type=feature&release_date=2021-01-01,2021-06-30&count=250&start=0&ref_=adv_nxt\")\n",
        "\n",
        "imdb_page.status_code"
      ]
    },
    {
      "cell_type": "code",
      "source": [
        "imdb_soup = BeautifulSoup(imdb_page.content, 'html.parser')"
      ],
      "metadata": {
        "id": "lUhreJKM_JMn"
      },
      "execution_count": null,
      "outputs": []
    },
    {
      "cell_type": "code",
      "source": [
        "movies_list = imdb_soup.find_all('div', class_='lister-item mode-advanced')\n",
        "movies_list"
      ],
      "metadata": {
        "id": "yqXEZBzpMBGt"
      },
      "execution_count": null,
      "outputs": []
    },
    {
      "cell_type": "code",
      "source": [
        "print(type(movies_list))\n",
        "print(len(movies_list))"
      ],
      "metadata": {
        "colab": {
          "base_uri": "https://localhost:8080/"
        },
        "id": "TU-4BmQ-LuH1",
        "outputId": "2023bb77-0415-41c1-caba-da970bf02752"
      },
      "execution_count": null,
      "outputs": [
        {
          "output_type": "stream",
          "name": "stdout",
          "text": [
            "<class 'bs4.element.ResultSet'>\n",
            "250\n"
          ]
        }
      ]
    },
    {
      "cell_type": "code",
      "source": [
        "movie_name = movies_list[0].h3.a.text\n",
        "movie_name"
      ],
      "metadata": {
        "colab": {
          "base_uri": "https://localhost:8080/",
          "height": 35
        },
        "id": "HD09TI2KHH6c",
        "outputId": "d44ea08c-2225-423d-9ed3-bc9ff7a4864c"
      },
      "execution_count": null,
      "outputs": [
        {
          "output_type": "execute_result",
          "data": {
            "text/plain": [
              "'Nobody'"
            ],
            "application/vnd.google.colaboratory.intrinsic+json": {
              "type": "string"
            }
          },
          "metadata": {},
          "execution_count": 6
        }
      ]
    },
    {
      "cell_type": "code",
      "source": [
        "movie_release = movies_list[0].h3.find('span', class_='lister-item-year text-muted unbold').text\n",
        "movie_release"
      ],
      "metadata": {
        "colab": {
          "base_uri": "https://localhost:8080/",
          "height": 35
        },
        "id": "K3XD8Ui3TQrp",
        "outputId": "ffa0bbb9-1ed2-49b4-891a-46f4e75d50c5"
      },
      "execution_count": null,
      "outputs": [
        {
          "output_type": "execute_result",
          "data": {
            "text/plain": [
              "'(I) (2021)'"
            ],
            "application/vnd.google.colaboratory.intrinsic+json": {
              "type": "string"
            }
          },
          "metadata": {},
          "execution_count": 7
        }
      ]
    },
    {
      "cell_type": "code",
      "source": [
        "movie_censorship = movies_list[0].p.find('span', class_='certificate').text\n",
        "movie_censorship"
      ],
      "metadata": {
        "colab": {
          "base_uri": "https://localhost:8080/",
          "height": 35
        },
        "id": "qJaUayq-tysv",
        "outputId": "77239f29-9899-4d48-c659-dc190f040b6e"
      },
      "execution_count": null,
      "outputs": [
        {
          "output_type": "execute_result",
          "data": {
            "text/plain": [
              "'R'"
            ],
            "application/vnd.google.colaboratory.intrinsic+json": {
              "type": "string"
            }
          },
          "metadata": {},
          "execution_count": 8
        }
      ]
    },
    {
      "cell_type": "code",
      "source": [
        "movie_duration = movies_list[0].p.find('span', class_='runtime').text\n",
        "movie_duration"
      ],
      "metadata": {
        "colab": {
          "base_uri": "https://localhost:8080/",
          "height": 35
        },
        "id": "L-Fb4RLByhvY",
        "outputId": "7e7fcd78-7d48-48d5-b1bc-b4ce060ac535"
      },
      "execution_count": null,
      "outputs": [
        {
          "output_type": "execute_result",
          "data": {
            "text/plain": [
              "'92 min'"
            ],
            "application/vnd.google.colaboratory.intrinsic+json": {
              "type": "string"
            }
          },
          "metadata": {},
          "execution_count": 9
        }
      ]
    },
    {
      "cell_type": "code",
      "source": [
        "movie_category = movies_list[0].p.find('span', class_='genre').text\n",
        "movie_category"
      ],
      "metadata": {
        "colab": {
          "base_uri": "https://localhost:8080/",
          "height": 35
        },
        "id": "ajJ3Vuv7yt3G",
        "outputId": "081ad916-020b-460b-d555-febfa859321b"
      },
      "execution_count": null,
      "outputs": [
        {
          "output_type": "execute_result",
          "data": {
            "text/plain": [
              "'\\nAction, Crime, Drama            '"
            ],
            "application/vnd.google.colaboratory.intrinsic+json": {
              "type": "string"
            }
          },
          "metadata": {},
          "execution_count": 14
        }
      ]
    },
    {
      "cell_type": "code",
      "source": [
        "movie_rating = movies_list[0].strong.text\n",
        "rating_to_float = float(movie_rating)\n",
        "\n",
        "rating_to_float"
      ],
      "metadata": {
        "colab": {
          "base_uri": "https://localhost:8080/"
        },
        "id": "UOtRCp1I02ty",
        "outputId": "86bb7ebb-db9c-41e0-e5a3-e9824242e7f0"
      },
      "execution_count": null,
      "outputs": [
        {
          "output_type": "execute_result",
          "data": {
            "text/plain": [
              "7.4"
            ]
          },
          "metadata": {},
          "execution_count": 11
        }
      ]
    },
    {
      "cell_type": "code",
      "source": [
        "movie_metascore = movies_list[0].find('span', class_='metascore favorable').text\n",
        "metascore_to_int = int(movie_metascore)\n",
        "\n",
        "metascore_to_int"
      ],
      "metadata": {
        "colab": {
          "base_uri": "https://localhost:8080/"
        },
        "id": "8Z6v-YwJ1ehR",
        "outputId": "eb0be31e-3049-428a-e1d0-e65c647305cd"
      },
      "execution_count": null,
      "outputs": [
        {
          "output_type": "execute_result",
          "data": {
            "text/plain": [
              "64"
            ]
          },
          "metadata": {},
          "execution_count": 12
        }
      ]
    },
    {
      "cell_type": "code",
      "source": [
        "movie_summary = movies_list[0].find_all(class_='text-muted')[2].text\n",
        "movie_summary"
      ],
      "metadata": {
        "colab": {
          "base_uri": "https://localhost:8080/",
          "height": 35
        },
        "id": "94MBfESZ20CJ",
        "outputId": "16dfe635-a2f4-4400-94c6-e93018e9818d"
      },
      "execution_count": null,
      "outputs": [
        {
          "output_type": "execute_result",
          "data": {
            "text/plain": [
              "'\\nA docile family man slowly reveals his true character after his house gets burgled by two petty thieves, which, coincidentally, leads him into a bloody war with a Russian crime boss.'"
            ],
            "application/vnd.google.colaboratory.intrinsic+json": {
              "type": "string"
            }
          },
          "metadata": {},
          "execution_count": 13
        }
      ]
    },
    {
      "cell_type": "code",
      "source": [
        "movie_votes = movies_list[0].find_all('span', attrs={'name': 'nv'})[0]['data-value']\n",
        "\n",
        "votes_to_int = int(movie_votes)\n",
        "votes_to_int"
      ],
      "metadata": {
        "colab": {
          "base_uri": "https://localhost:8080/"
        },
        "id": "Z867Y9y-4-HM",
        "outputId": "8fbb4e3c-0ed2-45cd-ecca-7d42e5585ad3"
      },
      "execution_count": null,
      "outputs": [
        {
          "output_type": "execute_result",
          "data": {
            "text/plain": [
              "235800"
            ]
          },
          "metadata": {},
          "execution_count": 14
        }
      ]
    },
    {
      "cell_type": "code",
      "source": [
        "movie_gross = movies_list[0].find_all('span', attrs={'name': 'nv'})[1]['data-value']\n",
        "\n",
        "gross_replace = movie_gross.replace(',','')\n",
        "gross_to_float = float(gross_replace)\n",
        "\n",
        "gross_to_float"
      ],
      "metadata": {
        "colab": {
          "base_uri": "https://localhost:8080/"
        },
        "id": "MExG-x-l51Ka",
        "outputId": "de83258f-4c17-4ee8-de8b-540b93e93788"
      },
      "execution_count": null,
      "outputs": [
        {
          "output_type": "execute_result",
          "data": {
            "text/plain": [
              "27268035.0"
            ]
          },
          "metadata": {},
          "execution_count": 15
        }
      ]
    },
    {
      "cell_type": "markdown",
      "source": [
        "# Generalize the code"
      ],
      "metadata": {
        "id": "FBB4g2AeLDQY"
      }
    },
    {
      "cell_type": "code",
      "source": [
        "num = 0\n",
        "lista = []\n",
        "\n",
        "while(num < 4557):\n",
        "  imdb_page = requests.get(\"https://www.imdb.com/search/title/?title_type=feature&release_date=2021-01-01,2021-06-30&count=250&start={}&ref_=adv_nxt\".format(num))\n",
        "\n",
        "  num += 250\n",
        "\n",
        "  imdb_soup = BeautifulSoup(imdb_page.content, 'html.parser')\n",
        "  movies_list = imdb_soup.find_all('div', class_='lister-item mode-advanced')\n",
        "\n",
        "  for movie in movies_list:\n",
        "    votes_and_grosses = []\n",
        "\n",
        "    for i in movie.find_all('span', attrs={'name': 'nv'}):\n",
        "      if i is None:\n",
        "        votes_and_grosses.append(np.nan)\n",
        "      else:\n",
        "        votes_and_grosses.append(i)\n",
        "    \n",
        "    m = [\n",
        "      movie.h3.find('a'),\n",
        "      movie.h3.find('span', class_='lister-item-year'),\n",
        "      movie.p.find('span', class_='certificate'),\n",
        "      movie.p.find('span', class_='runtime'),\n",
        "      movie.p.find('span', class_='genre'),\n",
        "      movie.find('strong'),\n",
        "      movie.find('span', class_='metascore'),\n",
        "      movie.find_all(class_='text-muted')[2],\n",
        "    ]\n",
        "\n",
        "    m += votes_and_grosses\n",
        "\n",
        "    lista.append([np.nan if item is None else item.text for item in m])"
      ],
      "metadata": {
        "id": "JDftW_eOdy1T",
        "colab": {
          "base_uri": "https://localhost:8080/",
          "height": 424
        },
        "outputId": "eac79e20-1bbd-4c32-b4c9-599dd8086e0b"
      },
      "execution_count": null,
      "outputs": [
        {
          "output_type": "execute_result",
          "data": {
            "text/plain": [
              "                             titles    releases censorships durations  \\\n",
              "0                            Nobody  (I) (2021)           R    92 min   \n",
              "1     The Worst Person in the World      (2021)           R   128 min   \n",
              "2                      Wrath of Man      (2021)           R   119 min   \n",
              "3                              CODA      (2021)       PG-13   111 min   \n",
              "4                          Pleasure      (2021)   Not Rated   109 min   \n",
              "...                             ...         ...         ...       ...   \n",
              "4554    Kikoriki And Friends. Vol.2      (2021)         NaN       NaN   \n",
              "4555              Fennu de huangniu      (2021)         NaN    78 min   \n",
              "4556              Luban four Heroes      (2021)         NaN       NaN   \n",
              "4557                   Dimensions 2      (2021)         NaN       NaN   \n",
              "4558     Debussy: Ariettes Oubliées      (2021)         NaN       NaN   \n",
              "\n",
              "                                 categories ratings  metascores  \\\n",
              "0        \\nAction, Crime, Drama                 7.4  64           \n",
              "1      \\nComedy, Drama, Romance                 7.8  90           \n",
              "2     \\nAction, Crime, Thriller                 7.1  57           \n",
              "3        \\nComedy, Drama, Music                 8.0  74           \n",
              "4                       \\nDrama                 6.3  75           \n",
              "...                                     ...     ...         ...   \n",
              "4554                                    NaN     NaN         NaN   \n",
              "4555            \\nAction, Crime                 NaN         NaN   \n",
              "4556                   \\nAction                 6.7         NaN   \n",
              "4557                \\nAdventure                 6.4         NaN   \n",
              "4558                    \\nMusic                 NaN         NaN   \n",
              "\n",
              "                                              summaries    votes  grosses  \n",
              "0     \\nA docile family man slowly reveals his true ...  235,870  $27.27M  \n",
              "1     \\nThe chronicles of four years in the life of ...   54,574     None  \n",
              "2     \\nThe plot follows H, a cold and mysterious ch...  169,132     None  \n",
              "3     \\nAs a CODA (Child of Deaf Adults) Ruby is the...  119,624     None  \n",
              "4     \\nBella Cherry arrives in Los Angeles with dre...   13,393     None  \n",
              "...                                                 ...      ...      ...  \n",
              "4554                                     \\nAdd a Plot\\n     None     None  \n",
              "4555  \\nBatu and his wife Tana work hard for their l...     None     None  \n",
              "4556                                     \\nAdd a Plot\\n       40     None  \n",
              "4557  \\nJack gets taken by a guard and the guard try...        7     None  \n",
              "4558                                     \\nAdd a Plot\\n     None     None  \n",
              "\n",
              "[4559 rows x 10 columns]"
            ],
            "text/html": [
              "\n",
              "  <div id=\"df-135bb1f6-10a5-48c6-81ea-7445d29f0b42\">\n",
              "    <div class=\"colab-df-container\">\n",
              "      <div>\n",
              "<style scoped>\n",
              "    .dataframe tbody tr th:only-of-type {\n",
              "        vertical-align: middle;\n",
              "    }\n",
              "\n",
              "    .dataframe tbody tr th {\n",
              "        vertical-align: top;\n",
              "    }\n",
              "\n",
              "    .dataframe thead th {\n",
              "        text-align: right;\n",
              "    }\n",
              "</style>\n",
              "<table border=\"1\" class=\"dataframe\">\n",
              "  <thead>\n",
              "    <tr style=\"text-align: right;\">\n",
              "      <th></th>\n",
              "      <th>titles</th>\n",
              "      <th>releases</th>\n",
              "      <th>censorships</th>\n",
              "      <th>durations</th>\n",
              "      <th>categories</th>\n",
              "      <th>ratings</th>\n",
              "      <th>metascores</th>\n",
              "      <th>summaries</th>\n",
              "      <th>votes</th>\n",
              "      <th>grosses</th>\n",
              "    </tr>\n",
              "  </thead>\n",
              "  <tbody>\n",
              "    <tr>\n",
              "      <th>0</th>\n",
              "      <td>Nobody</td>\n",
              "      <td>(I) (2021)</td>\n",
              "      <td>R</td>\n",
              "      <td>92 min</td>\n",
              "      <td>\\nAction, Crime, Drama</td>\n",
              "      <td>7.4</td>\n",
              "      <td>64</td>\n",
              "      <td>\\nA docile family man slowly reveals his true ...</td>\n",
              "      <td>235,870</td>\n",
              "      <td>$27.27M</td>\n",
              "    </tr>\n",
              "    <tr>\n",
              "      <th>1</th>\n",
              "      <td>The Worst Person in the World</td>\n",
              "      <td>(2021)</td>\n",
              "      <td>R</td>\n",
              "      <td>128 min</td>\n",
              "      <td>\\nComedy, Drama, Romance</td>\n",
              "      <td>7.8</td>\n",
              "      <td>90</td>\n",
              "      <td>\\nThe chronicles of four years in the life of ...</td>\n",
              "      <td>54,574</td>\n",
              "      <td>None</td>\n",
              "    </tr>\n",
              "    <tr>\n",
              "      <th>2</th>\n",
              "      <td>Wrath of Man</td>\n",
              "      <td>(2021)</td>\n",
              "      <td>R</td>\n",
              "      <td>119 min</td>\n",
              "      <td>\\nAction, Crime, Thriller</td>\n",
              "      <td>7.1</td>\n",
              "      <td>57</td>\n",
              "      <td>\\nThe plot follows H, a cold and mysterious ch...</td>\n",
              "      <td>169,132</td>\n",
              "      <td>None</td>\n",
              "    </tr>\n",
              "    <tr>\n",
              "      <th>3</th>\n",
              "      <td>CODA</td>\n",
              "      <td>(2021)</td>\n",
              "      <td>PG-13</td>\n",
              "      <td>111 min</td>\n",
              "      <td>\\nComedy, Drama, Music</td>\n",
              "      <td>8.0</td>\n",
              "      <td>74</td>\n",
              "      <td>\\nAs a CODA (Child of Deaf Adults) Ruby is the...</td>\n",
              "      <td>119,624</td>\n",
              "      <td>None</td>\n",
              "    </tr>\n",
              "    <tr>\n",
              "      <th>4</th>\n",
              "      <td>Pleasure</td>\n",
              "      <td>(2021)</td>\n",
              "      <td>Not Rated</td>\n",
              "      <td>109 min</td>\n",
              "      <td>\\nDrama</td>\n",
              "      <td>6.3</td>\n",
              "      <td>75</td>\n",
              "      <td>\\nBella Cherry arrives in Los Angeles with dre...</td>\n",
              "      <td>13,393</td>\n",
              "      <td>None</td>\n",
              "    </tr>\n",
              "    <tr>\n",
              "      <th>...</th>\n",
              "      <td>...</td>\n",
              "      <td>...</td>\n",
              "      <td>...</td>\n",
              "      <td>...</td>\n",
              "      <td>...</td>\n",
              "      <td>...</td>\n",
              "      <td>...</td>\n",
              "      <td>...</td>\n",
              "      <td>...</td>\n",
              "      <td>...</td>\n",
              "    </tr>\n",
              "    <tr>\n",
              "      <th>4554</th>\n",
              "      <td>Kikoriki And Friends. Vol.2</td>\n",
              "      <td>(2021)</td>\n",
              "      <td>NaN</td>\n",
              "      <td>NaN</td>\n",
              "      <td>NaN</td>\n",
              "      <td>NaN</td>\n",
              "      <td>NaN</td>\n",
              "      <td>\\nAdd a Plot\\n</td>\n",
              "      <td>None</td>\n",
              "      <td>None</td>\n",
              "    </tr>\n",
              "    <tr>\n",
              "      <th>4555</th>\n",
              "      <td>Fennu de huangniu</td>\n",
              "      <td>(2021)</td>\n",
              "      <td>NaN</td>\n",
              "      <td>78 min</td>\n",
              "      <td>\\nAction, Crime</td>\n",
              "      <td>NaN</td>\n",
              "      <td>NaN</td>\n",
              "      <td>\\nBatu and his wife Tana work hard for their l...</td>\n",
              "      <td>None</td>\n",
              "      <td>None</td>\n",
              "    </tr>\n",
              "    <tr>\n",
              "      <th>4556</th>\n",
              "      <td>Luban four Heroes</td>\n",
              "      <td>(2021)</td>\n",
              "      <td>NaN</td>\n",
              "      <td>NaN</td>\n",
              "      <td>\\nAction</td>\n",
              "      <td>6.7</td>\n",
              "      <td>NaN</td>\n",
              "      <td>\\nAdd a Plot\\n</td>\n",
              "      <td>40</td>\n",
              "      <td>None</td>\n",
              "    </tr>\n",
              "    <tr>\n",
              "      <th>4557</th>\n",
              "      <td>Dimensions 2</td>\n",
              "      <td>(2021)</td>\n",
              "      <td>NaN</td>\n",
              "      <td>NaN</td>\n",
              "      <td>\\nAdventure</td>\n",
              "      <td>6.4</td>\n",
              "      <td>NaN</td>\n",
              "      <td>\\nJack gets taken by a guard and the guard try...</td>\n",
              "      <td>7</td>\n",
              "      <td>None</td>\n",
              "    </tr>\n",
              "    <tr>\n",
              "      <th>4558</th>\n",
              "      <td>Debussy: Ariettes Oubliées</td>\n",
              "      <td>(2021)</td>\n",
              "      <td>NaN</td>\n",
              "      <td>NaN</td>\n",
              "      <td>\\nMusic</td>\n",
              "      <td>NaN</td>\n",
              "      <td>NaN</td>\n",
              "      <td>\\nAdd a Plot\\n</td>\n",
              "      <td>None</td>\n",
              "      <td>None</td>\n",
              "    </tr>\n",
              "  </tbody>\n",
              "</table>\n",
              "<p>4559 rows × 10 columns</p>\n",
              "</div>\n",
              "      <button class=\"colab-df-convert\" onclick=\"convertToInteractive('df-135bb1f6-10a5-48c6-81ea-7445d29f0b42')\"\n",
              "              title=\"Convert this dataframe to an interactive table.\"\n",
              "              style=\"display:none;\">\n",
              "        \n",
              "  <svg xmlns=\"http://www.w3.org/2000/svg\" height=\"24px\"viewBox=\"0 0 24 24\"\n",
              "       width=\"24px\">\n",
              "    <path d=\"M0 0h24v24H0V0z\" fill=\"none\"/>\n",
              "    <path d=\"M18.56 5.44l.94 2.06.94-2.06 2.06-.94-2.06-.94-.94-2.06-.94 2.06-2.06.94zm-11 1L8.5 8.5l.94-2.06 2.06-.94-2.06-.94L8.5 2.5l-.94 2.06-2.06.94zm10 10l.94 2.06.94-2.06 2.06-.94-2.06-.94-.94-2.06-.94 2.06-2.06.94z\"/><path d=\"M17.41 7.96l-1.37-1.37c-.4-.4-.92-.59-1.43-.59-.52 0-1.04.2-1.43.59L10.3 9.45l-7.72 7.72c-.78.78-.78 2.05 0 2.83L4 21.41c.39.39.9.59 1.41.59.51 0 1.02-.2 1.41-.59l7.78-7.78 2.81-2.81c.8-.78.8-2.07 0-2.86zM5.41 20L4 18.59l7.72-7.72 1.47 1.35L5.41 20z\"/>\n",
              "  </svg>\n",
              "      </button>\n",
              "      \n",
              "  <style>\n",
              "    .colab-df-container {\n",
              "      display:flex;\n",
              "      flex-wrap:wrap;\n",
              "      gap: 12px;\n",
              "    }\n",
              "\n",
              "    .colab-df-convert {\n",
              "      background-color: #E8F0FE;\n",
              "      border: none;\n",
              "      border-radius: 50%;\n",
              "      cursor: pointer;\n",
              "      display: none;\n",
              "      fill: #1967D2;\n",
              "      height: 32px;\n",
              "      padding: 0 0 0 0;\n",
              "      width: 32px;\n",
              "    }\n",
              "\n",
              "    .colab-df-convert:hover {\n",
              "      background-color: #E2EBFA;\n",
              "      box-shadow: 0px 1px 2px rgba(60, 64, 67, 0.3), 0px 1px 3px 1px rgba(60, 64, 67, 0.15);\n",
              "      fill: #174EA6;\n",
              "    }\n",
              "\n",
              "    [theme=dark] .colab-df-convert {\n",
              "      background-color: #3B4455;\n",
              "      fill: #D2E3FC;\n",
              "    }\n",
              "\n",
              "    [theme=dark] .colab-df-convert:hover {\n",
              "      background-color: #434B5C;\n",
              "      box-shadow: 0px 1px 3px 1px rgba(0, 0, 0, 0.15);\n",
              "      filter: drop-shadow(0px 1px 2px rgba(0, 0, 0, 0.3));\n",
              "      fill: #FFFFFF;\n",
              "    }\n",
              "  </style>\n",
              "\n",
              "      <script>\n",
              "        const buttonEl =\n",
              "          document.querySelector('#df-135bb1f6-10a5-48c6-81ea-7445d29f0b42 button.colab-df-convert');\n",
              "        buttonEl.style.display =\n",
              "          google.colab.kernel.accessAllowed ? 'block' : 'none';\n",
              "\n",
              "        async function convertToInteractive(key) {\n",
              "          const element = document.querySelector('#df-135bb1f6-10a5-48c6-81ea-7445d29f0b42');\n",
              "          const dataTable =\n",
              "            await google.colab.kernel.invokeFunction('convertToInteractive',\n",
              "                                                     [key], {});\n",
              "          if (!dataTable) return;\n",
              "\n",
              "          const docLinkHtml = 'Like what you see? Visit the ' +\n",
              "            '<a target=\"_blank\" href=https://colab.research.google.com/notebooks/data_table.ipynb>data table notebook</a>'\n",
              "            + ' to learn more about interactive tables.';\n",
              "          element.innerHTML = '';\n",
              "          dataTable['output_type'] = 'display_data';\n",
              "          await google.colab.output.renderOutput(dataTable, element);\n",
              "          const docLink = document.createElement('div');\n",
              "          docLink.innerHTML = docLinkHtml;\n",
              "          element.appendChild(docLink);\n",
              "        }\n",
              "      </script>\n",
              "    </div>\n",
              "  </div>\n",
              "  "
            ]
          },
          "metadata": {},
          "execution_count": 4
        }
      ]
    },
    {
      "cell_type": "code",
      "source": [
        "movie_df = pd.DataFrame(lista, columns=['titles', 'releases', 'censorships', 'durations', 'categories', 'ratings', 'metascores', 'summaries', 'votes', 'grosses'])\n",
        "movie_df"
      ],
      "metadata": {
        "colab": {
          "base_uri": "https://localhost:8080/",
          "height": 424
        },
        "id": "4x1uUsjxumeZ",
        "outputId": "e4c0d6cb-055b-40fe-93dd-6ff19756d58a"
      },
      "execution_count": null,
      "outputs": [
        {
          "output_type": "execute_result",
          "data": {
            "text/plain": [
              "                             titles    releases censorships durations  \\\n",
              "0                            Nobody  (I) (2021)           R    92 min   \n",
              "1     The Worst Person in the World      (2021)           R   128 min   \n",
              "2                      Wrath of Man      (2021)           R   119 min   \n",
              "3                              CODA      (2021)       PG-13   111 min   \n",
              "4                          Pleasure      (2021)   Not Rated   109 min   \n",
              "...                             ...         ...         ...       ...   \n",
              "4554    Kikoriki And Friends. Vol.2      (2021)         NaN       NaN   \n",
              "4555              Fennu de huangniu      (2021)         NaN    78 min   \n",
              "4556              Luban four Heroes      (2021)         NaN       NaN   \n",
              "4557                   Dimensions 2      (2021)         NaN       NaN   \n",
              "4558     Debussy: Ariettes Oubliées      (2021)         NaN       NaN   \n",
              "\n",
              "                                 categories ratings  metascores  \\\n",
              "0        \\nAction, Crime, Drama                 7.4  64           \n",
              "1      \\nComedy, Drama, Romance                 7.8  90           \n",
              "2     \\nAction, Crime, Thriller                 7.1  57           \n",
              "3        \\nComedy, Drama, Music                 8.0  74           \n",
              "4                       \\nDrama                 6.3  75           \n",
              "...                                     ...     ...         ...   \n",
              "4554                                    NaN     NaN         NaN   \n",
              "4555            \\nAction, Crime                 NaN         NaN   \n",
              "4556                   \\nAction                 6.7         NaN   \n",
              "4557                \\nAdventure                 6.4         NaN   \n",
              "4558                    \\nMusic                 NaN         NaN   \n",
              "\n",
              "                                              summaries    votes  grosses  \n",
              "0     \\nA docile family man slowly reveals his true ...  235,870  $27.27M  \n",
              "1     \\nThe chronicles of four years in the life of ...   54,574     None  \n",
              "2     \\nThe plot follows H, a cold and mysterious ch...  169,132     None  \n",
              "3     \\nAs a CODA (Child of Deaf Adults) Ruby is the...  119,624     None  \n",
              "4     \\nBella Cherry arrives in Los Angeles with dre...   13,393     None  \n",
              "...                                                 ...      ...      ...  \n",
              "4554                                     \\nAdd a Plot\\n     None     None  \n",
              "4555  \\nBatu and his wife Tana work hard for their l...     None     None  \n",
              "4556                                     \\nAdd a Plot\\n       40     None  \n",
              "4557  \\nJack gets taken by a guard and the guard try...        7     None  \n",
              "4558                                     \\nAdd a Plot\\n     None     None  \n",
              "\n",
              "[4559 rows x 10 columns]"
            ],
            "text/html": [
              "\n",
              "  <div id=\"df-00b6e431-4de4-4e7c-900a-7af3c06faef0\">\n",
              "    <div class=\"colab-df-container\">\n",
              "      <div>\n",
              "<style scoped>\n",
              "    .dataframe tbody tr th:only-of-type {\n",
              "        vertical-align: middle;\n",
              "    }\n",
              "\n",
              "    .dataframe tbody tr th {\n",
              "        vertical-align: top;\n",
              "    }\n",
              "\n",
              "    .dataframe thead th {\n",
              "        text-align: right;\n",
              "    }\n",
              "</style>\n",
              "<table border=\"1\" class=\"dataframe\">\n",
              "  <thead>\n",
              "    <tr style=\"text-align: right;\">\n",
              "      <th></th>\n",
              "      <th>titles</th>\n",
              "      <th>releases</th>\n",
              "      <th>censorships</th>\n",
              "      <th>durations</th>\n",
              "      <th>categories</th>\n",
              "      <th>ratings</th>\n",
              "      <th>metascores</th>\n",
              "      <th>summaries</th>\n",
              "      <th>votes</th>\n",
              "      <th>grosses</th>\n",
              "    </tr>\n",
              "  </thead>\n",
              "  <tbody>\n",
              "    <tr>\n",
              "      <th>0</th>\n",
              "      <td>Nobody</td>\n",
              "      <td>(I) (2021)</td>\n",
              "      <td>R</td>\n",
              "      <td>92 min</td>\n",
              "      <td>\\nAction, Crime, Drama</td>\n",
              "      <td>7.4</td>\n",
              "      <td>64</td>\n",
              "      <td>\\nA docile family man slowly reveals his true ...</td>\n",
              "      <td>235,870</td>\n",
              "      <td>$27.27M</td>\n",
              "    </tr>\n",
              "    <tr>\n",
              "      <th>1</th>\n",
              "      <td>The Worst Person in the World</td>\n",
              "      <td>(2021)</td>\n",
              "      <td>R</td>\n",
              "      <td>128 min</td>\n",
              "      <td>\\nComedy, Drama, Romance</td>\n",
              "      <td>7.8</td>\n",
              "      <td>90</td>\n",
              "      <td>\\nThe chronicles of four years in the life of ...</td>\n",
              "      <td>54,574</td>\n",
              "      <td>None</td>\n",
              "    </tr>\n",
              "    <tr>\n",
              "      <th>2</th>\n",
              "      <td>Wrath of Man</td>\n",
              "      <td>(2021)</td>\n",
              "      <td>R</td>\n",
              "      <td>119 min</td>\n",
              "      <td>\\nAction, Crime, Thriller</td>\n",
              "      <td>7.1</td>\n",
              "      <td>57</td>\n",
              "      <td>\\nThe plot follows H, a cold and mysterious ch...</td>\n",
              "      <td>169,132</td>\n",
              "      <td>None</td>\n",
              "    </tr>\n",
              "    <tr>\n",
              "      <th>3</th>\n",
              "      <td>CODA</td>\n",
              "      <td>(2021)</td>\n",
              "      <td>PG-13</td>\n",
              "      <td>111 min</td>\n",
              "      <td>\\nComedy, Drama, Music</td>\n",
              "      <td>8.0</td>\n",
              "      <td>74</td>\n",
              "      <td>\\nAs a CODA (Child of Deaf Adults) Ruby is the...</td>\n",
              "      <td>119,624</td>\n",
              "      <td>None</td>\n",
              "    </tr>\n",
              "    <tr>\n",
              "      <th>4</th>\n",
              "      <td>Pleasure</td>\n",
              "      <td>(2021)</td>\n",
              "      <td>Not Rated</td>\n",
              "      <td>109 min</td>\n",
              "      <td>\\nDrama</td>\n",
              "      <td>6.3</td>\n",
              "      <td>75</td>\n",
              "      <td>\\nBella Cherry arrives in Los Angeles with dre...</td>\n",
              "      <td>13,393</td>\n",
              "      <td>None</td>\n",
              "    </tr>\n",
              "    <tr>\n",
              "      <th>...</th>\n",
              "      <td>...</td>\n",
              "      <td>...</td>\n",
              "      <td>...</td>\n",
              "      <td>...</td>\n",
              "      <td>...</td>\n",
              "      <td>...</td>\n",
              "      <td>...</td>\n",
              "      <td>...</td>\n",
              "      <td>...</td>\n",
              "      <td>...</td>\n",
              "    </tr>\n",
              "    <tr>\n",
              "      <th>4554</th>\n",
              "      <td>Kikoriki And Friends. Vol.2</td>\n",
              "      <td>(2021)</td>\n",
              "      <td>NaN</td>\n",
              "      <td>NaN</td>\n",
              "      <td>NaN</td>\n",
              "      <td>NaN</td>\n",
              "      <td>NaN</td>\n",
              "      <td>\\nAdd a Plot\\n</td>\n",
              "      <td>None</td>\n",
              "      <td>None</td>\n",
              "    </tr>\n",
              "    <tr>\n",
              "      <th>4555</th>\n",
              "      <td>Fennu de huangniu</td>\n",
              "      <td>(2021)</td>\n",
              "      <td>NaN</td>\n",
              "      <td>78 min</td>\n",
              "      <td>\\nAction, Crime</td>\n",
              "      <td>NaN</td>\n",
              "      <td>NaN</td>\n",
              "      <td>\\nBatu and his wife Tana work hard for their l...</td>\n",
              "      <td>None</td>\n",
              "      <td>None</td>\n",
              "    </tr>\n",
              "    <tr>\n",
              "      <th>4556</th>\n",
              "      <td>Luban four Heroes</td>\n",
              "      <td>(2021)</td>\n",
              "      <td>NaN</td>\n",
              "      <td>NaN</td>\n",
              "      <td>\\nAction</td>\n",
              "      <td>6.7</td>\n",
              "      <td>NaN</td>\n",
              "      <td>\\nAdd a Plot\\n</td>\n",
              "      <td>40</td>\n",
              "      <td>None</td>\n",
              "    </tr>\n",
              "    <tr>\n",
              "      <th>4557</th>\n",
              "      <td>Dimensions 2</td>\n",
              "      <td>(2021)</td>\n",
              "      <td>NaN</td>\n",
              "      <td>NaN</td>\n",
              "      <td>\\nAdventure</td>\n",
              "      <td>6.4</td>\n",
              "      <td>NaN</td>\n",
              "      <td>\\nJack gets taken by a guard and the guard try...</td>\n",
              "      <td>7</td>\n",
              "      <td>None</td>\n",
              "    </tr>\n",
              "    <tr>\n",
              "      <th>4558</th>\n",
              "      <td>Debussy: Ariettes Oubliées</td>\n",
              "      <td>(2021)</td>\n",
              "      <td>NaN</td>\n",
              "      <td>NaN</td>\n",
              "      <td>\\nMusic</td>\n",
              "      <td>NaN</td>\n",
              "      <td>NaN</td>\n",
              "      <td>\\nAdd a Plot\\n</td>\n",
              "      <td>None</td>\n",
              "      <td>None</td>\n",
              "    </tr>\n",
              "  </tbody>\n",
              "</table>\n",
              "<p>4559 rows × 10 columns</p>\n",
              "</div>\n",
              "      <button class=\"colab-df-convert\" onclick=\"convertToInteractive('df-00b6e431-4de4-4e7c-900a-7af3c06faef0')\"\n",
              "              title=\"Convert this dataframe to an interactive table.\"\n",
              "              style=\"display:none;\">\n",
              "        \n",
              "  <svg xmlns=\"http://www.w3.org/2000/svg\" height=\"24px\"viewBox=\"0 0 24 24\"\n",
              "       width=\"24px\">\n",
              "    <path d=\"M0 0h24v24H0V0z\" fill=\"none\"/>\n",
              "    <path d=\"M18.56 5.44l.94 2.06.94-2.06 2.06-.94-2.06-.94-.94-2.06-.94 2.06-2.06.94zm-11 1L8.5 8.5l.94-2.06 2.06-.94-2.06-.94L8.5 2.5l-.94 2.06-2.06.94zm10 10l.94 2.06.94-2.06 2.06-.94-2.06-.94-.94-2.06-.94 2.06-2.06.94z\"/><path d=\"M17.41 7.96l-1.37-1.37c-.4-.4-.92-.59-1.43-.59-.52 0-1.04.2-1.43.59L10.3 9.45l-7.72 7.72c-.78.78-.78 2.05 0 2.83L4 21.41c.39.39.9.59 1.41.59.51 0 1.02-.2 1.41-.59l7.78-7.78 2.81-2.81c.8-.78.8-2.07 0-2.86zM5.41 20L4 18.59l7.72-7.72 1.47 1.35L5.41 20z\"/>\n",
              "  </svg>\n",
              "      </button>\n",
              "      \n",
              "  <style>\n",
              "    .colab-df-container {\n",
              "      display:flex;\n",
              "      flex-wrap:wrap;\n",
              "      gap: 12px;\n",
              "    }\n",
              "\n",
              "    .colab-df-convert {\n",
              "      background-color: #E8F0FE;\n",
              "      border: none;\n",
              "      border-radius: 50%;\n",
              "      cursor: pointer;\n",
              "      display: none;\n",
              "      fill: #1967D2;\n",
              "      height: 32px;\n",
              "      padding: 0 0 0 0;\n",
              "      width: 32px;\n",
              "    }\n",
              "\n",
              "    .colab-df-convert:hover {\n",
              "      background-color: #E2EBFA;\n",
              "      box-shadow: 0px 1px 2px rgba(60, 64, 67, 0.3), 0px 1px 3px 1px rgba(60, 64, 67, 0.15);\n",
              "      fill: #174EA6;\n",
              "    }\n",
              "\n",
              "    [theme=dark] .colab-df-convert {\n",
              "      background-color: #3B4455;\n",
              "      fill: #D2E3FC;\n",
              "    }\n",
              "\n",
              "    [theme=dark] .colab-df-convert:hover {\n",
              "      background-color: #434B5C;\n",
              "      box-shadow: 0px 1px 3px 1px rgba(0, 0, 0, 0.15);\n",
              "      filter: drop-shadow(0px 1px 2px rgba(0, 0, 0, 0.3));\n",
              "      fill: #FFFFFF;\n",
              "    }\n",
              "  </style>\n",
              "\n",
              "      <script>\n",
              "        const buttonEl =\n",
              "          document.querySelector('#df-00b6e431-4de4-4e7c-900a-7af3c06faef0 button.colab-df-convert');\n",
              "        buttonEl.style.display =\n",
              "          google.colab.kernel.accessAllowed ? 'block' : 'none';\n",
              "\n",
              "        async function convertToInteractive(key) {\n",
              "          const element = document.querySelector('#df-00b6e431-4de4-4e7c-900a-7af3c06faef0');\n",
              "          const dataTable =\n",
              "            await google.colab.kernel.invokeFunction('convertToInteractive',\n",
              "                                                     [key], {});\n",
              "          if (!dataTable) return;\n",
              "\n",
              "          const docLinkHtml = 'Like what you see? Visit the ' +\n",
              "            '<a target=\"_blank\" href=https://colab.research.google.com/notebooks/data_table.ipynb>data table notebook</a>'\n",
              "            + ' to learn more about interactive tables.';\n",
              "          element.innerHTML = '';\n",
              "          dataTable['output_type'] = 'display_data';\n",
              "          await google.colab.output.renderOutput(dataTable, element);\n",
              "          const docLink = document.createElement('div');\n",
              "          docLink.innerHTML = docLinkHtml;\n",
              "          element.appendChild(docLink);\n",
              "        }\n",
              "      </script>\n",
              "    </div>\n",
              "  </div>\n",
              "  "
            ]
          },
          "metadata": {},
          "execution_count": 42
        }
      ]
    },
    {
      "cell_type": "code",
      "source": [
        "movie_df.info()"
      ],
      "metadata": {
        "colab": {
          "base_uri": "https://localhost:8080/"
        },
        "id": "ZrcaLqrngGm_",
        "outputId": "24112880-66a0-40c7-f993-46c1cc3dfaf4"
      },
      "execution_count": null,
      "outputs": [
        {
          "output_type": "stream",
          "name": "stdout",
          "text": [
            "<class 'pandas.core.frame.DataFrame'>\n",
            "RangeIndex: 4559 entries, 0 to 4558\n",
            "Data columns (total 10 columns):\n",
            " #   Column       Non-Null Count  Dtype \n",
            "---  ------       --------------  ----- \n",
            " 0   titles       4559 non-null   object\n",
            " 1   releases     4559 non-null   object\n",
            " 2   censorships  477 non-null    object\n",
            " 3   durations    3370 non-null   object\n",
            " 4   categories   4303 non-null   object\n",
            " 5   ratings      2472 non-null   object\n",
            " 6   metascores   240 non-null    object\n",
            " 7   summaries    4559 non-null   object\n",
            " 8   votes        2473 non-null   object\n",
            " 9   grosses      12 non-null     object\n",
            "dtypes: object(10)\n",
            "memory usage: 356.3+ KB\n"
          ]
        }
      ]
    },
    {
      "cell_type": "code",
      "source": [
        "movie_df.isna().sum()"
      ],
      "metadata": {
        "colab": {
          "base_uri": "https://localhost:8080/"
        },
        "id": "dvAQRNtQaXCf",
        "outputId": "42fa9ef6-b623-4ea5-c9eb-be9121962343"
      },
      "execution_count": null,
      "outputs": [
        {
          "output_type": "execute_result",
          "data": {
            "text/plain": [
              "titles            0\n",
              "releases          0\n",
              "censorships    4082\n",
              "durations      1189\n",
              "categories      256\n",
              "ratings        2087\n",
              "metascores     4319\n",
              "summaries         0\n",
              "votes          2086\n",
              "grosses        4547\n",
              "dtype: int64"
            ]
          },
          "metadata": {},
          "execution_count": 44
        }
      ]
    },
    {
      "cell_type": "code",
      "source": [
        "movie_df.dtypes"
      ],
      "metadata": {
        "colab": {
          "base_uri": "https://localhost:8080/"
        },
        "id": "g-eBDC4DXvbW",
        "outputId": "81587348-daa6-4c15-8207-404b5bc3d044"
      },
      "execution_count": null,
      "outputs": [
        {
          "output_type": "execute_result",
          "data": {
            "text/plain": [
              "titles         object\n",
              "releases       object\n",
              "censorships    object\n",
              "durations      object\n",
              "categories     object\n",
              "ratings        object\n",
              "metascores     object\n",
              "summaries      object\n",
              "votes          object\n",
              "grosses        object\n",
              "dtype: object"
            ]
          },
          "metadata": {},
          "execution_count": 45
        }
      ]
    },
    {
      "cell_type": "code",
      "source": [
        "# Convert METASCORES to FLOAT\n",
        "movie_df[\"metascores\"] = movie_df[\"metascores\"].apply(np.single)\n",
        "movie_df.dtypes"
      ],
      "metadata": {
        "colab": {
          "base_uri": "https://localhost:8080/"
        },
        "id": "t5uEZLkMZd2j",
        "outputId": "132825b3-3152-4b86-a349-268c192198d8"
      },
      "execution_count": null,
      "outputs": [
        {
          "output_type": "execute_result",
          "data": {
            "text/plain": [
              "titles          object\n",
              "releases        object\n",
              "censorships     object\n",
              "durations       object\n",
              "categories      object\n",
              "ratings         object\n",
              "metascores     float32\n",
              "summaries       object\n",
              "votes           object\n",
              "grosses         object\n",
              "dtype: object"
            ]
          },
          "metadata": {},
          "execution_count": 46
        }
      ]
    },
    {
      "cell_type": "code",
      "source": [
        "# Convert RATINGS to FLOAT\n",
        "movie_df[\"ratings\"] = movie_df[\"ratings\"].apply(np.single)\n",
        "movie_df.dtypes"
      ],
      "metadata": {
        "colab": {
          "base_uri": "https://localhost:8080/"
        },
        "id": "7UQ6TDitbCmF",
        "outputId": "185c8b27-332c-40d8-e9a0-d1bb0e0a633f"
      },
      "execution_count": null,
      "outputs": [
        {
          "output_type": "execute_result",
          "data": {
            "text/plain": [
              "titles          object\n",
              "releases        object\n",
              "censorships     object\n",
              "durations       object\n",
              "categories      object\n",
              "ratings        float32\n",
              "metascores     float32\n",
              "summaries       object\n",
              "votes           object\n",
              "grosses         object\n",
              "dtype: object"
            ]
          },
          "metadata": {},
          "execution_count": 47
        }
      ]
    },
    {
      "cell_type": "code",
      "source": [
        "# Replace Categories\n",
        "movie_df[\"categories\"] = movie_df[\"categories\"].str.replace('\\n', '')\n",
        "movie_df.dtypes"
      ],
      "metadata": {
        "colab": {
          "base_uri": "https://localhost:8080/"
        },
        "id": "cLQtlnXlbTts",
        "outputId": "13ab2ca8-cc68-439a-f289-5a593f1767da"
      },
      "execution_count": null,
      "outputs": [
        {
          "output_type": "execute_result",
          "data": {
            "text/plain": [
              "titles          object\n",
              "releases        object\n",
              "censorships     object\n",
              "durations       object\n",
              "categories      object\n",
              "ratings        float32\n",
              "metascores     float32\n",
              "summaries       object\n",
              "votes           object\n",
              "grosses         object\n",
              "dtype: object"
            ]
          },
          "metadata": {},
          "execution_count": 48
        }
      ]
    },
    {
      "cell_type": "code",
      "source": [
        "# Replace Summaries\n",
        "movie_df[\"summaries\"] = movie_df[\"summaries\"].str.replace('\\n', '')\n",
        "movie_df.dtypes"
      ],
      "metadata": {
        "colab": {
          "base_uri": "https://localhost:8080/"
        },
        "id": "CfUeUyKPhRy2",
        "outputId": "af303088-be4b-4d49-e0c4-b73332cad286"
      },
      "execution_count": null,
      "outputs": [
        {
          "output_type": "execute_result",
          "data": {
            "text/plain": [
              "titles          object\n",
              "releases        object\n",
              "censorships     object\n",
              "durations       object\n",
              "categories      object\n",
              "ratings        float32\n",
              "metascores     float32\n",
              "summaries       object\n",
              "votes           object\n",
              "grosses         object\n",
              "dtype: object"
            ]
          },
          "metadata": {},
          "execution_count": 49
        }
      ]
    },
    {
      "cell_type": "code",
      "source": [
        "# Replace Votes and convert to FLOAT\n",
        "movie_df[\"votes\"] = movie_df[\"votes\"].str.replace('$', '')\n",
        "movie_df[\"votes\"] = movie_df[\"votes\"].str.replace('M', '')\n",
        "movie_df[\"votes\"] = movie_df[\"votes\"].str.replace(',', '.').apply(np.single)\n",
        "movie_df.dtypes"
      ],
      "metadata": {
        "colab": {
          "base_uri": "https://localhost:8080/"
        },
        "id": "OPgph3x3sn-5",
        "outputId": "f3d80d78-1ac6-4185-ba6c-c443c9150a30"
      },
      "execution_count": null,
      "outputs": [
        {
          "output_type": "stream",
          "name": "stderr",
          "text": [
            "/usr/local/lib/python3.7/dist-packages/ipykernel_launcher.py:2: FutureWarning: The default value of regex will change from True to False in a future version. In addition, single character regular expressions will *not* be treated as literal strings when regex=True.\n",
            "  \n"
          ]
        },
        {
          "output_type": "execute_result",
          "data": {
            "text/plain": [
              "titles          object\n",
              "releases        object\n",
              "censorships     object\n",
              "durations       object\n",
              "categories      object\n",
              "ratings        float32\n",
              "metascores     float32\n",
              "summaries       object\n",
              "votes          float32\n",
              "grosses         object\n",
              "dtype: object"
            ]
          },
          "metadata": {},
          "execution_count": 50
        }
      ]
    },
    {
      "cell_type": "code",
      "source": [
        "# Converted None to NaN\n",
        "movie_df.grosses.fillna(value=np.nan, inplace=True)\n",
        "movie_df.dtypes"
      ],
      "metadata": {
        "colab": {
          "base_uri": "https://localhost:8080/"
        },
        "id": "wGZNwzxCvJFe",
        "outputId": "4149a9e4-bb04-409a-ea94-75d35d7fa130"
      },
      "execution_count": null,
      "outputs": [
        {
          "output_type": "execute_result",
          "data": {
            "text/plain": [
              "titles          object\n",
              "releases        object\n",
              "censorships     object\n",
              "durations       object\n",
              "categories      object\n",
              "ratings        float32\n",
              "metascores     float32\n",
              "summaries       object\n",
              "votes          float32\n",
              "grosses         object\n",
              "dtype: object"
            ]
          },
          "metadata": {},
          "execution_count": 66
        }
      ]
    },
    {
      "cell_type": "code",
      "source": [
        "movie_df"
      ],
      "metadata": {
        "colab": {
          "base_uri": "https://localhost:8080/",
          "height": 424
        },
        "id": "RdxUPxtsuilS",
        "outputId": "e23745f5-5943-4dd8-ba23-439aef4cacdf"
      },
      "execution_count": null,
      "outputs": [
        {
          "output_type": "execute_result",
          "data": {
            "text/plain": [
              "                             titles    releases censorships durations  \\\n",
              "0                            Nobody  (I) (2021)           R    92 min   \n",
              "1     The Worst Person in the World      (2021)           R   128 min   \n",
              "2                      Wrath of Man      (2021)           R   119 min   \n",
              "3                              CODA      (2021)       PG-13   111 min   \n",
              "4                          Pleasure      (2021)   Not Rated   109 min   \n",
              "...                             ...         ...         ...       ...   \n",
              "4554    Kikoriki And Friends. Vol.2      (2021)         NaN       NaN   \n",
              "4555              Fennu de huangniu      (2021)         NaN    78 min   \n",
              "4556              Luban four Heroes      (2021)         NaN       NaN   \n",
              "4557                   Dimensions 2      (2021)         NaN       NaN   \n",
              "4558     Debussy: Ariettes Oubliées      (2021)         NaN       NaN   \n",
              "\n",
              "                               categories  ratings  metascores  \\\n",
              "0        Action, Crime, Drama                  7.4        64.0   \n",
              "1      Comedy, Drama, Romance                  7.8        90.0   \n",
              "2     Action, Crime, Thriller                  7.1        57.0   \n",
              "3        Comedy, Drama, Music                  8.0        74.0   \n",
              "4                       Drama                  6.3        75.0   \n",
              "...                                   ...      ...         ...   \n",
              "4554                                  NaN      NaN         NaN   \n",
              "4555            Action, Crime                  NaN         NaN   \n",
              "4556                   Action                  6.7         NaN   \n",
              "4557                Adventure                  6.4         NaN   \n",
              "4558                    Music                  NaN         NaN   \n",
              "\n",
              "                                              summaries       votes  grosses  \n",
              "0     A docile family man slowly reveals his true ch...  235.869995  $27.27M  \n",
              "1     The chronicles of four years in the life of Ju...   54.574001      NaN  \n",
              "2     The plot follows H, a cold and mysterious char...  169.132004      NaN  \n",
              "3     As a CODA (Child of Deaf Adults) Ruby is the o...  119.624001      NaN  \n",
              "4     Bella Cherry arrives in Los Angeles with dream...   13.393000      NaN  \n",
              "...                                                 ...         ...      ...  \n",
              "4554                                         Add a Plot         NaN      NaN  \n",
              "4555  Batu and his wife Tana work hard for their liv...         NaN      NaN  \n",
              "4556                                         Add a Plot   40.000000      NaN  \n",
              "4557  Jack gets taken by a guard and the guard try's...    7.000000      NaN  \n",
              "4558                                         Add a Plot         NaN      NaN  \n",
              "\n",
              "[4559 rows x 10 columns]"
            ],
            "text/html": [
              "\n",
              "  <div id=\"df-5b0e0a07-a74d-4378-8e40-ae659298ed75\">\n",
              "    <div class=\"colab-df-container\">\n",
              "      <div>\n",
              "<style scoped>\n",
              "    .dataframe tbody tr th:only-of-type {\n",
              "        vertical-align: middle;\n",
              "    }\n",
              "\n",
              "    .dataframe tbody tr th {\n",
              "        vertical-align: top;\n",
              "    }\n",
              "\n",
              "    .dataframe thead th {\n",
              "        text-align: right;\n",
              "    }\n",
              "</style>\n",
              "<table border=\"1\" class=\"dataframe\">\n",
              "  <thead>\n",
              "    <tr style=\"text-align: right;\">\n",
              "      <th></th>\n",
              "      <th>titles</th>\n",
              "      <th>releases</th>\n",
              "      <th>censorships</th>\n",
              "      <th>durations</th>\n",
              "      <th>categories</th>\n",
              "      <th>ratings</th>\n",
              "      <th>metascores</th>\n",
              "      <th>summaries</th>\n",
              "      <th>votes</th>\n",
              "      <th>grosses</th>\n",
              "    </tr>\n",
              "  </thead>\n",
              "  <tbody>\n",
              "    <tr>\n",
              "      <th>0</th>\n",
              "      <td>Nobody</td>\n",
              "      <td>(I) (2021)</td>\n",
              "      <td>R</td>\n",
              "      <td>92 min</td>\n",
              "      <td>Action, Crime, Drama</td>\n",
              "      <td>7.4</td>\n",
              "      <td>64.0</td>\n",
              "      <td>A docile family man slowly reveals his true ch...</td>\n",
              "      <td>235.869995</td>\n",
              "      <td>$27.27M</td>\n",
              "    </tr>\n",
              "    <tr>\n",
              "      <th>1</th>\n",
              "      <td>The Worst Person in the World</td>\n",
              "      <td>(2021)</td>\n",
              "      <td>R</td>\n",
              "      <td>128 min</td>\n",
              "      <td>Comedy, Drama, Romance</td>\n",
              "      <td>7.8</td>\n",
              "      <td>90.0</td>\n",
              "      <td>The chronicles of four years in the life of Ju...</td>\n",
              "      <td>54.574001</td>\n",
              "      <td>NaN</td>\n",
              "    </tr>\n",
              "    <tr>\n",
              "      <th>2</th>\n",
              "      <td>Wrath of Man</td>\n",
              "      <td>(2021)</td>\n",
              "      <td>R</td>\n",
              "      <td>119 min</td>\n",
              "      <td>Action, Crime, Thriller</td>\n",
              "      <td>7.1</td>\n",
              "      <td>57.0</td>\n",
              "      <td>The plot follows H, a cold and mysterious char...</td>\n",
              "      <td>169.132004</td>\n",
              "      <td>NaN</td>\n",
              "    </tr>\n",
              "    <tr>\n",
              "      <th>3</th>\n",
              "      <td>CODA</td>\n",
              "      <td>(2021)</td>\n",
              "      <td>PG-13</td>\n",
              "      <td>111 min</td>\n",
              "      <td>Comedy, Drama, Music</td>\n",
              "      <td>8.0</td>\n",
              "      <td>74.0</td>\n",
              "      <td>As a CODA (Child of Deaf Adults) Ruby is the o...</td>\n",
              "      <td>119.624001</td>\n",
              "      <td>NaN</td>\n",
              "    </tr>\n",
              "    <tr>\n",
              "      <th>4</th>\n",
              "      <td>Pleasure</td>\n",
              "      <td>(2021)</td>\n",
              "      <td>Not Rated</td>\n",
              "      <td>109 min</td>\n",
              "      <td>Drama</td>\n",
              "      <td>6.3</td>\n",
              "      <td>75.0</td>\n",
              "      <td>Bella Cherry arrives in Los Angeles with dream...</td>\n",
              "      <td>13.393000</td>\n",
              "      <td>NaN</td>\n",
              "    </tr>\n",
              "    <tr>\n",
              "      <th>...</th>\n",
              "      <td>...</td>\n",
              "      <td>...</td>\n",
              "      <td>...</td>\n",
              "      <td>...</td>\n",
              "      <td>...</td>\n",
              "      <td>...</td>\n",
              "      <td>...</td>\n",
              "      <td>...</td>\n",
              "      <td>...</td>\n",
              "      <td>...</td>\n",
              "    </tr>\n",
              "    <tr>\n",
              "      <th>4554</th>\n",
              "      <td>Kikoriki And Friends. Vol.2</td>\n",
              "      <td>(2021)</td>\n",
              "      <td>NaN</td>\n",
              "      <td>NaN</td>\n",
              "      <td>NaN</td>\n",
              "      <td>NaN</td>\n",
              "      <td>NaN</td>\n",
              "      <td>Add a Plot</td>\n",
              "      <td>NaN</td>\n",
              "      <td>NaN</td>\n",
              "    </tr>\n",
              "    <tr>\n",
              "      <th>4555</th>\n",
              "      <td>Fennu de huangniu</td>\n",
              "      <td>(2021)</td>\n",
              "      <td>NaN</td>\n",
              "      <td>78 min</td>\n",
              "      <td>Action, Crime</td>\n",
              "      <td>NaN</td>\n",
              "      <td>NaN</td>\n",
              "      <td>Batu and his wife Tana work hard for their liv...</td>\n",
              "      <td>NaN</td>\n",
              "      <td>NaN</td>\n",
              "    </tr>\n",
              "    <tr>\n",
              "      <th>4556</th>\n",
              "      <td>Luban four Heroes</td>\n",
              "      <td>(2021)</td>\n",
              "      <td>NaN</td>\n",
              "      <td>NaN</td>\n",
              "      <td>Action</td>\n",
              "      <td>6.7</td>\n",
              "      <td>NaN</td>\n",
              "      <td>Add a Plot</td>\n",
              "      <td>40.000000</td>\n",
              "      <td>NaN</td>\n",
              "    </tr>\n",
              "    <tr>\n",
              "      <th>4557</th>\n",
              "      <td>Dimensions 2</td>\n",
              "      <td>(2021)</td>\n",
              "      <td>NaN</td>\n",
              "      <td>NaN</td>\n",
              "      <td>Adventure</td>\n",
              "      <td>6.4</td>\n",
              "      <td>NaN</td>\n",
              "      <td>Jack gets taken by a guard and the guard try's...</td>\n",
              "      <td>7.000000</td>\n",
              "      <td>NaN</td>\n",
              "    </tr>\n",
              "    <tr>\n",
              "      <th>4558</th>\n",
              "      <td>Debussy: Ariettes Oubliées</td>\n",
              "      <td>(2021)</td>\n",
              "      <td>NaN</td>\n",
              "      <td>NaN</td>\n",
              "      <td>Music</td>\n",
              "      <td>NaN</td>\n",
              "      <td>NaN</td>\n",
              "      <td>Add a Plot</td>\n",
              "      <td>NaN</td>\n",
              "      <td>NaN</td>\n",
              "    </tr>\n",
              "  </tbody>\n",
              "</table>\n",
              "<p>4559 rows × 10 columns</p>\n",
              "</div>\n",
              "      <button class=\"colab-df-convert\" onclick=\"convertToInteractive('df-5b0e0a07-a74d-4378-8e40-ae659298ed75')\"\n",
              "              title=\"Convert this dataframe to an interactive table.\"\n",
              "              style=\"display:none;\">\n",
              "        \n",
              "  <svg xmlns=\"http://www.w3.org/2000/svg\" height=\"24px\"viewBox=\"0 0 24 24\"\n",
              "       width=\"24px\">\n",
              "    <path d=\"M0 0h24v24H0V0z\" fill=\"none\"/>\n",
              "    <path d=\"M18.56 5.44l.94 2.06.94-2.06 2.06-.94-2.06-.94-.94-2.06-.94 2.06-2.06.94zm-11 1L8.5 8.5l.94-2.06 2.06-.94-2.06-.94L8.5 2.5l-.94 2.06-2.06.94zm10 10l.94 2.06.94-2.06 2.06-.94-2.06-.94-.94-2.06-.94 2.06-2.06.94z\"/><path d=\"M17.41 7.96l-1.37-1.37c-.4-.4-.92-.59-1.43-.59-.52 0-1.04.2-1.43.59L10.3 9.45l-7.72 7.72c-.78.78-.78 2.05 0 2.83L4 21.41c.39.39.9.59 1.41.59.51 0 1.02-.2 1.41-.59l7.78-7.78 2.81-2.81c.8-.78.8-2.07 0-2.86zM5.41 20L4 18.59l7.72-7.72 1.47 1.35L5.41 20z\"/>\n",
              "  </svg>\n",
              "      </button>\n",
              "      \n",
              "  <style>\n",
              "    .colab-df-container {\n",
              "      display:flex;\n",
              "      flex-wrap:wrap;\n",
              "      gap: 12px;\n",
              "    }\n",
              "\n",
              "    .colab-df-convert {\n",
              "      background-color: #E8F0FE;\n",
              "      border: none;\n",
              "      border-radius: 50%;\n",
              "      cursor: pointer;\n",
              "      display: none;\n",
              "      fill: #1967D2;\n",
              "      height: 32px;\n",
              "      padding: 0 0 0 0;\n",
              "      width: 32px;\n",
              "    }\n",
              "\n",
              "    .colab-df-convert:hover {\n",
              "      background-color: #E2EBFA;\n",
              "      box-shadow: 0px 1px 2px rgba(60, 64, 67, 0.3), 0px 1px 3px 1px rgba(60, 64, 67, 0.15);\n",
              "      fill: #174EA6;\n",
              "    }\n",
              "\n",
              "    [theme=dark] .colab-df-convert {\n",
              "      background-color: #3B4455;\n",
              "      fill: #D2E3FC;\n",
              "    }\n",
              "\n",
              "    [theme=dark] .colab-df-convert:hover {\n",
              "      background-color: #434B5C;\n",
              "      box-shadow: 0px 1px 3px 1px rgba(0, 0, 0, 0.15);\n",
              "      filter: drop-shadow(0px 1px 2px rgba(0, 0, 0, 0.3));\n",
              "      fill: #FFFFFF;\n",
              "    }\n",
              "  </style>\n",
              "\n",
              "      <script>\n",
              "        const buttonEl =\n",
              "          document.querySelector('#df-5b0e0a07-a74d-4378-8e40-ae659298ed75 button.colab-df-convert');\n",
              "        buttonEl.style.display =\n",
              "          google.colab.kernel.accessAllowed ? 'block' : 'none';\n",
              "\n",
              "        async function convertToInteractive(key) {\n",
              "          const element = document.querySelector('#df-5b0e0a07-a74d-4378-8e40-ae659298ed75');\n",
              "          const dataTable =\n",
              "            await google.colab.kernel.invokeFunction('convertToInteractive',\n",
              "                                                     [key], {});\n",
              "          if (!dataTable) return;\n",
              "\n",
              "          const docLinkHtml = 'Like what you see? Visit the ' +\n",
              "            '<a target=\"_blank\" href=https://colab.research.google.com/notebooks/data_table.ipynb>data table notebook</a>'\n",
              "            + ' to learn more about interactive tables.';\n",
              "          element.innerHTML = '';\n",
              "          dataTable['output_type'] = 'display_data';\n",
              "          await google.colab.output.renderOutput(dataTable, element);\n",
              "          const docLink = document.createElement('div');\n",
              "          docLink.innerHTML = docLinkHtml;\n",
              "          element.appendChild(docLink);\n",
              "        }\n",
              "      </script>\n",
              "    </div>\n",
              "  </div>\n",
              "  "
            ]
          },
          "metadata": {},
          "execution_count": 67
        }
      ]
    },
    {
      "cell_type": "code",
      "source": [
        "movie_df.to_csv('movies_dataframe.csv', index=False)\n",
        "files.download('movies_dataframe.csv')"
      ],
      "metadata": {
        "id": "0XBKpjfds5mf",
        "colab": {
          "base_uri": "https://localhost:8080/",
          "height": 17
        },
        "outputId": "15940095-158d-45e0-a59b-a8d44f58caae"
      },
      "execution_count": null,
      "outputs": [
        {
          "output_type": "display_data",
          "data": {
            "text/plain": [
              "<IPython.core.display.Javascript object>"
            ],
            "application/javascript": [
              "\n",
              "    async function download(id, filename, size) {\n",
              "      if (!google.colab.kernel.accessAllowed) {\n",
              "        return;\n",
              "      }\n",
              "      const div = document.createElement('div');\n",
              "      const label = document.createElement('label');\n",
              "      label.textContent = `Downloading \"${filename}\": `;\n",
              "      div.appendChild(label);\n",
              "      const progress = document.createElement('progress');\n",
              "      progress.max = size;\n",
              "      div.appendChild(progress);\n",
              "      document.body.appendChild(div);\n",
              "\n",
              "      const buffers = [];\n",
              "      let downloaded = 0;\n",
              "\n",
              "      const channel = await google.colab.kernel.comms.open(id);\n",
              "      // Send a message to notify the kernel that we're ready.\n",
              "      channel.send({})\n",
              "\n",
              "      for await (const message of channel.messages) {\n",
              "        // Send a message to notify the kernel that we're ready.\n",
              "        channel.send({})\n",
              "        if (message.buffers) {\n",
              "          for (const buffer of message.buffers) {\n",
              "            buffers.push(buffer);\n",
              "            downloaded += buffer.byteLength;\n",
              "            progress.value = downloaded;\n",
              "          }\n",
              "        }\n",
              "      }\n",
              "      const blob = new Blob(buffers, {type: 'application/binary'});\n",
              "      const a = document.createElement('a');\n",
              "      a.href = window.URL.createObjectURL(blob);\n",
              "      a.download = filename;\n",
              "      div.appendChild(a);\n",
              "      a.click();\n",
              "      div.remove();\n",
              "    }\n",
              "  "
            ]
          },
          "metadata": {}
        },
        {
          "output_type": "display_data",
          "data": {
            "text/plain": [
              "<IPython.core.display.Javascript object>"
            ],
            "application/javascript": [
              "download(\"download_9367457d-8713-4067-9cff-442ee4c11cb9\", \"movies_dataframe.csv\", 908056)"
            ]
          },
          "metadata": {}
        }
      ]
    },
    {
      "cell_type": "code",
      "source": [
        "movie_df.to_excel('movies_dataframe.xlsx', index=False)\n",
        "files.download('movies_dataframe.xlsx')"
      ],
      "metadata": {
        "colab": {
          "base_uri": "https://localhost:8080/",
          "height": 34
        },
        "id": "iJEgDqoGqkct",
        "outputId": "f47bb393-2dc2-41b8-98c9-a93af8cd86a9"
      },
      "execution_count": null,
      "outputs": [
        {
          "output_type": "display_data",
          "data": {
            "text/plain": [
              "<IPython.core.display.Javascript object>"
            ],
            "application/javascript": [
              "\n",
              "    async function download(id, filename, size) {\n",
              "      if (!google.colab.kernel.accessAllowed) {\n",
              "        return;\n",
              "      }\n",
              "      const div = document.createElement('div');\n",
              "      const label = document.createElement('label');\n",
              "      label.textContent = `Downloading \"${filename}\": `;\n",
              "      div.appendChild(label);\n",
              "      const progress = document.createElement('progress');\n",
              "      progress.max = size;\n",
              "      div.appendChild(progress);\n",
              "      document.body.appendChild(div);\n",
              "\n",
              "      const buffers = [];\n",
              "      let downloaded = 0;\n",
              "\n",
              "      const channel = await google.colab.kernel.comms.open(id);\n",
              "      // Send a message to notify the kernel that we're ready.\n",
              "      channel.send({})\n",
              "\n",
              "      for await (const message of channel.messages) {\n",
              "        // Send a message to notify the kernel that we're ready.\n",
              "        channel.send({})\n",
              "        if (message.buffers) {\n",
              "          for (const buffer of message.buffers) {\n",
              "            buffers.push(buffer);\n",
              "            downloaded += buffer.byteLength;\n",
              "            progress.value = downloaded;\n",
              "          }\n",
              "        }\n",
              "      }\n",
              "      const blob = new Blob(buffers, {type: 'application/binary'});\n",
              "      const a = document.createElement('a');\n",
              "      a.href = window.URL.createObjectURL(blob);\n",
              "      a.download = filename;\n",
              "      div.appendChild(a);\n",
              "      a.click();\n",
              "      div.remove();\n",
              "    }\n",
              "  "
            ]
          },
          "metadata": {}
        },
        {
          "output_type": "display_data",
          "data": {
            "text/plain": [
              "<IPython.core.display.Javascript object>"
            ],
            "application/javascript": [
              "download(\"download_3ab91527-646a-4cc5-a075-353396c020a1\", \"movies_dataframe.xlsx\", 565695)"
            ]
          },
          "metadata": {}
        }
      ]
    }
  ]
}
