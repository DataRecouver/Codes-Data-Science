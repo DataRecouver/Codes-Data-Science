{
  "nbformat": 4,
  "nbformat_minor": 0,
  "metadata": {
    "colab": {
      "name": "Cópia de Exercícios de fixação de Exercícios python2222.ipynb",
      "provenance": [],
      "collapsed_sections": [],
      "include_colab_link": true
    },
    "kernelspec": {
      "name": "python3",
      "display_name": "Python 3"
    },
    "gpuClass": "standard"
  },
  "cells": [
    {
      "cell_type": "markdown",
      "metadata": {
        "id": "view-in-github",
        "colab_type": "text"
      },
      "source": [
        "<a href=\"https://colab.research.google.com/github/DataRecouver/Codes-Data-Science/blob/main/Exerc%C3%ADcios_de_fixa%C3%A7%C3%A3o_de_Exerc%C3%ADcios_python2222.ipynb\" target=\"_parent\"><img src=\"https://colab.research.google.com/assets/colab-badge.svg\" alt=\"Open In Colab\"/></a>"
      ]
    },
    {
      "cell_type": "markdown",
      "metadata": {
        "id": "tkqhfFzerom0"
      },
      "source": [
        "#Introdução à linguagem Python"
      ]
    },
    {
      "cell_type": "markdown",
      "metadata": {
        "id": "GKjKyi9YBFua"
      },
      "source": [
        "##Tipos de dados"
      ]
    },
    {
      "cell_type": "code",
      "metadata": {
        "id": "7X8kZwAIBIKR",
        "outputId": "3de6ec2f-4f15-47a7-93e9-bdea29980742",
        "colab": {
          "base_uri": "https://localhost:8080/"
        }
      },
      "source": [
        "x = 3\n",
        "print(\"x = 3\")\n",
        "print(type(x))\n",
        "\n",
        "x /= 2\n",
        "print(\"x /= 2\")\n",
        "print(type(x))\n",
        "\n",
        "x//=2\n",
        "print(\"x//=2\")\n",
        "print(type(x))\n",
        "\n",
        "x = int(x)\n",
        "print(\"x = int(x)\")\n",
        "print(type(x))\n",
        "\n",
        "x = \"fim\"\n",
        "print(\"x = ‘fim’\")\n",
        "print(type(x)) "
      ],
      "execution_count": null,
      "outputs": [
        {
          "output_type": "stream",
          "name": "stdout",
          "text": [
            "x = 3\n",
            "<class 'int'>\n",
            "x /= 2\n",
            "<class 'float'>\n",
            "x//=2\n",
            "<class 'float'>\n",
            "x = int(x)\n",
            "<class 'int'>\n",
            "x = ‘fim’\n",
            "<class 'str'>\n"
          ]
        }
      ]
    },
    {
      "cell_type": "markdown",
      "metadata": {
        "id": "xQA6mVD8nE2U"
      },
      "source": [
        "##Variáveis"
      ]
    },
    {
      "cell_type": "markdown",
      "metadata": {
        "id": "xleeoviie_ss"
      },
      "source": [
        "###Exercício 01: \n",
        "\n",
        "\n",
        "\n",
        "\n"
      ]
    },
    {
      "cell_type": "markdown",
      "metadata": {
        "id": "IZZOJ9w_KfEO"
      },
      "source": [
        "Braian é um professor legal e quer evitar que o aluno João seja reprovado. João tirou 8,66, 5,35, 5 e 1, respectivamente, nas provas P1, P2, P3 e P4. Para isso, ele pode calcular a nota final usando a média aritmética (M.A.), média geométrica (M.G.) ou média harmônica (M.H.) \n",
        "Qual dessas médias dá a maior nota para João? E qual das médias dá a pior nota?"
      ]
    },
    {
      "cell_type": "code",
      "metadata": {
        "id": "_-conwGl4XRd",
        "colab": {
          "base_uri": "https://localhost:8080/"
        },
        "outputId": "02a49b30-be24-4dd3-efe4-add407da9918"
      },
      "source": [
        "# Fiz Besteira em um sinal e passei 1 hora achando que tinha feito errado, enfim a hipotermia >_< #\n",
        "# OBS: MAIS ATENÇÃO #\n",
        "p1, p2, p3, p4= 8.66, 5.35, 5, 1\n",
        "\n",
        "media_aritimetica =(p1+p2+p3+p4)/4\n",
        "\n",
        "media_geometrica =(p1*p2*p3*p4)**(1/4)\n",
        "\n",
        "media_harmonica = 4/((1/p1)+(1/p2)+(1/p3)+(1/p4))\n",
        "\n",
        "print(\"\\n ---- o valor da media aritimetica é: {:.2f} ----\".format(media_aritimetica))\n",
        "\n",
        "print(\"\\n ---- o valor da media geometrica é: {:.2f} ----\".format(media_geometrica))\n",
        "\n",
        "print(\"\\n ---- o valor da media harmonica é : {:.2f} ---- \".format(media_harmonica))\n",
        "\n",
        "\n",
        "\n"
      ],
      "execution_count": null,
      "outputs": [
        {
          "output_type": "stream",
          "name": "stdout",
          "text": [
            "\n",
            " ---- o valor da media aritimetica é: 5.00 ----\n",
            "\n",
            " ---- o valor da media geometrica é: 3.90 ----\n",
            "\n",
            " ---- o valor da media harmonica é : 2.66 ---- \n"
          ]
        }
      ]
    },
    {
      "cell_type": "markdown",
      "metadata": {
        "id": "EcJqeJMtztQV"
      },
      "source": [
        "###Exercício 02:\n",
        "\n",
        "\n"
      ]
    },
    {
      "cell_type": "markdown",
      "metadata": {
        "id": "0Q-6vH1pKjhi"
      },
      "source": [
        "Josefa deseja fazer compras na China. Ela quer comprar um celular de USD 299,99, uma chaleira de USD 23,87, um gnomo de jardim de USD 66,66 e 6 adesivos de unicórnio de USD 1,42 cada um. O frete para Salvador é USD 12,34. Considerando o dólar a R$ 5,28 (:/), responda:\n",
        "\n",
        "a. Qual o preço final da compra em reais? Lembre-se que o valor do IOF é de 6,28%.\n",
        "\n",
        "b. Quanto ela pagará apenas de IOF?"
      ]
    },
    {
      "cell_type": "code",
      "source": [
        "# Preciso ter noção #\n",
        "\n",
        "dolar = 5.28\n",
        "celular = 299.99\n",
        "chaleira = 23.87\n",
        "gnomo = 66.66\n",
        "adsuni = 1.42\n",
        "frete = 12.34\n",
        "iof = 6.28/100\n",
        "total_dolares = celular + chaleira + gnomo + 6 * adsuni\n",
        "total_dolares_frete = celular + chaleira + gnomo + 6 * adsuni  + frete\n",
        "total_reais = total_dolares_frete * dolar * (1+ iof)\n",
        "imposto = total_dolares_frete * dolar * iof\n",
        "Iof = total_dolares_frete * dolar * iof\n",
        "\n",
        "print(\"\\n -o total em dólares é: R${:.2f}\".format(total_dolares))\n",
        "print(\"\\n -o total em dólares com frete é: R${:.2f}\".format (total_dolares_frete))\n",
        "print(\"\\n -o total em reais é: R${:.2f}\".format (total_reais))\n",
        "print(\"\\n -o total do imposto é: R${:.2f}\".format (imposto))"
      ],
      "metadata": {
        "id": "3ReLIzeEd-ca",
        "colab": {
          "base_uri": "https://localhost:8080/"
        },
        "outputId": "10985f25-7b13-4add-f75d-384f2883144c"
      },
      "execution_count": null,
      "outputs": [
        {
          "output_type": "stream",
          "name": "stdout",
          "text": [
            "\n",
            " -o total em dólares é: R$399.04\n",
            "\n",
            " -o total em dólares com frete é: R$411.38\n",
            "\n",
            " -o total em reais é: R$2308.49\n",
            "\n",
            " -o total do imposto é: R$136.41\n"
          ]
        }
      ]
    },
    {
      "cell_type": "code",
      "source": [
        "test = 6\n",
        "def fonc_teste():\n",
        "  if 2 > 3:\n",
        "    if 5< 10:\n",
        "      print(\"5<10\")\n",
        "    else:\n",
        "      print(\"5>10\")\n",
        "  else:\n",
        "      print(2<3)\n",
        "      return \"olá\", 5, teste"
      ],
      "metadata": {
        "id": "45D04WsRgXHi"
      },
      "execution_count": null,
      "outputs": []
    },
    {
      "cell_type": "code",
      "source": [
        ""
      ],
      "metadata": {
        "id": "NdpwCKOUhyVx"
      },
      "execution_count": null,
      "outputs": []
    },
    {
      "cell_type": "code",
      "metadata": {
        "id": "VGU4KsThzC-Y",
        "colab": {
          "base_uri": "https://localhost:8080/"
        },
        "outputId": "95619e68-d01a-49d9-ed89-ec3f7e630b5b"
      },
      "source": [
        "help(len)"
      ],
      "execution_count": null,
      "outputs": [
        {
          "output_type": "stream",
          "name": "stdout",
          "text": [
            "Help on built-in function len in module builtins:\n",
            "\n",
            "len(obj, /)\n",
            "    Return the number of items in a container.\n",
            "\n"
          ]
        }
      ]
    },
    {
      "cell_type": "code",
      "source": [
        "#Manipulação de Strings#\n",
        "len(\"olá\")"
      ],
      "metadata": {
        "colab": {
          "base_uri": "https://localhost:8080/"
        },
        "id": "KQE0dJ3EnJLK",
        "outputId": "43d27ae7-bc0f-4200-e3d3-3304b71a69f3"
      },
      "execution_count": null,
      "outputs": [
        {
          "output_type": "execute_result",
          "data": {
            "text/plain": [
              "3"
            ]
          },
          "metadata": {},
          "execution_count": 6
        }
      ]
    },
    {
      "cell_type": "code",
      "source": [
        "#Manipulação de Strings#\n",
        "\"olá\"+ str(5)\n",
        "#Manipulação de Strings#\n",
        "\"olá {}\".format(5)\n",
        "#Manipulação de Strings#\n",
        "print(\"olá : {:.2f}\".format(5.56545))"
      ],
      "metadata": {
        "colab": {
          "base_uri": "https://localhost:8080/"
        },
        "id": "-KYSkumCl-W7",
        "outputId": "049c15df-1bad-461b-be9d-47bc6b1dda81"
      },
      "execution_count": null,
      "outputs": [
        {
          "output_type": "stream",
          "name": "stdout",
          "text": [
            "olá : 5.57\n"
          ]
        }
      ]
    },
    {
      "cell_type": "code",
      "source": [
        ""
      ],
      "metadata": {
        "id": "Sy8qXUnXng9a"
      },
      "execution_count": null,
      "outputs": []
    },
    {
      "cell_type": "markdown",
      "metadata": {
        "id": "dKtG8whpnLcb"
      },
      "source": [
        "##Manipulação de strings"
      ]
    },
    {
      "cell_type": "markdown",
      "source": [
        "### Indexação"
      ],
      "metadata": {
        "id": "3-pW_yWXSdkU"
      }
    },
    {
      "cell_type": "code",
      "metadata": {
        "id": "oxwj_Np5DrkQ",
        "colab": {
          "base_uri": "https://localhost:8080/"
        },
        "outputId": "c913f45c-eb2e-41eb-f735-0362281063ab"
      },
      "source": [
        "frase = \"Aprender Python é muito divertido!\"\n",
        "print(frase)\n",
        "print()\n",
        "print(\"frase[0]: {}\".format(frase[0])) #A\n",
        "print(\"frase[5]: {}\".format(frase[5])) #d\n",
        "print(\"frase[0:5]: {}\".format(frase[0:5])) #Apren\n",
        "print(\"frase[:]: {}\".format(frase[:]))#Aprender Python é muito divertido!\n",
        "print(\"frase[6:]: {}\".format(frase[6:]))#er Python é muito divertido!\n",
        "print(\"frase[:6]: {}\".format(frase[:6]))#Aprend\n",
        "print(\"frase[2:-3]: {}\".format(frase[2:-3]))#render Python é muito diverti\n",
        "print(\"frase[0:-7]: {}\".format(frase[0:-7]))#Aprender Python é muito div\n",
        "print(\"frase[2:-2]: {}\".format(frase[2:-2]))#render Python é muito divertid\n",
        "print(\"frase[::2]: {}\".format(frase[::2]))#Arn\n",
        "print(\"frase[::-1]: {}\".format(frase[::-1]))#inversão\n",
        "print(\"frase[-7:0:-1]: {}\".format(frase[-7:0:-1]))"
      ],
      "execution_count": null,
      "outputs": [
        {
          "output_type": "stream",
          "name": "stdout",
          "text": [
            "Aprender Python é muito divertido!\n",
            "\n",
            "frase[0]: A\n",
            "frase[5]: d\n",
            "frase[0:5]: Apren\n",
            "frase[:]: Aprender Python é muito divertido!\n",
            "frase[6:]: er Python é muito divertido!\n",
            "frase[:6]: Aprend\n",
            "frase[2:-3]: render Python é muito diverti\n",
            "frase[0:-7]: Aprender Python é muito div\n",
            "frase[2:-2]: render Python é muito divertid\n",
            "frase[::2]: Arne yhnémiodvrio\n",
            "frase[::-1]: !oditrevid otium é nohtyP rednerpA\n",
            "frase[-7:0:-1]: evid otium é nohtyP rednerp\n"
          ]
        }
      ]
    },
    {
      "cell_type": "markdown",
      "source": [
        "### Split"
      ],
      "metadata": {
        "id": "AgMQFkGgSYQs"
      }
    },
    {
      "cell_type": "code",
      "metadata": {
        "id": "sitngz2SE2Vt",
        "colab": {
          "base_uri": "https://localhost:8080/"
        },
        "outputId": "50976665-4519-4b0b-b3c3-f63090e7e899"
      },
      "source": [
        "help(str.split)"
      ],
      "execution_count": null,
      "outputs": [
        {
          "output_type": "stream",
          "name": "stdout",
          "text": [
            "Help on method_descriptor:\n",
            "\n",
            "split(self, /, sep=None, maxsplit=-1)\n",
            "    Return a list of the words in the string, using sep as the delimiter string.\n",
            "    \n",
            "    sep\n",
            "      The delimiter according which to split the string.\n",
            "      None (the default value) means split according to any whitespace,\n",
            "      and discard empty strings from the result.\n",
            "    maxsplit\n",
            "      Maximum number of splits to do.\n",
            "      -1 (the default value) means no limit.\n",
            "\n"
          ]
        }
      ]
    },
    {
      "cell_type": "code",
      "metadata": {
        "id": "fluuyWiyqD3z",
        "colab": {
          "base_uri": "https://localhost:8080/"
        },
        "outputId": "997c73b1-c173-4fa5-eb65-27699b0bcb75"
      },
      "source": [
        "frase = \"texto separado por espaço.\"\n",
        "texto = \"Parágrafo 1. Parágrafo 2. Parágrafo 3.\"\n",
        "\n",
        "palavras = frase.split()\n",
        "paragrafos = texto.split(\".\")\n",
        "\n",
        "print(palavras)\n",
        "print(paragrafos)"
      ],
      "execution_count": null,
      "outputs": [
        {
          "output_type": "stream",
          "name": "stdout",
          "text": [
            "['texto', 'separado', 'por', 'espaço.']\n",
            "['Parágrafo 1', ' Parágrafo 2', ' Parágrafo 3', '']\n"
          ]
        }
      ]
    },
    {
      "cell_type": "markdown",
      "source": [
        "### Composição de string\n"
      ],
      "metadata": {
        "id": "FxTNjcqtShiM"
      }
    },
    {
      "cell_type": "code",
      "source": [
        "from datetime import date\n",
        "palavra1 = \"Aula\"\n",
        "palavra2 = \"Python\"\n",
        "x = date.today()\n",
        "\n",
        "print(palavra1 + \" \" + palavra2 + \" \" + str(x))\n",
        "\n",
        "print(\"{} {} {}\".format(palavra1, palavra2, x))"
      ],
      "metadata": {
        "id": "1jWGus70SmDj",
        "colab": {
          "base_uri": "https://localhost:8080/"
        },
        "outputId": "034f6563-2952-44e6-cafd-5ea914da4bdd"
      },
      "execution_count": null,
      "outputs": [
        {
          "output_type": "stream",
          "name": "stdout",
          "text": [
            "Aula Python 2022-07-31\n",
            "Aula Python 2022-07-31\n"
          ]
        }
      ]
    },
    {
      "cell_type": "code",
      "source": [
        "resposta = \"{} possui {} anos.\"\n",
        "\n",
        "nome = input(\"Infome seu nome: \")\n",
        "idade = int(input(\"Informe sua idade: \"))\n",
        "\n",
        "print(resposta.format(nome, idade))"
      ],
      "metadata": {
        "id": "e0-l0lmoUBrd",
        "colab": {
          "base_uri": "https://localhost:8080/",
          "height": 539
        },
        "outputId": "6753d568-3499-4852-dfcb-652bc3c7e333"
      },
      "execution_count": null,
      "outputs": [
        {
          "output_type": "error",
          "ename": "KeyboardInterrupt",
          "evalue": "ignored",
          "traceback": [
            "\u001b[0;31m---------------------------------------------------------------------------\u001b[0m",
            "\u001b[0;31mKeyboardInterrupt\u001b[0m                         Traceback (most recent call last)",
            "\u001b[0;32m/usr/local/lib/python3.7/dist-packages/ipykernel/kernelbase.py\u001b[0m in \u001b[0;36m_input_request\u001b[0;34m(self, prompt, ident, parent, password)\u001b[0m\n\u001b[1;32m    728\u001b[0m             \u001b[0;32mtry\u001b[0m\u001b[0;34m:\u001b[0m\u001b[0;34m\u001b[0m\u001b[0;34m\u001b[0m\u001b[0m\n\u001b[0;32m--> 729\u001b[0;31m                 \u001b[0mident\u001b[0m\u001b[0;34m,\u001b[0m \u001b[0mreply\u001b[0m \u001b[0;34m=\u001b[0m \u001b[0mself\u001b[0m\u001b[0;34m.\u001b[0m\u001b[0msession\u001b[0m\u001b[0;34m.\u001b[0m\u001b[0mrecv\u001b[0m\u001b[0;34m(\u001b[0m\u001b[0mself\u001b[0m\u001b[0;34m.\u001b[0m\u001b[0mstdin_socket\u001b[0m\u001b[0;34m,\u001b[0m \u001b[0;36m0\u001b[0m\u001b[0;34m)\u001b[0m\u001b[0;34m\u001b[0m\u001b[0;34m\u001b[0m\u001b[0m\n\u001b[0m\u001b[1;32m    730\u001b[0m             \u001b[0;32mexcept\u001b[0m \u001b[0mException\u001b[0m\u001b[0;34m:\u001b[0m\u001b[0;34m\u001b[0m\u001b[0;34m\u001b[0m\u001b[0m\n",
            "\u001b[0;32m/usr/local/lib/python3.7/dist-packages/jupyter_client/session.py\u001b[0m in \u001b[0;36mrecv\u001b[0;34m(self, socket, mode, content, copy)\u001b[0m\n\u001b[1;32m    802\u001b[0m         \u001b[0;32mtry\u001b[0m\u001b[0;34m:\u001b[0m\u001b[0;34m\u001b[0m\u001b[0;34m\u001b[0m\u001b[0m\n\u001b[0;32m--> 803\u001b[0;31m             \u001b[0mmsg_list\u001b[0m \u001b[0;34m=\u001b[0m \u001b[0msocket\u001b[0m\u001b[0;34m.\u001b[0m\u001b[0mrecv_multipart\u001b[0m\u001b[0;34m(\u001b[0m\u001b[0mmode\u001b[0m\u001b[0;34m,\u001b[0m \u001b[0mcopy\u001b[0m\u001b[0;34m=\u001b[0m\u001b[0mcopy\u001b[0m\u001b[0;34m)\u001b[0m\u001b[0;34m\u001b[0m\u001b[0;34m\u001b[0m\u001b[0m\n\u001b[0m\u001b[1;32m    804\u001b[0m         \u001b[0;32mexcept\u001b[0m \u001b[0mzmq\u001b[0m\u001b[0;34m.\u001b[0m\u001b[0mZMQError\u001b[0m \u001b[0;32mas\u001b[0m \u001b[0me\u001b[0m\u001b[0;34m:\u001b[0m\u001b[0;34m\u001b[0m\u001b[0;34m\u001b[0m\u001b[0m\n",
            "\u001b[0;32m/usr/local/lib/python3.7/dist-packages/zmq/sugar/socket.py\u001b[0m in \u001b[0;36mrecv_multipart\u001b[0;34m(self, flags, copy, track)\u001b[0m\n\u001b[1;32m    726\u001b[0m         \"\"\"\n\u001b[0;32m--> 727\u001b[0;31m         \u001b[0mparts\u001b[0m \u001b[0;34m=\u001b[0m \u001b[0;34m[\u001b[0m\u001b[0mself\u001b[0m\u001b[0;34m.\u001b[0m\u001b[0mrecv\u001b[0m\u001b[0;34m(\u001b[0m\u001b[0mflags\u001b[0m\u001b[0;34m,\u001b[0m \u001b[0mcopy\u001b[0m\u001b[0;34m=\u001b[0m\u001b[0mcopy\u001b[0m\u001b[0;34m,\u001b[0m \u001b[0mtrack\u001b[0m\u001b[0;34m=\u001b[0m\u001b[0mtrack\u001b[0m\u001b[0;34m)\u001b[0m\u001b[0;34m]\u001b[0m\u001b[0;34m\u001b[0m\u001b[0;34m\u001b[0m\u001b[0m\n\u001b[0m\u001b[1;32m    728\u001b[0m         \u001b[0;31m# have first part already, only loop while more to receive\u001b[0m\u001b[0;34m\u001b[0m\u001b[0;34m\u001b[0m\u001b[0;34m\u001b[0m\u001b[0m\n",
            "\u001b[0;32mzmq/backend/cython/socket.pyx\u001b[0m in \u001b[0;36mzmq.backend.cython.socket.Socket.recv\u001b[0;34m()\u001b[0m\n",
            "\u001b[0;32mzmq/backend/cython/socket.pyx\u001b[0m in \u001b[0;36mzmq.backend.cython.socket.Socket.recv\u001b[0;34m()\u001b[0m\n",
            "\u001b[0;32mzmq/backend/cython/socket.pyx\u001b[0m in \u001b[0;36mzmq.backend.cython.socket._recv_copy\u001b[0;34m()\u001b[0m\n",
            "\u001b[0;32m/usr/local/lib/python3.7/dist-packages/zmq/backend/cython/checkrc.pxd\u001b[0m in \u001b[0;36mzmq.backend.cython.checkrc._check_rc\u001b[0;34m()\u001b[0m\n",
            "\u001b[0;31mKeyboardInterrupt\u001b[0m: ",
            "\nDuring handling of the above exception, another exception occurred:\n",
            "\u001b[0;31mKeyboardInterrupt\u001b[0m                         Traceback (most recent call last)",
            "\u001b[0;32m<ipython-input-12-5904184e47c1>\u001b[0m in \u001b[0;36m<module>\u001b[0;34m()\u001b[0m\n\u001b[1;32m      1\u001b[0m \u001b[0mresposta\u001b[0m \u001b[0;34m=\u001b[0m \u001b[0;34m\"{} possui {} anos.\"\u001b[0m\u001b[0;34m\u001b[0m\u001b[0;34m\u001b[0m\u001b[0m\n\u001b[1;32m      2\u001b[0m \u001b[0;34m\u001b[0m\u001b[0m\n\u001b[0;32m----> 3\u001b[0;31m \u001b[0mnome\u001b[0m \u001b[0;34m=\u001b[0m \u001b[0minput\u001b[0m\u001b[0;34m(\u001b[0m\u001b[0;34m\"Infome seu nome: \"\u001b[0m\u001b[0;34m)\u001b[0m\u001b[0;34m\u001b[0m\u001b[0;34m\u001b[0m\u001b[0m\n\u001b[0m\u001b[1;32m      4\u001b[0m \u001b[0midade\u001b[0m \u001b[0;34m=\u001b[0m \u001b[0mint\u001b[0m\u001b[0;34m(\u001b[0m\u001b[0minput\u001b[0m\u001b[0;34m(\u001b[0m\u001b[0;34m\"Informe sua idade: \"\u001b[0m\u001b[0;34m)\u001b[0m\u001b[0;34m)\u001b[0m\u001b[0;34m\u001b[0m\u001b[0;34m\u001b[0m\u001b[0m\n\u001b[1;32m      5\u001b[0m \u001b[0;34m\u001b[0m\u001b[0m\n",
            "\u001b[0;32m/usr/local/lib/python3.7/dist-packages/ipykernel/kernelbase.py\u001b[0m in \u001b[0;36mraw_input\u001b[0;34m(self, prompt)\u001b[0m\n\u001b[1;32m    702\u001b[0m             \u001b[0mself\u001b[0m\u001b[0;34m.\u001b[0m\u001b[0m_parent_ident\u001b[0m\u001b[0;34m,\u001b[0m\u001b[0;34m\u001b[0m\u001b[0;34m\u001b[0m\u001b[0m\n\u001b[1;32m    703\u001b[0m             \u001b[0mself\u001b[0m\u001b[0;34m.\u001b[0m\u001b[0m_parent_header\u001b[0m\u001b[0;34m,\u001b[0m\u001b[0;34m\u001b[0m\u001b[0;34m\u001b[0m\u001b[0m\n\u001b[0;32m--> 704\u001b[0;31m             \u001b[0mpassword\u001b[0m\u001b[0;34m=\u001b[0m\u001b[0;32mFalse\u001b[0m\u001b[0;34m,\u001b[0m\u001b[0;34m\u001b[0m\u001b[0;34m\u001b[0m\u001b[0m\n\u001b[0m\u001b[1;32m    705\u001b[0m         )\n\u001b[1;32m    706\u001b[0m \u001b[0;34m\u001b[0m\u001b[0m\n",
            "\u001b[0;32m/usr/local/lib/python3.7/dist-packages/ipykernel/kernelbase.py\u001b[0m in \u001b[0;36m_input_request\u001b[0;34m(self, prompt, ident, parent, password)\u001b[0m\n\u001b[1;32m    732\u001b[0m             \u001b[0;32mexcept\u001b[0m \u001b[0mKeyboardInterrupt\u001b[0m\u001b[0;34m:\u001b[0m\u001b[0;34m\u001b[0m\u001b[0;34m\u001b[0m\u001b[0m\n\u001b[1;32m    733\u001b[0m                 \u001b[0;31m# re-raise KeyboardInterrupt, to truncate traceback\u001b[0m\u001b[0;34m\u001b[0m\u001b[0;34m\u001b[0m\u001b[0;34m\u001b[0m\u001b[0m\n\u001b[0;32m--> 734\u001b[0;31m                 \u001b[0;32mraise\u001b[0m \u001b[0mKeyboardInterrupt\u001b[0m\u001b[0;34m\u001b[0m\u001b[0;34m\u001b[0m\u001b[0m\n\u001b[0m\u001b[1;32m    735\u001b[0m             \u001b[0;32melse\u001b[0m\u001b[0;34m:\u001b[0m\u001b[0;34m\u001b[0m\u001b[0;34m\u001b[0m\u001b[0m\n\u001b[1;32m    736\u001b[0m                 \u001b[0;32mbreak\u001b[0m\u001b[0;34m\u001b[0m\u001b[0;34m\u001b[0m\u001b[0m\n",
            "\u001b[0;31mKeyboardInterrupt\u001b[0m: "
          ]
        }
      ]
    },
    {
      "cell_type": "code",
      "source": [
        "#ManipulaçãoTESTE quebra de linha \\#\n",
        "resposta = \"{} possui {} anos.\"\n",
        "\n",
        "nome = input(\"Infome seu nome: \")\n",
        "idade = int(input(\"Informe sua idade: \"))\n",
        "\n",
        "print(resposta.format(nome, idade)\\\n",
        "      .upper())"
      ],
      "metadata": {
        "id": "t8PTuU-sq0EL"
      },
      "execution_count": null,
      "outputs": []
    },
    {
      "cell_type": "code",
      "source": [
        "\n",
        "#teste upper#\n",
        "resposta = \"{} possui {} anos.\"\n",
        "\n",
        "nome = input(\"Infome seu nome: \")\n",
        "idade = int(input(\"Informe sua idade: \"))\n",
        "\n",
        "print(resposta.format(nome, idade).upper())"
      ],
      "metadata": {
        "id": "IyRnCrdKrbGc"
      },
      "execution_count": null,
      "outputs": []
    },
    {
      "cell_type": "markdown",
      "metadata": {
        "id": "jiWL54BKLU1Q"
      },
      "source": [
        "###Exercício 3:\n",
        "\n",
        "\n",
        "\n",
        "1.   Dada a frase “Python é muito legal.”, use fatiamento para dividir a frase e armazenar cada palavra em uma variável diferente.\n",
        "2.   Agora que conhecemos atribuição múltipla e o método str.split() refaça o exercício anterior usando essas técnicas.\n",
        "3.   Qual o tamanho dessa frase? \n",
        "4.   Use fatiamento (mais especificamente o passo do fatiamento) para inverter a string “Python”.\n"
      ]
    },
    {
      "cell_type": "code",
      "metadata": {
        "id": "ebwOMeW35dRF"
      },
      "source": [
        "#1...#\n",
        "frase =\"Python é muito legal\"\n",
        "print(frase)\n",
        "print()\n",
        "#print(\"frase[0]:{}\".format(frase[0]))#P#\n",
        "print(\"frase[0:6]{}\".format(frase[0:6]))#Python\n",
        "print(\"frase[7]{}\".format(frase[7]))#é\n",
        "print(\"frase[8:15]{}\".format(frase[8:15]))\n",
        "print(\"frase[15:20]{}\".format(frase[15:20]))\n",
        "\n",
        "\n",
        "\n",
        "\n",
        "\n",
        "\n",
        "\n",
        "\n"
      ],
      "execution_count": null,
      "outputs": []
    },
    {
      "cell_type": "code",
      "source": [
        "frase = \"Python é muito legal.\"\n",
        "\n",
        "\n",
        "palavra1 = frase [0:6]\n",
        "palavra2 = frase [7]\n",
        "print(frase[15:-1])"
      ],
      "metadata": {
        "id": "aTV9uQrgwUYM"
      },
      "execution_count": null,
      "outputs": []
    },
    {
      "cell_type": "code",
      "source": [
        "frase = \"Python é muito legal.\"\n",
        "\n",
        "\n",
        "print(frase[::-1])"
      ],
      "metadata": {
        "id": "l3XuRIjRjrAU"
      },
      "execution_count": null,
      "outputs": []
    },
    {
      "cell_type": "code",
      "source": [
        "frase = \"Python é muito legal.\"\n",
        "\n",
        "p1, p2, p3, p4 = frase.split()\n",
        "print(p1, p2, p3, p4)"
      ],
      "metadata": {
        "id": "J57DoRfdw90l"
      },
      "execution_count": null,
      "outputs": []
    },
    {
      "cell_type": "code",
      "source": [
        "frase = \"Python é muito legal.\"\n",
        "\n",
        "len(frase)"
      ],
      "metadata": {
        "id": "O4qXYH5AxN1c"
      },
      "execution_count": null,
      "outputs": []
    },
    {
      "cell_type": "code",
      "source": [
        "frase = \"Python é muito legal.\"\n",
        "\n",
        "palavra = frase[:6]\n",
        "palavra[::-1]"
      ],
      "metadata": {
        "id": "rlzJz_JCx36t"
      },
      "execution_count": null,
      "outputs": []
    },
    {
      "cell_type": "code",
      "source": [
        "frase = \"Python é muito legal.\"\n",
        "\n",
        "frase.split()[0][::1]"
      ],
      "metadata": {
        "id": "qKsPpH1TyJF9"
      },
      "execution_count": null,
      "outputs": []
    },
    {
      "cell_type": "markdown",
      "metadata": {
        "id": "8uajpnZRnn02"
      },
      "source": [
        "##Listas"
      ]
    },
    {
      "cell_type": "markdown",
      "source": [
        "###Declaração"
      ],
      "metadata": {
        "id": "7M7Y_SJzVrR3"
      }
    },
    {
      "cell_type": "code",
      "source": [
        "lista_simples = [1,2,3]\n",
        "lista_estranha = ['duas_palavras', 42, True, ['batman', 'robin'], -0.84, 'hipófise']"
      ],
      "metadata": {
        "id": "-DKbK5FoVt5T"
      },
      "execution_count": null,
      "outputs": []
    },
    {
      "cell_type": "code",
      "metadata": {
        "id": "UEZUSbStm3rD"
      },
      "source": [
        "lista = [100, 200, 300, 400, 500] \n",
        "\n",
        "print(lista)\n",
        "print()\n",
        "print(\"lista[2]: {}\".format(lista[2]))\n",
        "print(\"lista[-1]: {}\".format(lista[-1]))\n",
        "print(\"lista[:]: {}\".format(lista[:]))\n",
        "print(\"lista[:3]: {}\".format(lista[:3]))\n",
        "print(\"lista[2:]: {}\".format(lista[2:]))\n",
        "print(\"lista[2:4]: {}\".format(lista[2:4]))\n",
        "print(\"lista[2:-1]: {}\".format(lista[2:-1]))\n",
        "print(\"lista[::2]: {}\".format(lista[::2]))\n",
        "print(\"lista[-20:3]: {}\".format(lista[-20:3]))\n",
        "print(\"lista[10]: {}\".format(lista[:10]))\n"
      ],
      "execution_count": null,
      "outputs": []
    },
    {
      "cell_type": "code",
      "source": [
        "#lista = [100, 200, 300, 400, 500] \n",
        "\n",
        "#print(lista)\n",
        "print()\n",
        "print(\"lista[2]: {}\".format(lista[2]))\n",
        "print(\"lista[-1]: {}\".format(lista[-1]))\n",
        "print(\"lista[:]: {}\".format(lista[:]))\n",
        "print(\"lista[:3]: {}\".format(lista[:3]))\n",
        "print(\"lista[2:]: {}\".format(lista[2:]))\n",
        "print(\"lista[2:4]: {}\".format(lista[2:4]))\n",
        "print(\"lista[2:-1]: {}\".format(lista[2:-1]))\n",
        "print(\"lista[::2]: {}\".format(lista[::2]))\n",
        "print(\"lista[-20:3]: {}\".format(lista[-20:3]))\n",
        "print(\"lista[10]: {}\".format(lista[:10]))#\n",
        "#OUT RANGE#"
      ],
      "metadata": {
        "id": "AkpIYH_zztFm"
      },
      "execution_count": null,
      "outputs": []
    },
    {
      "cell_type": "markdown",
      "source": [
        "### Pequenas tarefas com listas"
      ],
      "metadata": {
        "id": "c4wcDrqpWCeX"
      }
    },
    {
      "cell_type": "code",
      "source": [
        "#Tamanho da lista\n",
        "len(lista_estranha)"
      ],
      "metadata": {
        "id": "7Uf6zctlXykN"
      },
      "execution_count": null,
      "outputs": []
    },
    {
      "cell_type": "code",
      "source": [
        "#Verificar se elemento existe\n",
        "42 in lista_estranha"
      ],
      "metadata": {
        "id": "ZrCUNuJnV5P4"
      },
      "execution_count": null,
      "outputs": []
    },
    {
      "cell_type": "code",
      "source": [
        "#Encontrar índice do elemento por valor\n",
        "print(\"Elemento existente\", lista_estranha.index(42))\n",
        "\n",
        "print(\"Elemento inexistente\", lista_estranha.index(420))"
      ],
      "metadata": {
        "id": "rtbRKMjDXfSy"
      },
      "execution_count": null,
      "outputs": []
    },
    {
      "cell_type": "code",
      "source": [
        "p= \"teste{}\"\n",
        "print(p)\n",
        "print(p.format(5))\n",
        "print(p)"
      ],
      "metadata": {
        "id": "USkWIDcW1TgF"
      },
      "execution_count": null,
      "outputs": []
    },
    {
      "cell_type": "code",
      "source": [
        "#Adicionar elemento no fim da lista\n",
        "lista_estranha.append(\"Adicionar\")\n",
        "lista_estranha\n",
        "\n",
        "#Inserir elemento em uma posição da lista\n",
        "lista_estranha.insert(-4, 42)\n",
        "lista_estranha"
      ],
      "metadata": {
        "id": "ppRcTP6ZX6Mz"
      },
      "execution_count": null,
      "outputs": []
    },
    {
      "cell_type": "code",
      "source": [
        "#Remover elementos\n",
        "\n",
        "del lista_estranha[-1]\n",
        "lista_estranha"
      ],
      "metadata": {
        "id": "LzEkIo_LbvNq"
      },
      "execution_count": null,
      "outputs": []
    },
    {
      "cell_type": "code",
      "source": [
        "#Ordenação\n",
        "\n",
        "lista_desordenada = [1,4,5,7,2,3]\n",
        "lista_desordenada.sort()\n",
        "lista_desordenada"
      ],
      "metadata": {
        "id": "1zm3cLpPZWL0"
      },
      "execution_count": null,
      "outputs": []
    },
    {
      "cell_type": "code",
      "source": [
        "#Operações com listas\n",
        "\n",
        "letras1 = [\"a\", \"b\", \"c\"]\n",
        "letras2 = [\"d\", \"e\"]\n",
        "print(\"Soma de letras: \", letras1 + letras2)\n",
        "\n",
        "numeros = [1, 2, 3]\n",
        "\n",
        "print(\"Multiplicação entre listas: \", numeros * 2)"
      ],
      "metadata": {
        "id": "j6Gi5g6xZZuq"
      },
      "execution_count": null,
      "outputs": []
    },
    {
      "cell_type": "markdown",
      "source": [
        "### Atribuições por valor e por referência"
      ],
      "metadata": {
        "id": "ZbxVUHVecIco"
      }
    },
    {
      "cell_type": "code",
      "source": [
        "a = 20\n",
        "b = a\n",
        "a = 40\n",
        "print(\"A {} B {}\".format(a, b))"
      ],
      "metadata": {
        "id": "_KoQbCOmaJJr"
      },
      "execution_count": null,
      "outputs": []
    },
    {
      "cell_type": "code",
      "source": [
        "lista1 = [20, 30, 40]\n",
        "lista2 = lista1\n",
        "lista1.append(50)\n",
        "\n",
        "print(\"Lista1 {} Lista2 {}\".format(lista1, lista2))"
      ],
      "metadata": {
        "id": "1rpiGSVcd70K"
      },
      "execution_count": null,
      "outputs": []
    },
    {
      "cell_type": "code",
      "source": [
        "#Solução?\n",
        "lista1 = [20, 30, 40]\n",
        "lista2 = lista1.copy()\n",
        "lista1.append(50)\n",
        "\n",
        "print(\"Lista1 {} Lista2 {}\".format(lista1, lista2))"
      ],
      "metadata": {
        "id": "caqmHU0AeZX3"
      },
      "execution_count": null,
      "outputs": []
    },
    {
      "cell_type": "markdown",
      "metadata": {
        "id": "Sas6AM6V-XVD"
      },
      "source": [
        "###Exercício 4\n",
        "\n",
        "\n",
        "\n"
      ]
    },
    {
      "cell_type": "markdown",
      "metadata": {
        "id": "sd7OBNaQgDUj"
      },
      "source": [
        "Dada a lista = [12, -2, 4, 8, 29, 45, 78, 36, -17, 2, 12, 8, -52] faça um programa que:\n",
        "\n",
        "1. imprima o maior e o menor elemento;\n",
        "2. imprima a lista invertida;\n",
        "3. imprima os 5 maiores elementos, com exceção do maior de todos;\n",
        "4. imprima a média dos elementos (pesquisem);\n",
        "5. remova o elemento de menor valor;\n",
        "6. insira um elemento de valor -500 na terceira posição e outro de valor 500 no final da lista.\n"
      ]
    },
    {
      "cell_type": "code",
      "metadata": {
        "id": "fwuL8nedEPIz"
      },
      "source": [
        "#MAX e MIN List\n",
        "\n",
        "lista = [12, -2, 4, 8, 29, 45, 78, 36, -17, 2, 12, 8, -52] \n",
        "\n",
        "print(\"max value element:\", max(lista))\n",
        "print(\"min value element:\", min(lista))\n",
        "\n",
        "\n",
        "\n",
        "\n",
        "\n",
        "\n",
        "\n"
      ],
      "execution_count": null,
      "outputs": []
    },
    {
      "cell_type": "code",
      "source": [
        "lista.insert(2,-500)\n",
        "lista.append(-500)\n",
        "\n",
        "lista"
      ],
      "metadata": {
        "id": "8p1ieBm2D30h"
      },
      "execution_count": null,
      "outputs": []
    },
    {
      "cell_type": "code",
      "source": [
        "lista_ordenada = lista.copy()\n",
        "lista_ordenada.sort()"
      ],
      "metadata": {
        "id": "hVuRC2TtAy4Z"
      },
      "execution_count": null,
      "outputs": []
    },
    {
      "cell_type": "code",
      "source": [
        " import numpy as np #ou from numpy import mean  mean(lista)#\n",
        "\n",
        " np.mean(lista)"
      ],
      "metadata": {
        "id": "OKZOh6uYA9uR"
      },
      "execution_count": null,
      "outputs": []
    },
    {
      "cell_type": "code",
      "source": [
        "lista.remove(min(lista))"
      ],
      "metadata": {
        "id": "VPFd4bofBuPN"
      },
      "execution_count": null,
      "outputs": []
    },
    {
      "cell_type": "code",
      "source": [
        "lista_ordenada[0]"
      ],
      "metadata": {
        "id": "i0i5V0c8BbtA"
      },
      "execution_count": null,
      "outputs": []
    },
    {
      "cell_type": "code",
      "source": [
        "del lista[lista.index(lista_ordenada[0])]"
      ],
      "metadata": {
        "id": "dZJyknmFCbgp"
      },
      "execution_count": null,
      "outputs": []
    },
    {
      "cell_type": "code",
      "source": [
        "lista_ordenada.sort(reverse=True)"
      ],
      "metadata": {
        "id": "K_YlsfsZDMoa"
      },
      "execution_count": null,
      "outputs": []
    },
    {
      "cell_type": "code",
      "source": [
        "lista"
      ],
      "metadata": {
        "id": "GKn0y4JwCf0J"
      },
      "execution_count": null,
      "outputs": []
    },
    {
      "cell_type": "markdown",
      "metadata": {
        "id": "6w_ZAxYOnqD2"
      },
      "source": [
        "##Dicionários"
      ]
    },
    {
      "cell_type": "markdown",
      "metadata": {
        "id": "wIkiYHxPHv8r"
      },
      "source": [
        "###Exercício 5"
      ]
    },
    {
      "cell_type": "code",
      "source": [
        "cadastro =[\"9292219\", \"WES\", 20, \"BA\" ]"
      ],
      "metadata": {
        "id": "S2WTZMWHGer0"
      },
      "execution_count": null,
      "outputs": []
    },
    {
      "cell_type": "code",
      "source": [
        "cadastro ={\"Num\": \"9292219\"}\n",
        "cadastro"
      ],
      "metadata": {
        "id": "dwUzWNYMGwS7"
      },
      "execution_count": null,
      "outputs": []
    },
    {
      "cell_type": "markdown",
      "metadata": {
        "id": "5jd3pWEjIero"
      },
      "source": [
        "Faça um programa utilizando um dict que leia dados de entrada do usuário. O usuário deve entrar com os dados de uma pessoa como nome e cidade onde mora (fique livre para acrescentar outros). Após isso, você deve imprimir os dados como o exemplo abaixo:\n",
        "   \n",
        "\n",
        "*   nome: João\n",
        "*   cidade: São Paulo\n",
        "\n",
        "\n",
        "\n"
      ]
    },
    {
      "cell_type": "markdown",
      "metadata": {
        "id": "KywDHLWhIqsk"
      },
      "source": [
        "Utilize o exercício anterior e adicione a pessoa em uma lista. Em seguida, cadastre uma nova pessoa nessa lista. Por fim, você deve imprimir todos os dados de cada pessoa cadastrada."
      ]
    },
    {
      "cell_type": "code",
      "metadata": {
        "id": "pJx3VRAxnTjy"
      },
      "source": [
        "#TESTE DPS#\n",
        "resposta = \"{} possui {} anos.\"\n",
        "\n",
        "nome = input(\"Infome seu nome: \")\n",
        "idade = int(input(\"Informe sua idade: \"))\n",
        "\n",
        "print(resposta.format(nome, idade))"
      ],
      "execution_count": null,
      "outputs": []
    },
    {
      "cell_type": "code",
      "source": [
        "nome = input(\"Informe seu nome: \")"
      ],
      "metadata": {
        "id": "K22vs31oJOwF"
      },
      "execution_count": null,
      "outputs": []
    },
    {
      "cell_type": "code",
      "source": [
        "\n",
        "lista =[]\n",
        "lista.append({\"Nome\": nome})\n",
        "print(lista)"
      ],
      "metadata": {
        "id": "A2yYE023k5dD"
      },
      "execution_count": null,
      "outputs": []
    },
    {
      "cell_type": "code",
      "source": [
        ""
      ],
      "metadata": {
        "id": "jcxCbibOkm5b"
      },
      "execution_count": null,
      "outputs": []
    },
    {
      "cell_type": "code",
      "source": [
        "[{\"nome\": nome}]"
      ],
      "metadata": {
        "id": "ELKW5P-sJVSb"
      },
      "execution_count": null,
      "outputs": []
    },
    {
      "cell_type": "markdown",
      "metadata": {
        "id": "i8yyinU7nTXg"
      },
      "source": [
        "##Estruturas de controle"
      ]
    },
    {
      "cell_type": "markdown",
      "metadata": {
        "id": "oLPp2C-lR0B3"
      },
      "source": [
        "### Exercício 6"
      ]
    },
    {
      "cell_type": "markdown",
      "metadata": {
        "id": "lf6aZyHeR_SG"
      },
      "source": [
        "Faça um programa que, dada a idade, peso e horas de sono nas últimas 24h de uma pessoa, determine se ela pode ou não doar sangue. Os requisitos são obrigatórios para doação são:\n",
        "\n",
        "\n",
        "*   Ter entre 16 e 69 anos;\n",
        "*   Pesar mais de 50kg;\n",
        "*   Estar descansado ( 6 horas de sono nas últimas 24 horas).\n"
      ]
    },
    {
      "cell_type": "markdown",
      "metadata": {
        "id": "YCDXe4L-SLXa"
      },
      "source": [
        "Determine, dados os coeficientes de uma equação de segundo grau, se esta possui duas raízes, uma ou se não possui.\n",
        "\n",
        "Dica:                                                se delta (d = b**2 - 4ac) é maior que 0, possui duas raízes reais; se delta é 0, possui uma raíz, caso delta seja menor que 0, não possui raiz real.\n"
      ]
    },
    {
      "cell_type": "code",
      "source": [
        "idade, peso, horas_sono =20, 91, 5\n",
        "\n",
        "if idade >=16 and idade <=69 and peso >50 and horas_sono >= 6:\n",
        "  print(\"Pode doar sangue\")\n",
        "else:\n",
        "  print(\"Não pode doar sangue\")"
      ],
      "metadata": {
        "id": "lNfjBM2xr5QL"
      },
      "execution_count": null,
      "outputs": []
    },
    {
      "cell_type": "code",
      "metadata": {
        "id": "6A3bJWl8ugwJ"
      },
      "source": [
        "#Segunda Maneira#\n",
        "  \n",
        "pode_doar =True\n",
        "motivos=[]\n",
        "\n",
        "idade, peso, horas_sono =15, 10, 5\n",
        "\n",
        "if idade <16 or idade > 69 :\n",
        "  pode_doar = False\n",
        "  motivos.append(\"idade fora do range permitido\")\n",
        "\n",
        "if peso<50:\n",
        "  pode_doar = False\n",
        "  motivos.append(\"abaixo do peso permitido\")\n",
        "\n",
        "if horas_sono <6:\n",
        "  pode_doar = False\n",
        "  motivos.append(\"horas de sono abaixo do necessario\")\n",
        "\n",
        "if pode_doar == True:\n",
        "  print(\"pode doar sangue\")\n",
        "else:\n",
        "  print(\"nao pode doar sangue.\\n\\nMotivos: \\n\\n{}\".format(\"\\n\".join(motivos)))#join transforma a lista em string#\n"
      ],
      "execution_count": null,
      "outputs": []
    },
    {
      "cell_type": "code",
      "source": [
        "# Calcular as Raízes de uma Equação do 2º Grau\n",
        "#d= (b**2 - 4ac)\n",
        "def raizes(a, b, c):\n",
        "    D = (b**2 - 4*a*c)\n",
        "    x1 = (-b + D**(1/2)) / (2*a)\n",
        "    x2 = (-b - D**(1/2)) / (2*a)\n",
        "\n",
        "    print('\\nValor de x1: {:.2f}'.format(x1))\n",
        "    print('Valor de x2: {:.2f}'.format(x2))\n",
        "\n",
        "if __name__ == '__main__':\n",
        "    while True:\n",
        "        print('Calculando as raízes de uma equação de 2º grau\\n')\n",
        "        a = float(input('Entre com o valor de a: '))\n",
        "        b = float(input('Entre com o valor de b: '))\n",
        "        c = float(input('Entre com o valor de c: '))\n",
        "        raizes(a,b,c)\n",
        "\n",
        "        continua = input('Deseja sair? Digite q ou Enter para novo cálculo:')\n",
        "        if (continua == 'q'):\n",
        "            break"
      ],
      "metadata": {
        "id": "G2-p2nDipAYs"
      },
      "execution_count": null,
      "outputs": []
    },
    {
      "cell_type": "markdown",
      "metadata": {
        "id": "FXKTlVm9ncmd"
      },
      "source": [
        "##Estruturas de repetição"
      ]
    },
    {
      "cell_type": "code",
      "source": [
        "a = 300\n",
        "if a > 200:\n",
        "  print(\"a >200\")\n",
        "elif a > 100:\n",
        "  print(\"a >100\")\n",
        "elif a <=100:\n",
        "      print(\"a<=100\")"
      ],
      "metadata": {
        "id": "lBU-MxkVmv8s"
      },
      "execution_count": null,
      "outputs": []
    },
    {
      "cell_type": "code",
      "source": [
        "dict_cadastro ={\"nome\":\"Hugo\",\"idade\":\"39\"}\n",
        "for i in range(1,11):\n",
        "  print(i, end=\"  \")\n"
      ],
      "metadata": {
        "id": "P7TipKu6x9ik"
      },
      "execution_count": null,
      "outputs": []
    },
    {
      "cell_type": "code",
      "metadata": {
        "id": "00fEIm_UxbFJ"
      },
      "source": [
        "if 2>1: \n",
        "  print(a)"
      ],
      "execution_count": null,
      "outputs": []
    },
    {
      "cell_type": "code",
      "source": [
        "#OBS:linhas # pode remover...\n",
        "#for i in[1,2,3]: Numeros\n",
        "#for i in[\"Hugo\",\"SD\",390]: Strings\n",
        "for i in range(1,11):\n",
        "  print(i, end=\"  \")\n"
      ],
      "metadata": {
        "id": "4iUmYuIJxM56"
      },
      "execution_count": null,
      "outputs": []
    },
    {
      "cell_type": "code",
      "source": [
        "# descompactar tupla\n",
        "dict_cadastro ={\"nome\":\"Hugo\",\"idade\":\"39\"}\n",
        "for chave, valor in dict_cadastro.items():\n",
        "  print(\"Chave: {} Valor: {}\".format(chave, valor))"
      ],
      "metadata": {
        "id": "56b4YQsTzEBL"
      },
      "execution_count": null,
      "outputs": []
    },
    {
      "cell_type": "code",
      "source": [
        "dict_cadastro = {\"nome\":\"Hugo\",\"idade\":\"39\"}\n",
        "list(dict_cadastro.items())#da pra usar o type para mostra o tipo"
      ],
      "metadata": {
        "id": "hoh3weV-yKcq"
      },
      "execution_count": null,
      "outputs": []
    },
    {
      "cell_type": "markdown",
      "metadata": {
        "id": "b4PkQSPIg0JT"
      },
      "source": [
        "###Exercício 7"
      ]
    },
    {
      "cell_type": "markdown",
      "metadata": {
        "id": "mjtdwpadg3MB"
      },
      "source": [
        "Solicite que o usuário informe um valor N inteiro e apresente a tabuada de N. N deve ser um valor entre 0 e 10 (incluso), se o valor informado estiver fora destes limites,  informar ao usuário.\n"
      ]
    },
    {
      "cell_type": "code",
      "metadata": {
        "id": "Its0RhrUUK6z"
      },
      "source": [
        "print(\"Informe Número Inteiro para Tabuada\")\n",
        "\n",
        "\n",
        "\n",
        "num = int(input(\"Digite um número: \"))\n",
        "if num< 0 and num<=10:\n",
        "  print(\"Fora do Range\")\n",
        "for i in range(0, 11):\n",
        " print(i*num, end = \" \" )"
      ],
      "execution_count": null,
      "outputs": []
    },
    {
      "cell_type": "code",
      "source": [
        "n = 5\n",
        "\n",
        "\n",
        "if n>=0 and n<=10:\n",
        "  print(\"mutiplicação\")\n",
        "for i in range(1,11):\n",
        "      print(\"{}* {}* {} \".format(n, i, n*i))"
      ],
      "metadata": {
        "id": "rXkZ2LPo57cK"
      },
      "execution_count": null,
      "outputs": []
    },
    {
      "cell_type": "code",
      "source": [
        "n= 5\n",
        "adicao = []\n",
        "subtracao = []\n",
        "\n",
        "if n>=0 and n <=10:\n",
        "  for i in range(1,11):\n",
        "      adicao.append(\"{}+ {}+ {} \".format(n, i, n+i))\n",
        "      subtracao.append(\"{}-{}- {} \".format(n, i, n*-i))\n",
        "\n",
        "      print(\"Adicao\\n{}\".format(\"\\n\".join(adicao)))\n",
        "      print(\"subtracao\\n{}\".format(\"\\n\".join(subtracao)))"
      ],
      "metadata": {
        "id": "oF6qr6L57soS"
      },
      "execution_count": null,
      "outputs": []
    },
    {
      "cell_type": "code",
      "source": [
        "#Laco while\n",
        "texto =\" \"\n",
        "\n",
        "while True:\n",
        "  texto = input(\"Digite uma palavra:\").lower()\n",
        "  if texto == \"sair\":\n",
        "   print(\"Fim!\")\n",
        "   break\n",
        "\n",
        "  while True:\n",
        "    if len(texto) <2:\n",
        "      print(\"String muito pequena\")\n",
        "    texto = input(\"digite uma palavra com 2 caracteres ou mais\").lower()\n",
        "    if len(texto) >= 2:\n",
        "      break\n",
        "print(\"Digite qualquer coisa\")\n",
        "\n",
        " \n"
      ],
      "metadata": {
        "id": "pbzkypN59BKR"
      },
      "execution_count": null,
      "outputs": []
    },
    {
      "cell_type": "code",
      "source": [
        ""
      ],
      "metadata": {
        "id": "nJyI5l8QKBn7"
      },
      "execution_count": null,
      "outputs": []
    },
    {
      "cell_type": "code",
      "source": [
        ""
      ],
      "metadata": {
        "id": "dVi2XIO4KCKz"
      },
      "execution_count": null,
      "outputs": []
    },
    {
      "cell_type": "code",
      "source": [
        "#teste\n",
        "\n",
        "lista =[1,2,3,4,5]\n",
        "\n",
        "lista2 =[str(var) for var in lista]"
      ],
      "metadata": {
        "id": "LeeiN35-D204"
      },
      "execution_count": null,
      "outputs": []
    },
    {
      "cell_type": "markdown",
      "metadata": {
        "id": "_4jTDw2ug_T9"
      },
      "source": [
        "Dada a lista [2, 8, 3, 13, 7, 24, “str”, [1, 2, 11], 8, True], exiba todos os números primos existentes em seu conteúdo em ordem crescente (incluindo a lista interna).\n",
        "\n",
        "\n"
      ]
    },
    {
      "cell_type": "code",
      "source": [
        "\n",
        "def is_prime (primes):\n",
        "\n",
        "   \n",
        "    new_list = []\n",
        "\n",
        "    for i in primes:\n",
        "      \n",
        "        if type(i) == int:\n",
        "            new_list.append(i)\n",
        "       \n",
        "        elif type(i) == list: \n",
        "            for x in i:\n",
        "                if type(x) == int:\n",
        "                    new_list.append(x)\n",
        "\n",
        "    new_list.sort()\n",
        "\n",
        "  \n",
        "    valor = list(set(new_list))\n",
        "    \n",
        "    print(f' A Lista é: \\n {valor} \\n')\n",
        "\n",
        "    for num in valor:\n",
        "        if num > 1:\n",
        "            for x in range (2, num):\n",
        "               \n",
        "                if (num % x) == 0:\n",
        "                    print(f'------- O número removido da Lista: {num}, não é primo! ------- \\n')\n",
        "                    valor.remove(num)\n",
        "                    break\n",
        "                    \n",
        "\n",
        "    return print(valor)\n",
        "\n",
        "\n",
        "\n",
        "primes = [2, 8, 3, 13, 7, 24, 'str', [1, 2, 11], 8, True]\n",
        "\n",
        "is_prime(primes)\n",
        "\n",
        "\n"
      ],
      "metadata": {
        "id": "bXbypegRzjuZ"
      },
      "execution_count": null,
      "outputs": []
    },
    {
      "cell_type": "code",
      "source": [
        ""
      ],
      "metadata": {
        "id": "qx7IpDXizjrg"
      },
      "execution_count": null,
      "outputs": []
    },
    {
      "cell_type": "code",
      "source": [
        ""
      ],
      "metadata": {
        "id": "uTb6Il_szjoQ"
      },
      "execution_count": null,
      "outputs": []
    },
    {
      "cell_type": "code",
      "source": [
        ""
      ],
      "metadata": {
        "id": "1k84GKEazjgR"
      },
      "execution_count": null,
      "outputs": []
    },
    {
      "cell_type": "code",
      "source": [
        "## TESTES DE ESTUDO##\n",
        "lista =([2, 8 , 3, 13, 7, 24, \"str\", [1, 2, 11], 8, True]) \n",
        "lista"
      ],
      "metadata": {
        "id": "fbwNGCM3xFX5"
      },
      "execution_count": null,
      "outputs": []
    },
    {
      "cell_type": "code",
      "source": [
        "lista =([2, 8 , 3, 13, 7, 24, \"str\", [1, 2, 11], 8, True]) \n",
        "for x in lista:\n",
        "  print(x, end=\" \")\n",
        "\n"
      ],
      "metadata": {
        "id": "ow3hXRMuMKIX"
      },
      "execution_count": null,
      "outputs": []
    },
    {
      "cell_type": "code",
      "source": [
        "for i in list(range(1,10)):\n",
        "  print(i, end=\" \")"
      ],
      "metadata": {
        "id": "Zm1jpR30Msrg"
      },
      "execution_count": null,
      "outputs": []
    },
    {
      "cell_type": "code",
      "source": [
        "transposta = []\n",
        "matriz= ([2, 8 , 3, 13, 7, 24, \"str\", [1, 2, 11], 8, True]) \n",
        "\n",
        "for i in range(len(str((matriz[0])))):\n",
        "    linha_transposta = []\n",
        "  \n",
        "    for linha in matriz:\n",
        "        linha_transposta.append([linha][i])\n",
        "    transposta.append(linha_transposta)\n",
        "\n",
        "print(transposta)\n"
      ],
      "metadata": {
        "id": "D9orqa7a8Fu-"
      },
      "execution_count": null,
      "outputs": []
    },
    {
      "cell_type": "code",
      "source": [
        "###T1###\n",
        "transposta =[]\n",
        "lista = ([2, 8 , 3, 13, 7, 24, \"str\", [1, 2, 11], 8, True]) \n",
        "\n",
        "for i in range(len(str((lista[0])))):\n",
        "  linha_transposta = []\n",
        "    \n",
        "for linha in lista:\n",
        "    linha_transposta.append([linha][i])\n",
        "    transposta.append(linha_transposta)\n",
        "\n",
        "print(transposta)\n",
        "\n"
      ],
      "metadata": {
        "id": "2PDwe0CPpGqM"
      },
      "execution_count": null,
      "outputs": []
    },
    {
      "cell_type": "code",
      "source": [
        ""
      ],
      "metadata": {
        "id": "hnYjHimbPI8n"
      },
      "execution_count": null,
      "outputs": []
    },
    {
      "cell_type": "code",
      "metadata": {
        "id": "udawTiWwKcPF"
      },
      "source": [
        "\n",
        "#Ordenação com problemas str\n",
        "\n",
        "lista_desordenada = lista\n",
        "lista_desordenada.sort(key=str)\n",
        "lista_desordenada\n",
        "\n",
        "\n",
        "\n",
        "  \n",
        "    \n",
        "\n",
        "\n",
        "\n",
        "\n",
        "\n",
        "\n"
      ],
      "execution_count": null,
      "outputs": []
    },
    {
      "cell_type": "code",
      "source": [
        ""
      ],
      "metadata": {
        "id": "dKreeZ9gNBqY"
      },
      "execution_count": null,
      "outputs": []
    },
    {
      "cell_type": "code",
      "source": [
        "lista =([2, 8 , 3, 13, 7, 24, \"str\", [1, 2, 11], 8, True]) \n",
        "for x in lista:\n",
        "  print(x, end=\" \")"
      ],
      "metadata": {
        "id": "Ko7RwuLiM8FH"
      },
      "execution_count": null,
      "outputs": []
    },
    {
      "cell_type": "code",
      "source": [
        "\n",
        "lista_desordenada = lista\n",
        "lista_desordenada.sort(key=str)\n",
        "lista_desordenada\n",
        "\n"
      ],
      "metadata": {
        "id": "ywqf_VPDOly1"
      },
      "execution_count": null,
      "outputs": []
    },
    {
      "cell_type": "code",
      "source": [
        "#TESTE IMPARES#\n",
        "lista =[2, 8 , 3, 13, 7, 24, 1, 2, 11, 8]  \n",
        "\n",
        "impares = [lista for lista in lista if lista %2 == 1 ]\n",
        "\n",
        "sorted(impares)"
      ],
      "metadata": {
        "id": "oI82QgGrNoSC"
      },
      "execution_count": null,
      "outputs": []
    },
    {
      "cell_type": "code",
      "source": [
        "lista_desordenada = lista\n",
        "lista_desordenada.sort(key=int)\n",
        "lista_desordenada\n"
      ],
      "metadata": {
        "id": "ful0f4PeNxfj"
      },
      "execution_count": null,
      "outputs": []
    },
    {
      "cell_type": "code",
      "source": [
        "###TESTE###\n",
        "uma_lista = [4,2,8,6,5]\n",
        "outra_lista = [num*2 for num in uma_lista if num%2==1]\n",
        "print(outra_lista)"
      ],
      "metadata": {
        "id": "W-6V8Xmet6Vu"
      },
      "execution_count": null,
      "outputs": []
    },
    {
      "cell_type": "code",
      "source": [
        "#Ordenação\n",
        "\n",
        "lista_desordenada = [1,4,5,7,2,3]\n",
        "lista_desordenada.sort(key=int)\n",
        "lista_desordenada"
      ],
      "metadata": {
        "id": "ySp0ghwPtuse"
      },
      "execution_count": null,
      "outputs": []
    },
    {
      "cell_type": "code",
      "source": [
        "transposta = []\n",
        "matriz= [[1, 2, 3, 4],[4, 5, 6, 8],[9, 10, 11,12]]\n",
        "\n",
        "for i in range(len((matriz[0]))):\n",
        "    linha_transposta = []\n",
        "  \n",
        "    for linha in matriz:\n",
        "        linha_transposta.append(linha[i])\n",
        "    transposta.append(linha_transposta)\n",
        "\n",
        "print(transposta)\n"
      ],
      "metadata": {
        "id": "vTVWEg9cWMDx"
      },
      "execution_count": null,
      "outputs": []
    },
    {
      "cell_type": "markdown",
      "metadata": {
        "id": "VfPH_N5-g6W8"
      },
      "source": [
        "###Exercício 8"
      ]
    },
    {
      "cell_type": "markdown",
      "metadata": {
        "id": "jlR_B7kK5qCW"
      },
      "source": [
        "Escreva um algoritmo que receba dados cadastrais de pessoas (nome, idade e sexo). Ao fim de cada cadastro, o usuário deve ser questionado se deseja realizar um novo cadastro. Quando não houverem mais cadastros a serem realizados, exibir os cadastros realizados e o percentual de homens e mulheres."
      ]
    },
    {
      "cell_type": "code",
      "metadata": {
        "id": "x2Cm6DIhL9ew"
      },
      "source": [
        "totM = 0\n",
        "totF = 0\n",
        "while True:\n",
        "\n",
        "  idade = int(input(\"Idade :\"))\n",
        "  nome =  str(input(\"Nome :\"))\n",
        "  sexo= \" \"\n",
        "  while sexo not in \"MF\":\n",
        "       sexo =  str(input(\"Sexo [M/F] :\")).strip().upper()[0]\n",
        "  if sexo ==\"M\":\n",
        "    totM += 1\n",
        "  if sexo ==\"F\":\n",
        "    totF += 1\n",
        "\n",
        "\n",
        "\n",
        "\n",
        "\n",
        "  resp = \" \"\n",
        "  while resp not in \"SN\":\n",
        "      resp = str(input(\"Quer continuar com os cadastros? [S/N] \")).strip().upper()[0]\n",
        "  if resp ==\"N\":\n",
        "          break\n",
        "print(f\"Total de Homens cadastrados: {totM} \")\n",
        "print(f\"Total de Mulheres cadastradas: {totF}\")\n",
        "print(\"Fim\")\n",
        "\n"
      ],
      "execution_count": null,
      "outputs": []
    },
    {
      "cell_type": "markdown",
      "metadata": {
        "id": "58htb6c95shl"
      },
      "source": [
        "Imprima todos os valores da sequência de fibonacci inferiores a 100."
      ]
    },
    {
      "cell_type": "code",
      "metadata": {
        "id": "sR8xi7lk5vmN"
      },
      "source": [
        "print (\" Trabalho de Fibonacci \")\n",
        "\n",
        "n =int( input(\" Digite Quantos termos você deseja :\"))\n",
        "t1 = 0\n",
        "t2 = 1\n",
        "t3 = 0\n",
        "while n >100:\n",
        "       n = int(input(\"Digite valores ate 100 fibonacci: \"))\n",
        "while t3 <= n:\n",
        "    print(\"{}.\".format(t3), end=\"\")\n",
        "    t3 = t1 + t2\n",
        "    t1 = t2\n",
        "    t2 = t3\n",
        "\n",
        "    \n",
        "print( \" Fim \")"
      ],
      "execution_count": null,
      "outputs": []
    },
    {
      "cell_type": "code",
      "source": [
        " "
      ],
      "metadata": {
        "id": "pG7gks9cwujF"
      },
      "execution_count": null,
      "outputs": []
    },
    {
      "cell_type": "markdown",
      "metadata": {
        "id": "JkZg5EPij__R"
      },
      "source": [
        "### Exercício 9"
      ]
    },
    {
      "cell_type": "markdown",
      "metadata": {
        "id": "WMKdTqwHkF-D"
      },
      "source": [
        "Utilizando list comprehension escreva um algoritmo receba a frase “três pratos de trigo para três tigres tristes” e gere uma lista com todas as palavras que não começam com a letra t."
      ]
    },
    {
      "cell_type": "code",
      "metadata": {
        "id": "jb-wul4VnjsE"
      },
      "source": [
        "#listcomprehension \n",
        "lista =\"três pratos de trigo para três tigres tristes\"\n",
        "\n",
        "nova_lista = [palavra for palavra in lista.split() if palavra[0] !=\"t\"]\n",
        "nova_lista"
      ],
      "execution_count": null,
      "outputs": []
    },
    {
      "cell_type": "code",
      "source": [
        "nova_lista = []\n",
        "for palavra in lista.split():\n",
        "  if palavra[0] !=\"t\":\n",
        "    nova_lista.append(palavra)\n",
        "\n",
        "print(nova_lista)"
      ],
      "metadata": {
        "id": "bSGN0LbSKbwI"
      },
      "execution_count": null,
      "outputs": []
    },
    {
      "cell_type": "markdown",
      "metadata": {
        "id": "NTMZ2S24kAXD"
      },
      "source": [
        "Utilizando list comprehension, escreva um algoritmo que transforme a lista [34.6, -203.4, 44.9, 68.3, -12.2, 44.6, 12.7] em uma lista de inteiros positivos.\n"
      ]
    },
    {
      "cell_type": "code",
      "metadata": {
        "id": "grElnh7ykPes"
      },
      "source": [
        "#EXERCICIO 9.2\n",
        "lista = [34.6, -203.4, 44.9, 68.3, -12.2, 44.6, 12.7]\n",
        "newlist = [n for n in lista if n > 0]\n",
        "\n",
        "\n",
        "\n",
        "pos_count, neg_count = 0, 0\n",
        "for num in lista: \n",
        "        \n",
        "    if num >= 0: \n",
        "\n",
        "        pos_count += 1\n",
        "        \n",
        "    else: \n",
        "        neg_count += 1\n",
        "print(\"Positive numbers in the list: \", pos_count) \n",
        "print(\"Negative numbers in the list: \", neg_count) \n",
        "        "
      ],
      "execution_count": null,
      "outputs": []
    },
    {
      "cell_type": "code",
      "source": [
        "#CONVERSÃO\n",
        "lista = [34.6, -203.4, 44.9, 68.3, -12.2, 44.6, 12.7]\n",
        "\n",
        "novalista = [abs(n) for n in lista]\n",
        "novalista"
      ],
      "metadata": {
        "id": "-ikuWYejoBrp"
      },
      "execution_count": null,
      "outputs": []
    },
    {
      "cell_type": "code",
      "source": [
        "#COM CONVERSÃO E COM NOVA LISTA#\n",
        "lista_desordenada = novalista\n",
        "lista_desordenada.sort()\n",
        "lista_desordenada"
      ],
      "metadata": {
        "id": "xP-EfkNtoOf-"
      },
      "execution_count": null,
      "outputs": []
    },
    {
      "cell_type": "code",
      "source": [
        "#lista apenas de positivos sem conversao\n",
        "newlist = [n for n in lista if n > 0]\n",
        "newlist\n"
      ],
      "metadata": {
        "id": "XeG5CbexnWdN"
      },
      "execution_count": null,
      "outputs": []
    },
    {
      "cell_type": "code",
      "source": [
        "#ordenação da lista sem conversao nem nova lista\n",
        "lista_desordenada = lista\n",
        "lista_desordenada.sort()\n",
        "lista_desordenada"
      ],
      "metadata": {
        "id": "-8KnVQDyme_s"
      },
      "execution_count": null,
      "outputs": []
    },
    {
      "cell_type": "markdown",
      "metadata": {
        "id": "vJpAstsVsYhw"
      },
      "source": [
        "## Funções"
      ]
    },
    {
      "cell_type": "code",
      "source": [
        "#Classe\n",
        "class Pessoa:\n",
        "  def __init__(self,nome):\n",
        "    self.meu_nome = nome\n",
        "\n",
        "  def anda(self):#def anda(self, nome):\n",
        "      print(\"{} está adandando\". format(self.meu_nome))#retira o self se usar a obs nome...\n",
        "  def anda_e_pula(self):#\n",
        "    self.anda()\n",
        "    print(\"{} está pulando\".format(self.meu_nome))  #retira o self se usar o obs nome  \n"
      ],
      "metadata": {
        "id": "NBhG0gijQSIi"
      },
      "execution_count": null,
      "outputs": []
    },
    {
      "cell_type": "code",
      "source": [
        "pessoa_hugo = Pessoa(\"hugo\")\n",
        "\n",
        "pessoa_hugo.anda_e_pula()"
      ],
      "metadata": {
        "id": "LC25c6FoQ0dv"
      },
      "execution_count": null,
      "outputs": []
    },
    {
      "cell_type": "markdown",
      "metadata": {
        "id": "KP0zy_erskvu"
      },
      "source": [
        "### Exercício 10"
      ]
    },
    {
      "cell_type": "markdown",
      "metadata": {
        "id": "I5WZ-gppsadR"
      },
      "source": [
        "Dada a função y = 5x + 2, determine os valores de y para x entre -10 e 10, onde x é inteiro."
      ]
    },
    {
      "cell_type": "code",
      "source": [
        "[5*i+2 for i in range(-10,11)]"
      ],
      "metadata": {
        "id": "Mc1Eu2pWsuvu"
      },
      "execution_count": null,
      "outputs": []
    },
    {
      "cell_type": "code",
      "metadata": {
        "id": "_qgaGqHX84dE",
        "colab": {
          "base_uri": "https://localhost:8080/",
          "height": 282
        },
        "outputId": "75468064-4a76-4f7d-d8e4-1b39ae4b0905"
      },
      "source": [
        "from matplotlib.pyplot import plot\n",
        "from numpy import arange\n",
        "x=arange(-10,11)\n",
        "y=5*x+2\n",
        "y=x\n",
        "plot(x,y)"
      ],
      "execution_count": null,
      "outputs": [
        {
          "output_type": "execute_result",
          "data": {
            "text/plain": [
              "[<matplotlib.lines.Line2D at 0x7ff4d0d69410>]"
            ]
          },
          "metadata": {},
          "execution_count": 13
        },
        {
          "output_type": "display_data",
          "data": {
            "text/plain": [
              "<Figure size 432x288 with 1 Axes>"
            ],
            "image/png": "[encoded data removed]"
          },
          "metadata": {
            "needs_background": "light"
          }
        }
      ]
    },
    {
      "cell_type": "code",
      "source": [
        ""
      ],
      "metadata": {
        "id": "F36PnKFGDEs1"
      },
      "execution_count": null,
      "outputs": []
    },
    {
      "cell_type": "code",
      "metadata": {
        "id": "4UdlOQuUj8Du"
      },
      "source": [
        ""
      ],
      "execution_count": null,
      "outputs": []
    },
    {
      "cell_type": "markdown",
      "metadata": {
        "id": "j0bMQ70TsebL"
      },
      "source": [
        "O exercício 7 pediu que fosse feito um programa que, Dada a lista [2, 8, 3, 13, 7, 24, “str”, [1, 2, 11], 8, True], exiba todos os números primos existentes em seu conteúdo em ordem crescente (incluindo a lista interna). \n",
        "\n",
        "Refaça esse exercício utilizando funções. Seu programa deve estar apto a lidar com qualquer  lista que possua elementos de qualquer tipo de dado. Se o elemento da lista for um float, converta-o para inteiro, se for uma lista, inclua seus elementos na verificação, se for outro tipo de dado (como string ou bool), este deverá ser desconsiderado. Lembrem-se que podem existir listas dentro de listas.\n"
      ]
    },
    {
      "cell_type": "code",
      "metadata": {
        "id": "Pl1b-VSI816V",
        "colab": {
          "base_uri": "https://localhost:8080/"
        },
        "outputId": "b8b805ff-5994-4479-b0c7-32c370e386a1"
      },
      "source": [
        "import numpy as np\n",
        "\n",
        "def ePrimo(candidato):\n",
        "    if(candidato%2 == 0 and candidato !=2): return False;\n",
        "    for eachValue in range(3,candidato//2+1,2):\n",
        "        if(candidato%eachValue == 0):\n",
        "            return False\n",
        "    return True\n",
        "\n",
        "\n",
        "\n",
        "def eValidPrimo(value):\n",
        "    try:\n",
        "        value = int(value)\n",
        "        if(type(value) == int and ePrimo(value)):\n",
        "            return value\n",
        "    except:\n",
        "        pass\n",
        "\n",
        "\n",
        "\n",
        "def getPrimosFromList(lista):\n",
        "    primos = []\n",
        "    for i in lista:\n",
        "        if (hasattr(i, '__iter__') and i != lista):\n",
        "            getPrimosFromList(i)\n",
        "        else:\n",
        "            primos.append(eValidPrimo(i))\n",
        "\n",
        "    return (np.sort(list(set(filter(None, primos)))))\n",
        "\n",
        "\n",
        "lista = [2, 8, 3, 13, 7.5, 24, 'str', [1, 2, 11], 8, True]\n",
        "getPrimosFromList(lista)"
      ],
      "execution_count": null,
      "outputs": [
        {
          "output_type": "execute_result",
          "data": {
            "text/plain": [
              "array([ 1,  2,  3,  7, 13])"
            ]
          },
          "metadata": {},
          "execution_count": 15
        }
      ]
    },
    {
      "cell_type": "markdown",
      "metadata": {
        "id": "HHl-AvHzlQhf"
      },
      "source": [
        "## Classes, objetos e módulos"
      ]
    },
    {
      "cell_type": "code",
      "metadata": {
        "id": "ctSDvMcIyQSL"
      },
      "source": [
        "import google.colab import files\n",
        "files.upload()"
      ],
      "execution_count": null,
      "outputs": []
    },
    {
      "cell_type": "code",
      "metadata": {
        "id": "dgp1T0d9ygVS"
      },
      "source": [
        "from modulo import Potencia\n",
        "potencia_2 = Potencia(2)"
      ],
      "execution_count": null,
      "outputs": []
    },
    {
      "cell_type": "code",
      "metadata": {
        "id": "2ie5nHeg3y2y"
      },
      "source": [
        "potencia_2.quadrado()\n",
        "potencia_2.raiz()\n",
        "potencia_2.custom(4)"
      ],
      "execution_count": null,
      "outputs": []
    },
    {
      "cell_type": "code",
      "metadata": {
        "id": "yzx1oxGe39Qp"
      },
      "source": [
        "from modulo import Potencia, soma, subtracao\n",
        "subtracao(2,3)"
      ],
      "execution_count": null,
      "outputs": []
    },
    {
      "cell_type": "code",
      "metadata": {
        "id": "0cGnVRm74wE2"
      },
      "source": [
        "\n",
        "from modulo import *\n",
        "subtracao(2,3)\n",
        "soma(2,4)\n",
        "potencia_2 = Potencia(2)"
      ],
      "execution_count": null,
      "outputs": []
    },
    {
      "cell_type": "code",
      "source": [
        "\n"
      ],
      "metadata": {
        "id": "IUrvaO8PQyET"
      },
      "execution_count": null,
      "outputs": []
    }
  ]
}
