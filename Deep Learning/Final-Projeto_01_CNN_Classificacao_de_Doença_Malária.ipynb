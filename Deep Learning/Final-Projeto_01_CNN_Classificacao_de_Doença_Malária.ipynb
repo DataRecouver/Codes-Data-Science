{
  "cells": [
    {
      "cell_type": "markdown",
      "metadata": {
        "id": "view-in-github",
        "colab_type": "text"
      },
      "source": [
        "<a href=\"https://colab.research.google.com/github/DataRecouver/Codes-DataScience-Python/blob/main/Deep%20Learning/Final-Projeto_01_CNN_Classificacao_de_Doen%C3%A7a_Mal%C3%A1ria.ipynb\" target=\"_parent\"><img src=\"https://colab.research.google.com/assets/colab-badge.svg\" alt=\"Open In Colab\"/></a>"
      ]
    },
    {
      "cell_type": "markdown",
      "metadata": {
        "id": "vS0fGM65Q6ko"
      },
      "source": [
        "# Disciplina Deep Learning\n",
        "\n",
        "## 1° Projeto em equipe\n",
        "### Classificação de imagens de amostras positivas/negativas para malária\n",
        "\n",
        "---\n",
        "## Grupo\n",
        "Ane Caroline <br/>\n",
        "Carlos Alício <br/>\n",
        "Felipe Coelho <br/>\n",
        "Guilherme Cruz <br/>\n",
        "\n",
        "---\n",
        "\n",
        "Prazo de Entrega: Último dia de aula"
      ]
    },
    {
      "cell_type": "markdown",
      "metadata": {
        "id": "ZgeQOoCmKNOu"
      },
      "source": [
        "## Descrição\n",
        "\n",
        "De acordo com o Ministério da Saúde, a malária é uma doença infecciosa, causada por protozoários e transmitida pela picada do mosquito Anopheles. A doença tem cura e o tratamento é eficaz, porém pode haver evolução para formas graves se não for diagnosticada e tratada precocemente.\n",
        "\n",
        "Você foi convidado pela ONG \"Amazônia Muito Legal *(1)*\" para participar de um projeto de identificação automática de células infectadas pela doença malária. A ONG disponibilizou um Dataset de imagens de amostras de lâminas de sangue, originalmente, coletado pela National Library of Medicine (https://lhncbc.nlm.nih.gov/publication/pub9932).\n",
        "\n",
        "As imagens podem ser obtidas através do link: https://drive.google.com/file/d/1frar771fPjaOKqNt3scwQUIKdkTSxfyY/view?usp=sharing\n",
        "\n",
        "O Dataset possui uma pasta \"Imagens_Supeita_Malaria\" contendo as subpastas \"Positivo\" e \"Negativo\" com 13780 imagens cada.\n",
        "\n",
        "Exemplo de uma imagem de amostra com resultado Positivo para Malária:\n",
        "\n",
        "<img src=\"https://drive.google.com/uc?export=view&id=103KemNIi7LYh4AOYh9jgS-6MRp7ROimN\" alt=\"drawing\" width=\"100\"/>\n",
        "\n",
        "Exemplo de uma imagem de amostra com resultado Negativo para Malária:\n",
        "\n",
        "<img src=\"https://drive.google.com/uc?export=view&id=1Y5SSDYY5Qr-DvQdZAQtp43YHVZYBM80j\" alt=\"drawing\" width=\"100\"/>\n",
        "\n",
        "\n",
        "Observação:\n",
        "*(1) - A ONG é fictícia*"
      ]
    },
    {
      "cell_type": "markdown",
      "metadata": {
        "id": "M0ooU9IZE8E2"
      },
      "source": [
        "##Classificação através de uma CNN\n",
        "\n",
        "Construa uma CNN que consiga classificar as referidas imagens em positivas ou negativas para malária com uma acurácia de pelo menos 80% na validação.\n",
        "\n",
        "Separe o dataset em pelo menos 80% para treino, 10% para validaçao e 10% para teste.\n",
        "\n",
        "Use data augmentation para aprimorar a acurácia da CNN.\n",
        "\n",
        "Exiba os gráficos da evolução da acurácia e da perda do treino e da validação.\n",
        "\n",
        "Inclua a técnica de Transfer Learning Fine Tuning, utilizando um modelo pré treinado adequado ao tipo de dado do problema (faça uma busca nos repositórios vistos em sala ou outros).\n",
        "\n",
        "O modelo final deve ter uma acurácia superior a 88% no dataset de teste.\n",
        "\n",
        "Salve o modelo final em um arquivo.\n",
        "\n",
        "Inclua comentários no código fonte e textos no notebook com as explicações de como foi feito. Poste o arquivo do notebook na resposta da atividade no google Classroom.\n",
        "\n",
        "**Não esqueça de configurar a GPU no notebook do Google Colab**"
      ]
    },
    {
      "cell_type": "code",
      "execution_count": null,
      "metadata": {
        "colab": {
          "base_uri": "https://localhost:8080/"
        },
        "id": "GSsfjhB1O6SF",
        "outputId": "c339e27a-12fc-4a9f-e576-ae8b1afcd700"
      },
      "outputs": [
        {
          "output_type": "stream",
          "name": "stdout",
          "text": [
            "Mounted at /content/drive\n"
          ]
        }
      ],
      "source": [
        "from google.colab import drive\n",
        "drive.mount('/content/drive')"
      ]
    },
    {
      "cell_type": "code",
      "execution_count": null,
      "metadata": {
        "id": "Isp_s-aSPIzN"
      },
      "outputs": [],
      "source": [
        "#o arquivo deve ser lido em formato .zip\n",
        "#configurando o folder de leitura a partir do drive\n",
        "drive_de_vcs = '/content/drive/MyDrive/DATASETS/'\n",
        "\n",
        "fle_zip = drive_de_vcs + 'Imagens_Supeita_Malaria.zip'"
      ]
    },
    {
      "cell_type": "code",
      "execution_count": null,
      "metadata": {
        "colab": {
          "base_uri": "https://localhost:8080/"
        },
        "id": "oXOsmhmKo_6H",
        "outputId": "6480d2ec-e3b5-468f-9462-273b33d4a821"
      },
      "outputs": [
        {
          "output_type": "stream",
          "name": "stdout",
          "text": [
            "Collecting patool\n",
            "  Downloading patool-1.12-py2.py3-none-any.whl (77 kB)\n",
            "\u001b[?25l     \u001b[90m━━━━━━━━━━━━━━━━━━━━━━━━━━━━━━━━━━━━━━━━\u001b[0m \u001b[32m0.0/77.5 kB\u001b[0m \u001b[31m?\u001b[0m eta \u001b[36m-:--:--\u001b[0m\r\u001b[2K     \u001b[91m━━━━━━━━━━━━━━━━━━━━━━━━━━━━━━━━━━━━\u001b[0m\u001b[91m╸\u001b[0m\u001b[90m━━━\u001b[0m \u001b[32m71.7/77.5 kB\u001b[0m \u001b[31m2.1 MB/s\u001b[0m eta \u001b[36m0:00:01\u001b[0m\r\u001b[2K     \u001b[90m━━━━━━━━━━━━━━━━━━━━━━━━━━━━━━━━━━━━━━━━\u001b[0m \u001b[32m77.5/77.5 kB\u001b[0m \u001b[31m1.8 MB/s\u001b[0m eta \u001b[36m0:00:00\u001b[0m\n",
            "\u001b[?25hInstalling collected packages: patool\n",
            "Successfully installed patool-1.12\n"
          ]
        }
      ],
      "source": [
        "!pip install patool"
      ]
    },
    {
      "cell_type": "code",
      "execution_count": null,
      "metadata": {
        "colab": {
          "base_uri": "https://localhost:8080/",
          "height": 87
        },
        "id": "Lr4km8d8o_BH",
        "outputId": "e7600603-ff4e-4606-a9d0-045d6ca3a121"
      },
      "outputs": [
        {
          "output_type": "stream",
          "name": "stdout",
          "text": [
            "patool: Extracting /content/drive/MyDrive/DATASETS/Imagens_Supeita_Malaria.zip ...\n",
            "patool: running /usr/bin/7z x -o/content/ -- /content/drive/MyDrive/DATASETS/Imagens_Supeita_Malaria.zip\n",
            "patool: ... /content/drive/MyDrive/DATASETS/Imagens_Supeita_Malaria.zip extracted to `/content/'.\n"
          ]
        },
        {
          "output_type": "execute_result",
          "data": {
            "text/plain": [
              "'/content/'"
            ],
            "application/vnd.google.colaboratory.intrinsic+json": {
              "type": "string"
            }
          },
          "metadata": {},
          "execution_count": 5
        }
      ],
      "source": [
        "\n",
        "import patoolib\n",
        "patoolib.extract_archive(fle_zip, outdir=\"/content/\")"
      ]
    },
    {
      "cell_type": "markdown",
      "metadata": {
        "id": "pOjLNiarhZ_2"
      },
      "source": [
        "## Carregando os Dados\n",
        "\n",
        "Se você criou a estrutura de diretórios de forma correta conforme explicado no Capítulo 45, então as seguintes células mostrarão algumas das imagens:"
      ]
    },
    {
      "cell_type": "code",
      "execution_count": null,
      "metadata": {
        "id": "C4tPhPc0hZ_2"
      },
      "outputs": [],
      "source": [
        "from IPython.display import Image\n"
      ]
    },
    {
      "cell_type": "code",
      "execution_count": null,
      "metadata": {
        "colab": {
          "base_uri": "https://localhost:8080/",
          "height": 132
        },
        "id": "shIWxSc4plxH",
        "outputId": "a417141b-4f6e-4df3-c9c9-8ef298ea5984"
      },
      "outputs": [
        {
          "output_type": "execute_result",
          "data": {
            "image/png": "[encoded data removed]",
            "text/plain": [
              "<IPython.core.display.Image object>"
            ]
          },
          "metadata": {},
          "execution_count": 6
        }
      ],
      "source": [
        "Image(filename = '/content/Imagens_Supeita_Malaria/Negativo_Malaria/C1_thinF_IMG_20150604_104722_cell_115.png')"
      ]
    },
    {
      "cell_type": "code",
      "execution_count": null,
      "metadata": {
        "colab": {
          "base_uri": "https://localhost:8080/",
          "height": 132
        },
        "id": "V25Jab0rpm_2",
        "outputId": "6130317c-25fb-46d9-b3a7-f3f66d3a39b6"
      },
      "outputs": [
        {
          "output_type": "execute_result",
          "data": {
            "image/png": "[encoded data removed]",
            "text/plain": [
              "<IPython.core.display.Image object>"
            ]
          },
          "metadata": {},
          "execution_count": 7
        }
      ],
      "source": [
        "Image(filename = '/content/Imagens_Supeita_Malaria/Positivo_Malaria/C182P143NThinF_IMG_20151201_172216_cell_161.png')"
      ]
    },
    {
      "cell_type": "code",
      "execution_count": null,
      "metadata": {
        "colab": {
          "base_uri": "https://localhost:8080/"
        },
        "id": "mzL_TC790dDM",
        "outputId": "9d8ad172-ce21-42c7-96c8-4ea21f28aee6"
      },
      "outputs": [
        {
          "output_type": "stream",
          "name": "stdout",
          "text": [
            "Collecting split-folders\n",
            "  Downloading split_folders-0.5.1-py3-none-any.whl (8.4 kB)\n",
            "Installing collected packages: split-folders\n",
            "Successfully installed split-folders-0.5.1\n"
          ]
        }
      ],
      "source": [
        "!pip install split-folders"
      ]
    },
    {
      "cell_type": "code",
      "execution_count": null,
      "metadata": {
        "colab": {
          "base_uri": "https://localhost:8080/"
        },
        "id": "sX-JXgBb0agM",
        "outputId": "af7d9fcc-240e-435f-fdb0-5d7fe3c9a758"
      },
      "outputs": [
        {
          "output_type": "stream",
          "name": "stderr",
          "text": [
            "Copying files: 27560 files [00:09, 3047.80 files/s]\n"
          ]
        }
      ],
      "source": [
        "import splitfolders\n",
        "\n",
        "image_directory= '/content/Imagens_Supeita_Malaria'\n",
        "\n",
        "output_folder= '/content/Imagens_Supeita_Malaria_split'\n",
        "\n",
        "splitfolders.ratio(image_directory, output=output_folder,\n",
        "        seed=42, ratio=(.8, .1, .1), group_prefix=None, move=False)"
      ]
    },
    {
      "cell_type": "markdown",
      "metadata": {
        "id": "7sj81CethZ_4"
      },
      "source": [
        "## Construindo a Rede Neural Convolucional\n",
        "\n",
        "Nossa rede é uma sequência de camadas e podemos usar o modelo sequencial oferecido pelo Keras, que possui as funções necessárias para construir cada camada de uma rede neural convolucional.\n",
        "\n",
        "O primeiro passo é carregar os pacotes necessários, o que é feito nas células abaixo.\n",
        "\n",
        "O Keras utiliza o TensorFlow como backend, pois na prática o Keras é apenas uma biblioteca para simplificar a complexidade do TensorFlow. Aqui estão as versões utilizadas:"
      ]
    },
    {
      "cell_type": "code",
      "execution_count": null,
      "metadata": {
        "colab": {
          "base_uri": "https://localhost:8080/"
        },
        "id": "TSFcPH_3hZ_4",
        "outputId": "f9b43a05-9088-40b0-ee11-604c837bac57"
      },
      "outputs": [
        {
          "output_type": "stream",
          "name": "stdout",
          "text": [
            "Versão do TensorFlow: 2.12.0\n"
          ]
        }
      ],
      "source": [
        "import tensorflow as tf\n",
        "print(\"Versão do TensorFlow:\", tf.__version__)"
      ]
    },
    {
      "cell_type": "code",
      "execution_count": null,
      "metadata": {
        "colab": {
          "base_uri": "https://localhost:8080/"
        },
        "id": "USQ3-aurhZ_5",
        "outputId": "30a57dc8-6650-4941-aa2b-d8c79767642b"
      },
      "outputs": [
        {
          "output_type": "stream",
          "name": "stdout",
          "text": [
            "Versão do Keras: 2.12.0\n"
          ]
        }
      ],
      "source": [
        "import keras as K\n",
        "print(\"Versão do Keras:\", K.__version__)"
      ]
    },
    {
      "cell_type": "code",
      "execution_count": null,
      "metadata": {
        "id": "Ke3c0F-jhZ_5"
      },
      "outputs": [],
      "source": [
        "# Imports\n",
        "from keras.models import Sequential\n",
        "from keras.layers import Conv2D\n",
        "from keras.layers import MaxPooling2D\n",
        "from keras.layers import Flatten\n",
        "from keras.layers import Dense"
      ]
    },
    {
      "cell_type": "markdown",
      "metadata": {
        "id": "3bOX041YhZ_5"
      },
      "source": [
        "Nós então inicializamos a nossa rede:"
      ]
    },
    {
      "cell_type": "code",
      "execution_count": null,
      "metadata": {
        "id": "verZ4W8DhZ_5"
      },
      "outputs": [],
      "source": [
        "# Inicializando a Rede Neural Convolucional\n",
        "model = Sequential()"
      ]
    },
    {
      "cell_type": "code",
      "execution_count": null,
      "metadata": {
        "id": "SP7QgWtxhZ_5"
      },
      "outputs": [],
      "source": [
        "# Passo 1 - Primeira Camada de Convolução\n",
        "model.add(Conv2D(32, (3, 3), input_shape = (115, 115, 3), activation = 'relu'))"
      ]
    },
    {
      "cell_type": "code",
      "execution_count": null,
      "metadata": {
        "id": "RoMyKvDqhZ_6"
      },
      "outputs": [],
      "source": [
        "# Passo 2 - Pooling\n",
        "model.add(MaxPooling2D(pool_size = (2, 2)))"
      ]
    },
    {
      "cell_type": "code",
      "execution_count": null,
      "metadata": {
        "id": "kmT9eXnWhZ_6"
      },
      "outputs": [],
      "source": [
        "# Adicionando a Segunda Camada de Convolução\n",
        "model.add(Conv2D(32, (3, 3), activation = 'relu'))"
      ]
    },
    {
      "cell_type": "code",
      "execution_count": null,
      "metadata": {
        "id": "Oq5Hh8vMhZ_6"
      },
      "outputs": [],
      "source": [
        "model.add(MaxPooling2D(pool_size = (2, 2)))"
      ]
    },
    {
      "cell_type": "code",
      "execution_count": null,
      "metadata": {
        "id": "Zj50H3ZrhZ_6"
      },
      "outputs": [],
      "source": [
        "# Passo 3 - Flattening\n",
        "model.add(Flatten())"
      ]
    },
    {
      "cell_type": "code",
      "execution_count": null,
      "metadata": {
        "id": "UxGjhI3VhZ_7"
      },
      "outputs": [],
      "source": [
        "# Passo 4 - Full connection\n",
        "model.add(Dense(units = 128, activation = 'relu'))\n",
        "model.add(Dense(units = 1, activation = 'sigmoid'))"
      ]
    },
    {
      "cell_type": "code",
      "execution_count": null,
      "metadata": {
        "id": "PNMMYmgFhZ_7"
      },
      "outputs": [],
      "source": [
        "# Compilando a rede\n",
        "model.compile(optimizer = 'adam', loss = 'binary_crossentropy', metrics = ['accuracy'])"
      ]
    },
    {
      "cell_type": "markdown",
      "metadata": {
        "id": "ZIvFCL5fhZ_7"
      },
      "source": [
        "## Treinando a Rede Neural Convolucional"
      ]
    },
    {
      "cell_type": "markdown",
      "metadata": {
        "id": "NNkcfKw5hZ_7"
      },
      "source": [
        "### Pré-Processamento (Data Augmentation)"
      ]
    },
    {
      "cell_type": "markdown",
      "metadata": {
        "id": "P19WfWrJhZ_7"
      },
      "source": [
        "Com a rede criada, precisamos agora realizar o treinamento. Antes, porém, precisamos fazer algum pré-processamento nos dados, em nosso caso as imagens. Para essa tarefa, vamos usar a função ImageDataGenerator() do Keras e ajustar escala e zoom das imagens de treino e a escala das imagens de validação.\n",
        "\n",
        "O pré-processamento dos dados é etapa crucial em qualquer projeto de Machine Learning e muitas técnicas podem ser usadas, sempre de acordo com os dados em mãos e o problema que estamos tentando resolver. Nos cursos da Data Science Academy ensinamos aos alunos uma variedade de técnicas."
      ]
    },
    {
      "cell_type": "code",
      "execution_count": null,
      "metadata": {
        "id": "PoL0GKSWhZ_7"
      },
      "outputs": [],
      "source": [
        "# Criando os objetos train_datagen e validation_datagen com as regras de pré-processamento das imagens\n",
        "from keras.preprocessing.image import ImageDataGenerator\n",
        "\n",
        "train_datagen = ImageDataGenerator(rescale = 1./255,\n",
        "                                   shear_range = 0.2,\n",
        "                                   zoom_range = 0.2,\n",
        "                                   horizontal_flip = True)\n",
        "\n",
        "validation_datagen = ImageDataGenerator(rescale = 1./255)\n"
      ]
    },
    {
      "cell_type": "code",
      "execution_count": null,
      "metadata": {
        "id": "NP_dvhXIIVmn"
      },
      "outputs": [],
      "source": [
        "dir = \"/content/Imagens_Supeita_Malaria_split\"\n",
        "\n",
        "train_dir = dir + '/train'\n",
        "validation_dir = dir + '/val'\n",
        "test_dir = dir + '/test'"
      ]
    },
    {
      "cell_type": "markdown",
      "metadata": {
        "id": "V6h0GIpQhZ_8"
      },
      "source": [
        "Aplicamos então os dois objetos criados anteriormente para pré-processar os dados de treino e de validação. Lembre-se: o tratamento aplicado aos dados de validação deve ser o mesmo tratamento aplicado aos dados de treino."
      ]
    },
    {
      "cell_type": "code",
      "execution_count": null,
      "metadata": {
        "colab": {
          "base_uri": "https://localhost:8080/"
        },
        "id": "htRdk2jLhZ_8",
        "outputId": "f73d8d87-566a-478d-c4ae-5e195f86d383"
      },
      "outputs": [
        {
          "output_type": "stream",
          "name": "stdout",
          "text": [
            "Found 22046 images belonging to 2 classes.\n",
            "Found 2756 images belonging to 2 classes.\n"
          ]
        }
      ],
      "source": [
        "# Pré-processamento das imagens de treino e validação\n",
        "training_set = train_datagen.flow_from_directory(train_dir,\n",
        "                                                 target_size = (115, 115),\n",
        "                                                 batch_size = 32,\n",
        "                                                 class_mode = 'binary')\n",
        "\n",
        "validation_set = validation_datagen.flow_from_directory(validation_dir,\n",
        "                                                        target_size = (115, 115),\n",
        "                                                        batch_size = 32,\n",
        "                                                        class_mode = 'binary')"
      ]
    },
    {
      "cell_type": "markdown",
      "metadata": {
        "id": "RujJgIAOhZ_8"
      },
      "source": [
        "### Treinamento"
      ]
    },
    {
      "cell_type": "code",
      "execution_count": null,
      "metadata": {
        "id": "ogAZ45ifJYI3"
      },
      "outputs": [],
      "source": [
        "_epochs = 10"
      ]
    },
    {
      "cell_type": "code",
      "execution_count": null,
      "metadata": {
        "colab": {
          "base_uri": "https://localhost:8080/"
        },
        "id": "0xvFRWUMhaAC",
        "outputId": "7be353a7-d1c1-4bc1-bc43-e7d5b0e49064"
      },
      "outputs": [
        {
          "output_type": "stream",
          "name": "stdout",
          "text": [
            "Epoch 1/10\n",
            "689/689 [==============================] - 110s 142ms/step - loss: 0.4384 - accuracy: 0.7793 - val_loss: 0.2050 - val_accuracy: 0.9271\n",
            "Epoch 2/10\n",
            "689/689 [==============================] - 98s 142ms/step - loss: 0.2063 - accuracy: 0.9306 - val_loss: 0.1973 - val_accuracy: 0.9343\n",
            "Epoch 3/10\n",
            "689/689 [==============================] - 99s 144ms/step - loss: 0.1838 - accuracy: 0.9406 - val_loss: 0.1640 - val_accuracy: 0.9488\n",
            "Epoch 4/10\n",
            "689/689 [==============================] - 97s 141ms/step - loss: 0.1713 - accuracy: 0.9461 - val_loss: 0.1832 - val_accuracy: 0.9456\n",
            "Epoch 5/10\n",
            "689/689 [==============================] - 96s 139ms/step - loss: 0.1678 - accuracy: 0.9463 - val_loss: 0.1544 - val_accuracy: 0.9546\n",
            "Epoch 6/10\n",
            "689/689 [==============================] - 96s 139ms/step - loss: 0.1588 - accuracy: 0.9503 - val_loss: 0.1575 - val_accuracy: 0.9528\n",
            "Epoch 7/10\n",
            "689/689 [==============================] - 97s 141ms/step - loss: 0.1573 - accuracy: 0.9500 - val_loss: 0.1475 - val_accuracy: 0.9546\n",
            "Epoch 8/10\n",
            "689/689 [==============================] - 100s 146ms/step - loss: 0.1507 - accuracy: 0.9509 - val_loss: 0.1485 - val_accuracy: 0.9579\n",
            "Epoch 9/10\n",
            "689/689 [==============================] - 98s 142ms/step - loss: 0.1436 - accuracy: 0.9548 - val_loss: 0.1566 - val_accuracy: 0.9532\n",
            "Epoch 10/10\n",
            "689/689 [==============================] - 98s 143ms/step - loss: 0.1420 - accuracy: 0.9536 - val_loss: 0.1266 - val_accuracy: 0.9561\n"
          ]
        }
      ],
      "source": [
        "# Executando o treinamento (esse processo pode levar bastante tempo, dependendo do seu computador)\n",
        "import os\n",
        "_steps_per_epoch = len(os.listdir(train_dir))\n",
        "\n",
        "_validation_steps = len(validation_dir)\n",
        "\n",
        "history = model.fit(training_set,\n",
        "                epochs = _epochs,\n",
        "                batch_size=32,\n",
        "                validation_data = validation_set)"
      ]
    },
    {
      "cell_type": "code",
      "execution_count": null,
      "metadata": {
        "colab": {
          "base_uri": "https://localhost:8080/",
          "height": 352
        },
        "id": "7EP--rEFaS9P",
        "outputId": "cbe05eee-bd32-4bb6-daa9-951511a37877"
      },
      "outputs": [
        {
          "output_type": "display_data",
          "data": {
            "text/plain": [
              "<Figure size 2000x500 with 1 Axes>"
            ],
            "image/png": "[encoded data removed]"
          },
          "metadata": {}
        }
      ],
      "source": [
        "import matplotlib.pyplot as plt\n",
        "\n",
        "plt.figure(figsize=(20, 5))\n",
        "plt.plot(history.history['accuracy'], color='blue')\n",
        "plt.plot(history.history['val_accuracy'], color='red')\n",
        "plt.title('Model Accuracy', fontsize=20)\n",
        "plt.ylabel('Accuracy')\n",
        "plt.xlabel('Epoch')\n",
        "plt.legend(['Treinamento', 'Validação'], loc='lower right', fontsize=14)\n",
        "plt.show()"
      ]
    },
    {
      "cell_type": "code",
      "execution_count": null,
      "metadata": {
        "colab": {
          "base_uri": "https://localhost:8080/",
          "height": 353
        },
        "id": "v1oDrT9AaQnq",
        "outputId": "440c8391-d0fd-48f8-914e-3327f165bce5"
      },
      "outputs": [
        {
          "output_type": "display_data",
          "data": {
            "text/plain": [
              "<Figure size 2000x500 with 1 Axes>"
            ],
            "image/png": "[encoded data removed]"
          },
          "metadata": {}
        }
      ],
      "source": [
        "plt.figure(figsize=(20, 5))\n",
        "plt.plot(history.history['loss'], color='blue')\n",
        "plt.plot(history.history['val_loss'], color='red')\n",
        "plt.title('Model loss', fontsize=20)\n",
        "plt.ylabel('loss')\n",
        "plt.xlabel('epoch')\n",
        "plt.legend(['Treinamento', 'Validação'], loc='upper right', fontsize=14)\n",
        "plt.show()"
      ]
    },
    {
      "cell_type": "markdown",
      "metadata": {
        "id": "VSWxZShdhaAC"
      },
      "source": [
        "Treinamento concluído com sucesso! Observe que ao final de cada época a acurácia aumenta, ou seja, nosso modelo está aprendendo e cometendo cada vez menos erros! Essa é a magia por trás de Machine Learning, a pura aplicação de Matemática e Estatística, através de Programação e Ciência da Computação. Isso não é maravilhoso? Machine Learning está transformando o nosso mundo, à medida que treinamos as máquinas para realizar tarefas até então exclusivas dos seres humanos."
      ]
    },
    {
      "cell_type": "markdown",
      "metadata": {
        "id": "mpg5bI7qhaAC"
      },
      "source": [
        "## Fazendo Previsões"
      ]
    },
    {
      "cell_type": "code",
      "execution_count": null,
      "metadata": {
        "colab": {
          "base_uri": "https://localhost:8080/",
          "height": 170
        },
        "id": "lbwnqhdxhaAD",
        "outputId": "d77ddfff-88c8-45cb-aa44-9540f17a2eb8"
      },
      "outputs": [
        {
          "output_type": "stream",
          "name": "stdout",
          "text": [
            "1/1 [==============================] - 0s 183ms/step\n"
          ]
        },
        {
          "output_type": "execute_result",
          "data": {
            "image/png": "[encoded data removed]",
            "text/plain": [
              "<IPython.core.display.Image object>"
            ]
          },
          "metadata": {},
          "execution_count": 28
        }
      ],
      "source": [
        "# Primeira Imagem\n",
        "import os, random\n",
        "import numpy as np\n",
        "from keras.utils import load_img, img_to_array\n",
        "from keras.preprocessing import image\n",
        "\n",
        "dir_teste = test_dir + '/Negativo_Malaria'\n",
        "\n",
        "random_file = random.choice(os.listdir(dir_teste))\n",
        "\n",
        "image_test = dir_teste + '/' + random_file\n",
        "\n",
        "test_image = load_img(image_test, target_size = (115, 115))\n",
        "test_image = img_to_array(test_image)\n",
        "test_image = np.expand_dims(test_image, axis = 0)\n",
        "result = model.predict(test_image)\n",
        "training_set.class_indices\n",
        "\n",
        "if result[0][0] == 1:\n",
        "    prediction = 'Positivo'\n",
        "else:\n",
        "    prediction = 'Negativo'\n",
        "\n",
        "Image(filename=image_test)"
      ]
    },
    {
      "cell_type": "code",
      "execution_count": null,
      "metadata": {
        "colab": {
          "base_uri": "https://localhost:8080/",
          "height": 35
        },
        "id": "jjk-vpXwhaAD",
        "outputId": "fdedd7b3-3473-4d5b-d9e8-ff1b784bf766"
      },
      "outputs": [
        {
          "output_type": "execute_result",
          "data": {
            "text/plain": [
              "'Negativo'"
            ],
            "application/vnd.google.colaboratory.intrinsic+json": {
              "type": "string"
            }
          },
          "metadata": {},
          "execution_count": 29
        }
      ],
      "source": [
        "# Previsão da primeira imagem\n",
        "prediction"
      ]
    },
    {
      "cell_type": "code",
      "execution_count": null,
      "metadata": {
        "colab": {
          "base_uri": "https://localhost:8080/",
          "height": 164
        },
        "id": "g8T3Wa4JhaAD",
        "outputId": "af9d2d16-0808-430d-a90a-c98ffade657e"
      },
      "outputs": [
        {
          "output_type": "stream",
          "name": "stdout",
          "text": [
            "1/1 [==============================] - 0s 18ms/step\n"
          ]
        },
        {
          "output_type": "execute_result",
          "data": {
            "image/png": "[encoded data removed]",
            "text/plain": [
              "<IPython.core.display.Image object>"
            ]
          },
          "metadata": {},
          "execution_count": 30
        }
      ],
      "source": [
        "# Segunda Imagem\n",
        "dir_teste = test_dir + '/Negativo_Malaria'\n",
        "\n",
        "random_file = random.choice(os.listdir(dir_teste))\n",
        "\n",
        "image_test = dir_teste + '/' + random_file\n",
        "\n",
        "test_image = load_img(image_test, target_size = (115, 115))\n",
        "test_image = img_to_array(test_image)\n",
        "test_image = np.expand_dims(test_image, axis = 0)\n",
        "result = model.predict(test_image)\n",
        "training_set.class_indices\n",
        "\n",
        "if result[0][0] == 1:\n",
        "    prediction = 'Positivo'\n",
        "else:\n",
        "    prediction = 'Negativo'\n",
        "\n",
        "Image(filename=image_test)"
      ]
    },
    {
      "cell_type": "code",
      "execution_count": null,
      "metadata": {
        "colab": {
          "base_uri": "https://localhost:8080/",
          "height": 35
        },
        "id": "wiWa51bnhaAE",
        "outputId": "e5f9d9ec-fc7d-4c8d-b63a-0dcc110f2930"
      },
      "outputs": [
        {
          "output_type": "execute_result",
          "data": {
            "text/plain": [
              "'Negativo'"
            ],
            "application/vnd.google.colaboratory.intrinsic+json": {
              "type": "string"
            }
          },
          "metadata": {},
          "execution_count": 31
        }
      ],
      "source": [
        "# Previsão da segunda imagem\n",
        "prediction"
      ]
    },
    {
      "cell_type": "code",
      "execution_count": null,
      "metadata": {
        "colab": {
          "base_uri": "https://localhost:8080/",
          "height": 173
        },
        "id": "CffBzWX_haAE",
        "outputId": "ec640540-5236-4582-956b-f96c3dcb7ee2"
      },
      "outputs": [
        {
          "output_type": "stream",
          "name": "stdout",
          "text": [
            "1/1 [==============================] - 0s 18ms/step\n"
          ]
        },
        {
          "output_type": "execute_result",
          "data": {
            "image/png": "[encoded data removed]",
            "text/plain": [
              "<IPython.core.display.Image object>"
            ]
          },
          "metadata": {},
          "execution_count": 32
        }
      ],
      "source": [
        "# Terceira Imagem\n",
        "dir_teste = test_dir + '/Positivo_Malaria'\n",
        "\n",
        "random_file = random.choice(os.listdir(dir_teste))\n",
        "\n",
        "image_test = dir_teste + '/' + random_file\n",
        "\n",
        "test_image = load_img(image_test, target_size = (115, 115))\n",
        "test_image = img_to_array(test_image)\n",
        "test_image = np.expand_dims(test_image, axis = 0)\n",
        "result = model.predict(test_image)\n",
        "training_set.class_indices\n",
        "\n",
        "if result[0][0] == 1:\n",
        "    prediction = 'Positivo'\n",
        "else:\n",
        "    prediction = 'Negativo'\n",
        "\n",
        "Image(filename=image_test)"
      ]
    },
    {
      "cell_type": "code",
      "execution_count": null,
      "metadata": {
        "colab": {
          "base_uri": "https://localhost:8080/",
          "height": 35
        },
        "id": "OcV9SOqdhaAE",
        "outputId": "1ef72372-bf08-4200-b3a6-0494b918ffa4"
      },
      "outputs": [
        {
          "output_type": "execute_result",
          "data": {
            "text/plain": [
              "'Positivo'"
            ],
            "application/vnd.google.colaboratory.intrinsic+json": {
              "type": "string"
            }
          },
          "metadata": {},
          "execution_count": 33
        }
      ],
      "source": [
        "# Previsão da terceira imagem\n",
        "prediction"
      ]
    },
    {
      "cell_type": "code",
      "execution_count": null,
      "metadata": {
        "colab": {
          "base_uri": "https://localhost:8080/",
          "height": 152
        },
        "id": "-9NB_--EhaAF",
        "outputId": "9ee6fbe5-902d-4ad5-b7c9-3464ef790b6b"
      },
      "outputs": [
        {
          "output_type": "stream",
          "name": "stdout",
          "text": [
            "1/1 [==============================] - 0s 20ms/step\n"
          ]
        },
        {
          "output_type": "execute_result",
          "data": {
            "image/png": "[encoded data removed]",
            "text/plain": [
              "<IPython.core.display.Image object>"
            ]
          },
          "metadata": {},
          "execution_count": 34
        }
      ],
      "source": [
        "# Quarta Imagem\n",
        "dir_teste = test_dir + '/Positivo_Malaria'\n",
        "\n",
        "random_file = random.choice(os.listdir(dir_teste))\n",
        "\n",
        "image_test = dir_teste + '/' + random_file\n",
        "\n",
        "test_image = load_img(image_test, target_size = (115, 115))\n",
        "test_image = img_to_array(test_image)\n",
        "test_image = np.expand_dims(test_image, axis = 0)\n",
        "result = model.predict(test_image)\n",
        "training_set.class_indices\n",
        "\n",
        "if result[0][0] == 1:\n",
        "    prediction = 'Positivo'\n",
        "else:\n",
        "    prediction = 'Negativo'\n",
        "\n",
        "Image(filename=image_test)"
      ]
    },
    {
      "cell_type": "code",
      "execution_count": null,
      "metadata": {
        "colab": {
          "base_uri": "https://localhost:8080/",
          "height": 35
        },
        "id": "K9caHTimhaAF",
        "outputId": "01c803db-8f69-43f4-c64d-69588e5679d4"
      },
      "outputs": [
        {
          "output_type": "execute_result",
          "data": {
            "text/plain": [
              "'Positivo'"
            ],
            "application/vnd.google.colaboratory.intrinsic+json": {
              "type": "string"
            }
          },
          "metadata": {},
          "execution_count": 35
        }
      ],
      "source": [
        "# Previsão da quarta imagem\n",
        "prediction"
      ]
    },
    {
      "cell_type": "markdown",
      "metadata": {
        "id": "pssKAD_-JJre"
      },
      "source": [
        "## Fine Tuning"
      ]
    },
    {
      "cell_type": "code",
      "execution_count": null,
      "metadata": {
        "colab": {
          "base_uri": "https://localhost:8080/"
        },
        "id": "_pFWk2NNB4A-",
        "outputId": "e6fa82ed-50af-49a5-b760-fddcd6561713"
      },
      "outputs": [
        {
          "output_type": "stream",
          "name": "stdout",
          "text": [
            "Downloading data from https://storage.googleapis.com/tensorflow/keras-applications/vgg16/vgg16_weights_tf_dim_ordering_tf_kernels_notop.h5\n",
            "58889256/58889256 [==============================] - 0s 0us/step\n",
            "Model: \"vgg16\"\n",
            "_________________________________________________________________\n",
            " Layer (type)                Output Shape              Param #   \n",
            "=================================================================\n",
            " input_1 (InputLayer)        [(None, 115, 115, 3)]     0         \n",
            "                                                                 \n",
            " block1_conv1 (Conv2D)       (None, 115, 115, 64)      1792      \n",
            "                                                                 \n",
            " block1_conv2 (Conv2D)       (None, 115, 115, 64)      36928     \n",
            "                                                                 \n",
            " block1_pool (MaxPooling2D)  (None, 57, 57, 64)        0         \n",
            "                                                                 \n",
            " block2_conv1 (Conv2D)       (None, 57, 57, 128)       73856     \n",
            "                                                                 \n",
            " block2_conv2 (Conv2D)       (None, 57, 57, 128)       147584    \n",
            "                                                                 \n",
            " block2_pool (MaxPooling2D)  (None, 28, 28, 128)       0         \n",
            "                                                                 \n",
            " block3_conv1 (Conv2D)       (None, 28, 28, 256)       295168    \n",
            "                                                                 \n",
            " block3_conv2 (Conv2D)       (None, 28, 28, 256)       590080    \n",
            "                                                                 \n",
            " block3_conv3 (Conv2D)       (None, 28, 28, 256)       590080    \n",
            "                                                                 \n",
            " block3_pool (MaxPooling2D)  (None, 14, 14, 256)       0         \n",
            "                                                                 \n",
            " block4_conv1 (Conv2D)       (None, 14, 14, 512)       1180160   \n",
            "                                                                 \n",
            " block4_conv2 (Conv2D)       (None, 14, 14, 512)       2359808   \n",
            "                                                                 \n",
            " block4_conv3 (Conv2D)       (None, 14, 14, 512)       2359808   \n",
            "                                                                 \n",
            " block4_pool (MaxPooling2D)  (None, 7, 7, 512)         0         \n",
            "                                                                 \n",
            " block5_conv1 (Conv2D)       (None, 7, 7, 512)         2359808   \n",
            "                                                                 \n",
            " block5_conv2 (Conv2D)       (None, 7, 7, 512)         2359808   \n",
            "                                                                 \n",
            " block5_conv3 (Conv2D)       (None, 7, 7, 512)         2359808   \n",
            "                                                                 \n",
            " block5_pool (MaxPooling2D)  (None, 3, 3, 512)         0         \n",
            "                                                                 \n",
            "=================================================================\n",
            "Total params: 14,714,688\n",
            "Trainable params: 14,714,688\n",
            "Non-trainable params: 0\n",
            "_________________________________________________________________\n"
          ]
        }
      ],
      "source": [
        "conv_base = tf.keras.applications.VGG16 (\n",
        "              weights='imagenet',  # Uso dos pesos aprendidos no \"imagenet\"\n",
        "              include_top=False,   # Não inclui a parte MLP (top) da CNN\n",
        "              input_shape=(115, 115, 3)\n",
        "              )\n",
        "\n",
        "conv_base.summary()"
      ]
    },
    {
      "cell_type": "code",
      "execution_count": null,
      "metadata": {
        "colab": {
          "base_uri": "https://localhost:8080/"
        },
        "id": "VYI7VC32COy7",
        "outputId": "3e211c10-979b-4a4c-8519-bee0e802b4df"
      },
      "outputs": [
        {
          "output_type": "stream",
          "name": "stdout",
          "text": [
            "Model: \"sequential_1\"\n",
            "_________________________________________________________________\n",
            " Layer (type)                Output Shape              Param #   \n",
            "=================================================================\n",
            " vgg16 (Functional)          (None, 3, 3, 512)         14714688  \n",
            "                                                                 \n",
            " flatten_1 (Flatten)         (None, 4608)              0         \n",
            "                                                                 \n",
            " dense_2 (Dense)             (None, 256)               1179904   \n",
            "                                                                 \n",
            " dense_3 (Dense)             (None, 1)                 257       \n",
            "                                                                 \n",
            "=================================================================\n",
            "Total params: 15,894,849\n",
            "Trainable params: 15,894,849\n",
            "Non-trainable params: 0\n",
            "_________________________________________________________________\n"
          ]
        }
      ],
      "source": [
        "model = tf.keras.models.Sequential()\n",
        "\n",
        "# Modelo base\n",
        "model.add(conv_base)\n",
        "\n",
        "# Novo classificador\n",
        "model.add(tf.keras.layers.Flatten())\n",
        "model.add(tf.keras.layers.Dense(256, activation='relu'))\n",
        "model.add(tf.keras.layers.Dense(1, activation='sigmoid')) # Classificação binária\n",
        "\n",
        "model.summary()"
      ]
    },
    {
      "cell_type": "code",
      "execution_count": null,
      "metadata": {
        "id": "s11BEhuZCVUb"
      },
      "outputs": [],
      "source": [
        "conv_base.trainable = False"
      ]
    },
    {
      "cell_type": "code",
      "execution_count": null,
      "metadata": {
        "id": "15LX3BcBCbpt"
      },
      "outputs": [],
      "source": [
        "# Compila com uma taxa de aprendizado pequena = 0,00002 para limitar as\n",
        "\n",
        "lr = 2e-5\n",
        "model.compile(loss='binary_crossentropy',\n",
        "              optimizer=tf.keras.optimizers.Adam(learning_rate = lr),\n",
        "              metrics=['accuracy'])"
      ]
    },
    {
      "cell_type": "code",
      "execution_count": null,
      "metadata": {
        "colab": {
          "base_uri": "https://localhost:8080/"
        },
        "id": "JT4g_44SC2AE",
        "outputId": "9b28b653-54c1-422a-ab8a-0e88d6b3a90c"
      },
      "outputs": [
        {
          "output_type": "stream",
          "name": "stdout",
          "text": [
            "Epoch 1/10\n",
            "689/689 [==============================] - 111s 156ms/step - loss: 0.3695 - accuracy: 0.8556 - val_loss: 0.2588 - val_accuracy: 0.9053\n",
            "Epoch 2/10\n",
            "689/689 [==============================] - 118s 171ms/step - loss: 0.2495 - accuracy: 0.9047 - val_loss: 0.2463 - val_accuracy: 0.8944\n",
            "Epoch 3/10\n",
            "689/689 [==============================] - 116s 168ms/step - loss: 0.2249 - accuracy: 0.9139 - val_loss: 0.1995 - val_accuracy: 0.9267\n",
            "Epoch 4/10\n",
            "689/689 [==============================] - 122s 178ms/step - loss: 0.2087 - accuracy: 0.9209 - val_loss: 0.1987 - val_accuracy: 0.9260\n",
            "Epoch 5/10\n",
            "689/689 [==============================] - 120s 174ms/step - loss: 0.2020 - accuracy: 0.9222 - val_loss: 0.1832 - val_accuracy: 0.9303\n",
            "Epoch 6/10\n",
            "689/689 [==============================] - 125s 182ms/step - loss: 0.1917 - accuracy: 0.9275 - val_loss: 0.1782 - val_accuracy: 0.9361\n",
            "Epoch 7/10\n",
            "689/689 [==============================] - 117s 170ms/step - loss: 0.1884 - accuracy: 0.9291 - val_loss: 0.1713 - val_accuracy: 0.9380\n",
            "Epoch 8/10\n",
            "689/689 [==============================] - 124s 180ms/step - loss: 0.1846 - accuracy: 0.9326 - val_loss: 0.1674 - val_accuracy: 0.9380\n",
            "Epoch 9/10\n",
            "689/689 [==============================] - 107s 154ms/step - loss: 0.1810 - accuracy: 0.9314 - val_loss: 0.1858 - val_accuracy: 0.9303\n",
            "Epoch 10/10\n",
            "689/689 [==============================] - 116s 169ms/step - loss: 0.1763 - accuracy: 0.9348 - val_loss: 0.1704 - val_accuracy: 0.9358\n"
          ]
        }
      ],
      "source": [
        "history = model.fit(training_set,\n",
        "                epochs = _epochs,\n",
        "                batch_size=32,\n",
        "                validation_data = validation_set)"
      ]
    },
    {
      "cell_type": "code",
      "execution_count": null,
      "metadata": {
        "id": "K20yodWADLp8"
      },
      "outputs": [],
      "source": [
        "conv_base.trainable = True\n",
        "\n",
        "set_trainable = False\n",
        "for layer in conv_base.layers:\n",
        "  if layer.name == 'block5_conv1':\n",
        "    set_trainable = True\n",
        "  if set_trainable:\n",
        "    layer.trainable = True\n",
        "  else:\n",
        "    layer.trainable = False"
      ]
    },
    {
      "cell_type": "code",
      "execution_count": null,
      "metadata": {
        "colab": {
          "base_uri": "https://localhost:8080/"
        },
        "id": "zbFQhMyWDO_j",
        "outputId": "9e3a0e96-a97a-4e19-b2f8-2d118277674a"
      },
      "outputs": [
        {
          "name": "stdout",
          "output_type": "stream",
          "text": [
            "Epoch 1/5\n",
            "689/689 [==============================] - 116s 165ms/step - loss: 0.1694 - accuracy: 0.9390 - val_loss: 0.1439 - val_accuracy: 0.9496\n",
            "Epoch 2/5\n",
            "689/689 [==============================] - 118s 172ms/step - loss: 0.1461 - accuracy: 0.9493 - val_loss: 0.1304 - val_accuracy: 0.9499\n",
            "Epoch 3/5\n",
            "689/689 [==============================] - 113s 164ms/step - loss: 0.1319 - accuracy: 0.9535 - val_loss: 0.1165 - val_accuracy: 0.9594\n",
            "Epoch 4/5\n",
            "689/689 [==============================] - 110s 159ms/step - loss: 0.1233 - accuracy: 0.9560 - val_loss: 0.1096 - val_accuracy: 0.9608\n",
            "Epoch 5/5\n",
            "689/689 [==============================] - 112s 162ms/step - loss: 0.1169 - accuracy: 0.9582 - val_loss: 0.1117 - val_accuracy: 0.9637\n"
          ]
        }
      ],
      "source": [
        "# Compila com uma taxa de aprendizado bem pequena = 0,00001 para limitar as\n",
        "# os ajustes nas representações aprendidas pelas três camadas treinadas.\n",
        "# Atualizações muito grandes podem prejudicar essas representações.\n",
        "\n",
        "model.compile(loss='binary_crossentropy',\n",
        "              optimizer=tf.keras.optimizers.Adam(learning_rate=1e-5),\n",
        "              metrics='accuracy')\n",
        "\n",
        "\n",
        "# Ajusta\n",
        "history = model.fit(training_set,\n",
        "                    epochs=_epochs,\n",
        "                    validation_data=validation_set)"
      ]
    },
    {
      "cell_type": "code",
      "execution_count": null,
      "metadata": {
        "colab": {
          "base_uri": "https://localhost:8080/",
          "height": 236
        },
        "id": "6tJQxdg2DaUt",
        "outputId": "07e592a6-b8d3-4377-ecdc-16e0732aa491"
      },
      "outputs": [
        {
          "data": {
            "image/png": "[encoded data removed]",
            "text/plain": [
              "<Figure size 2000x500 with 1 Axes>"
            ]
          },
          "metadata": {},
          "output_type": "display_data"
        }
      ],
      "source": [
        "import matplotlib.pyplot as plt\n",
        "\n",
        "plt.figure(figsize=(20, 5))\n",
        "plt.plot(history.history['accuracy'], color='blue')\n",
        "plt.plot(history.history['val_accuracy'], color='red')\n",
        "plt.title('Model Accuracy', fontsize=20)\n",
        "plt.ylabel('Accuracy')\n",
        "plt.xlabel('Epoch')\n",
        "plt.legend(['Treinamento', 'Validação'], loc='lower right', fontsize=14)\n",
        "plt.show()"
      ]
    },
    {
      "cell_type": "code",
      "execution_count": null,
      "metadata": {
        "colab": {
          "base_uri": "https://localhost:8080/",
          "height": 237
        },
        "id": "43gr3Sd1Ded8",
        "outputId": "61afc31f-c683-4e60-a791-88606ad49861"
      },
      "outputs": [
        {
          "data": {
            "image/png": "[encoded data removed]",
            "text/plain": [
              "<Figure size 2000x500 with 1 Axes>"
            ]
          },
          "metadata": {},
          "output_type": "display_data"
        }
      ],
      "source": [
        "plt.figure(figsize=(20, 5))\n",
        "plt.plot(history.history['loss'], color='blue')\n",
        "plt.plot(history.history['val_loss'], color='red')\n",
        "plt.title('Model loss', fontsize=20)\n",
        "plt.ylabel('loss')\n",
        "plt.xlabel('epoch')\n",
        "plt.legend(['Treinamento', 'Validação'], loc='upper right', fontsize=14)\n",
        "plt.show()"
      ]
    },
    {
      "cell_type": "markdown",
      "metadata": {
        "id": "aG7B_aqRJFNH"
      },
      "source": [
        "## Salvando o modelo"
      ]
    },
    {
      "cell_type": "code",
      "execution_count": null,
      "metadata": {
        "id": "qsly84yVkM6S"
      },
      "outputs": [],
      "source": [
        "#salvando modelo do keras\n",
        "\n",
        "from keras.models import load_model\n",
        "\n",
        "path_model = 'Supeita_Malaria.h5'\n",
        "\n",
        "model.save(path_model)\n",
        "\n"
      ]
    },
    {
      "cell_type": "code",
      "execution_count": null,
      "metadata": {
        "id": "RfPGGQQ3kkTz"
      },
      "outputs": [],
      "source": [
        "# carregando modleo do keras\n",
        "\n",
        "from keras.models import load_model\n",
        "\n",
        "model = load_model(path_model)\n",
        "\n",
        "model.summary()"
      ]
    },
    {
      "cell_type": "markdown",
      "source": [
        "**O YOLO**\n",
        "\n",
        "O modelo You Only Look Once (YOLO) faz a detecção precisa e rápida, e é um dos mais utilizados há anos."
      ],
      "metadata": {
        "id": "8oNvnRqoNm5F"
      }
    },
    {
      "cell_type": "markdown",
      "source": [
        "## Descrição\n",
        "\n",
        "A detecção de objetos é uma tarefa de VC que envolve:\n",
        "\n",
        "1. Localização de objetos em uma uma imagem\n",
        "2. Classificação dos objetos\n",
        "\n",
        "**O YOLO**\n",
        "\n",
        "O modelo You Only Look Once (YOLO) faz a detecção **precisa e rápida**, e é um dos mais utilizados há anos.\n",
        "\n",
        "A proposta original encontra-se no artigo:\n",
        "- Joseph Redmon, et al., **You Only Look Once: Unified, Real-Time Object Detection**; 2015.\n",
        "\n",
        "**Modelos do YOLO**\n",
        "\n",
        "<img src=\"https://drive.google.com/uc?export=view&id=1UQ4wwEltr4FVflHmiQuqm8KmKWfV9b4c\" alt=\"drawing\" width=\"400\"/>\n",
        "\n",
        "Quanto maior o modelo escolhido, melhor a qualidade de previsão que você pode obter, mas mais lento ele funcionará."
      ],
      "metadata": {
        "id": "nOU7QX8dNomF"
      }
    },
    {
      "cell_type": "code",
      "source": [
        "!pip install -U ultralytics"
      ],
      "metadata": {
        "id": "l6BBmufd7Hqv"
      },
      "execution_count": null,
      "outputs": []
    },
    {
      "cell_type": "code",
      "source": [
        "from ultralytics import YOLO"
      ],
      "metadata": {
        "id": "HmPfAcUG6H4G"
      },
      "execution_count": null,
      "outputs": []
    },
    {
      "cell_type": "code",
      "source": [
        "model = YOLO('yolov8n.pt')"
      ],
      "metadata": {
        "colab": {
          "base_uri": "https://localhost:8080/"
        },
        "id": "KtXQHu9x7JwW",
        "outputId": "b6a5d739-d1ab-4bb8-8b7e-c0055fa2e25f"
      },
      "execution_count": null,
      "outputs": [
        {
          "output_type": "stream",
          "name": "stderr",
          "text": [
            "Downloading https://github.com/ultralytics/assets/releases/download/v0.0.0/yolov8n.pt to 'yolov8n.pt'...\n",
            "100%|██████████| 6.23M/6.23M [00:00<00:00, 55.4MB/s]\n"
          ]
        }
      ]
    },
    {
      "cell_type": "code",
      "source": [
        "model.info()"
      ],
      "metadata": {
        "colab": {
          "base_uri": "https://localhost:8080/"
        },
        "id": "SPwU-uVT7QnO",
        "outputId": "a242caaa-cf1d-491f-d024-5d22b4800f35"
      },
      "execution_count": null,
      "outputs": [
        {
          "output_type": "stream",
          "name": "stderr",
          "text": [
            "YOLOv8n summary: 225 layers, 3157200 parameters, 0 gradients, 8.9 GFLOPs\n"
          ]
        },
        {
          "output_type": "execute_result",
          "data": {
            "text/plain": [
              "(225, 3157200, 0, 8.8575488)"
            ]
          },
          "metadata": {},
          "execution_count": 17
        }
      ]
    },
    {
      "cell_type": "code",
      "source": [
        "results = model.train(data='coco8.yaml', epochs=100, imgsz=115)"
      ],
      "metadata": {
        "colab": {
          "base_uri": "https://localhost:8080/"
        },
        "id": "rdMLNTeJ7UIW",
        "outputId": "732b196e-1b59-4681-e68a-233a668cb797"
      },
      "execution_count": null,
      "outputs": [
        {
          "output_type": "stream",
          "name": "stderr",
          "text": [
            "Ultralytics YOLOv8.0.155 🚀 Python-3.10.12 torch-2.0.1+cu118 CUDA:0 (Tesla T4, 15102MiB)\n",
            "\u001b[34m\u001b[1mengine/trainer: \u001b[0mtask=detect, mode=train, model=yolov8n.pt, data=coco8.yaml, epochs=100, patience=50, batch=16, imgsz=115, save=True, save_period=-1, cache=False, device=None, workers=8, project=None, name=None, exist_ok=False, pretrained=True, optimizer=auto, verbose=True, seed=0, deterministic=True, single_cls=False, rect=False, cos_lr=False, close_mosaic=10, resume=False, amp=True, fraction=1.0, profile=False, freeze=None, overlap_mask=True, mask_ratio=4, dropout=0.0, val=True, split=val, save_json=False, save_hybrid=False, conf=None, iou=0.7, max_det=300, half=False, dnn=False, plots=True, source=None, show=False, save_txt=False, save_conf=False, save_crop=False, show_labels=True, show_conf=True, vid_stride=1, line_width=None, visualize=False, augment=False, agnostic_nms=False, classes=None, retina_masks=False, boxes=True, format=torchscript, keras=False, optimize=False, int8=False, dynamic=False, simplify=False, opset=None, workspace=4, nms=False, lr0=0.01, lrf=0.01, momentum=0.937, weight_decay=0.0005, warmup_epochs=3.0, warmup_momentum=0.8, warmup_bias_lr=0.1, box=7.5, cls=0.5, dfl=1.5, pose=12.0, kobj=1.0, label_smoothing=0.0, nbs=64, hsv_h=0.015, hsv_s=0.7, hsv_v=0.4, degrees=0.0, translate=0.1, scale=0.5, shear=0.0, perspective=0.0, flipud=0.0, fliplr=0.5, mosaic=1.0, mixup=0.0, copy_paste=0.0, cfg=None, tracker=botsort.yaml, save_dir=runs/detect/train2\n",
            "\n",
            "Dataset 'coco8.yaml' images not found ⚠️, missing path '/content/yolov5/datasets/coco8/images/val'\n",
            "Downloading https://ultralytics.com/assets/coco8.zip to '/content/yolov5/datasets/coco8.zip'...\n",
            "100%|██████████| 433k/433k [00:00<00:00, 9.20MB/s]\n",
            "Unzipping /content/yolov5/datasets/coco8.zip to /content/yolov5/datasets...: 100%|██████████| 25/25 [00:00<00:00, 3171.26file/s]\n",
            "Dataset download success ✅ (0.7s), saved to \u001b[1m/content/yolov5/datasets\u001b[0m\n",
            "\n",
            "\n",
            "                   from  n    params  module                                       arguments                     \n",
            "  0                  -1  1       464  ultralytics.nn.modules.conv.Conv             [3, 16, 3, 2]                 \n",
            "  1                  -1  1      4672  ultralytics.nn.modules.conv.Conv             [16, 32, 3, 2]                \n",
            "  2                  -1  1      7360  ultralytics.nn.modules.block.C2f             [32, 32, 1, True]             \n",
            "  3                  -1  1     18560  ultralytics.nn.modules.conv.Conv             [32, 64, 3, 2]                \n",
            "  4                  -1  2     49664  ultralytics.nn.modules.block.C2f             [64, 64, 2, True]             \n",
            "  5                  -1  1     73984  ultralytics.nn.modules.conv.Conv             [64, 128, 3, 2]               \n",
            "  6                  -1  2    197632  ultralytics.nn.modules.block.C2f             [128, 128, 2, True]           \n",
            "  7                  -1  1    295424  ultralytics.nn.modules.conv.Conv             [128, 256, 3, 2]              \n",
            "  8                  -1  1    460288  ultralytics.nn.modules.block.C2f             [256, 256, 1, True]           \n",
            "  9                  -1  1    164608  ultralytics.nn.modules.block.SPPF            [256, 256, 5]                 \n",
            " 10                  -1  1         0  torch.nn.modules.upsampling.Upsample         [None, 2, 'nearest']          \n",
            " 11             [-1, 6]  1         0  ultralytics.nn.modules.conv.Concat           [1]                           \n",
            " 12                  -1  1    148224  ultralytics.nn.modules.block.C2f             [384, 128, 1]                 \n",
            " 13                  -1  1         0  torch.nn.modules.upsampling.Upsample         [None, 2, 'nearest']          \n",
            " 14             [-1, 4]  1         0  ultralytics.nn.modules.conv.Concat           [1]                           \n",
            " 15                  -1  1     37248  ultralytics.nn.modules.block.C2f             [192, 64, 1]                  \n",
            " 16                  -1  1     36992  ultralytics.nn.modules.conv.Conv             [64, 64, 3, 2]                \n",
            " 17            [-1, 12]  1         0  ultralytics.nn.modules.conv.Concat           [1]                           \n",
            " 18                  -1  1    123648  ultralytics.nn.modules.block.C2f             [192, 128, 1]                 \n",
            " 19                  -1  1    147712  ultralytics.nn.modules.conv.Conv             [128, 128, 3, 2]              \n",
            " 20             [-1, 9]  1         0  ultralytics.nn.modules.conv.Concat           [1]                           \n",
            " 21                  -1  1    493056  ultralytics.nn.modules.block.C2f             [384, 256, 1]                 \n",
            " 22        [15, 18, 21]  1    897664  ultralytics.nn.modules.head.Detect           [80, [64, 128, 256]]          \n",
            "Model summary: 225 layers, 3157200 parameters, 3157184 gradients, 8.9 GFLOPs\n",
            "\n",
            "Transferred 355/355 items from pretrained weights\n",
            "\u001b[34m\u001b[1mTensorBoard: \u001b[0mStart with 'tensorboard --logdir runs/detect/train2', view at http://localhost:6006/\n",
            "Freezing layer 'model.22.dfl.conv.weight'\n",
            "\u001b[34m\u001b[1mAMP: \u001b[0mrunning Automatic Mixed Precision (AMP) checks with YOLOv8n...\n",
            "\u001b[34m\u001b[1mAMP: \u001b[0mchecks passed ✅\n",
            "WARNING ⚠️ imgsz=[115] must be multiple of max stride 32, updating to [128]\n",
            "\u001b[34m\u001b[1mtrain: \u001b[0mScanning /content/yolov5/datasets/coco8/labels/train... 4 images, 0 backgrounds, 0 corrupt: 100%|██████████| 4/4 [00:00<00:00, 1140.76it/s]\n",
            "\u001b[34m\u001b[1mtrain: \u001b[0mNew cache created: /content/yolov5/datasets/coco8/labels/train.cache\n",
            "\u001b[34m\u001b[1malbumentations: \u001b[0mBlur(p=0.01, blur_limit=(3, 7)), MedianBlur(p=0.01, blur_limit=(3, 7)), ToGray(p=0.01), CLAHE(p=0.01, clip_limit=(1, 4.0), tile_grid_size=(8, 8))\n",
            "\u001b[34m\u001b[1mval: \u001b[0mScanning /content/yolov5/datasets/coco8/labels/val... 4 images, 0 backgrounds, 0 corrupt: 100%|██████████| 4/4 [00:00<00:00, 399.11it/s]\n",
            "\u001b[34m\u001b[1mval: \u001b[0mNew cache created: /content/yolov5/datasets/coco8/labels/val.cache\n",
            "Plotting labels to runs/detect/train2/labels.jpg... \n",
            "\u001b[34m\u001b[1moptimizer:\u001b[0m AdamW(lr=0.000119, momentum=0.9) with parameter groups 57 weight(decay=0.0), 64 weight(decay=0.0005), 63 bias(decay=0.0)\n",
            "Image sizes 128 train, 128 val\n",
            "Using 2 dataloader workers\n",
            "Logging results to \u001b[1mruns/detect/train2\u001b[0m\n",
            "Starting training for 100 epochs...\n",
            "\n",
            "      Epoch    GPU_mem   box_loss   cls_loss   dfl_loss  Instances       Size\n",
            "      1/100     0.409G      1.781      6.553      1.729         32        128: 100%|██████████| 1/1 [00:02<00:00,  2.27s/it]\n",
            "/usr/local/lib/python3.10/dist-packages/torch/optim/lr_scheduler.py:139: UserWarning: Detected call of `lr_scheduler.step()` before `optimizer.step()`. In PyTorch 1.1.0 and later, you should call them in the opposite order: `optimizer.step()` before `lr_scheduler.step()`.  Failure to do this will result in PyTorch skipping the first value of the learning rate schedule. See more details at https://pytorch.org/docs/stable/optim.html#how-to-adjust-learning-rate\n",
            "  warnings.warn(\"Detected call of `lr_scheduler.step()` before `optimizer.step()`. \"\n",
            "                 Class     Images  Instances      Box(P          R      mAP50  mAP50-95): 100%|██████████| 1/1 [00:01<00:00,  1.62s/it]\n",
            "                   all          4         17      0.407       0.35      0.351      0.298\n",
            "\n",
            "      Epoch    GPU_mem   box_loss   cls_loss   dfl_loss  Instances       Size\n",
            "      2/100     0.254G      2.057      6.436      1.819         33        128: 100%|██████████| 1/1 [00:00<00:00, 10.37it/s]\n",
            "                 Class     Images  Instances      Box(P          R      mAP50  mAP50-95): 100%|██████████| 1/1 [00:00<00:00, 16.96it/s]\n",
            "                   all          4         17      0.419       0.35      0.351      0.298\n",
            "\n",
            "      Epoch    GPU_mem   box_loss   cls_loss   dfl_loss  Instances       Size\n",
            "      3/100     0.254G      1.716      5.693      1.337         17        128: 100%|██████████| 1/1 [00:00<00:00, 11.26it/s]\n",
            "                 Class     Images  Instances      Box(P          R      mAP50  mAP50-95): 100%|██████████| 1/1 [00:00<00:00,  9.56it/s]\n",
            "                   all          4         17       0.25       0.35      0.351        0.3\n",
            "\n",
            "      Epoch    GPU_mem   box_loss   cls_loss   dfl_loss  Instances       Size\n",
            "      4/100     0.254G       1.99      6.107      1.602         26        128: 100%|██████████| 1/1 [00:00<00:00, 11.52it/s]\n",
            "                 Class     Images  Instances      Box(P          R      mAP50  mAP50-95): 100%|██████████| 1/1 [00:00<00:00, 17.80it/s]\n",
            "                   all          4         17      0.249       0.35      0.351        0.3\n",
            "\n",
            "      Epoch    GPU_mem   box_loss   cls_loss   dfl_loss  Instances       Size\n",
            "      5/100     0.285G      1.681       6.07      1.563         24        128: 100%|██████████| 1/1 [00:00<00:00,  8.65it/s]\n",
            "                 Class     Images  Instances      Box(P          R      mAP50  mAP50-95): 100%|██████████| 1/1 [00:00<00:00, 17.70it/s]\n",
            "                   all          4         17      0.251       0.35      0.351        0.3\n",
            "\n",
            "      Epoch    GPU_mem   box_loss   cls_loss   dfl_loss  Instances       Size\n",
            "      6/100     0.285G      1.978      6.056       1.57         23        128: 100%|██████████| 1/1 [00:00<00:00, 10.01it/s]\n",
            "                 Class     Images  Instances      Box(P          R      mAP50  mAP50-95): 100%|██████████| 1/1 [00:00<00:00, 17.37it/s]\n",
            "                   all          4         17      0.254       0.35      0.351        0.3\n",
            "\n",
            "      Epoch    GPU_mem   box_loss   cls_loss   dfl_loss  Instances       Size\n",
            "      7/100     0.285G        1.8      5.926      1.583         31        128: 100%|██████████| 1/1 [00:00<00:00, 10.24it/s]\n",
            "                 Class     Images  Instances      Box(P          R      mAP50  mAP50-95): 100%|██████████| 1/1 [00:00<00:00, 18.05it/s]\n",
            "                   all          4         17      0.257       0.35      0.351        0.3\n",
            "\n",
            "      Epoch    GPU_mem   box_loss   cls_loss   dfl_loss  Instances       Size\n",
            "      8/100     0.287G       2.16      6.539      1.928         29        128: 100%|██████████| 1/1 [00:00<00:00, 10.66it/s]\n",
            "                 Class     Images  Instances      Box(P          R      mAP50  mAP50-95): 100%|██████████| 1/1 [00:00<00:00, 17.99it/s]\n",
            "                   all          4         17      0.269       0.35      0.349      0.298\n",
            "\n",
            "      Epoch    GPU_mem   box_loss   cls_loss   dfl_loss  Instances       Size\n",
            "      9/100     0.285G      1.843      6.196      1.664         14        128: 100%|██████████| 1/1 [00:00<00:00,  9.42it/s]\n",
            "                 Class     Images  Instances      Box(P          R      mAP50  mAP50-95): 100%|██████████| 1/1 [00:00<00:00, 15.62it/s]\n",
            "                   all          4         17       0.26       0.35      0.349      0.281\n",
            "\n",
            "      Epoch    GPU_mem   box_loss   cls_loss   dfl_loss  Instances       Size\n",
            "     10/100     0.285G      1.963      7.036      1.639         30        128: 100%|██████████| 1/1 [00:00<00:00,  9.24it/s]\n",
            "                 Class     Images  Instances      Box(P          R      mAP50  mAP50-95): 100%|██████████| 1/1 [00:00<00:00, 16.92it/s]\n",
            "                   all          4         17      0.242       0.35      0.349      0.281\n",
            "\n",
            "      Epoch    GPU_mem   box_loss   cls_loss   dfl_loss  Instances       Size\n",
            "     11/100     0.285G      1.554      4.922      1.584         21        128: 100%|██████████| 1/1 [00:00<00:00,  9.29it/s]\n",
            "                 Class     Images  Instances      Box(P          R      mAP50  mAP50-95): 100%|██████████| 1/1 [00:00<00:00, 18.12it/s]\n",
            "                   all          4         17      0.232       0.35      0.349      0.281\n",
            "\n",
            "      Epoch    GPU_mem   box_loss   cls_loss   dfl_loss  Instances       Size\n",
            "     12/100     0.285G      1.937      6.251      1.571         34        128: 100%|██████████| 1/1 [00:00<00:00,  9.98it/s]\n",
            "                 Class     Images  Instances      Box(P          R      mAP50  mAP50-95): 100%|██████████| 1/1 [00:00<00:00, 17.39it/s]\n",
            "                   all          4         17      0.212       0.35      0.349      0.265\n",
            "\n",
            "      Epoch    GPU_mem   box_loss   cls_loss   dfl_loss  Instances       Size\n",
            "     13/100     0.285G      1.821      5.809      1.614         24        128: 100%|██████████| 1/1 [00:00<00:00, 10.54it/s]\n",
            "                 Class     Images  Instances      Box(P          R      mAP50  mAP50-95): 100%|██████████| 1/1 [00:00<00:00, 17.97it/s]\n",
            "                   all          4         17      0.209       0.35      0.349      0.281\n",
            "\n",
            "      Epoch    GPU_mem   box_loss   cls_loss   dfl_loss  Instances       Size\n",
            "     14/100     0.277G      1.981       5.96      1.717         18        128: 100%|██████████| 1/1 [00:00<00:00,  7.92it/s]\n",
            "                 Class     Images  Instances      Box(P          R      mAP50  mAP50-95): 100%|██████████| 1/1 [00:00<00:00, 17.68it/s]\n",
            "                   all          4         17      0.198       0.35      0.349      0.267\n",
            "\n",
            "      Epoch    GPU_mem   box_loss   cls_loss   dfl_loss  Instances       Size\n",
            "     15/100     0.285G      1.747      5.887      1.588         25        128: 100%|██████████| 1/1 [00:00<00:00,  9.83it/s]\n",
            "                 Class     Images  Instances      Box(P          R      mAP50  mAP50-95): 100%|██████████| 1/1 [00:00<00:00, 17.56it/s]\n",
            "                   all          4         17      0.203       0.35      0.349      0.281\n",
            "\n",
            "      Epoch    GPU_mem   box_loss   cls_loss   dfl_loss  Instances       Size\n",
            "     16/100     0.285G      2.376      6.028      1.998         31        128: 100%|██████████| 1/1 [00:00<00:00,  6.18it/s]\n",
            "                 Class     Images  Instances      Box(P          R      mAP50  mAP50-95): 100%|██████████| 1/1 [00:00<00:00, 14.28it/s]\n",
            "                   all          4         17      0.198       0.35      0.349      0.251\n",
            "\n",
            "      Epoch    GPU_mem   box_loss   cls_loss   dfl_loss  Instances       Size\n",
            "     17/100     0.287G       2.15       5.83      1.789         23        128: 100%|██████████| 1/1 [00:00<00:00,  7.28it/s]\n",
            "                 Class     Images  Instances      Box(P          R      mAP50  mAP50-95): 100%|██████████| 1/1 [00:00<00:00, 15.92it/s]\n",
            "                   all          4         17      0.195       0.35       0.35      0.265\n",
            "\n",
            "      Epoch    GPU_mem   box_loss   cls_loss   dfl_loss  Instances       Size\n",
            "     18/100     0.277G        2.1      6.184       1.77         37        128: 100%|██████████| 1/1 [00:00<00:00,  9.36it/s]\n",
            "                 Class     Images  Instances      Box(P          R      mAP50  mAP50-95): 100%|██████████| 1/1 [00:00<00:00, 16.44it/s]\n",
            "                   all          4         17      0.195       0.35       0.35      0.265\n",
            "\n",
            "      Epoch    GPU_mem   box_loss   cls_loss   dfl_loss  Instances       Size\n",
            "     19/100     0.285G      1.726      6.154      1.591         29        128: 100%|██████████| 1/1 [00:00<00:00,  5.58it/s]\n",
            "                 Class     Images  Instances      Box(P          R      mAP50  mAP50-95): 100%|██████████| 1/1 [00:00<00:00, 16.14it/s]\n",
            "                   all          4         17      0.198       0.35      0.349      0.298\n",
            "\n",
            "      Epoch    GPU_mem   box_loss   cls_loss   dfl_loss  Instances       Size\n",
            "     20/100     0.277G       1.78      5.793      1.527         24        128: 100%|██████████| 1/1 [00:00<00:00, 10.01it/s]\n",
            "                 Class     Images  Instances      Box(P          R      mAP50  mAP50-95): 100%|██████████| 1/1 [00:00<00:00,  9.55it/s]\n",
            "                   all          4         17      0.198       0.35      0.349      0.298\n",
            "\n",
            "      Epoch    GPU_mem   box_loss   cls_loss   dfl_loss  Instances       Size\n",
            "     21/100     0.285G      1.247       5.53      1.401         20        128: 100%|██████████| 1/1 [00:00<00:00,  6.76it/s]\n",
            "                 Class     Images  Instances      Box(P          R      mAP50  mAP50-95): 100%|██████████| 1/1 [00:00<00:00,  8.76it/s]\n",
            "                   all          4         17      0.202       0.35       0.35      0.298\n",
            "\n",
            "      Epoch    GPU_mem   box_loss   cls_loss   dfl_loss  Instances       Size\n",
            "     22/100     0.277G      1.766      5.788      1.679         22        128: 100%|██████████| 1/1 [00:00<00:00, 12.54it/s]\n",
            "                 Class     Images  Instances      Box(P          R      mAP50  mAP50-95): 100%|██████████| 1/1 [00:00<00:00, 17.65it/s]\n",
            "                   all          4         17      0.202       0.35       0.35      0.298\n",
            "\n",
            "      Epoch    GPU_mem   box_loss   cls_loss   dfl_loss  Instances       Size\n",
            "     23/100     0.285G      1.829      5.726      1.688         41        128: 100%|██████████| 1/1 [00:00<00:00,  9.42it/s]\n",
            "                 Class     Images  Instances      Box(P          R      mAP50  mAP50-95): 100%|██████████| 1/1 [00:00<00:00, 17.07it/s]\n",
            "                   all          4         17      0.203       0.35       0.35        0.3\n",
            "\n",
            "      Epoch    GPU_mem   box_loss   cls_loss   dfl_loss  Instances       Size\n",
            "     24/100     0.277G      2.143      6.317      1.864         37        128: 100%|██████████| 1/1 [00:00<00:00, 11.42it/s]\n",
            "                 Class     Images  Instances      Box(P          R      mAP50  mAP50-95): 100%|██████████| 1/1 [00:00<00:00, 18.27it/s]\n",
            "                   all          4         17      0.203       0.35       0.35        0.3\n",
            "\n",
            "      Epoch    GPU_mem   box_loss   cls_loss   dfl_loss  Instances       Size\n",
            "     25/100     0.285G      1.942      5.714      1.735         22        128: 100%|██████████| 1/1 [00:00<00:00,  9.23it/s]\n",
            "                 Class     Images  Instances      Box(P          R      mAP50  mAP50-95): 100%|██████████| 1/1 [00:00<00:00, 16.22it/s]\n",
            "                   all          4         17      0.367       0.35      0.412      0.331\n",
            "\n",
            "      Epoch    GPU_mem   box_loss   cls_loss   dfl_loss  Instances       Size\n",
            "     26/100     0.277G      1.753      5.533      1.636         20        128: 100%|██████████| 1/1 [00:00<00:00, 14.63it/s]\n",
            "                 Class     Images  Instances      Box(P          R      mAP50  mAP50-95): 100%|██████████| 1/1 [00:00<00:00, 17.34it/s]\n",
            "                   all          4         17      0.367       0.35      0.412      0.331\n",
            "\n",
            "      Epoch    GPU_mem   box_loss   cls_loss   dfl_loss  Instances       Size\n",
            "     27/100     0.287G      1.863      5.977      1.694         37        128: 100%|██████████| 1/1 [00:00<00:00,  9.18it/s]\n",
            "                 Class     Images  Instances      Box(P          R      mAP50  mAP50-95): 100%|██████████| 1/1 [00:00<00:00, 17.08it/s]\n",
            "                   all          4         17      0.569       0.35      0.405      0.303\n",
            "\n",
            "      Epoch    GPU_mem   box_loss   cls_loss   dfl_loss  Instances       Size\n",
            "     28/100     0.277G      1.531      5.433      1.438         34        128: 100%|██████████| 1/1 [00:00<00:00, 14.04it/s]\n",
            "                 Class     Images  Instances      Box(P          R      mAP50  mAP50-95): 100%|██████████| 1/1 [00:00<00:00, 16.20it/s]\n",
            "                   all          4         17      0.569       0.35      0.405      0.303\n",
            "\n",
            "      Epoch    GPU_mem   box_loss   cls_loss   dfl_loss  Instances       Size\n",
            "     29/100     0.287G      1.783      5.604      1.602         35        128: 100%|██████████| 1/1 [00:00<00:00,  9.31it/s]\n",
            "                 Class     Images  Instances      Box(P          R      mAP50  mAP50-95): 100%|██████████| 1/1 [00:00<00:00, 16.90it/s]\n",
            "                   all          4         17      0.537       0.35      0.405      0.281\n",
            "\n",
            "      Epoch    GPU_mem   box_loss   cls_loss   dfl_loss  Instances       Size\n",
            "     30/100     0.277G      1.665      5.482      1.585         26        128: 100%|██████████| 1/1 [00:00<00:00, 11.89it/s]\n",
            "                 Class     Images  Instances      Box(P          R      mAP50  mAP50-95): 100%|██████████| 1/1 [00:00<00:00, 16.67it/s]\n",
            "                   all          4         17      0.537       0.35      0.405      0.281\n",
            "\n",
            "      Epoch    GPU_mem   box_loss   cls_loss   dfl_loss  Instances       Size\n",
            "     31/100     0.285G       1.35      5.422      1.414         20        128: 100%|██████████| 1/1 [00:00<00:00, 10.52it/s]\n",
            "                 Class     Images  Instances      Box(P          R      mAP50  mAP50-95): 100%|██████████| 1/1 [00:00<00:00, 16.06it/s]\n",
            "                   all          4         17      0.531       0.35      0.443      0.296\n",
            "\n",
            "      Epoch    GPU_mem   box_loss   cls_loss   dfl_loss  Instances       Size\n",
            "     32/100     0.277G      1.376      6.448      1.372         15        128: 100%|██████████| 1/1 [00:00<00:00, 13.18it/s]\n",
            "                 Class     Images  Instances      Box(P          R      mAP50  mAP50-95): 100%|██████████| 1/1 [00:00<00:00, 17.72it/s]\n",
            "                   all          4         17      0.531       0.35      0.443      0.296\n",
            "\n",
            "      Epoch    GPU_mem   box_loss   cls_loss   dfl_loss  Instances       Size\n",
            "     33/100     0.285G      2.004      5.627       1.68         34        128: 100%|██████████| 1/1 [00:00<00:00,  9.26it/s]\n",
            "                 Class     Images  Instances      Box(P          R      mAP50  mAP50-95): 100%|██████████| 1/1 [00:00<00:00, 15.47it/s]\n",
            "                   all          4         17      0.533       0.35      0.441      0.327\n",
            "\n",
            "      Epoch    GPU_mem   box_loss   cls_loss   dfl_loss  Instances       Size\n",
            "     34/100     0.277G      1.699      5.564      1.686         29        128: 100%|██████████| 1/1 [00:00<00:00, 10.43it/s]\n",
            "                 Class     Images  Instances      Box(P          R      mAP50  mAP50-95): 100%|██████████| 1/1 [00:00<00:00, 17.20it/s]\n",
            "                   all          4         17      0.533       0.35      0.441      0.327\n",
            "\n",
            "      Epoch    GPU_mem   box_loss   cls_loss   dfl_loss  Instances       Size\n",
            "     35/100     0.285G      1.691      6.118      1.531         35        128: 100%|██████████| 1/1 [00:00<00:00,  7.08it/s]\n",
            "                 Class     Images  Instances      Box(P          R      mAP50  mAP50-95): 100%|██████████| 1/1 [00:00<00:00, 13.69it/s]\n",
            "                   all          4         17      0.539       0.35      0.439      0.298\n",
            "\n",
            "      Epoch    GPU_mem   box_loss   cls_loss   dfl_loss  Instances       Size\n",
            "     36/100     0.277G      1.869      5.792       1.63         33        128: 100%|██████████| 1/1 [00:00<00:00,  9.22it/s]\n",
            "                 Class     Images  Instances      Box(P          R      mAP50  mAP50-95): 100%|██████████| 1/1 [00:00<00:00, 14.20it/s]\n",
            "                   all          4         17      0.539       0.35      0.439      0.298\n",
            "\n",
            "      Epoch    GPU_mem   box_loss   cls_loss   dfl_loss  Instances       Size\n",
            "     37/100     0.287G      1.538      5.169      1.637         15        128: 100%|██████████| 1/1 [00:00<00:00,  5.35it/s]\n",
            "                 Class     Images  Instances      Box(P          R      mAP50  mAP50-95): 100%|██████████| 1/1 [00:00<00:00,  8.86it/s]\n",
            "                   all          4         17       0.54       0.35      0.439       0.31\n",
            "\n",
            "      Epoch    GPU_mem   box_loss   cls_loss   dfl_loss  Instances       Size\n",
            "     38/100     0.277G      1.849      5.493      1.691         26        128: 100%|██████████| 1/1 [00:00<00:00,  7.60it/s]\n",
            "                 Class     Images  Instances      Box(P          R      mAP50  mAP50-95): 100%|██████████| 1/1 [00:00<00:00,  6.84it/s]\n",
            "                   all          4         17       0.54       0.35      0.439       0.31\n",
            "\n",
            "      Epoch    GPU_mem   box_loss   cls_loss   dfl_loss  Instances       Size\n",
            "     39/100     0.287G      1.517      5.129      1.637         12        128: 100%|██████████| 1/1 [00:00<00:00,  4.70it/s]\n",
            "                 Class     Images  Instances      Box(P          R      mAP50  mAP50-95): 100%|██████████| 1/1 [00:00<00:00,  6.78it/s]\n",
            "                   all          4         17      0.526       0.35      0.439      0.301\n",
            "\n",
            "      Epoch    GPU_mem   box_loss   cls_loss   dfl_loss  Instances       Size\n",
            "     40/100     0.277G      1.644      5.432      1.518         30        128: 100%|██████████| 1/1 [00:00<00:00,  7.34it/s]\n",
            "                 Class     Images  Instances      Box(P          R      mAP50  mAP50-95): 100%|██████████| 1/1 [00:00<00:00,  6.68it/s]\n",
            "                   all          4         17      0.526       0.35      0.439      0.301\n",
            "\n",
            "      Epoch    GPU_mem   box_loss   cls_loss   dfl_loss  Instances       Size\n",
            "     41/100     0.285G      1.619      5.641      1.652         31        128: 100%|██████████| 1/1 [00:00<00:00,  6.21it/s]\n",
            "                 Class     Images  Instances      Box(P          R      mAP50  mAP50-95): 100%|██████████| 1/1 [00:00<00:00,  8.41it/s]\n",
            "                   all          4         17      0.522       0.35      0.439      0.285\n",
            "\n",
            "      Epoch    GPU_mem   box_loss   cls_loss   dfl_loss  Instances       Size\n",
            "     42/100     0.277G      1.446      5.349      1.476         27        128: 100%|██████████| 1/1 [00:00<00:00,  6.84it/s]\n",
            "                 Class     Images  Instances      Box(P          R      mAP50  mAP50-95): 100%|██████████| 1/1 [00:00<00:00, 13.75it/s]\n",
            "                   all          4         17      0.522       0.35      0.439      0.285\n",
            "\n",
            "      Epoch    GPU_mem   box_loss   cls_loss   dfl_loss  Instances       Size\n",
            "     43/100     0.285G      1.788      4.897      1.621         35        128: 100%|██████████| 1/1 [00:00<00:00,  5.39it/s]\n",
            "                 Class     Images  Instances      Box(P          R      mAP50  mAP50-95): 100%|██████████| 1/1 [00:00<00:00, 10.31it/s]\n",
            "                   all          4         17      0.533       0.35      0.441      0.283\n",
            "\n",
            "      Epoch    GPU_mem   box_loss   cls_loss   dfl_loss  Instances       Size\n",
            "     44/100     0.277G      1.954      5.198      1.481         31        128: 100%|██████████| 1/1 [00:00<00:00,  8.09it/s]\n",
            "                 Class     Images  Instances      Box(P          R      mAP50  mAP50-95): 100%|██████████| 1/1 [00:00<00:00,  8.34it/s]\n",
            "                   all          4         17      0.533       0.35      0.441      0.283\n",
            "\n",
            "      Epoch    GPU_mem   box_loss   cls_loss   dfl_loss  Instances       Size\n",
            "     45/100     0.285G      1.631      5.817      1.547         39        128: 100%|██████████| 1/1 [00:00<00:00,  6.53it/s]\n",
            "                 Class     Images  Instances      Box(P          R      mAP50  mAP50-95): 100%|██████████| 1/1 [00:00<00:00,  8.68it/s]\n",
            "                   all          4         17      0.554       0.35        0.4       0.28\n",
            "\n",
            "      Epoch    GPU_mem   box_loss   cls_loss   dfl_loss  Instances       Size\n",
            "     46/100     0.277G      1.854       5.46      1.562         18        128: 100%|██████████| 1/1 [00:00<00:00,  9.22it/s]\n",
            "                 Class     Images  Instances      Box(P          R      mAP50  mAP50-95): 100%|██████████| 1/1 [00:00<00:00, 12.53it/s]\n",
            "                   all          4         17      0.554       0.35        0.4       0.28\n",
            "\n",
            "      Epoch    GPU_mem   box_loss   cls_loss   dfl_loss  Instances       Size\n",
            "     47/100     0.285G      1.419       5.19      1.478         20        128: 100%|██████████| 1/1 [00:00<00:00,  8.45it/s]\n",
            "                 Class     Images  Instances      Box(P          R      mAP50  mAP50-95): 100%|██████████| 1/1 [00:00<00:00, 15.99it/s]\n",
            "                   all          4         17      0.173      0.379      0.402      0.281\n",
            "\n",
            "      Epoch    GPU_mem   box_loss   cls_loss   dfl_loss  Instances       Size\n",
            "     48/100     0.277G      1.708      5.321      1.608         19        128: 100%|██████████| 1/1 [00:00<00:00, 13.57it/s]\n",
            "                 Class     Images  Instances      Box(P          R      mAP50  mAP50-95): 100%|██████████| 1/1 [00:00<00:00, 15.06it/s]\n",
            "                   all          4         17      0.173      0.379      0.402      0.281\n",
            "\n",
            "      Epoch    GPU_mem   box_loss   cls_loss   dfl_loss  Instances       Size\n",
            "     49/100     0.285G      1.629      4.957      1.535         29        128: 100%|██████████| 1/1 [00:00<00:00,  8.90it/s]\n",
            "                 Class     Images  Instances      Box(P          R      mAP50  mAP50-95): 100%|██████████| 1/1 [00:00<00:00, 16.97it/s]\n",
            "                   all          4         17      0.166      0.406      0.389      0.279\n",
            "\n",
            "      Epoch    GPU_mem   box_loss   cls_loss   dfl_loss  Instances       Size\n",
            "     50/100     0.277G      1.556       4.67      1.518         24        128: 100%|██████████| 1/1 [00:00<00:00, 12.58it/s]\n",
            "                 Class     Images  Instances      Box(P          R      mAP50  mAP50-95): 100%|██████████| 1/1 [00:00<00:00, 17.11it/s]\n",
            "                   all          4         17      0.166      0.406      0.389      0.279\n",
            "\n",
            "      Epoch    GPU_mem   box_loss   cls_loss   dfl_loss  Instances       Size\n",
            "     51/100     0.287G      2.106       5.74       1.64         40        128: 100%|██████████| 1/1 [00:00<00:00, 10.13it/s]\n",
            "                 Class     Images  Instances      Box(P          R      mAP50  mAP50-95): 100%|██████████| 1/1 [00:00<00:00, 16.08it/s]\n",
            "                   all          4         17      0.133      0.433      0.389      0.277\n",
            "\n",
            "      Epoch    GPU_mem   box_loss   cls_loss   dfl_loss  Instances       Size\n",
            "     52/100     0.277G      1.652      4.293      1.477         19        128: 100%|██████████| 1/1 [00:00<00:00, 11.66it/s]\n",
            "                 Class     Images  Instances      Box(P          R      mAP50  mAP50-95): 100%|██████████| 1/1 [00:00<00:00, 17.89it/s]\n",
            "                   all          4         17      0.133      0.433      0.389      0.277\n",
            "\n",
            "      Epoch    GPU_mem   box_loss   cls_loss   dfl_loss  Instances       Size\n",
            "     53/100     0.277G      1.892       4.93      1.512         40        128: 100%|██████████| 1/1 [00:00<00:00, 13.10it/s]\n",
            "                 Class     Images  Instances      Box(P          R      mAP50  mAP50-95): 100%|██████████| 1/1 [00:00<00:00, 12.92it/s]\n",
            "                   all          4         17      0.133      0.433      0.389      0.277\n",
            "\n",
            "      Epoch    GPU_mem   box_loss   cls_loss   dfl_loss  Instances       Size\n",
            "     54/100     0.285G      1.751      5.574      1.583         31        128: 100%|██████████| 1/1 [00:00<00:00, 10.18it/s]\n",
            "                 Class     Images  Instances      Box(P          R      mAP50  mAP50-95): 100%|██████████| 1/1 [00:00<00:00, 17.57it/s]\n",
            "                   all          4         17      0.203      0.407      0.406      0.288\n",
            "\n",
            "      Epoch    GPU_mem   box_loss   cls_loss   dfl_loss  Instances       Size\n",
            "     55/100     0.277G      1.702      5.497      1.537         24        128: 100%|██████████| 1/1 [00:00<00:00, 13.16it/s]\n",
            "                 Class     Images  Instances      Box(P          R      mAP50  mAP50-95): 100%|██████████| 1/1 [00:00<00:00, 14.65it/s]\n",
            "                   all          4         17      0.203      0.407      0.406      0.288\n",
            "\n",
            "      Epoch    GPU_mem   box_loss   cls_loss   dfl_loss  Instances       Size\n",
            "     56/100     0.277G      1.734      4.962      1.638         31        128: 100%|██████████| 1/1 [00:00<00:00, 13.60it/s]\n",
            "                 Class     Images  Instances      Box(P          R      mAP50  mAP50-95): 100%|██████████| 1/1 [00:00<00:00, 15.78it/s]\n",
            "                   all          4         17      0.203      0.407      0.406      0.288\n",
            "\n",
            "      Epoch    GPU_mem   box_loss   cls_loss   dfl_loss  Instances       Size\n",
            "     57/100     0.287G      1.498      5.478      1.423         18        128: 100%|██████████| 1/1 [00:00<00:00,  9.59it/s]\n",
            "                 Class     Images  Instances      Box(P          R      mAP50  mAP50-95): 100%|██████████| 1/1 [00:00<00:00, 13.96it/s]\n",
            "                   all          4         17       0.11      0.433      0.402      0.315\n",
            "\n",
            "      Epoch    GPU_mem   box_loss   cls_loss   dfl_loss  Instances       Size\n",
            "     58/100     0.277G      1.874      4.891      1.666         23        128: 100%|██████████| 1/1 [00:00<00:00, 12.66it/s]\n",
            "                 Class     Images  Instances      Box(P          R      mAP50  mAP50-95): 100%|██████████| 1/1 [00:00<00:00, 16.79it/s]\n",
            "                   all          4         17       0.11      0.433      0.402      0.315\n",
            "\n",
            "      Epoch    GPU_mem   box_loss   cls_loss   dfl_loss  Instances       Size\n",
            "     59/100     0.277G      1.152      5.702      1.225         14        128: 100%|██████████| 1/1 [00:00<00:00, 13.74it/s]\n",
            "                 Class     Images  Instances      Box(P          R      mAP50  mAP50-95): 100%|██████████| 1/1 [00:00<00:00, 14.68it/s]\n",
            "                   all          4         17       0.11      0.433      0.402      0.315\n",
            "\n",
            "      Epoch    GPU_mem   box_loss   cls_loss   dfl_loss  Instances       Size\n",
            "     60/100     0.285G       1.66       4.58      1.481         24        128: 100%|██████████| 1/1 [00:00<00:00,  9.15it/s]\n",
            "                 Class     Images  Instances      Box(P          R      mAP50  mAP50-95): 100%|██████████| 1/1 [00:00<00:00, 16.31it/s]\n",
            "                   all          4         17      0.984      0.183      0.402      0.297\n",
            "\n",
            "      Epoch    GPU_mem   box_loss   cls_loss   dfl_loss  Instances       Size\n",
            "     61/100     0.277G      1.614      5.015       1.59         44        128: 100%|██████████| 1/1 [00:00<00:00, 13.37it/s]\n",
            "                 Class     Images  Instances      Box(P          R      mAP50  mAP50-95): 100%|██████████| 1/1 [00:00<00:00, 16.17it/s]\n",
            "                   all          4         17      0.984      0.183      0.402      0.297\n",
            "\n",
            "      Epoch    GPU_mem   box_loss   cls_loss   dfl_loss  Instances       Size\n",
            "     62/100     0.277G      1.625       4.56      1.483         21        128: 100%|██████████| 1/1 [00:00<00:00, 13.86it/s]\n",
            "                 Class     Images  Instances      Box(P          R      mAP50  mAP50-95): 100%|██████████| 1/1 [00:00<00:00, 16.23it/s]\n",
            "                   all          4         17      0.984      0.183      0.402      0.297\n",
            "\n",
            "      Epoch    GPU_mem   box_loss   cls_loss   dfl_loss  Instances       Size\n",
            "     63/100     0.285G      2.322      5.797      1.848         15        128: 100%|██████████| 1/1 [00:00<00:00,  8.74it/s]\n",
            "                 Class     Images  Instances      Box(P          R      mAP50  mAP50-95): 100%|██████████| 1/1 [00:00<00:00, 16.43it/s]\n",
            "                   all          4         17      0.982      0.183       0.35      0.299\n",
            "\n",
            "      Epoch    GPU_mem   box_loss   cls_loss   dfl_loss  Instances       Size\n",
            "     64/100     0.277G      1.333       4.34      1.521         21        128: 100%|██████████| 1/1 [00:00<00:00, 13.28it/s]\n",
            "                 Class     Images  Instances      Box(P          R      mAP50  mAP50-95): 100%|██████████| 1/1 [00:00<00:00, 17.08it/s]\n",
            "                   all          4         17      0.982      0.183       0.35      0.299\n",
            "\n",
            "      Epoch    GPU_mem   box_loss   cls_loss   dfl_loss  Instances       Size\n",
            "     65/100     0.277G      1.955      4.543      1.689         25        128: 100%|██████████| 1/1 [00:00<00:00,  9.39it/s]\n",
            "                 Class     Images  Instances      Box(P          R      mAP50  mAP50-95): 100%|██████████| 1/1 [00:00<00:00, 12.11it/s]\n",
            "                   all          4         17      0.982      0.183       0.35      0.299\n",
            "\n",
            "      Epoch    GPU_mem   box_loss   cls_loss   dfl_loss  Instances       Size\n",
            "     66/100     0.285G      1.692      3.451      1.408         21        128: 100%|██████████| 1/1 [00:00<00:00,  6.00it/s]\n",
            "                 Class     Images  Instances      Box(P          R      mAP50  mAP50-95): 100%|██████████| 1/1 [00:00<00:00, 11.82it/s]\n",
            "                   all          4         17       0.98      0.183      0.351      0.282\n",
            "\n",
            "      Epoch    GPU_mem   box_loss   cls_loss   dfl_loss  Instances       Size\n",
            "     67/100     0.277G      1.569      4.824      1.394         28        128: 100%|██████████| 1/1 [00:00<00:00, 10.84it/s]\n",
            "                 Class     Images  Instances      Box(P          R      mAP50  mAP50-95): 100%|██████████| 1/1 [00:00<00:00,  9.94it/s]\n",
            "                   all          4         17       0.98      0.183      0.351      0.282\n",
            "\n",
            "      Epoch    GPU_mem   box_loss   cls_loss   dfl_loss  Instances       Size\n",
            "     68/100     0.277G      1.564      4.953      1.456         16        128: 100%|██████████| 1/1 [00:00<00:00,  8.90it/s]\n",
            "                 Class     Images  Instances      Box(P          R      mAP50  mAP50-95): 100%|██████████| 1/1 [00:00<00:00, 11.42it/s]\n",
            "                   all          4         17       0.98      0.183      0.351      0.282\n",
            "\n",
            "      Epoch    GPU_mem   box_loss   cls_loss   dfl_loss  Instances       Size\n",
            "     69/100     0.287G      1.492      4.123      1.584         23        128: 100%|██████████| 1/1 [00:00<00:00,  7.73it/s]\n",
            "                 Class     Images  Instances      Box(P          R      mAP50  mAP50-95): 100%|██████████| 1/1 [00:00<00:00, 10.77it/s]\n",
            "                   all          4         17      0.979      0.183      0.351      0.282\n",
            "\n",
            "      Epoch    GPU_mem   box_loss   cls_loss   dfl_loss  Instances       Size\n",
            "     70/100     0.277G      1.751      5.194      1.467         32        128: 100%|██████████| 1/1 [00:00<00:00,  9.25it/s]\n",
            "                 Class     Images  Instances      Box(P          R      mAP50  mAP50-95): 100%|██████████| 1/1 [00:00<00:00,  7.51it/s]\n",
            "                   all          4         17      0.979      0.183      0.351      0.282\n",
            "\n",
            "      Epoch    GPU_mem   box_loss   cls_loss   dfl_loss  Instances       Size\n",
            "     71/100     0.277G      1.609       4.97      1.652         38        128: 100%|██████████| 1/1 [00:00<00:00,  7.48it/s]\n",
            "                 Class     Images  Instances      Box(P          R      mAP50  mAP50-95): 100%|██████████| 1/1 [00:00<00:00,  8.55it/s]\n",
            "                   all          4         17      0.979      0.183      0.351      0.282\n",
            "\n",
            "      Epoch    GPU_mem   box_loss   cls_loss   dfl_loss  Instances       Size\n",
            "     72/100     0.287G      1.457      3.512      1.548         15        128: 100%|██████████| 1/1 [00:00<00:00,  7.48it/s]\n",
            "                 Class     Images  Instances      Box(P          R      mAP50  mAP50-95): 100%|██████████| 1/1 [00:00<00:00, 16.70it/s]\n",
            "                   all          4         17      0.982      0.183      0.351      0.301\n",
            "\n",
            "      Epoch    GPU_mem   box_loss   cls_loss   dfl_loss  Instances       Size\n",
            "     73/100     0.277G        1.9      4.495      1.541         33        128: 100%|██████████| 1/1 [00:00<00:00, 12.41it/s]\n",
            "                 Class     Images  Instances      Box(P          R      mAP50  mAP50-95): 100%|██████████| 1/1 [00:00<00:00, 16.47it/s]\n",
            "                   all          4         17      0.982      0.183      0.351      0.301\n",
            "\n",
            "      Epoch    GPU_mem   box_loss   cls_loss   dfl_loss  Instances       Size\n",
            "     74/100     0.277G      1.582      5.867      1.504         41        128: 100%|██████████| 1/1 [00:00<00:00, 14.26it/s]\n",
            "                 Class     Images  Instances      Box(P          R      mAP50  mAP50-95): 100%|██████████| 1/1 [00:00<00:00, 14.67it/s]\n",
            "                   all          4         17      0.982      0.183      0.351      0.301\n",
            "\n",
            "      Epoch    GPU_mem   box_loss   cls_loss   dfl_loss  Instances       Size\n",
            "     75/100     0.285G      1.598      5.023      1.556         32        128: 100%|██████████| 1/1 [00:00<00:00,  9.12it/s]\n",
            "                 Class     Images  Instances      Box(P          R      mAP50  mAP50-95): 100%|██████████| 1/1 [00:00<00:00, 15.80it/s]\n",
            "                   all          4         17      0.982      0.183      0.351      0.191\n",
            "\n",
            "      Epoch    GPU_mem   box_loss   cls_loss   dfl_loss  Instances       Size\n",
            "     76/100     0.277G      1.468      4.156      1.472         31        128: 100%|██████████| 1/1 [00:00<00:00, 12.10it/s]\n",
            "                 Class     Images  Instances      Box(P          R      mAP50  mAP50-95): 100%|██████████| 1/1 [00:00<00:00, 13.42it/s]\n",
            "                   all          4         17      0.982      0.183      0.351      0.191\n",
            "Stopping training early as no improvement observed in last 50 epochs. Best results observed at epoch 26, best model saved as best.pt.\n",
            "To update EarlyStopping(patience=50) pass a new patience value, i.e. `patience=300` or use `patience=0` to disable EarlyStopping.\n",
            "\n",
            "76 epochs completed in 0.017 hours.\n",
            "Optimizer stripped from runs/detect/train2/weights/last.pt, 6.5MB\n",
            "Optimizer stripped from runs/detect/train2/weights/best.pt, 6.5MB\n",
            "\n",
            "Validating runs/detect/train2/weights/best.pt...\n",
            "Ultralytics YOLOv8.0.155 🚀 Python-3.10.12 torch-2.0.1+cu118 CUDA:0 (Tesla T4, 15102MiB)\n",
            "Model summary (fused): 168 layers, 3151904 parameters, 0 gradients, 8.7 GFLOPs\n",
            "                 Class     Images  Instances      Box(P          R      mAP50  mAP50-95): 100%|██████████| 1/1 [00:00<00:00, 20.48it/s]\n",
            "                   all          4         17      0.368       0.35      0.412      0.331\n",
            "                person          4         10      0.215        0.1      0.108      0.108\n",
            "                   dog          4          1      0.455          1      0.995      0.697\n",
            "                 horse          4          2          1          0      0.375      0.188\n",
            "              elephant          4          2          0          0          0          0\n",
            "              umbrella          4          1      0.535          1      0.995      0.995\n",
            "          potted plant          4          1          0          0          0          0\n",
            "Speed: 0.1ms preprocess, 3.2ms inference, 0.0ms loss, 1.4ms postprocess per image\n",
            "Results saved to \u001b[1mruns/detect/train2\u001b[0m\n"
          ]
        }
      ]
    },
    {
      "cell_type": "code",
      "source": [
        "results = model('/content/Imagens_Supeita_Malaria_split/train/Positivo_Malaria/C100P61ThinF_IMG_20150918_144104_cell_162.png')"
      ],
      "metadata": {
        "colab": {
          "base_uri": "https://localhost:8080/"
        },
        "id": "IeuT1z7V7YAO",
        "outputId": "c80fb955-52d4-48c8-b1e3-5fcc6ea8e1a6"
      },
      "execution_count": null,
      "outputs": [
        {
          "output_type": "stream",
          "name": "stderr",
          "text": [
            "\n",
            "image 1/1 /content/Imagens_Supeita_Malaria_split/train/Positivo_Malaria/C100P61ThinF_IMG_20150918_144104_cell_162.png: 128x128 1 person, 26.4ms\n",
            "Speed: 0.7ms preprocess, 26.4ms inference, 12.7ms postprocess per image at shape (1, 3, 128, 128)\n"
          ]
        }
      ]
    },
    {
      "cell_type": "code",
      "source": [
        "results"
      ],
      "metadata": {
        "colab": {
          "base_uri": "https://localhost:8080/"
        },
        "id": "YcwQaPOA_AXd",
        "outputId": "4e35c3ab-c277-42b9-cba8-2e6ad9c63066"
      },
      "execution_count": null,
      "outputs": [
        {
          "output_type": "execute_result",
          "data": {
            "text/plain": [
              "[ultralytics.engine.results.Results object with attributes:\n",
              " \n",
              " boxes: ultralytics.engine.results.Boxes object\n",
              " keypoints: None\n",
              " keys: ['boxes']\n",
              " masks: None\n",
              " names: {0: 'person', 1: 'bicycle', 2: 'car', 3: 'motorcycle', 4: 'airplane', 5: 'bus', 6: 'train', 7: 'truck', 8: 'boat', 9: 'traffic light', 10: 'fire hydrant', 11: 'stop sign', 12: 'parking meter', 13: 'bench', 14: 'bird', 15: 'cat', 16: 'dog', 17: 'horse', 18: 'sheep', 19: 'cow', 20: 'elephant', 21: 'bear', 22: 'zebra', 23: 'giraffe', 24: 'backpack', 25: 'umbrella', 26: 'handbag', 27: 'tie', 28: 'suitcase', 29: 'frisbee', 30: 'skis', 31: 'snowboard', 32: 'sports ball', 33: 'kite', 34: 'baseball bat', 35: 'baseball glove', 36: 'skateboard', 37: 'surfboard', 38: 'tennis racket', 39: 'bottle', 40: 'wine glass', 41: 'cup', 42: 'fork', 43: 'knife', 44: 'spoon', 45: 'bowl', 46: 'banana', 47: 'apple', 48: 'sandwich', 49: 'orange', 50: 'broccoli', 51: 'carrot', 52: 'hot dog', 53: 'pizza', 54: 'donut', 55: 'cake', 56: 'chair', 57: 'couch', 58: 'potted plant', 59: 'bed', 60: 'dining table', 61: 'toilet', 62: 'tv', 63: 'laptop', 64: 'mouse', 65: 'remote', 66: 'keyboard', 67: 'cell phone', 68: 'microwave', 69: 'oven', 70: 'toaster', 71: 'sink', 72: 'refrigerator', 73: 'book', 74: 'clock', 75: 'vase', 76: 'scissors', 77: 'teddy bear', 78: 'hair drier', 79: 'toothbrush'}\n",
              " orig_img: array([[[0, 0, 0],\n",
              "         [0, 0, 0],\n",
              "         [0, 0, 0],\n",
              "         ...,\n",
              "         [0, 0, 0],\n",
              "         [0, 0, 0],\n",
              "         [0, 0, 0]],\n",
              " \n",
              "        [[0, 0, 0],\n",
              "         [0, 0, 0],\n",
              "         [0, 0, 0],\n",
              "         ...,\n",
              "         [0, 0, 0],\n",
              "         [0, 0, 0],\n",
              "         [0, 0, 0]],\n",
              " \n",
              "        [[0, 0, 0],\n",
              "         [0, 0, 0],\n",
              "         [0, 0, 0],\n",
              "         ...,\n",
              "         [0, 0, 0],\n",
              "         [0, 0, 0],\n",
              "         [0, 0, 0]],\n",
              " \n",
              "        ...,\n",
              " \n",
              "        [[0, 0, 0],\n",
              "         [0, 0, 0],\n",
              "         [0, 0, 0],\n",
              "         ...,\n",
              "         [0, 0, 0],\n",
              "         [0, 0, 0],\n",
              "         [0, 0, 0]],\n",
              " \n",
              "        [[0, 0, 0],\n",
              "         [0, 0, 0],\n",
              "         [0, 0, 0],\n",
              "         ...,\n",
              "         [0, 0, 0],\n",
              "         [0, 0, 0],\n",
              "         [0, 0, 0]],\n",
              " \n",
              "        [[0, 0, 0],\n",
              "         [0, 0, 0],\n",
              "         [0, 0, 0],\n",
              "         ...,\n",
              "         [0, 0, 0],\n",
              "         [0, 0, 0],\n",
              "         [0, 0, 0]]], dtype=uint8)\n",
              " orig_shape: (148, 142)\n",
              " path: '/content/Imagens_Supeita_Malaria_split/train/Positivo_Malaria/C100P61ThinF_IMG_20150918_144104_cell_162.png'\n",
              " probs: None\n",
              " save_dir: None\n",
              " speed: {'preprocess': 0.6666183471679688, 'inference': 26.353836059570312, 'postprocess': 12.666702270507812}]"
            ]
          },
          "metadata": {},
          "execution_count": 22
        }
      ]
    },
    {
      "cell_type": "code",
      "source": [
        "# Acessar as detecções e classes\n",
        "detections = results  # Obter as detecções da primeira imagem\n",
        "class_labels = model.model.names  # Nomes das classes"
      ],
      "metadata": {
        "id": "xz_1oRg4-8YO"
      },
      "execution_count": null,
      "outputs": []
    },
    {
      "cell_type": "code",
      "source": [
        "class_labels"
      ],
      "metadata": {
        "id": "6c0-s6qU_SM2"
      },
      "execution_count": null,
      "outputs": []
    },
    {
      "cell_type": "markdown",
      "metadata": {
        "id": "vI3G_AHuhaAG"
      },
      "source": [
        "## Conclusão\n",
        "\n",
        "Obteve-se um resultado final de 96% de precisão para o nosso conjunto de treinos.\n",
        "\n"
      ]
    }
  ],
  "metadata": {
    "accelerator": "GPU",
    "colab": {
      "provenance": [],
      "include_colab_link": true
    },
    "kernelspec": {
      "display_name": "Python 3",
      "name": "python3"
    },
    "language_info": {
      "name": "python"
    }
  },
  "nbformat": 4,
  "nbformat_minor": 0
}