{
  "nbformat": 4,
  "nbformat_minor": 0,
  "metadata": {
    "colab": {
      "name": "Desafio1.ipynb",
      "provenance": [],
      "collapsed_sections": [],
      "authorship_tag": "ABX9TyO7GKQb5YwrWyTkNcUXybV8",
      "include_colab_link": true
    },
    "kernelspec": {
      "name": "python3",
      "display_name": "Python 3"
    },
    "language_info": {
      "name": "python"
    }
  },
  "cells": [
    {
      "cell_type": "markdown",
      "metadata": {
        "id": "view-in-github",
        "colab_type": "text"
      },
      "source": [
        "<a href=\"https://colab.research.google.com/github/DataRecouver/Codes-Data-Science/blob/main/Desafio1.ipynb\" target=\"_parent\"><img src=\"https://colab.research.google.com/assets/colab-badge.svg\" alt=\"Open In Colab\"/></a>"
      ]
    },
    {
      "cell_type": "code",
      "source": [
        "import datetime\n",
        "\n",
        "class Cliente(): \n",
        "\n",
        "    def __init__(self, nome, agencia, conta, saldo): \n",
        "        self.name = nome\n",
        "        self.age = agencia\n",
        "        self.grade = conta\n",
        "        self.saldo = saldo\n",
        "        self.extrato = self.Extrato()  \n",
        "\n",
        "    def sacar(self, valor_saque):\n",
        "        if self.saldo - valor_saque >= 0:\n",
        "            self.saldo -= valor_saque\n",
        "            self.extrato.adicionar_transacao(\n",
        "                f\"Saque efetuado no valor de {valor_saque} reais. Valor atual: {self.saldo} reais.\")\n",
        "            return self.saldo\n",
        "        else:\n",
        "            return (\"Saldo insuficiente!\")\n",
        "\n",
        "    def depositar(self, valor_deposito):\n",
        "        self.saldo += valor_deposito\n",
        "        self.extrato.adicionar_transacao(\n",
        "            f\"Deposito efetuado no valor de {valor_deposito} reais. Valor atual: {self.saldo} reais.\")\n",
        "        return self.saldo\n",
        "\n",
        "    def exibir_saldo(self):\n",
        "        return (f\"Seu saldo é R${self.saldo}\")\n",
        "\n",
        "    def transferir(self, valor_transferencia):\n",
        "        if self.saldo - valor_transferencia >= 0:\n",
        "            self.saldo -= valor_transferencia\n",
        "            self.extrato.adicionar_transacao(\n",
        "                f\"Transferência realizada no valor de {valor_transferencia} reais. Valor : {self.saldo} reais.\")\n",
        "            return self.saldo\n",
        "        else:\n",
        "            return (\"Saldo insuficiente para Transferência!\")\n",
        "\n",
        "    def exibir_extrato(self):\n",
        "        return self.extrato.gerar_extrato()\n",
        "\n",
        "\n",
        "    class Extrato():\n",
        "        def __init__(self):\n",
        "            self.hora = datetime.datetime.now().strftime(\"%d/%m/%Y %H:%M:%S\")\n",
        "            self.lista_transacoes = [(f\"Conta Gerada {self.hora}\")]\n",
        "\n",
        "        def adicionar_transacao(self, valor=None):\n",
        "            self.lista_transacoes.append(valor)\n",
        "            return self.lista_transacoes\n",
        "\n",
        "        def gerar_extrato(self):\n",
        "            for i in self.lista_transacoes:\n",
        "                print(i)\n",
        "            return (\"Fim do Extrato!\")"
      ],
      "metadata": {
        "id": "OeNJqpNwowgW"
      },
      "execution_count": null,
      "outputs": []
    },
    {
      "cell_type": "code",
      "source": [
        ""
      ],
      "metadata": {
        "id": "6hulj8txqExN"
      },
      "execution_count": null,
      "outputs": []
    }
  ]
}